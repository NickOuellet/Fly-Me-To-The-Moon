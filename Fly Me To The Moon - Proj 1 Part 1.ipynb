{
  "nbformat": 4,
  "nbformat_minor": 5,
  "metadata": {
    "interpreter": {
      "hash": "4bd3767b9a68b1809be1a8a3b2146e6067673f8776213bfbf5c8fe8ac7d04b67"
    },
    "kernelspec": {
      "display_name": "Python 3 (ipykernel)",
      "language": "python",
      "name": "python3"
    },
    "language_info": {
      "codemirror_mode": {
        "name": "ipython",
        "version": 3
      },
      "file_extension": ".py",
      "mimetype": "text/x-python",
      "name": "python",
      "nbconvert_exporter": "python",
      "pygments_lexer": "ipython3",
      "version": "3.9.6"
    },
    "colab": {
      "name": "Fly Me To The Moon - Proj 1 Part 1-2.ipynb",
      "provenance": []
    }
  },
  "cells": [
    {
      "cell_type": "code",
      "metadata": {
        "id": "b5a544b0",
        "colab": {
          "base_uri": "https://localhost:8080/"
        },
        "outputId": "f0d12958-f3a4-4d14-c1b9-3e2583491c82"
      },
      "source": [
        "pip install lxml"
      ],
      "id": "b5a544b0",
      "execution_count": 1213,
      "outputs": [
        {
          "output_type": "stream",
          "name": "stdout",
          "text": [
            "Requirement already satisfied: lxml in /usr/local/lib/python3.7/dist-packages (4.2.6)\n"
          ]
        }
      ]
    },
    {
      "cell_type": "code",
      "metadata": {
        "id": "e499132b"
      },
      "source": [
        "from bs4 import BeautifulSoup\n",
        "import numpy as np\n",
        "import pandas as pd\n",
        "import requests\n",
        "import lxml\n",
        "import re"
      ],
      "id": "e499132b",
      "execution_count": 1214,
      "outputs": []
    },
    {
      "cell_type": "markdown",
      "metadata": {
        "id": "28ec6d50"
      },
      "source": [
        "## Meeting Plan for Nicolas Ouellet and Benedicte Knudson:\n",
        "We colaborated over Zoom and in person **three** times and used a shared Github Repository that can be found [here](https://github.com/NickOuellet/Fly-Me-To-The-Moon). <br />\n",
        "We met: <br />\n",
        "10/11: 5-7pm <br />\n",
        "10/20: 10-12pm <br />\n",
        "10/21: 8-11pm <br />\n"
      ],
      "id": "28ec6d50"
    },
    {
      "cell_type": "markdown",
      "metadata": {
        "id": "9834894e"
      },
      "source": [
        "## Step 1 - Scrape SpaceWeatherLive.com"
      ],
      "id": "9834894e"
    },
    {
      "cell_type": "code",
      "metadata": {
        "id": "09dc9234",
        "colab": {
          "base_uri": "https://localhost:8080/"
        },
        "outputId": "044870c6-d01e-4059-b4ed-0dcd74c7fd86"
      },
      "source": [
        "headers = {'User-Agent': 'Mozilla/5.0 (Macintosh; Intel Mac OS X 10_10_1) AppleWebKit/537.36 (KHTML, like Gecko) Chrome/39.0.2171.95 Safari/537.36'}\n",
        "r = requests.get(\"https://www.spaceweatherlive.com/en/solar-activity/top-50-solar-flares.html\",timeout=10,headers=headers)\n",
        "r.status_code"
      ],
      "id": "09dc9234",
      "execution_count": 1215,
      "outputs": [
        {
          "output_type": "execute_result",
          "data": {
            "text/plain": [
              "200"
            ]
          },
          "metadata": {},
          "execution_count": 1215
        }
      ]
    },
    {
      "cell_type": "code",
      "metadata": {
        "id": "76d3644d"
      },
      "source": [
        "text_response = r.content #https://stackoverflow.com/questions/52389692/beautifulsoup-and-prettify-function\n",
        "soup = BeautifulSoup(text_response,\"html.parser\")"
      ],
      "id": "76d3644d",
      "execution_count": 1216,
      "outputs": []
    },
    {
      "cell_type": "code",
      "metadata": {
        "scrolled": true,
        "id": "3a8fd1be"
      },
      "source": [
        "table = soup.findAll(\"table\") #find the table in the HTML"
      ],
      "id": "3a8fd1be",
      "execution_count": 1217,
      "outputs": []
    },
    {
      "cell_type": "code",
      "metadata": {
        "id": "8d38ccdb"
      },
      "source": [
        "solar_flare_df = pd.read_html(str(table))"
      ],
      "id": "8d38ccdb",
      "execution_count": 1218,
      "outputs": []
    },
    {
      "cell_type": "code",
      "metadata": {
        "id": "7469438b"
      },
      "source": [
        "solfla_df = solar_flare_df[0]#works when we just select the first table"
      ],
      "id": "7469438b",
      "execution_count": 1219,
      "outputs": []
    },
    {
      "cell_type": "code",
      "metadata": {
        "id": "7bde39e8"
      },
      "source": [
        "solfla_df.columns = [\"rank\", \"x_class\", \"date\", \"region\", \"start_time\", \"maximum_time\", \"end_time\", \"movie\"] #rename columns to be more descriptive"
      ],
      "id": "7bde39e8",
      "execution_count": 1220,
      "outputs": []
    },
    {
      "cell_type": "code",
      "metadata": {
        "id": "3e5d86a9",
        "colab": {
          "base_uri": "https://localhost:8080/",
          "height": 204
        },
        "outputId": "55778432-e91e-4217-c3e1-573a5c6f3204"
      },
      "source": [
        "solfla_df.head()"
      ],
      "id": "3e5d86a9",
      "execution_count": 1221,
      "outputs": [
        {
          "output_type": "execute_result",
          "data": {
            "text/html": [
              "<div>\n",
              "<style scoped>\n",
              "    .dataframe tbody tr th:only-of-type {\n",
              "        vertical-align: middle;\n",
              "    }\n",
              "\n",
              "    .dataframe tbody tr th {\n",
              "        vertical-align: top;\n",
              "    }\n",
              "\n",
              "    .dataframe thead th {\n",
              "        text-align: right;\n",
              "    }\n",
              "</style>\n",
              "<table border=\"1\" class=\"dataframe\">\n",
              "  <thead>\n",
              "    <tr style=\"text-align: right;\">\n",
              "      <th></th>\n",
              "      <th>rank</th>\n",
              "      <th>x_class</th>\n",
              "      <th>date</th>\n",
              "      <th>region</th>\n",
              "      <th>start_time</th>\n",
              "      <th>maximum_time</th>\n",
              "      <th>end_time</th>\n",
              "      <th>movie</th>\n",
              "    </tr>\n",
              "  </thead>\n",
              "  <tbody>\n",
              "    <tr>\n",
              "      <th>0</th>\n",
              "      <td>1</td>\n",
              "      <td>X28+</td>\n",
              "      <td>2003/11/04</td>\n",
              "      <td>486</td>\n",
              "      <td>19:29</td>\n",
              "      <td>19:53</td>\n",
              "      <td>20:06</td>\n",
              "      <td>MovieView archive</td>\n",
              "    </tr>\n",
              "    <tr>\n",
              "      <th>1</th>\n",
              "      <td>2</td>\n",
              "      <td>X20+</td>\n",
              "      <td>2001/04/02</td>\n",
              "      <td>9393</td>\n",
              "      <td>21:32</td>\n",
              "      <td>21:51</td>\n",
              "      <td>22:03</td>\n",
              "      <td>MovieView archive</td>\n",
              "    </tr>\n",
              "    <tr>\n",
              "      <th>2</th>\n",
              "      <td>3</td>\n",
              "      <td>X17.2+</td>\n",
              "      <td>2003/10/28</td>\n",
              "      <td>486</td>\n",
              "      <td>09:51</td>\n",
              "      <td>11:10</td>\n",
              "      <td>11:24</td>\n",
              "      <td>MovieView archive</td>\n",
              "    </tr>\n",
              "    <tr>\n",
              "      <th>3</th>\n",
              "      <td>4</td>\n",
              "      <td>X17+</td>\n",
              "      <td>2005/09/07</td>\n",
              "      <td>808</td>\n",
              "      <td>17:17</td>\n",
              "      <td>17:40</td>\n",
              "      <td>18:03</td>\n",
              "      <td>MovieView archive</td>\n",
              "    </tr>\n",
              "    <tr>\n",
              "      <th>4</th>\n",
              "      <td>5</td>\n",
              "      <td>X14.4</td>\n",
              "      <td>2001/04/15</td>\n",
              "      <td>9415</td>\n",
              "      <td>13:19</td>\n",
              "      <td>13:50</td>\n",
              "      <td>13:55</td>\n",
              "      <td>MovieView archive</td>\n",
              "    </tr>\n",
              "  </tbody>\n",
              "</table>\n",
              "</div>"
            ],
            "text/plain": [
              "   rank x_class        date  region start_time maximum_time end_time              movie\n",
              "0     1    X28+  2003/11/04     486      19:29        19:53    20:06  MovieView archive\n",
              "1     2    X20+  2001/04/02    9393      21:32        21:51    22:03  MovieView archive\n",
              "2     3  X17.2+  2003/10/28     486      09:51        11:10    11:24  MovieView archive\n",
              "3     4    X17+  2005/09/07     808      17:17        17:40    18:03  MovieView archive\n",
              "4     5   X14.4  2001/04/15    9415      13:19        13:50    13:55  MovieView archive"
            ]
          },
          "metadata": {},
          "execution_count": 1221
        }
      ]
    },
    {
      "cell_type": "markdown",
      "metadata": {
        "id": "28f6f2cd"
      },
      "source": [
        "## Step 2 - Tidy the Top 50 Solar Flare Data"
      ],
      "id": "28f6f2cd"
    },
    {
      "cell_type": "code",
      "metadata": {
        "id": "c5cc3347",
        "colab": {
          "base_uri": "https://localhost:8080/",
          "height": 204
        },
        "outputId": "e75a13ed-e89a-409c-97e4-259bb0a744f9"
      },
      "source": [
        "solfla_df = solfla_df[[\"rank\", \"x_class\", \"date\", \"start_time\", \"maximum_time\", \"end_time\",\"region\"]]\n",
        "solfla_df.head()"
      ],
      "id": "c5cc3347",
      "execution_count": 1222,
      "outputs": [
        {
          "output_type": "execute_result",
          "data": {
            "text/html": [
              "<div>\n",
              "<style scoped>\n",
              "    .dataframe tbody tr th:only-of-type {\n",
              "        vertical-align: middle;\n",
              "    }\n",
              "\n",
              "    .dataframe tbody tr th {\n",
              "        vertical-align: top;\n",
              "    }\n",
              "\n",
              "    .dataframe thead th {\n",
              "        text-align: right;\n",
              "    }\n",
              "</style>\n",
              "<table border=\"1\" class=\"dataframe\">\n",
              "  <thead>\n",
              "    <tr style=\"text-align: right;\">\n",
              "      <th></th>\n",
              "      <th>rank</th>\n",
              "      <th>x_class</th>\n",
              "      <th>date</th>\n",
              "      <th>start_time</th>\n",
              "      <th>maximum_time</th>\n",
              "      <th>end_time</th>\n",
              "      <th>region</th>\n",
              "    </tr>\n",
              "  </thead>\n",
              "  <tbody>\n",
              "    <tr>\n",
              "      <th>0</th>\n",
              "      <td>1</td>\n",
              "      <td>X28+</td>\n",
              "      <td>2003/11/04</td>\n",
              "      <td>19:29</td>\n",
              "      <td>19:53</td>\n",
              "      <td>20:06</td>\n",
              "      <td>486</td>\n",
              "    </tr>\n",
              "    <tr>\n",
              "      <th>1</th>\n",
              "      <td>2</td>\n",
              "      <td>X20+</td>\n",
              "      <td>2001/04/02</td>\n",
              "      <td>21:32</td>\n",
              "      <td>21:51</td>\n",
              "      <td>22:03</td>\n",
              "      <td>9393</td>\n",
              "    </tr>\n",
              "    <tr>\n",
              "      <th>2</th>\n",
              "      <td>3</td>\n",
              "      <td>X17.2+</td>\n",
              "      <td>2003/10/28</td>\n",
              "      <td>09:51</td>\n",
              "      <td>11:10</td>\n",
              "      <td>11:24</td>\n",
              "      <td>486</td>\n",
              "    </tr>\n",
              "    <tr>\n",
              "      <th>3</th>\n",
              "      <td>4</td>\n",
              "      <td>X17+</td>\n",
              "      <td>2005/09/07</td>\n",
              "      <td>17:17</td>\n",
              "      <td>17:40</td>\n",
              "      <td>18:03</td>\n",
              "      <td>808</td>\n",
              "    </tr>\n",
              "    <tr>\n",
              "      <th>4</th>\n",
              "      <td>5</td>\n",
              "      <td>X14.4</td>\n",
              "      <td>2001/04/15</td>\n",
              "      <td>13:19</td>\n",
              "      <td>13:50</td>\n",
              "      <td>13:55</td>\n",
              "      <td>9415</td>\n",
              "    </tr>\n",
              "  </tbody>\n",
              "</table>\n",
              "</div>"
            ],
            "text/plain": [
              "   rank x_class        date start_time maximum_time end_time  region\n",
              "0     1    X28+  2003/11/04      19:29        19:53    20:06     486\n",
              "1     2    X20+  2001/04/02      21:32        21:51    22:03    9393\n",
              "2     3  X17.2+  2003/10/28      09:51        11:10    11:24     486\n",
              "3     4    X17+  2005/09/07      17:17        17:40    18:03     808\n",
              "4     5   X14.4  2001/04/15      13:19        13:50    13:55    9415"
            ]
          },
          "metadata": {},
          "execution_count": 1222
        }
      ]
    },
    {
      "cell_type": "code",
      "metadata": {
        "id": "71cf6493"
      },
      "source": [
        "import datetime"
      ],
      "id": "71cf6493",
      "execution_count": 1223,
      "outputs": []
    },
    {
      "cell_type": "code",
      "metadata": {
        "id": "c7191a79",
        "colab": {
          "base_uri": "https://localhost:8080/"
        },
        "outputId": "83e6f547-7c0a-4214-b2c7-fe1f35abfc09"
      },
      "source": [
        "\n",
        "solfla_df[\"start_time\"] = pd.to_datetime(solfla_df[\"date\"] + \" \" + solfla_df[\"start_time\"])\n",
        "solfla_df[\"maximum_time\"] = pd.to_datetime(solfla_df[\"date\"] + \" \" + solfla_df[\"maximum_time\"])\n",
        "solfla_df[\"end_time\"] = pd.to_datetime(solfla_df[\"date\"] + \" \" + solfla_df[\"end_time\"])\n"
      ],
      "id": "c7191a79",
      "execution_count": 1224,
      "outputs": [
        {
          "output_type": "stream",
          "name": "stderr",
          "text": [
            "/usr/local/lib/python3.7/dist-packages/ipykernel_launcher.py:2: SettingWithCopyWarning: \n",
            "A value is trying to be set on a copy of a slice from a DataFrame.\n",
            "Try using .loc[row_indexer,col_indexer] = value instead\n",
            "\n",
            "See the caveats in the documentation: https://pandas.pydata.org/pandas-docs/stable/user_guide/indexing.html#returning-a-view-versus-a-copy\n",
            "  \n",
            "/usr/local/lib/python3.7/dist-packages/ipykernel_launcher.py:3: SettingWithCopyWarning: \n",
            "A value is trying to be set on a copy of a slice from a DataFrame.\n",
            "Try using .loc[row_indexer,col_indexer] = value instead\n",
            "\n",
            "See the caveats in the documentation: https://pandas.pydata.org/pandas-docs/stable/user_guide/indexing.html#returning-a-view-versus-a-copy\n",
            "  This is separate from the ipykernel package so we can avoid doing imports until\n",
            "/usr/local/lib/python3.7/dist-packages/ipykernel_launcher.py:4: SettingWithCopyWarning: \n",
            "A value is trying to be set on a copy of a slice from a DataFrame.\n",
            "Try using .loc[row_indexer,col_indexer] = value instead\n",
            "\n",
            "See the caveats in the documentation: https://pandas.pydata.org/pandas-docs/stable/user_guide/indexing.html#returning-a-view-versus-a-copy\n",
            "  after removing the cwd from sys.path.\n"
          ]
        }
      ]
    },
    {
      "cell_type": "code",
      "metadata": {
        "colab": {
          "base_uri": "https://localhost:8080/",
          "height": 289
        },
        "id": "XvGf14bUURvB",
        "outputId": "4c881f92-e942-4778-9e70-c486c0a9e137"
      },
      "source": [
        "solfla_df.drop(columns=\"date\",inplace=True) #drop date table\n",
        "\n",
        "solfla_df.head()"
      ],
      "id": "XvGf14bUURvB",
      "execution_count": 1225,
      "outputs": [
        {
          "output_type": "stream",
          "name": "stderr",
          "text": [
            "/usr/local/lib/python3.7/dist-packages/pandas/core/frame.py:4174: SettingWithCopyWarning: \n",
            "A value is trying to be set on a copy of a slice from a DataFrame\n",
            "\n",
            "See the caveats in the documentation: https://pandas.pydata.org/pandas-docs/stable/user_guide/indexing.html#returning-a-view-versus-a-copy\n",
            "  errors=errors,\n"
          ]
        },
        {
          "output_type": "execute_result",
          "data": {
            "text/html": [
              "<div>\n",
              "<style scoped>\n",
              "    .dataframe tbody tr th:only-of-type {\n",
              "        vertical-align: middle;\n",
              "    }\n",
              "\n",
              "    .dataframe tbody tr th {\n",
              "        vertical-align: top;\n",
              "    }\n",
              "\n",
              "    .dataframe thead th {\n",
              "        text-align: right;\n",
              "    }\n",
              "</style>\n",
              "<table border=\"1\" class=\"dataframe\">\n",
              "  <thead>\n",
              "    <tr style=\"text-align: right;\">\n",
              "      <th></th>\n",
              "      <th>rank</th>\n",
              "      <th>x_class</th>\n",
              "      <th>start_time</th>\n",
              "      <th>maximum_time</th>\n",
              "      <th>end_time</th>\n",
              "      <th>region</th>\n",
              "    </tr>\n",
              "  </thead>\n",
              "  <tbody>\n",
              "    <tr>\n",
              "      <th>0</th>\n",
              "      <td>1</td>\n",
              "      <td>X28+</td>\n",
              "      <td>2003-11-04 19:29:00</td>\n",
              "      <td>2003-11-04 19:53:00</td>\n",
              "      <td>2003-11-04 20:06:00</td>\n",
              "      <td>486</td>\n",
              "    </tr>\n",
              "    <tr>\n",
              "      <th>1</th>\n",
              "      <td>2</td>\n",
              "      <td>X20+</td>\n",
              "      <td>2001-04-02 21:32:00</td>\n",
              "      <td>2001-04-02 21:51:00</td>\n",
              "      <td>2001-04-02 22:03:00</td>\n",
              "      <td>9393</td>\n",
              "    </tr>\n",
              "    <tr>\n",
              "      <th>2</th>\n",
              "      <td>3</td>\n",
              "      <td>X17.2+</td>\n",
              "      <td>2003-10-28 09:51:00</td>\n",
              "      <td>2003-10-28 11:10:00</td>\n",
              "      <td>2003-10-28 11:24:00</td>\n",
              "      <td>486</td>\n",
              "    </tr>\n",
              "    <tr>\n",
              "      <th>3</th>\n",
              "      <td>4</td>\n",
              "      <td>X17+</td>\n",
              "      <td>2005-09-07 17:17:00</td>\n",
              "      <td>2005-09-07 17:40:00</td>\n",
              "      <td>2005-09-07 18:03:00</td>\n",
              "      <td>808</td>\n",
              "    </tr>\n",
              "    <tr>\n",
              "      <th>4</th>\n",
              "      <td>5</td>\n",
              "      <td>X14.4</td>\n",
              "      <td>2001-04-15 13:19:00</td>\n",
              "      <td>2001-04-15 13:50:00</td>\n",
              "      <td>2001-04-15 13:55:00</td>\n",
              "      <td>9415</td>\n",
              "    </tr>\n",
              "  </tbody>\n",
              "</table>\n",
              "</div>"
            ],
            "text/plain": [
              "   rank x_class          start_time        maximum_time            end_time  region\n",
              "0     1    X28+ 2003-11-04 19:29:00 2003-11-04 19:53:00 2003-11-04 20:06:00     486\n",
              "1     2    X20+ 2001-04-02 21:32:00 2001-04-02 21:51:00 2001-04-02 22:03:00    9393\n",
              "2     3  X17.2+ 2003-10-28 09:51:00 2003-10-28 11:10:00 2003-10-28 11:24:00     486\n",
              "3     4    X17+ 2005-09-07 17:17:00 2005-09-07 17:40:00 2005-09-07 18:03:00     808\n",
              "4     5   X14.4 2001-04-15 13:19:00 2001-04-15 13:50:00 2001-04-15 13:55:00    9415"
            ]
          },
          "metadata": {},
          "execution_count": 1225
        }
      ]
    },
    {
      "cell_type": "code",
      "metadata": {
        "colab": {
          "base_uri": "https://localhost:8080/"
        },
        "id": "S3XrDAE1DApe",
        "outputId": "e545a403-53a8-4285-de91-0dcc5dce52e2"
      },
      "source": [
        "solfla_df.dtypes"
      ],
      "id": "S3XrDAE1DApe",
      "execution_count": 1226,
      "outputs": [
        {
          "output_type": "execute_result",
          "data": {
            "text/plain": [
              "rank                     int64\n",
              "x_class                 object\n",
              "start_time      datetime64[ns]\n",
              "maximum_time    datetime64[ns]\n",
              "end_time        datetime64[ns]\n",
              "region                   int64\n",
              "dtype: object"
            ]
          },
          "metadata": {},
          "execution_count": 1226
        }
      ]
    },
    {
      "cell_type": "markdown",
      "metadata": {
        "id": "6a17aa9e"
      },
      "source": [
        "## Step 3 - Scrape the NASA Data"
      ],
      "id": "6a17aa9e"
    },
    {
      "cell_type": "code",
      "metadata": {
        "id": "b822f064",
        "colab": {
          "base_uri": "https://localhost:8080/"
        },
        "outputId": "5b383a27-b57c-4c6c-bb8d-ba2541bc07df"
      },
      "source": [
        "headers = {'User-Agent': 'Mozilla/5.0 (Macintosh; Intel Mac OS X 10_10_1) AppleWebKit/537.36 (KHTML, like Gecko) Chrome/39.0.2171.95 Safari/537.36'}\n",
        "r = requests.get(\"https://cdaw.gsfc.nasa.gov/CME_list/radio/waves_type2.html\",timeout=10,headers=headers)\n",
        "r.status_code"
      ],
      "id": "b822f064",
      "execution_count": 1227,
      "outputs": [
        {
          "output_type": "execute_result",
          "data": {
            "text/plain": [
              "200"
            ]
          },
          "metadata": {},
          "execution_count": 1227
        }
      ]
    },
    {
      "cell_type": "code",
      "metadata": {
        "id": "931db0b8"
      },
      "source": [
        "text_response = r.content #https://stackoverflow.com/questions/52389692/beautifulsoup-and-prettify-function\n",
        "soup = BeautifulSoup(text_response,\"html.parser\")\n",
        "table = soup.get_text()\n",
        "split_table = table.splitlines()\n",
        "split_table = split_table[15:]\n",
        "split_table = split_table[0:len(split_table)-2] #clean up table by removing top and bottom portion\n"
      ],
      "id": "931db0b8",
      "execution_count": 1228,
      "outputs": []
    },
    {
      "cell_type": "code",
      "metadata": {
        "id": "d3wsGYmZiblQ"
      },
      "source": [
        "nasa_df = pd.DataFrame( #create empty DF \n",
        "    columns = [\"start_date\",\"start_time\",\"end_date\",\"end_time\",\"start_freq\",\"end_freq\",\"location\",\"region\",\"xray_importance\",\"cme_date\",\"cme_time\",\"central_pos_angle\",\"cpa_width\",\"cme_speed\",\"PHTX\" ]\n",
        "    )\n",
        "for i,v in enumerate(split_table): \n",
        "  row_vals = re.findall(r\"\\S+\",v)\n",
        "  nasa_df.loc[i] = row_vals[0:15] #assign values for each row from list after splitting string into a list var, also drop 16th entry because sometimes it is useless notation"
      ],
      "id": "d3wsGYmZiblQ",
      "execution_count": 1229,
      "outputs": []
    },
    {
      "cell_type": "code",
      "metadata": {
        "id": "7EeUuRqnWbq0"
      },
      "source": [
        "nasa_df.drop(columns=[\"PHTX\"],inplace=True) #drop links column"
      ],
      "id": "7EeUuRqnWbq0",
      "execution_count": 1230,
      "outputs": []
    },
    {
      "cell_type": "code",
      "metadata": {
        "colab": {
          "base_uri": "https://localhost:8080/",
          "height": 204
        },
        "id": "aRap_PrKYZ_A",
        "outputId": "80c960f1-91f5-4355-f838-0524bf2dff6d"
      },
      "source": [
        "nasa_df.head()"
      ],
      "id": "aRap_PrKYZ_A",
      "execution_count": 1231,
      "outputs": [
        {
          "output_type": "execute_result",
          "data": {
            "text/html": [
              "<div>\n",
              "<style scoped>\n",
              "    .dataframe tbody tr th:only-of-type {\n",
              "        vertical-align: middle;\n",
              "    }\n",
              "\n",
              "    .dataframe tbody tr th {\n",
              "        vertical-align: top;\n",
              "    }\n",
              "\n",
              "    .dataframe thead th {\n",
              "        text-align: right;\n",
              "    }\n",
              "</style>\n",
              "<table border=\"1\" class=\"dataframe\">\n",
              "  <thead>\n",
              "    <tr style=\"text-align: right;\">\n",
              "      <th></th>\n",
              "      <th>start_date</th>\n",
              "      <th>start_time</th>\n",
              "      <th>end_date</th>\n",
              "      <th>end_time</th>\n",
              "      <th>start_freq</th>\n",
              "      <th>end_freq</th>\n",
              "      <th>location</th>\n",
              "      <th>region</th>\n",
              "      <th>xray_importance</th>\n",
              "      <th>cme_date</th>\n",
              "      <th>cme_time</th>\n",
              "      <th>central_pos_angle</th>\n",
              "      <th>cpa_width</th>\n",
              "      <th>cme_speed</th>\n",
              "    </tr>\n",
              "  </thead>\n",
              "  <tbody>\n",
              "    <tr>\n",
              "      <th>0</th>\n",
              "      <td>1997/04/01</td>\n",
              "      <td>14:00</td>\n",
              "      <td>04/01</td>\n",
              "      <td>14:15</td>\n",
              "      <td>8000</td>\n",
              "      <td>4000</td>\n",
              "      <td>S25E16</td>\n",
              "      <td>8026</td>\n",
              "      <td>M1.3</td>\n",
              "      <td>04/01</td>\n",
              "      <td>15:18</td>\n",
              "      <td>74</td>\n",
              "      <td>79</td>\n",
              "      <td>312</td>\n",
              "    </tr>\n",
              "    <tr>\n",
              "      <th>1</th>\n",
              "      <td>1997/04/07</td>\n",
              "      <td>14:30</td>\n",
              "      <td>04/07</td>\n",
              "      <td>17:30</td>\n",
              "      <td>11000</td>\n",
              "      <td>1000</td>\n",
              "      <td>S28E19</td>\n",
              "      <td>8027</td>\n",
              "      <td>C6.8</td>\n",
              "      <td>04/07</td>\n",
              "      <td>14:27</td>\n",
              "      <td>Halo</td>\n",
              "      <td>360</td>\n",
              "      <td>878</td>\n",
              "    </tr>\n",
              "    <tr>\n",
              "      <th>2</th>\n",
              "      <td>1997/05/12</td>\n",
              "      <td>05:15</td>\n",
              "      <td>05/14</td>\n",
              "      <td>16:00</td>\n",
              "      <td>12000</td>\n",
              "      <td>80</td>\n",
              "      <td>N21W08</td>\n",
              "      <td>8038</td>\n",
              "      <td>C1.3</td>\n",
              "      <td>05/12</td>\n",
              "      <td>05:30</td>\n",
              "      <td>Halo</td>\n",
              "      <td>360</td>\n",
              "      <td>464</td>\n",
              "    </tr>\n",
              "    <tr>\n",
              "      <th>3</th>\n",
              "      <td>1997/05/21</td>\n",
              "      <td>20:20</td>\n",
              "      <td>05/21</td>\n",
              "      <td>22:00</td>\n",
              "      <td>5000</td>\n",
              "      <td>500</td>\n",
              "      <td>N05W12</td>\n",
              "      <td>8040</td>\n",
              "      <td>M1.3</td>\n",
              "      <td>05/21</td>\n",
              "      <td>21:00</td>\n",
              "      <td>263</td>\n",
              "      <td>165</td>\n",
              "      <td>296</td>\n",
              "    </tr>\n",
              "    <tr>\n",
              "      <th>4</th>\n",
              "      <td>1997/09/23</td>\n",
              "      <td>21:53</td>\n",
              "      <td>09/23</td>\n",
              "      <td>22:16</td>\n",
              "      <td>6000</td>\n",
              "      <td>2000</td>\n",
              "      <td>S29E25</td>\n",
              "      <td>8088</td>\n",
              "      <td>C1.4</td>\n",
              "      <td>09/23</td>\n",
              "      <td>22:02</td>\n",
              "      <td>133</td>\n",
              "      <td>155</td>\n",
              "      <td>712</td>\n",
              "    </tr>\n",
              "  </tbody>\n",
              "</table>\n",
              "</div>"
            ],
            "text/plain": [
              "   start_date start_time end_date end_time start_freq end_freq location region xray_importance cme_date cme_time central_pos_angle cpa_width cme_speed\n",
              "0  1997/04/01      14:00    04/01    14:15       8000     4000   S25E16   8026            M1.3    04/01    15:18                74        79       312\n",
              "1  1997/04/07      14:30    04/07    17:30      11000     1000   S28E19   8027            C6.8    04/07    14:27              Halo       360       878\n",
              "2  1997/05/12      05:15    05/14    16:00      12000       80   N21W08   8038            C1.3    05/12    05:30              Halo       360       464\n",
              "3  1997/05/21      20:20    05/21    22:00       5000      500   N05W12   8040            M1.3    05/21    21:00               263       165       296\n",
              "4  1997/09/23      21:53    09/23    22:16       6000     2000   S29E25   8088            C1.4    09/23    22:02               133       155       712"
            ]
          },
          "metadata": {},
          "execution_count": 1231
        }
      ]
    },
    {
      "cell_type": "markdown",
      "metadata": {
        "id": "tKW6x7I1ZN4u"
      },
      "source": [
        "## Step 4 - Tidy the Nasa Data"
      ],
      "id": "tKW6x7I1ZN4u"
    },
    {
      "cell_type": "markdown",
      "metadata": {
        "id": "otC2cwQ1e2sP"
      },
      "source": [
        "**Replace all empty values with NaNs**"
      ],
      "id": "otC2cwQ1e2sP"
    },
    {
      "cell_type": "code",
      "metadata": {
        "id": "Ti9X_SNyZTao"
      },
      "source": [
        "nasa_df.region.replace(\"-----\", np.nan,inplace=True)\n",
        "nasa_df.xray_importance.replace(\"----\", np.nan,inplace=True)\n",
        "nasa_df.cme_date.replace(\"--/--\",np.nan, inplace=True)\n",
        "nasa_df.cme_time.replace(\"--:--\",np.nan,inplace=True)\n",
        "nasa_df.central_pos_angle.replace(\"----\", np.nan,inplace=True)\n",
        "nasa_df.cpa_width.replace(\"----\", np.nan,inplace=True)\n",
        "nasa_df.cpa_width.replace(\"---\", np.nan,inplace=True)\n",
        "nasa_df.cpa_width.replace(\"360h\", \"360\",inplace=True)\n",
        "nasa_df.cme_speed.replace(\"----\", np.nan,inplace=True)\n",
        "nasa_df.start_freq.replace(\"????\",np.nan,inplace=True)\n",
        "nasa_df.end_freq.replace(\"????\",np.nan,inplace=True)\n",
        "\n"
      ],
      "id": "Ti9X_SNyZTao",
      "execution_count": 1232,
      "outputs": []
    },
    {
      "cell_type": "markdown",
      "metadata": {
        "id": "r0QOknyDe6iC"
      },
      "source": [
        "**Replace all lower case \"Back\" values with upper case \"BACK\" in location column**"
      ],
      "id": "r0QOknyDe6iC"
    },
    {
      "cell_type": "code",
      "metadata": {
        "id": "-4JokLqXe1kL"
      },
      "source": [
        "nasa_df.location.replace(\"Back\",\"BACK\",inplace=True)"
      ],
      "id": "-4JokLqXe1kL",
      "execution_count": 1233,
      "outputs": []
    },
    {
      "cell_type": "markdown",
      "metadata": {
        "id": "DZ5Pmt-JfVTj"
      },
      "source": [
        "**Replace all DSF values with FILA in region column**"
      ],
      "id": "DZ5Pmt-JfVTj"
    },
    {
      "cell_type": "code",
      "metadata": {
        "id": "qCVqDAdRfbk6"
      },
      "source": [
        "nasa_df.region.replace(\"DSF\",\"FILE\",inplace=True)"
      ],
      "id": "qCVqDAdRfbk6",
      "execution_count": 1234,
      "outputs": []
    },
    {
      "cell_type": "markdown",
      "metadata": {
        "id": "rWyuC4Gaf19B"
      },
      "source": [
        "**Create column to indicate HALO flare, then turn Halo entries into NaN.**<br/>\n",
        "Halo = 1 <br/>\n",
        "Non-Halo = 0"
      ],
      "id": "rWyuC4Gaf19B"
    },
    {
      "cell_type": "code",
      "metadata": {
        "id": "VhZoQD-cf1eE"
      },
      "source": [
        "column_vals = []\n",
        "for index,value in nasa_df[\"central_pos_angle\"].iteritems():\n",
        "  if value == \"Halo\":\n",
        "    column_vals.append(1)\n",
        "  else:\n",
        "    column_vals.append(0)\n",
        "nasa_df[\"is_halo\"] = column_vals"
      ],
      "id": "VhZoQD-cf1eE",
      "execution_count": 1235,
      "outputs": []
    },
    {
      "cell_type": "code",
      "metadata": {
        "id": "okJ4B-4KhlJX"
      },
      "source": [
        "nasa_df.central_pos_angle.replace(\"Halo\", np.nan,inplace=True)"
      ],
      "id": "okJ4B-4KhlJX",
      "execution_count": 1236,
      "outputs": []
    },
    {
      "cell_type": "markdown",
      "metadata": {
        "id": "aV-p7NLUh8BV"
      },
      "source": [
        "**Indicate which cpa_widths are lower bounds, make a new column with the info, then remove the non-numeric characters**"
      ],
      "id": "aV-p7NLUh8BV"
    },
    {
      "cell_type": "code",
      "metadata": {
        "id": "r8DfIgZwh7E2"
      },
      "source": [
        "column_vals = []\n",
        "for index,value in nasa_df[\"cpa_width\"].iteritems():\n",
        "  if pd.isnull(value) == True:\n",
        "    column_vals.append(0)\n",
        "  elif \">\" in value:\n",
        "        column_vals.append(1)\n",
        "  else:\n",
        "    column_vals.append(0)\n",
        "nasa_df[\"lower_bound\"] = column_vals"
      ],
      "id": "r8DfIgZwh7E2",
      "execution_count": 1237,
      "outputs": []
    },
    {
      "cell_type": "code",
      "metadata": {
        "id": "osEaIR5Sh7PA"
      },
      "source": [
        "def remove_sign(str):\n",
        "  if pd.isnull(str) == True:\n",
        "    return str\n",
        "  return re.sub(\">\",\"\",str)\n",
        "\n",
        "nasa_df[\"cpa_width\"] = nasa_df[\"cpa_width\"].apply(remove_sign)"
      ],
      "id": "osEaIR5Sh7PA",
      "execution_count": 1238,
      "outputs": []
    },
    {
      "cell_type": "markdown",
      "metadata": {
        "id": "ISxtJrddnmKU"
      },
      "source": [
        "**Reformat date columns and drop repetitive data**"
      ],
      "id": "ISxtJrddnmKU"
    },
    {
      "cell_type": "code",
      "metadata": {
        "id": "ZFjK6nl7nrZx"
      },
      "source": [
        "nasa_df.replace(\"24:00\",\"23:59\",inplace=True)"
      ],
      "id": "ZFjK6nl7nrZx",
      "execution_count": 1239,
      "outputs": []
    },
    {
      "cell_type": "code",
      "metadata": {
        "colab": {
          "base_uri": "https://localhost:8080/"
        },
        "id": "y-f8QLAHnre2",
        "outputId": "5f39b9c7-2bce-4605-f040-34ff56a9fb16"
      },
      "source": [
        "for index,value in nasa_df[\"end_date\"].iteritems():\n",
        "  year = nasa_df.start_date.loc[index][0:4]\n",
        "  nasa_df[\"end_date\"].loc[index] = pd.to_datetime(year + \"/\" + nasa_df[\"end_date\"].loc[index] + \" \" + nasa_df[\"end_time\"].loc[index])\n",
        "\n",
        "for index,value in nasa_df[\"cme_date\"].iteritems():\n",
        "  year = nasa_df.start_date.loc[index][0:4]\n",
        "  if pd.isnull(nasa_df[\"cme_date\"].loc[index]):\n",
        "    pass\n",
        "  else:\n",
        "    nasa_df[\"cme_date\"].loc[index] = pd.to_datetime(year + \"/\" + nasa_df[\"cme_date\"].loc[index] + \" \" + nasa_df[\"cme_time\"].loc[index])\n",
        "\n",
        "nasa_df[\"start_date\"] = pd.to_datetime(nasa_df[\"start_date\"] + \" \" + nasa_df[\"start_time\"])\n",
        "nasa_df[\"end_date\"] = pd.to_datetime(nasa_df[\"end_date\"])\n",
        "nasa_df[\"cme_date\"] = pd.to_datetime(nasa_df[\"cme_date\"])\n"
      ],
      "id": "y-f8QLAHnre2",
      "execution_count": 1240,
      "outputs": [
        {
          "output_type": "stream",
          "name": "stderr",
          "text": [
            "/usr/local/lib/python3.7/dist-packages/pandas/core/indexing.py:670: SettingWithCopyWarning: \n",
            "A value is trying to be set on a copy of a slice from a DataFrame\n",
            "\n",
            "See the caveats in the documentation: https://pandas.pydata.org/pandas-docs/stable/user_guide/indexing.html#returning-a-view-versus-a-copy\n",
            "  iloc._setitem_with_indexer(indexer, value)\n"
          ]
        }
      ]
    },
    {
      "cell_type": "code",
      "metadata": {
        "id": "oIaBLrIh6oVu"
      },
      "source": [
        "nasa_df.rename(columns={\"start_date\":\"start_datetime\", \"end_date\":\"end_datetime\",\"cme_date\":\"cme_datetime\"},inplace=True) #rename columns"
      ],
      "id": "oIaBLrIh6oVu",
      "execution_count": 1241,
      "outputs": []
    },
    {
      "cell_type": "code",
      "metadata": {
        "id": "qpvykU7UabYj"
      },
      "source": [
        "nasa_df.drop(columns=[\"start_time\",\"end_time\",\"cme_time\"],inplace=True) #drop unnessecary values"
      ],
      "id": "qpvykU7UabYj",
      "execution_count": 1242,
      "outputs": []
    },
    {
      "cell_type": "code",
      "metadata": {
        "id": "zSptAZAhADH0"
      },
      "source": [
        "nasa_df.start_freq = nasa_df.start_freq.astype('float') #change all str types to float\n",
        "nasa_df.end_freq = nasa_df.end_freq.astype('float')\n",
        "nasa_df.central_pos_angle = nasa_df.central_pos_angle.astype('float')\n",
        "nasa_df.cme_speed = nasa_df.cme_speed.astype('float')\n",
        "nasa_df.cpa_width = nasa_df.cpa_width.astype('float')"
      ],
      "id": "zSptAZAhADH0",
      "execution_count": 1243,
      "outputs": []
    },
    {
      "cell_type": "code",
      "metadata": {
        "colab": {
          "base_uri": "https://localhost:8080/"
        },
        "id": "7hQUjqX4dxHo",
        "outputId": "6add2cc9-b0df-48f7-d834-f6f5fdd9432a"
      },
      "source": [
        "nasa_df.dtypes"
      ],
      "id": "7hQUjqX4dxHo",
      "execution_count": 1244,
      "outputs": [
        {
          "output_type": "execute_result",
          "data": {
            "text/plain": [
              "start_datetime       datetime64[ns]\n",
              "end_datetime         datetime64[ns]\n",
              "start_freq                  float64\n",
              "end_freq                    float64\n",
              "location                     object\n",
              "region                       object\n",
              "xray_importance              object\n",
              "cme_datetime         datetime64[ns]\n",
              "central_pos_angle           float64\n",
              "cpa_width                   float64\n",
              "cme_speed                   float64\n",
              "is_halo                       int64\n",
              "lower_bound                   int64\n",
              "dtype: object"
            ]
          },
          "metadata": {},
          "execution_count": 1244
        }
      ]
    },
    {
      "cell_type": "code",
      "metadata": {
        "colab": {
          "base_uri": "https://localhost:8080/",
          "height": 204
        },
        "id": "rg1PlIXl53Rf",
        "outputId": "981dd0cf-33f6-4172-bbdf-d3a91592f161"
      },
      "source": [
        "nasa_df.head()"
      ],
      "id": "rg1PlIXl53Rf",
      "execution_count": 1245,
      "outputs": [
        {
          "output_type": "execute_result",
          "data": {
            "text/html": [
              "<div>\n",
              "<style scoped>\n",
              "    .dataframe tbody tr th:only-of-type {\n",
              "        vertical-align: middle;\n",
              "    }\n",
              "\n",
              "    .dataframe tbody tr th {\n",
              "        vertical-align: top;\n",
              "    }\n",
              "\n",
              "    .dataframe thead th {\n",
              "        text-align: right;\n",
              "    }\n",
              "</style>\n",
              "<table border=\"1\" class=\"dataframe\">\n",
              "  <thead>\n",
              "    <tr style=\"text-align: right;\">\n",
              "      <th></th>\n",
              "      <th>start_datetime</th>\n",
              "      <th>end_datetime</th>\n",
              "      <th>start_freq</th>\n",
              "      <th>end_freq</th>\n",
              "      <th>location</th>\n",
              "      <th>region</th>\n",
              "      <th>xray_importance</th>\n",
              "      <th>cme_datetime</th>\n",
              "      <th>central_pos_angle</th>\n",
              "      <th>cpa_width</th>\n",
              "      <th>cme_speed</th>\n",
              "      <th>is_halo</th>\n",
              "      <th>lower_bound</th>\n",
              "    </tr>\n",
              "  </thead>\n",
              "  <tbody>\n",
              "    <tr>\n",
              "      <th>0</th>\n",
              "      <td>1997-04-01 14:00:00</td>\n",
              "      <td>1997-04-01 14:15:00</td>\n",
              "      <td>8000.0</td>\n",
              "      <td>4000.0</td>\n",
              "      <td>S25E16</td>\n",
              "      <td>8026</td>\n",
              "      <td>M1.3</td>\n",
              "      <td>1997-04-01 15:18:00</td>\n",
              "      <td>74.0</td>\n",
              "      <td>79.0</td>\n",
              "      <td>312.0</td>\n",
              "      <td>0</td>\n",
              "      <td>0</td>\n",
              "    </tr>\n",
              "    <tr>\n",
              "      <th>1</th>\n",
              "      <td>1997-04-07 14:30:00</td>\n",
              "      <td>1997-04-07 17:30:00</td>\n",
              "      <td>11000.0</td>\n",
              "      <td>1000.0</td>\n",
              "      <td>S28E19</td>\n",
              "      <td>8027</td>\n",
              "      <td>C6.8</td>\n",
              "      <td>1997-04-07 14:27:00</td>\n",
              "      <td>NaN</td>\n",
              "      <td>360.0</td>\n",
              "      <td>878.0</td>\n",
              "      <td>1</td>\n",
              "      <td>0</td>\n",
              "    </tr>\n",
              "    <tr>\n",
              "      <th>2</th>\n",
              "      <td>1997-05-12 05:15:00</td>\n",
              "      <td>1997-05-14 16:00:00</td>\n",
              "      <td>12000.0</td>\n",
              "      <td>80.0</td>\n",
              "      <td>N21W08</td>\n",
              "      <td>8038</td>\n",
              "      <td>C1.3</td>\n",
              "      <td>1997-05-12 05:30:00</td>\n",
              "      <td>NaN</td>\n",
              "      <td>360.0</td>\n",
              "      <td>464.0</td>\n",
              "      <td>1</td>\n",
              "      <td>0</td>\n",
              "    </tr>\n",
              "    <tr>\n",
              "      <th>3</th>\n",
              "      <td>1997-05-21 20:20:00</td>\n",
              "      <td>1997-05-21 22:00:00</td>\n",
              "      <td>5000.0</td>\n",
              "      <td>500.0</td>\n",
              "      <td>N05W12</td>\n",
              "      <td>8040</td>\n",
              "      <td>M1.3</td>\n",
              "      <td>1997-05-21 21:00:00</td>\n",
              "      <td>263.0</td>\n",
              "      <td>165.0</td>\n",
              "      <td>296.0</td>\n",
              "      <td>0</td>\n",
              "      <td>0</td>\n",
              "    </tr>\n",
              "    <tr>\n",
              "      <th>4</th>\n",
              "      <td>1997-09-23 21:53:00</td>\n",
              "      <td>1997-09-23 22:16:00</td>\n",
              "      <td>6000.0</td>\n",
              "      <td>2000.0</td>\n",
              "      <td>S29E25</td>\n",
              "      <td>8088</td>\n",
              "      <td>C1.4</td>\n",
              "      <td>1997-09-23 22:02:00</td>\n",
              "      <td>133.0</td>\n",
              "      <td>155.0</td>\n",
              "      <td>712.0</td>\n",
              "      <td>0</td>\n",
              "      <td>0</td>\n",
              "    </tr>\n",
              "  </tbody>\n",
              "</table>\n",
              "</div>"
            ],
            "text/plain": [
              "       start_datetime        end_datetime  start_freq  end_freq location region xray_importance        cme_datetime  central_pos_angle  cpa_width  cme_speed  is_halo  lower_bound\n",
              "0 1997-04-01 14:00:00 1997-04-01 14:15:00      8000.0    4000.0   S25E16   8026            M1.3 1997-04-01 15:18:00               74.0       79.0      312.0        0            0\n",
              "1 1997-04-07 14:30:00 1997-04-07 17:30:00     11000.0    1000.0   S28E19   8027            C6.8 1997-04-07 14:27:00                NaN      360.0      878.0        1            0\n",
              "2 1997-05-12 05:15:00 1997-05-14 16:00:00     12000.0      80.0   N21W08   8038            C1.3 1997-05-12 05:30:00                NaN      360.0      464.0        1            0\n",
              "3 1997-05-21 20:20:00 1997-05-21 22:00:00      5000.0     500.0   N05W12   8040            M1.3 1997-05-21 21:00:00              263.0      165.0      296.0        0            0\n",
              "4 1997-09-23 21:53:00 1997-09-23 22:16:00      6000.0    2000.0   S29E25   8088            C1.4 1997-09-23 22:02:00              133.0      155.0      712.0        0            0"
            ]
          },
          "metadata": {},
          "execution_count": 1245
        }
      ]
    }
  ]
}