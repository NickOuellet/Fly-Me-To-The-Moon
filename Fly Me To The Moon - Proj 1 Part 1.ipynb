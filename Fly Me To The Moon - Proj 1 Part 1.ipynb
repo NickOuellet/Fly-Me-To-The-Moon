{
 "cells": [
  {
   "cell_type": "code",
   "execution_count": 1,
   "id": "b5a544b0",
   "metadata": {
    "colab": {
     "base_uri": "https://localhost:8080/"
    },
    "id": "b5a544b0",
    "outputId": "147525f3-42ab-46d7-f38f-d7e7a5342272"
   },
   "outputs": [
    {
     "name": "stdout",
     "output_type": "stream",
     "text": [
      "Collecting lxml\n",
      "  Downloading lxml-4.6.3-cp39-cp39-manylinux2014_x86_64.whl (6.9 MB)\n",
      "\u001b[K     |████████████████████████████████| 6.9 MB 11.6 MB/s eta 0:00:01\n",
      "\u001b[?25hInstalling collected packages: lxml\n",
      "Successfully installed lxml-4.6.3\n",
      "Note: you may need to restart the kernel to use updated packages.\n"
     ]
    }
   ],
   "source": [
    "pip install lxml"
   ]
  },
  {
   "cell_type": "code",
   "execution_count": 2,
   "id": "e499132b",
   "metadata": {
    "id": "e499132b"
   },
   "outputs": [],
   "source": [
    "from bs4 import BeautifulSoup\n",
    "import numpy as np\n",
    "import pandas as pd\n",
    "import requests\n",
    "import lxml\n",
    "import re"
   ]
  },
  {
   "cell_type": "markdown",
   "id": "28ec6d50",
   "metadata": {
    "id": "28ec6d50"
   },
   "source": [
    "## Meeting Plan for Nicolas Ouellet and Benedicte Knudson:\n",
    "We colaborated over Zoom and in person **three** times and used a shared Github Repository that can be found [here](https://github.com/NickOuellet/Fly-Me-To-The-Moon). <br />\n",
    "We met: <br />\n",
    "10/11: 5-7pm <br />\n",
    "10/20: 10-12pm <br />\n",
    "10/21: 7-11pm <br />\n",
    "\n",
    "___\n"
   ]
  },
  {
   "cell_type": "markdown",
   "id": "9834894e",
   "metadata": {
    "id": "9834894e"
   },
   "source": [
    "## Step 1 - Scrape SpaceWeatherLive.com"
   ]
  },
  {
   "cell_type": "code",
   "execution_count": 3,
   "id": "09dc9234",
   "metadata": {
    "colab": {
     "base_uri": "https://localhost:8080/"
    },
    "id": "09dc9234",
    "outputId": "3acf9bc8-0dae-4e10-9897-4f10bf2cd6ab"
   },
   "outputs": [
    {
     "data": {
      "text/plain": [
       "200"
      ]
     },
     "execution_count": 3,
     "metadata": {},
     "output_type": "execute_result"
    }
   ],
   "source": [
    "headers = {'User-Agent': 'Mozilla/5.0 (Macintosh; Intel Mac OS X 10_10_1) AppleWebKit/537.36 (KHTML, like Gecko) Chrome/39.0.2171.95 Safari/537.36'}\n",
    "r = requests.get(\"https://www.spaceweatherlive.com/en/solar-activity/top-50-solar-flares.html\",timeout=10,headers=headers)\n",
    "r.status_code"
   ]
  },
  {
   "cell_type": "code",
   "execution_count": 4,
   "id": "76d3644d",
   "metadata": {
    "id": "76d3644d"
   },
   "outputs": [],
   "source": [
    "text_response = r.content #https://stackoverflow.com/questions/52389692/beautifulsoup-and-prettify-function\n",
    "soup = BeautifulSoup(text_response,\"html.parser\")"
   ]
  },
  {
   "cell_type": "code",
   "execution_count": 5,
   "id": "3a8fd1be",
   "metadata": {
    "id": "3a8fd1be",
    "scrolled": true
   },
   "outputs": [],
   "source": [
    "table = soup.findAll(\"table\") #find the table in the HTML"
   ]
  },
  {
   "cell_type": "code",
   "execution_count": 6,
   "id": "8d38ccdb",
   "metadata": {
    "id": "8d38ccdb"
   },
   "outputs": [],
   "source": [
    "solar_flare_df = pd.read_html(str(table))"
   ]
  },
  {
   "cell_type": "code",
   "execution_count": 7,
   "id": "7469438b",
   "metadata": {
    "id": "7469438b"
   },
   "outputs": [],
   "source": [
    "solfla_df = solar_flare_df[0]#works when we just select the first table"
   ]
  },
  {
   "cell_type": "code",
   "execution_count": 8,
   "id": "7bde39e8",
   "metadata": {
    "id": "7bde39e8"
   },
   "outputs": [],
   "source": [
    "solfla_df.columns = [\"rank\", \"x_class\", \"date\", \"region\", \"start_time\", \"maximum_time\", \"end_time\", \"movie\"] #rename columns to be more descriptive"
   ]
  },
  {
   "cell_type": "code",
   "execution_count": 9,
   "id": "3e5d86a9",
   "metadata": {
    "colab": {
     "base_uri": "https://localhost:8080/",
     "height": 204
    },
    "id": "3e5d86a9",
    "outputId": "b8eeaa20-69f8-47a3-df0d-ee5cc5f9c553"
   },
   "outputs": [
    {
     "data": {
      "text/html": [
       "<div>\n",
       "<style scoped>\n",
       "    .dataframe tbody tr th:only-of-type {\n",
       "        vertical-align: middle;\n",
       "    }\n",
       "\n",
       "    .dataframe tbody tr th {\n",
       "        vertical-align: top;\n",
       "    }\n",
       "\n",
       "    .dataframe thead th {\n",
       "        text-align: right;\n",
       "    }\n",
       "</style>\n",
       "<table border=\"1\" class=\"dataframe\">\n",
       "  <thead>\n",
       "    <tr style=\"text-align: right;\">\n",
       "      <th></th>\n",
       "      <th>rank</th>\n",
       "      <th>x_class</th>\n",
       "      <th>date</th>\n",
       "      <th>region</th>\n",
       "      <th>start_time</th>\n",
       "      <th>maximum_time</th>\n",
       "      <th>end_time</th>\n",
       "      <th>movie</th>\n",
       "    </tr>\n",
       "  </thead>\n",
       "  <tbody>\n",
       "    <tr>\n",
       "      <th>0</th>\n",
       "      <td>1</td>\n",
       "      <td>X28+</td>\n",
       "      <td>2003/11/04</td>\n",
       "      <td>486</td>\n",
       "      <td>19:29</td>\n",
       "      <td>19:53</td>\n",
       "      <td>20:06</td>\n",
       "      <td>MovieView archive</td>\n",
       "    </tr>\n",
       "    <tr>\n",
       "      <th>1</th>\n",
       "      <td>2</td>\n",
       "      <td>X20+</td>\n",
       "      <td>2001/04/02</td>\n",
       "      <td>9393</td>\n",
       "      <td>21:32</td>\n",
       "      <td>21:51</td>\n",
       "      <td>22:03</td>\n",
       "      <td>MovieView archive</td>\n",
       "    </tr>\n",
       "    <tr>\n",
       "      <th>2</th>\n",
       "      <td>3</td>\n",
       "      <td>X17.2+</td>\n",
       "      <td>2003/10/28</td>\n",
       "      <td>486</td>\n",
       "      <td>09:51</td>\n",
       "      <td>11:10</td>\n",
       "      <td>11:24</td>\n",
       "      <td>MovieView archive</td>\n",
       "    </tr>\n",
       "    <tr>\n",
       "      <th>3</th>\n",
       "      <td>4</td>\n",
       "      <td>X17+</td>\n",
       "      <td>2005/09/07</td>\n",
       "      <td>808</td>\n",
       "      <td>17:17</td>\n",
       "      <td>17:40</td>\n",
       "      <td>18:03</td>\n",
       "      <td>MovieView archive</td>\n",
       "    </tr>\n",
       "    <tr>\n",
       "      <th>4</th>\n",
       "      <td>5</td>\n",
       "      <td>X14.4</td>\n",
       "      <td>2001/04/15</td>\n",
       "      <td>9415</td>\n",
       "      <td>13:19</td>\n",
       "      <td>13:50</td>\n",
       "      <td>13:55</td>\n",
       "      <td>MovieView archive</td>\n",
       "    </tr>\n",
       "  </tbody>\n",
       "</table>\n",
       "</div>"
      ],
      "text/plain": [
       "   rank x_class        date  region start_time maximum_time end_time  \\\n",
       "0     1    X28+  2003/11/04     486      19:29        19:53    20:06   \n",
       "1     2    X20+  2001/04/02    9393      21:32        21:51    22:03   \n",
       "2     3  X17.2+  2003/10/28     486      09:51        11:10    11:24   \n",
       "3     4    X17+  2005/09/07     808      17:17        17:40    18:03   \n",
       "4     5   X14.4  2001/04/15    9415      13:19        13:50    13:55   \n",
       "\n",
       "               movie  \n",
       "0  MovieView archive  \n",
       "1  MovieView archive  \n",
       "2  MovieView archive  \n",
       "3  MovieView archive  \n",
       "4  MovieView archive  "
      ]
     },
     "execution_count": 9,
     "metadata": {},
     "output_type": "execute_result"
    }
   ],
   "source": [
    "solfla_df.head()"
   ]
  },
  {
   "cell_type": "markdown",
   "id": "28f6f2cd",
   "metadata": {
    "id": "28f6f2cd"
   },
   "source": [
    "___\n",
    "## Step 2 - Tidy the Top 50 Solar Flare Data"
   ]
  },
  {
   "cell_type": "code",
   "execution_count": 10,
   "id": "c5cc3347",
   "metadata": {
    "colab": {
     "base_uri": "https://localhost:8080/",
     "height": 204
    },
    "id": "c5cc3347",
    "outputId": "7a2e7f7a-c5bb-4705-e012-1ffd2833423e"
   },
   "outputs": [
    {
     "data": {
      "text/html": [
       "<div>\n",
       "<style scoped>\n",
       "    .dataframe tbody tr th:only-of-type {\n",
       "        vertical-align: middle;\n",
       "    }\n",
       "\n",
       "    .dataframe tbody tr th {\n",
       "        vertical-align: top;\n",
       "    }\n",
       "\n",
       "    .dataframe thead th {\n",
       "        text-align: right;\n",
       "    }\n",
       "</style>\n",
       "<table border=\"1\" class=\"dataframe\">\n",
       "  <thead>\n",
       "    <tr style=\"text-align: right;\">\n",
       "      <th></th>\n",
       "      <th>rank</th>\n",
       "      <th>x_class</th>\n",
       "      <th>date</th>\n",
       "      <th>start_time</th>\n",
       "      <th>maximum_time</th>\n",
       "      <th>end_time</th>\n",
       "      <th>region</th>\n",
       "    </tr>\n",
       "  </thead>\n",
       "  <tbody>\n",
       "    <tr>\n",
       "      <th>0</th>\n",
       "      <td>1</td>\n",
       "      <td>X28+</td>\n",
       "      <td>2003/11/04</td>\n",
       "      <td>19:29</td>\n",
       "      <td>19:53</td>\n",
       "      <td>20:06</td>\n",
       "      <td>486</td>\n",
       "    </tr>\n",
       "    <tr>\n",
       "      <th>1</th>\n",
       "      <td>2</td>\n",
       "      <td>X20+</td>\n",
       "      <td>2001/04/02</td>\n",
       "      <td>21:32</td>\n",
       "      <td>21:51</td>\n",
       "      <td>22:03</td>\n",
       "      <td>9393</td>\n",
       "    </tr>\n",
       "    <tr>\n",
       "      <th>2</th>\n",
       "      <td>3</td>\n",
       "      <td>X17.2+</td>\n",
       "      <td>2003/10/28</td>\n",
       "      <td>09:51</td>\n",
       "      <td>11:10</td>\n",
       "      <td>11:24</td>\n",
       "      <td>486</td>\n",
       "    </tr>\n",
       "    <tr>\n",
       "      <th>3</th>\n",
       "      <td>4</td>\n",
       "      <td>X17+</td>\n",
       "      <td>2005/09/07</td>\n",
       "      <td>17:17</td>\n",
       "      <td>17:40</td>\n",
       "      <td>18:03</td>\n",
       "      <td>808</td>\n",
       "    </tr>\n",
       "    <tr>\n",
       "      <th>4</th>\n",
       "      <td>5</td>\n",
       "      <td>X14.4</td>\n",
       "      <td>2001/04/15</td>\n",
       "      <td>13:19</td>\n",
       "      <td>13:50</td>\n",
       "      <td>13:55</td>\n",
       "      <td>9415</td>\n",
       "    </tr>\n",
       "  </tbody>\n",
       "</table>\n",
       "</div>"
      ],
      "text/plain": [
       "   rank x_class        date start_time maximum_time end_time  region\n",
       "0     1    X28+  2003/11/04      19:29        19:53    20:06     486\n",
       "1     2    X20+  2001/04/02      21:32        21:51    22:03    9393\n",
       "2     3  X17.2+  2003/10/28      09:51        11:10    11:24     486\n",
       "3     4    X17+  2005/09/07      17:17        17:40    18:03     808\n",
       "4     5   X14.4  2001/04/15      13:19        13:50    13:55    9415"
      ]
     },
     "execution_count": 10,
     "metadata": {},
     "output_type": "execute_result"
    }
   ],
   "source": [
    "solfla_df = solfla_df[[\"rank\", \"x_class\", \"date\", \"start_time\", \"maximum_time\", \"end_time\",\"region\"]]\n",
    "solfla_df.head()"
   ]
  },
  {
   "cell_type": "code",
   "execution_count": 11,
   "id": "71cf6493",
   "metadata": {
    "id": "71cf6493"
   },
   "outputs": [],
   "source": [
    "import datetime"
   ]
  },
  {
   "cell_type": "code",
   "execution_count": 12,
   "id": "c7191a79",
   "metadata": {
    "colab": {
     "base_uri": "https://localhost:8080/"
    },
    "id": "c7191a79",
    "outputId": "5b4ad8e5-7baf-433f-cf49-762bd9a6db79"
   },
   "outputs": [
    {
     "name": "stderr",
     "output_type": "stream",
     "text": [
      "/opt/conda/lib/python3.9/site-packages/pandas/core/indexing.py:1773: SettingWithCopyWarning: \n",
      "A value is trying to be set on a copy of a slice from a DataFrame.\n",
      "Try using .loc[row_indexer,col_indexer] = value instead\n",
      "\n",
      "See the caveats in the documentation: https://pandas.pydata.org/pandas-docs/stable/user_guide/indexing.html#returning-a-view-versus-a-copy\n",
      "  self._setitem_single_column(ilocs[0], value, pi)\n"
     ]
    }
   ],
   "source": [
    "\n",
    "solfla_df.loc[:,\"start_time\"] = pd.to_datetime(solfla_df.loc[:,\"date\"] + \" \" + solfla_df.loc[:,\"start_time\"])\n",
    "solfla_df.loc[:,\"maximum_time\"] = pd.to_datetime(solfla_df.loc[:,\"date\"] + \" \" + solfla_df.loc[:,\"maximum_time\"])\n",
    "solfla_df.loc[:,\"end_time\"] = pd.to_datetime(solfla_df.loc[:,\"date\"] + \" \" + solfla_df.loc[:,\"end_time\"])\n"
   ]
  },
  {
   "cell_type": "code",
   "execution_count": 13,
   "id": "XvGf14bUURvB",
   "metadata": {
    "colab": {
     "base_uri": "https://localhost:8080/",
     "height": 374
    },
    "id": "XvGf14bUURvB",
    "outputId": "cfa05ade-b4f0-411b-ae0a-dcce78bfabb5"
   },
   "outputs": [
    {
     "name": "stderr",
     "output_type": "stream",
     "text": [
      "/opt/conda/lib/python3.9/site-packages/pandas/core/frame.py:4906: SettingWithCopyWarning: \n",
      "A value is trying to be set on a copy of a slice from a DataFrame\n",
      "\n",
      "See the caveats in the documentation: https://pandas.pydata.org/pandas-docs/stable/user_guide/indexing.html#returning-a-view-versus-a-copy\n",
      "  return super().drop(\n",
      "/opt/conda/lib/python3.9/site-packages/pandas/core/frame.py:5039: SettingWithCopyWarning: \n",
      "A value is trying to be set on a copy of a slice from a DataFrame\n",
      "\n",
      "See the caveats in the documentation: https://pandas.pydata.org/pandas-docs/stable/user_guide/indexing.html#returning-a-view-versus-a-copy\n",
      "  return super().rename(\n"
     ]
    },
    {
     "data": {
      "text/html": [
       "<div>\n",
       "<style scoped>\n",
       "    .dataframe tbody tr th:only-of-type {\n",
       "        vertical-align: middle;\n",
       "    }\n",
       "\n",
       "    .dataframe tbody tr th {\n",
       "        vertical-align: top;\n",
       "    }\n",
       "\n",
       "    .dataframe thead th {\n",
       "        text-align: right;\n",
       "    }\n",
       "</style>\n",
       "<table border=\"1\" class=\"dataframe\">\n",
       "  <thead>\n",
       "    <tr style=\"text-align: right;\">\n",
       "      <th></th>\n",
       "      <th>rank</th>\n",
       "      <th>x_class</th>\n",
       "      <th>start_datetime</th>\n",
       "      <th>maximum_datetime</th>\n",
       "      <th>end_datetime</th>\n",
       "      <th>region</th>\n",
       "    </tr>\n",
       "  </thead>\n",
       "  <tbody>\n",
       "    <tr>\n",
       "      <th>0</th>\n",
       "      <td>1</td>\n",
       "      <td>X28+</td>\n",
       "      <td>2003-11-04 19:29:00</td>\n",
       "      <td>2003-11-04 19:53:00</td>\n",
       "      <td>2003-11-04 20:06:00</td>\n",
       "      <td>486</td>\n",
       "    </tr>\n",
       "    <tr>\n",
       "      <th>1</th>\n",
       "      <td>2</td>\n",
       "      <td>X20+</td>\n",
       "      <td>2001-04-02 21:32:00</td>\n",
       "      <td>2001-04-02 21:51:00</td>\n",
       "      <td>2001-04-02 22:03:00</td>\n",
       "      <td>9393</td>\n",
       "    </tr>\n",
       "    <tr>\n",
       "      <th>2</th>\n",
       "      <td>3</td>\n",
       "      <td>X17.2+</td>\n",
       "      <td>2003-10-28 09:51:00</td>\n",
       "      <td>2003-10-28 11:10:00</td>\n",
       "      <td>2003-10-28 11:24:00</td>\n",
       "      <td>486</td>\n",
       "    </tr>\n",
       "    <tr>\n",
       "      <th>3</th>\n",
       "      <td>4</td>\n",
       "      <td>X17+</td>\n",
       "      <td>2005-09-07 17:17:00</td>\n",
       "      <td>2005-09-07 17:40:00</td>\n",
       "      <td>2005-09-07 18:03:00</td>\n",
       "      <td>808</td>\n",
       "    </tr>\n",
       "    <tr>\n",
       "      <th>4</th>\n",
       "      <td>5</td>\n",
       "      <td>X14.4</td>\n",
       "      <td>2001-04-15 13:19:00</td>\n",
       "      <td>2001-04-15 13:50:00</td>\n",
       "      <td>2001-04-15 13:55:00</td>\n",
       "      <td>9415</td>\n",
       "    </tr>\n",
       "  </tbody>\n",
       "</table>\n",
       "</div>"
      ],
      "text/plain": [
       "   rank x_class      start_datetime    maximum_datetime        end_datetime  \\\n",
       "0     1    X28+ 2003-11-04 19:29:00 2003-11-04 19:53:00 2003-11-04 20:06:00   \n",
       "1     2    X20+ 2001-04-02 21:32:00 2001-04-02 21:51:00 2001-04-02 22:03:00   \n",
       "2     3  X17.2+ 2003-10-28 09:51:00 2003-10-28 11:10:00 2003-10-28 11:24:00   \n",
       "3     4    X17+ 2005-09-07 17:17:00 2005-09-07 17:40:00 2005-09-07 18:03:00   \n",
       "4     5   X14.4 2001-04-15 13:19:00 2001-04-15 13:50:00 2001-04-15 13:55:00   \n",
       "\n",
       "   region  \n",
       "0     486  \n",
       "1    9393  \n",
       "2     486  \n",
       "3     808  \n",
       "4    9415  "
      ]
     },
     "execution_count": 13,
     "metadata": {},
     "output_type": "execute_result"
    }
   ],
   "source": [
    "solfla_df.drop(columns=\"date\",inplace=True) #drop date table\n",
    "solfla_df.rename(columns={\"start_time\":\"start_datetime\", \"end_time\":\"end_datetime\",\"maximum_time\":\"maximum_datetime\"},inplace=True)\n",
    "solfla_df.head()"
   ]
  },
  {
   "cell_type": "code",
   "execution_count": 14,
   "id": "pvbB25aoAO4e",
   "metadata": {
    "colab": {
     "base_uri": "https://localhost:8080/"
    },
    "id": "pvbB25aoAO4e",
    "outputId": "1ff9259b-aff6-49f4-8ea2-53d5c08034e9"
   },
   "outputs": [
    {
     "name": "stderr",
     "output_type": "stream",
     "text": [
      "/tmp/ipykernel_65/2216264708.py:11: SettingWithCopyWarning: \n",
      "A value is trying to be set on a copy of a slice from a DataFrame.\n",
      "Try using .loc[row_indexer,col_indexer] = value instead\n",
      "\n",
      "See the caveats in the documentation: https://pandas.pydata.org/pandas-docs/stable/user_guide/indexing.html#returning-a-view-versus-a-copy\n",
      "  solfla_df[\"x_class\"] = solfla_df[\"x_class\"].apply(remove_plus)\n",
      "/tmp/ipykernel_65/2216264708.py:12: SettingWithCopyWarning: \n",
      "A value is trying to be set on a copy of a slice from a DataFrame.\n",
      "Try using .loc[row_indexer,col_indexer] = value instead\n",
      "\n",
      "See the caveats in the documentation: https://pandas.pydata.org/pandas-docs/stable/user_guide/indexing.html#returning-a-view-versus-a-copy\n",
      "  solfla_df[\"x_class\"] = solfla_df[\"x_class\"].apply(make_float)\n"
     ]
    }
   ],
   "source": [
    "def remove_plus(string):\n",
    "  return re.sub(\"\\+\", \"\", string,1)\n",
    "\n",
    "def make_float(string): #make all number values in rating into floats to make searching easier later\n",
    "  rating = string[0]\n",
    "  string = string[1:]\n",
    "  new_float = float(string)\n",
    "  return rating + str(new_float)\n",
    "\n",
    "  \n",
    "solfla_df[\"x_class\"] = solfla_df[\"x_class\"].apply(remove_plus)\n",
    "solfla_df[\"x_class\"] = solfla_df[\"x_class\"].apply(make_float)\n",
    "\n"
   ]
  },
  {
   "cell_type": "code",
   "execution_count": 15,
   "id": "S3XrDAE1DApe",
   "metadata": {
    "colab": {
     "base_uri": "https://localhost:8080/"
    },
    "id": "S3XrDAE1DApe",
    "outputId": "a4dfa3aa-e633-4e07-e152-8bb983c1b564"
   },
   "outputs": [
    {
     "data": {
      "text/plain": [
       "rank                         int64\n",
       "x_class                     object\n",
       "start_datetime      datetime64[ns]\n",
       "maximum_datetime    datetime64[ns]\n",
       "end_datetime        datetime64[ns]\n",
       "region                       int64\n",
       "dtype: object"
      ]
     },
     "execution_count": 15,
     "metadata": {},
     "output_type": "execute_result"
    }
   ],
   "source": [
    "solfla_df.dtypes"
   ]
  },
  {
   "cell_type": "markdown",
   "id": "6a17aa9e",
   "metadata": {
    "id": "6a17aa9e"
   },
   "source": [
    "___\n",
    "## Step 3 - Scrape the NASA Data"
   ]
  },
  {
   "cell_type": "code",
   "execution_count": 16,
   "id": "b822f064",
   "metadata": {
    "colab": {
     "base_uri": "https://localhost:8080/"
    },
    "id": "b822f064",
    "outputId": "437b67c2-38c4-477f-95c7-740e2ebab05e"
   },
   "outputs": [
    {
     "data": {
      "text/plain": [
       "200"
      ]
     },
     "execution_count": 16,
     "metadata": {},
     "output_type": "execute_result"
    }
   ],
   "source": [
    "headers = {'User-Agent': 'Mozilla/5.0 (Macintosh; Intel Mac OS X 10_10_1) AppleWebKit/537.36 (KHTML, like Gecko) Chrome/39.0.2171.95 Safari/537.36'}\n",
    "r = requests.get(\"https://cdaw.gsfc.nasa.gov/CME_list/radio/waves_type2.html\",timeout=10,headers=headers)\n",
    "r.status_code"
   ]
  },
  {
   "cell_type": "code",
   "execution_count": 17,
   "id": "931db0b8",
   "metadata": {
    "id": "931db0b8"
   },
   "outputs": [],
   "source": [
    "text_response = r.content #https://stackoverflow.com/questions/52389692/beautifulsoup-and-prettify-function\n",
    "soup = BeautifulSoup(text_response,\"html.parser\")\n",
    "table = soup.get_text()\n",
    "split_table = table.splitlines()\n",
    "split_table = split_table[15:]\n",
    "split_table = split_table[0:len(split_table)-2] #clean up table by removing top and bottom portion\n"
   ]
  },
  {
   "cell_type": "code",
   "execution_count": 18,
   "id": "d3wsGYmZiblQ",
   "metadata": {
    "id": "d3wsGYmZiblQ"
   },
   "outputs": [],
   "source": [
    "nasa_df = pd.DataFrame( #create empty DF \n",
    "    columns = [\"start_date\",\"start_time\",\"end_date\",\"end_time\",\"start_freq\",\"end_freq\",\"location\",\"region\",\"xray_importance\",\"cme_date\",\"cme_time\",\"central_pos_angle\",\"cpa_width\",\"cme_speed\",\"PHTX\" ]\n",
    "    )\n",
    "for i,v in enumerate(split_table): \n",
    "  row_vals = re.findall(r\"\\S+\",v)\n",
    "  nasa_df.loc[i] = row_vals[0:15] #assign values for each row from list after splitting string into a list var, also drop 16th entry because sometimes it is useless notation"
   ]
  },
  {
   "cell_type": "code",
   "execution_count": 19,
   "id": "7EeUuRqnWbq0",
   "metadata": {
    "id": "7EeUuRqnWbq0"
   },
   "outputs": [],
   "source": [
    "nasa_df.drop(columns=[\"PHTX\"],inplace=True) #drop links column"
   ]
  },
  {
   "cell_type": "code",
   "execution_count": 20,
   "id": "aRap_PrKYZ_A",
   "metadata": {
    "colab": {
     "base_uri": "https://localhost:8080/",
     "height": 204
    },
    "id": "aRap_PrKYZ_A",
    "outputId": "aedf5619-6b07-460d-8b29-0bea0f40ab70"
   },
   "outputs": [
    {
     "data": {
      "text/html": [
       "<div>\n",
       "<style scoped>\n",
       "    .dataframe tbody tr th:only-of-type {\n",
       "        vertical-align: middle;\n",
       "    }\n",
       "\n",
       "    .dataframe tbody tr th {\n",
       "        vertical-align: top;\n",
       "    }\n",
       "\n",
       "    .dataframe thead th {\n",
       "        text-align: right;\n",
       "    }\n",
       "</style>\n",
       "<table border=\"1\" class=\"dataframe\">\n",
       "  <thead>\n",
       "    <tr style=\"text-align: right;\">\n",
       "      <th></th>\n",
       "      <th>start_date</th>\n",
       "      <th>start_time</th>\n",
       "      <th>end_date</th>\n",
       "      <th>end_time</th>\n",
       "      <th>start_freq</th>\n",
       "      <th>end_freq</th>\n",
       "      <th>location</th>\n",
       "      <th>region</th>\n",
       "      <th>xray_importance</th>\n",
       "      <th>cme_date</th>\n",
       "      <th>cme_time</th>\n",
       "      <th>central_pos_angle</th>\n",
       "      <th>cpa_width</th>\n",
       "      <th>cme_speed</th>\n",
       "    </tr>\n",
       "  </thead>\n",
       "  <tbody>\n",
       "    <tr>\n",
       "      <th>0</th>\n",
       "      <td>1997/04/01</td>\n",
       "      <td>14:00</td>\n",
       "      <td>04/01</td>\n",
       "      <td>14:15</td>\n",
       "      <td>8000</td>\n",
       "      <td>4000</td>\n",
       "      <td>S25E16</td>\n",
       "      <td>8026</td>\n",
       "      <td>M1.3</td>\n",
       "      <td>04/01</td>\n",
       "      <td>15:18</td>\n",
       "      <td>74</td>\n",
       "      <td>79</td>\n",
       "      <td>312</td>\n",
       "    </tr>\n",
       "    <tr>\n",
       "      <th>1</th>\n",
       "      <td>1997/04/07</td>\n",
       "      <td>14:30</td>\n",
       "      <td>04/07</td>\n",
       "      <td>17:30</td>\n",
       "      <td>11000</td>\n",
       "      <td>1000</td>\n",
       "      <td>S28E19</td>\n",
       "      <td>8027</td>\n",
       "      <td>C6.8</td>\n",
       "      <td>04/07</td>\n",
       "      <td>14:27</td>\n",
       "      <td>Halo</td>\n",
       "      <td>360</td>\n",
       "      <td>878</td>\n",
       "    </tr>\n",
       "    <tr>\n",
       "      <th>2</th>\n",
       "      <td>1997/05/12</td>\n",
       "      <td>05:15</td>\n",
       "      <td>05/14</td>\n",
       "      <td>16:00</td>\n",
       "      <td>12000</td>\n",
       "      <td>80</td>\n",
       "      <td>N21W08</td>\n",
       "      <td>8038</td>\n",
       "      <td>C1.3</td>\n",
       "      <td>05/12</td>\n",
       "      <td>05:30</td>\n",
       "      <td>Halo</td>\n",
       "      <td>360</td>\n",
       "      <td>464</td>\n",
       "    </tr>\n",
       "    <tr>\n",
       "      <th>3</th>\n",
       "      <td>1997/05/21</td>\n",
       "      <td>20:20</td>\n",
       "      <td>05/21</td>\n",
       "      <td>22:00</td>\n",
       "      <td>5000</td>\n",
       "      <td>500</td>\n",
       "      <td>N05W12</td>\n",
       "      <td>8040</td>\n",
       "      <td>M1.3</td>\n",
       "      <td>05/21</td>\n",
       "      <td>21:00</td>\n",
       "      <td>263</td>\n",
       "      <td>165</td>\n",
       "      <td>296</td>\n",
       "    </tr>\n",
       "    <tr>\n",
       "      <th>4</th>\n",
       "      <td>1997/09/23</td>\n",
       "      <td>21:53</td>\n",
       "      <td>09/23</td>\n",
       "      <td>22:16</td>\n",
       "      <td>6000</td>\n",
       "      <td>2000</td>\n",
       "      <td>S29E25</td>\n",
       "      <td>8088</td>\n",
       "      <td>C1.4</td>\n",
       "      <td>09/23</td>\n",
       "      <td>22:02</td>\n",
       "      <td>133</td>\n",
       "      <td>155</td>\n",
       "      <td>712</td>\n",
       "    </tr>\n",
       "  </tbody>\n",
       "</table>\n",
       "</div>"
      ],
      "text/plain": [
       "   start_date start_time end_date end_time start_freq end_freq location  \\\n",
       "0  1997/04/01      14:00    04/01    14:15       8000     4000   S25E16   \n",
       "1  1997/04/07      14:30    04/07    17:30      11000     1000   S28E19   \n",
       "2  1997/05/12      05:15    05/14    16:00      12000       80   N21W08   \n",
       "3  1997/05/21      20:20    05/21    22:00       5000      500   N05W12   \n",
       "4  1997/09/23      21:53    09/23    22:16       6000     2000   S29E25   \n",
       "\n",
       "  region xray_importance cme_date cme_time central_pos_angle cpa_width  \\\n",
       "0   8026            M1.3    04/01    15:18                74        79   \n",
       "1   8027            C6.8    04/07    14:27              Halo       360   \n",
       "2   8038            C1.3    05/12    05:30              Halo       360   \n",
       "3   8040            M1.3    05/21    21:00               263       165   \n",
       "4   8088            C1.4    09/23    22:02               133       155   \n",
       "\n",
       "  cme_speed  \n",
       "0       312  \n",
       "1       878  \n",
       "2       464  \n",
       "3       296  \n",
       "4       712  "
      ]
     },
     "execution_count": 20,
     "metadata": {},
     "output_type": "execute_result"
    }
   ],
   "source": [
    "nasa_df.head()"
   ]
  },
  {
   "cell_type": "markdown",
   "id": "tKW6x7I1ZN4u",
   "metadata": {
    "id": "tKW6x7I1ZN4u"
   },
   "source": [
    "___\n",
    "## Step 4 - Tidy the Nasa Data"
   ]
  },
  {
   "cell_type": "markdown",
   "id": "otC2cwQ1e2sP",
   "metadata": {
    "id": "otC2cwQ1e2sP"
   },
   "source": [
    "**Replace all empty values with NaNs**"
   ]
  },
  {
   "cell_type": "code",
   "execution_count": 21,
   "id": "Ti9X_SNyZTao",
   "metadata": {
    "id": "Ti9X_SNyZTao"
   },
   "outputs": [],
   "source": [
    "nasa_df.region.replace(\"-----\", np.nan,inplace=True)\n",
    "nasa_df.xray_importance.replace(\"----\", np.nan,inplace=True)\n",
    "nasa_df.cme_date.replace(\"--/--\",np.nan, inplace=True)\n",
    "nasa_df.cme_time.replace(\"--:--\",np.nan,inplace=True)\n",
    "nasa_df.central_pos_angle.replace(\"----\", np.nan,inplace=True)\n",
    "nasa_df.cpa_width.replace(\"----\", np.nan,inplace=True)\n",
    "nasa_df.cpa_width.replace(\"---\", np.nan,inplace=True)\n",
    "nasa_df.cpa_width.replace(\"360h\", \"360\",inplace=True)\n",
    "nasa_df.cme_speed.replace(\"----\", np.nan,inplace=True)\n",
    "nasa_df.start_freq.replace(\"????\",np.nan,inplace=True)\n",
    "nasa_df.end_freq.replace(\"????\",np.nan,inplace=True)\n",
    "\n"
   ]
  },
  {
   "cell_type": "markdown",
   "id": "r0QOknyDe6iC",
   "metadata": {
    "id": "r0QOknyDe6iC"
   },
   "source": [
    "**Replace all lower case \"Back\" values with upper case \"BACK\" in location column**"
   ]
  },
  {
   "cell_type": "code",
   "execution_count": 22,
   "id": "-4JokLqXe1kL",
   "metadata": {
    "id": "-4JokLqXe1kL"
   },
   "outputs": [],
   "source": [
    "nasa_df.location.replace(\"Back\",\"BACK\",inplace=True)"
   ]
  },
  {
   "cell_type": "markdown",
   "id": "DZ5Pmt-JfVTj",
   "metadata": {
    "id": "DZ5Pmt-JfVTj"
   },
   "source": [
    "**Replace all DSF values with FILA in region column**"
   ]
  },
  {
   "cell_type": "code",
   "execution_count": 23,
   "id": "qCVqDAdRfbk6",
   "metadata": {
    "id": "qCVqDAdRfbk6"
   },
   "outputs": [],
   "source": [
    "nasa_df.region.replace(\"DSF\",\"FILE\",inplace=True)"
   ]
  },
  {
   "cell_type": "markdown",
   "id": "rWyuC4Gaf19B",
   "metadata": {
    "id": "rWyuC4Gaf19B"
   },
   "source": [
    "**Create column to indicate HALO flare, then turn Halo entries into NaN.**<br/>\n",
    "Halo = 1 <br/>\n",
    "Non-Halo = 0"
   ]
  },
  {
   "cell_type": "code",
   "execution_count": 24,
   "id": "VhZoQD-cf1eE",
   "metadata": {
    "id": "VhZoQD-cf1eE"
   },
   "outputs": [],
   "source": [
    "column_vals = []\n",
    "for index,value in nasa_df[\"central_pos_angle\"].iteritems():\n",
    "  if value == \"Halo\":\n",
    "    column_vals.append(1)\n",
    "  else:\n",
    "    column_vals.append(0)\n",
    "nasa_df[\"is_halo\"] = column_vals"
   ]
  },
  {
   "cell_type": "code",
   "execution_count": 25,
   "id": "okJ4B-4KhlJX",
   "metadata": {
    "id": "okJ4B-4KhlJX"
   },
   "outputs": [],
   "source": [
    "nasa_df.central_pos_angle.replace(\"Halo\", np.nan,inplace=True)"
   ]
  },
  {
   "cell_type": "markdown",
   "id": "aV-p7NLUh8BV",
   "metadata": {
    "id": "aV-p7NLUh8BV"
   },
   "source": [
    "**Indicate which cpa_widths are lower bounds, make a new column with the info, then remove the non-numeric characters**"
   ]
  },
  {
   "cell_type": "code",
   "execution_count": 26,
   "id": "r8DfIgZwh7E2",
   "metadata": {
    "id": "r8DfIgZwh7E2"
   },
   "outputs": [],
   "source": [
    "column_vals = []\n",
    "for index,value in nasa_df[\"cpa_width\"].iteritems():\n",
    "  if pd.isnull(value) == True:\n",
    "    column_vals.append(0)\n",
    "  elif \">\" in value:\n",
    "        column_vals.append(1)\n",
    "  else:\n",
    "    column_vals.append(0)\n",
    "nasa_df[\"lower_bound\"] = column_vals"
   ]
  },
  {
   "cell_type": "code",
   "execution_count": 27,
   "id": "osEaIR5Sh7PA",
   "metadata": {
    "id": "osEaIR5Sh7PA"
   },
   "outputs": [],
   "source": [
    "def remove_sign(str):\n",
    "  if pd.isnull(str) == True:\n",
    "    return str\n",
    "  return re.sub(\">\",\"\",str)\n",
    "\n",
    "nasa_df[\"cpa_width\"] = nasa_df[\"cpa_width\"].apply(remove_sign)"
   ]
  },
  {
   "cell_type": "markdown",
   "id": "ISxtJrddnmKU",
   "metadata": {
    "id": "ISxtJrddnmKU"
   },
   "source": [
    "**Reformat date columns and drop repetitive data**"
   ]
  },
  {
   "cell_type": "code",
   "execution_count": 28,
   "id": "ZFjK6nl7nrZx",
   "metadata": {
    "id": "ZFjK6nl7nrZx"
   },
   "outputs": [],
   "source": [
    "nasa_df.replace(\"24:00\",\"23:59\",inplace=True)"
   ]
  },
  {
   "cell_type": "code",
   "execution_count": 29,
   "id": "y-f8QLAHnre2",
   "metadata": {
    "colab": {
     "base_uri": "https://localhost:8080/"
    },
    "id": "y-f8QLAHnre2",
    "outputId": "caaf11f9-a278-4526-efb3-865e61937eaf"
   },
   "outputs": [
    {
     "name": "stderr",
     "output_type": "stream",
     "text": [
      "/opt/conda/lib/python3.9/site-packages/pandas/core/indexing.py:1732: SettingWithCopyWarning: \n",
      "A value is trying to be set on a copy of a slice from a DataFrame\n",
      "\n",
      "See the caveats in the documentation: https://pandas.pydata.org/pandas-docs/stable/user_guide/indexing.html#returning-a-view-versus-a-copy\n",
      "  self._setitem_single_block(indexer, value, name)\n"
     ]
    }
   ],
   "source": [
    "for index,value in nasa_df[\"end_date\"].iteritems():\n",
    "  year = nasa_df.start_date.loc[index][0:4]\n",
    "  nasa_df[\"end_date\"].loc[index] = pd.to_datetime(year + \"/\" + nasa_df[\"end_date\"].loc[index] + \" \" + nasa_df[\"end_time\"].loc[index])\n",
    "\n",
    "for index,value in nasa_df[\"cme_date\"].iteritems():\n",
    "  year = nasa_df.start_date.loc[index][0:4]\n",
    "  if pd.isnull(nasa_df[\"cme_date\"].loc[index]):\n",
    "    pass\n",
    "  else:\n",
    "    nasa_df[\"cme_date\"].loc[index] = pd.to_datetime(year + \"/\" + nasa_df[\"cme_date\"].loc[index] + \" \" + nasa_df[\"cme_time\"].loc[index])\n",
    "\n",
    "nasa_df.loc[:,\"start_date\"] = pd.to_datetime(nasa_df.loc[:,\"start_date\"] + \" \" + nasa_df.loc[:,\"start_time\"])\n",
    "nasa_df.loc[:,\"end_date\"] = pd.to_datetime(nasa_df.loc[:,\"end_date\"])\n",
    "nasa_df.loc[:,\"cme_date\"] = pd.to_datetime(nasa_df.loc[:,\"cme_date\"])\n"
   ]
  },
  {
   "cell_type": "code",
   "execution_count": 30,
   "id": "oIaBLrIh6oVu",
   "metadata": {
    "id": "oIaBLrIh6oVu"
   },
   "outputs": [],
   "source": [
    "nasa_df.rename(columns={\"start_date\":\"start_datetime\", \"end_date\":\"end_datetime\",\"cme_date\":\"cme_datetime\"},inplace=True) #rename columns"
   ]
  },
  {
   "cell_type": "code",
   "execution_count": 31,
   "id": "qpvykU7UabYj",
   "metadata": {
    "id": "qpvykU7UabYj"
   },
   "outputs": [],
   "source": [
    "nasa_df.drop(columns=[\"start_time\",\"end_time\",\"cme_time\"],inplace=True) #drop unnessecary values"
   ]
  },
  {
   "cell_type": "code",
   "execution_count": 32,
   "id": "zSptAZAhADH0",
   "metadata": {
    "id": "zSptAZAhADH0"
   },
   "outputs": [],
   "source": [
    "nasa_df.start_freq = nasa_df.start_freq.astype('float') #change all str types to float\n",
    "nasa_df.end_freq = nasa_df.end_freq.astype('float')\n",
    "nasa_df.central_pos_angle = nasa_df.central_pos_angle.astype('float')\n",
    "nasa_df.cme_speed = nasa_df.cme_speed.astype('float')\n",
    "nasa_df.cpa_width = nasa_df.cpa_width.astype('float')"
   ]
  },
  {
   "cell_type": "markdown",
   "id": "y55F4UzHHpb1",
   "metadata": {
    "id": "y55F4UzHHpb1"
   },
   "source": [
    "**Adjust xray_importance column to have 0 after \".\" value for easier searching later**"
   ]
  },
  {
   "cell_type": "code",
   "execution_count": 33,
   "id": "7hQUjqX4dxHo",
   "metadata": {
    "colab": {
     "base_uri": "https://localhost:8080/"
    },
    "id": "7hQUjqX4dxHo",
    "outputId": "6726f940-f0a0-43a4-e3f4-eac78756c368"
   },
   "outputs": [
    {
     "data": {
      "text/plain": [
       "start_datetime       datetime64[ns]\n",
       "end_datetime         datetime64[ns]\n",
       "start_freq                  float64\n",
       "end_freq                    float64\n",
       "location                     object\n",
       "region                       object\n",
       "xray_importance              object\n",
       "cme_datetime         datetime64[ns]\n",
       "central_pos_angle           float64\n",
       "cpa_width                   float64\n",
       "cme_speed                   float64\n",
       "is_halo                       int64\n",
       "lower_bound                   int64\n",
       "dtype: object"
      ]
     },
     "execution_count": 33,
     "metadata": {},
     "output_type": "execute_result"
    }
   ],
   "source": [
    "nasa_df.dtypes"
   ]
  },
  {
   "cell_type": "code",
   "execution_count": 34,
   "id": "rg1PlIXl53Rf",
   "metadata": {
    "colab": {
     "base_uri": "https://localhost:8080/",
     "height": 289
    },
    "id": "rg1PlIXl53Rf",
    "outputId": "6635dfab-fdd1-43e8-c004-f7112c7ad377"
   },
   "outputs": [
    {
     "data": {
      "text/html": [
       "<div>\n",
       "<style scoped>\n",
       "    .dataframe tbody tr th:only-of-type {\n",
       "        vertical-align: middle;\n",
       "    }\n",
       "\n",
       "    .dataframe tbody tr th {\n",
       "        vertical-align: top;\n",
       "    }\n",
       "\n",
       "    .dataframe thead th {\n",
       "        text-align: right;\n",
       "    }\n",
       "</style>\n",
       "<table border=\"1\" class=\"dataframe\">\n",
       "  <thead>\n",
       "    <tr style=\"text-align: right;\">\n",
       "      <th></th>\n",
       "      <th>start_datetime</th>\n",
       "      <th>end_datetime</th>\n",
       "      <th>start_freq</th>\n",
       "      <th>end_freq</th>\n",
       "      <th>location</th>\n",
       "      <th>region</th>\n",
       "      <th>xray_importance</th>\n",
       "      <th>cme_datetime</th>\n",
       "      <th>central_pos_angle</th>\n",
       "      <th>cpa_width</th>\n",
       "      <th>cme_speed</th>\n",
       "      <th>is_halo</th>\n",
       "      <th>lower_bound</th>\n",
       "    </tr>\n",
       "  </thead>\n",
       "  <tbody>\n",
       "    <tr>\n",
       "      <th>0</th>\n",
       "      <td>1997-04-01 14:00:00</td>\n",
       "      <td>1997-04-01 14:15:00</td>\n",
       "      <td>8000.0</td>\n",
       "      <td>4000.0</td>\n",
       "      <td>S25E16</td>\n",
       "      <td>8026</td>\n",
       "      <td>M1.3</td>\n",
       "      <td>1997-04-01 15:18:00</td>\n",
       "      <td>74.0</td>\n",
       "      <td>79.0</td>\n",
       "      <td>312.0</td>\n",
       "      <td>0</td>\n",
       "      <td>0</td>\n",
       "    </tr>\n",
       "    <tr>\n",
       "      <th>1</th>\n",
       "      <td>1997-04-07 14:30:00</td>\n",
       "      <td>1997-04-07 17:30:00</td>\n",
       "      <td>11000.0</td>\n",
       "      <td>1000.0</td>\n",
       "      <td>S28E19</td>\n",
       "      <td>8027</td>\n",
       "      <td>C6.8</td>\n",
       "      <td>1997-04-07 14:27:00</td>\n",
       "      <td>NaN</td>\n",
       "      <td>360.0</td>\n",
       "      <td>878.0</td>\n",
       "      <td>1</td>\n",
       "      <td>0</td>\n",
       "    </tr>\n",
       "    <tr>\n",
       "      <th>2</th>\n",
       "      <td>1997-05-12 05:15:00</td>\n",
       "      <td>1997-05-14 16:00:00</td>\n",
       "      <td>12000.0</td>\n",
       "      <td>80.0</td>\n",
       "      <td>N21W08</td>\n",
       "      <td>8038</td>\n",
       "      <td>C1.3</td>\n",
       "      <td>1997-05-12 05:30:00</td>\n",
       "      <td>NaN</td>\n",
       "      <td>360.0</td>\n",
       "      <td>464.0</td>\n",
       "      <td>1</td>\n",
       "      <td>0</td>\n",
       "    </tr>\n",
       "    <tr>\n",
       "      <th>3</th>\n",
       "      <td>1997-05-21 20:20:00</td>\n",
       "      <td>1997-05-21 22:00:00</td>\n",
       "      <td>5000.0</td>\n",
       "      <td>500.0</td>\n",
       "      <td>N05W12</td>\n",
       "      <td>8040</td>\n",
       "      <td>M1.3</td>\n",
       "      <td>1997-05-21 21:00:00</td>\n",
       "      <td>263.0</td>\n",
       "      <td>165.0</td>\n",
       "      <td>296.0</td>\n",
       "      <td>0</td>\n",
       "      <td>0</td>\n",
       "    </tr>\n",
       "    <tr>\n",
       "      <th>4</th>\n",
       "      <td>1997-09-23 21:53:00</td>\n",
       "      <td>1997-09-23 22:16:00</td>\n",
       "      <td>6000.0</td>\n",
       "      <td>2000.0</td>\n",
       "      <td>S29E25</td>\n",
       "      <td>8088</td>\n",
       "      <td>C1.4</td>\n",
       "      <td>1997-09-23 22:02:00</td>\n",
       "      <td>133.0</td>\n",
       "      <td>155.0</td>\n",
       "      <td>712.0</td>\n",
       "      <td>0</td>\n",
       "      <td>0</td>\n",
       "    </tr>\n",
       "  </tbody>\n",
       "</table>\n",
       "</div>"
      ],
      "text/plain": [
       "       start_datetime        end_datetime  start_freq  end_freq location  \\\n",
       "0 1997-04-01 14:00:00 1997-04-01 14:15:00      8000.0    4000.0   S25E16   \n",
       "1 1997-04-07 14:30:00 1997-04-07 17:30:00     11000.0    1000.0   S28E19   \n",
       "2 1997-05-12 05:15:00 1997-05-14 16:00:00     12000.0      80.0   N21W08   \n",
       "3 1997-05-21 20:20:00 1997-05-21 22:00:00      5000.0     500.0   N05W12   \n",
       "4 1997-09-23 21:53:00 1997-09-23 22:16:00      6000.0    2000.0   S29E25   \n",
       "\n",
       "  region xray_importance        cme_datetime  central_pos_angle  cpa_width  \\\n",
       "0   8026            M1.3 1997-04-01 15:18:00               74.0       79.0   \n",
       "1   8027            C6.8 1997-04-07 14:27:00                NaN      360.0   \n",
       "2   8038            C1.3 1997-05-12 05:30:00                NaN      360.0   \n",
       "3   8040            M1.3 1997-05-21 21:00:00              263.0      165.0   \n",
       "4   8088            C1.4 1997-09-23 22:02:00              133.0      155.0   \n",
       "\n",
       "   cme_speed  is_halo  lower_bound  \n",
       "0      312.0        0            0  \n",
       "1      878.0        1            0  \n",
       "2      464.0        1            0  \n",
       "3      296.0        0            0  \n",
       "4      712.0        0            0  "
      ]
     },
     "execution_count": 34,
     "metadata": {},
     "output_type": "execute_result"
    }
   ],
   "source": [
    "nasa_df.head()"
   ]
  },
  {
   "cell_type": "markdown",
   "id": "NRnlgschuBtq",
   "metadata": {
    "id": "NRnlgschuBtq"
   },
   "source": [
    "___\n",
    "## Part 2 - Analysis\n"
   ]
  },
  {
   "cell_type": "markdown",
   "id": "KChdro6wvFeN",
   "metadata": {
    "id": "KChdro6wvFeN"
   },
   "source": [
    "###Question 1: Replication\n",
    "Can you replicate the top 50 solar flare table in SpaceWeatherLive.com exactly using the data obtained from NASA? That is, if you get the top 50 solar flares from the NASA table based on their classification (e.g., X28 is the highest), do you get data for the same solar flare events?\n",
    "\n",
    "Include code used to get the top 50 solar flares from the NASA table (be careful when ordering by classification, remember x is the highest!). Write a sentence or two discussing how well you can replicate the SpaceWeatherLive data from the NASA data."
   ]
  },
  {
   "cell_type": "code",
   "execution_count": 35,
   "id": "05c_FAEAvEDR",
   "metadata": {
    "colab": {
     "base_uri": "https://localhost:8080/",
     "height": 581
    },
    "id": "05c_FAEAvEDR",
    "outputId": "56de968c-a9fe-4494-ccb9-d26964234555"
   },
   "outputs": [
    {
     "data": {
      "text/html": [
       "<div>\n",
       "<style scoped>\n",
       "    .dataframe tbody tr th:only-of-type {\n",
       "        vertical-align: middle;\n",
       "    }\n",
       "\n",
       "    .dataframe tbody tr th {\n",
       "        vertical-align: top;\n",
       "    }\n",
       "\n",
       "    .dataframe thead th {\n",
       "        text-align: right;\n",
       "    }\n",
       "</style>\n",
       "<table border=\"1\" class=\"dataframe\">\n",
       "  <thead>\n",
       "    <tr style=\"text-align: right;\">\n",
       "      <th></th>\n",
       "      <th>start_datetime</th>\n",
       "      <th>end_datetime</th>\n",
       "      <th>start_freq</th>\n",
       "      <th>end_freq</th>\n",
       "      <th>location</th>\n",
       "      <th>region</th>\n",
       "      <th>xray_importance</th>\n",
       "      <th>cme_datetime</th>\n",
       "      <th>central_pos_angle</th>\n",
       "      <th>cpa_width</th>\n",
       "      <th>cme_speed</th>\n",
       "      <th>is_halo</th>\n",
       "      <th>lower_bound</th>\n",
       "    </tr>\n",
       "  </thead>\n",
       "  <tbody>\n",
       "    <tr>\n",
       "      <th>0</th>\n",
       "      <td>1997-04-01 14:00:00</td>\n",
       "      <td>1997-04-01 14:15:00</td>\n",
       "      <td>8000.0</td>\n",
       "      <td>4000.0</td>\n",
       "      <td>S25E16</td>\n",
       "      <td>8026</td>\n",
       "      <td>M1.3</td>\n",
       "      <td>1997-04-01 15:18:00</td>\n",
       "      <td>74.0</td>\n",
       "      <td>79.0</td>\n",
       "      <td>312.0</td>\n",
       "      <td>0</td>\n",
       "      <td>0</td>\n",
       "    </tr>\n",
       "    <tr>\n",
       "      <th>1</th>\n",
       "      <td>1997-04-07 14:30:00</td>\n",
       "      <td>1997-04-07 17:30:00</td>\n",
       "      <td>11000.0</td>\n",
       "      <td>1000.0</td>\n",
       "      <td>S28E19</td>\n",
       "      <td>8027</td>\n",
       "      <td>C6.8</td>\n",
       "      <td>1997-04-07 14:27:00</td>\n",
       "      <td>NaN</td>\n",
       "      <td>360.0</td>\n",
       "      <td>878.0</td>\n",
       "      <td>1</td>\n",
       "      <td>0</td>\n",
       "    </tr>\n",
       "    <tr>\n",
       "      <th>2</th>\n",
       "      <td>1997-05-12 05:15:00</td>\n",
       "      <td>1997-05-14 16:00:00</td>\n",
       "      <td>12000.0</td>\n",
       "      <td>80.0</td>\n",
       "      <td>N21W08</td>\n",
       "      <td>8038</td>\n",
       "      <td>C1.3</td>\n",
       "      <td>1997-05-12 05:30:00</td>\n",
       "      <td>NaN</td>\n",
       "      <td>360.0</td>\n",
       "      <td>464.0</td>\n",
       "      <td>1</td>\n",
       "      <td>0</td>\n",
       "    </tr>\n",
       "    <tr>\n",
       "      <th>3</th>\n",
       "      <td>1997-05-21 20:20:00</td>\n",
       "      <td>1997-05-21 22:00:00</td>\n",
       "      <td>5000.0</td>\n",
       "      <td>500.0</td>\n",
       "      <td>N05W12</td>\n",
       "      <td>8040</td>\n",
       "      <td>M1.3</td>\n",
       "      <td>1997-05-21 21:00:00</td>\n",
       "      <td>263.0</td>\n",
       "      <td>165.0</td>\n",
       "      <td>296.0</td>\n",
       "      <td>0</td>\n",
       "      <td>0</td>\n",
       "    </tr>\n",
       "    <tr>\n",
       "      <th>4</th>\n",
       "      <td>1997-09-23 21:53:00</td>\n",
       "      <td>1997-09-23 22:16:00</td>\n",
       "      <td>6000.0</td>\n",
       "      <td>2000.0</td>\n",
       "      <td>S29E25</td>\n",
       "      <td>8088</td>\n",
       "      <td>C1.4</td>\n",
       "      <td>1997-09-23 22:02:00</td>\n",
       "      <td>133.0</td>\n",
       "      <td>155.0</td>\n",
       "      <td>712.0</td>\n",
       "      <td>0</td>\n",
       "      <td>0</td>\n",
       "    </tr>\n",
       "  </tbody>\n",
       "</table>\n",
       "</div>"
      ],
      "text/plain": [
       "       start_datetime        end_datetime  start_freq  end_freq location  \\\n",
       "0 1997-04-01 14:00:00 1997-04-01 14:15:00      8000.0    4000.0   S25E16   \n",
       "1 1997-04-07 14:30:00 1997-04-07 17:30:00     11000.0    1000.0   S28E19   \n",
       "2 1997-05-12 05:15:00 1997-05-14 16:00:00     12000.0      80.0   N21W08   \n",
       "3 1997-05-21 20:20:00 1997-05-21 22:00:00      5000.0     500.0   N05W12   \n",
       "4 1997-09-23 21:53:00 1997-09-23 22:16:00      6000.0    2000.0   S29E25   \n",
       "\n",
       "  region xray_importance        cme_datetime  central_pos_angle  cpa_width  \\\n",
       "0   8026            M1.3 1997-04-01 15:18:00               74.0       79.0   \n",
       "1   8027            C6.8 1997-04-07 14:27:00                NaN      360.0   \n",
       "2   8038            C1.3 1997-05-12 05:30:00                NaN      360.0   \n",
       "3   8040            M1.3 1997-05-21 21:00:00              263.0      165.0   \n",
       "4   8088            C1.4 1997-09-23 22:02:00              133.0      155.0   \n",
       "\n",
       "   cme_speed  is_halo  lower_bound  \n",
       "0      312.0        0            0  \n",
       "1      878.0        1            0  \n",
       "2      464.0        1            0  \n",
       "3      296.0        0            0  \n",
       "4      712.0        0            0  "
      ]
     },
     "metadata": {},
     "output_type": "display_data"
    },
    {
     "data": {
      "text/html": [
       "<div>\n",
       "<style scoped>\n",
       "    .dataframe tbody tr th:only-of-type {\n",
       "        vertical-align: middle;\n",
       "    }\n",
       "\n",
       "    .dataframe tbody tr th {\n",
       "        vertical-align: top;\n",
       "    }\n",
       "\n",
       "    .dataframe thead th {\n",
       "        text-align: right;\n",
       "    }\n",
       "</style>\n",
       "<table border=\"1\" class=\"dataframe\">\n",
       "  <thead>\n",
       "    <tr style=\"text-align: right;\">\n",
       "      <th></th>\n",
       "      <th>rank</th>\n",
       "      <th>x_class</th>\n",
       "      <th>start_datetime</th>\n",
       "      <th>maximum_datetime</th>\n",
       "      <th>end_datetime</th>\n",
       "      <th>region</th>\n",
       "    </tr>\n",
       "  </thead>\n",
       "  <tbody>\n",
       "    <tr>\n",
       "      <th>0</th>\n",
       "      <td>1</td>\n",
       "      <td>X28.0</td>\n",
       "      <td>2003-11-04 19:29:00</td>\n",
       "      <td>2003-11-04 19:53:00</td>\n",
       "      <td>2003-11-04 20:06:00</td>\n",
       "      <td>486</td>\n",
       "    </tr>\n",
       "    <tr>\n",
       "      <th>1</th>\n",
       "      <td>2</td>\n",
       "      <td>X20.0</td>\n",
       "      <td>2001-04-02 21:32:00</td>\n",
       "      <td>2001-04-02 21:51:00</td>\n",
       "      <td>2001-04-02 22:03:00</td>\n",
       "      <td>9393</td>\n",
       "    </tr>\n",
       "    <tr>\n",
       "      <th>2</th>\n",
       "      <td>3</td>\n",
       "      <td>X17.2</td>\n",
       "      <td>2003-10-28 09:51:00</td>\n",
       "      <td>2003-10-28 11:10:00</td>\n",
       "      <td>2003-10-28 11:24:00</td>\n",
       "      <td>486</td>\n",
       "    </tr>\n",
       "    <tr>\n",
       "      <th>3</th>\n",
       "      <td>4</td>\n",
       "      <td>X17.0</td>\n",
       "      <td>2005-09-07 17:17:00</td>\n",
       "      <td>2005-09-07 17:40:00</td>\n",
       "      <td>2005-09-07 18:03:00</td>\n",
       "      <td>808</td>\n",
       "    </tr>\n",
       "    <tr>\n",
       "      <th>4</th>\n",
       "      <td>5</td>\n",
       "      <td>X14.4</td>\n",
       "      <td>2001-04-15 13:19:00</td>\n",
       "      <td>2001-04-15 13:50:00</td>\n",
       "      <td>2001-04-15 13:55:00</td>\n",
       "      <td>9415</td>\n",
       "    </tr>\n",
       "  </tbody>\n",
       "</table>\n",
       "</div>"
      ],
      "text/plain": [
       "   rank x_class      start_datetime    maximum_datetime        end_datetime  \\\n",
       "0     1   X28.0 2003-11-04 19:29:00 2003-11-04 19:53:00 2003-11-04 20:06:00   \n",
       "1     2   X20.0 2001-04-02 21:32:00 2001-04-02 21:51:00 2001-04-02 22:03:00   \n",
       "2     3   X17.2 2003-10-28 09:51:00 2003-10-28 11:10:00 2003-10-28 11:24:00   \n",
       "3     4   X17.0 2005-09-07 17:17:00 2005-09-07 17:40:00 2005-09-07 18:03:00   \n",
       "4     5   X14.4 2001-04-15 13:19:00 2001-04-15 13:50:00 2001-04-15 13:55:00   \n",
       "\n",
       "   region  \n",
       "0     486  \n",
       "1    9393  \n",
       "2     486  \n",
       "3     808  \n",
       "4    9415  "
      ]
     },
     "metadata": {},
     "output_type": "display_data"
    }
   ],
   "source": [
    "display(nasa_df.head())\n",
    "display(solfla_df.head())"
   ]
  },
  {
   "cell_type": "markdown",
   "id": "hvsGakrTYM1F",
   "metadata": {
    "id": "hvsGakrTYM1F"
   },
   "source": [
    "**Slightly modify Nasa table for easier searching (add zero after decimal points with no trailing ints i.e. 28. -> 28.0** "
   ]
  },
  {
   "cell_type": "code",
   "execution_count": 36,
   "id": "-1STIDm7YRnT",
   "metadata": {
    "id": "-1STIDm7YRnT"
   },
   "outputs": [],
   "source": [
    "def add_zero(entry):\n",
    "  if (pd.isnull(entry) == True):\n",
    "    return entry\n",
    "  if (entry[len(entry)-1] == \".\"):\n",
    "    return entry + \"0\"\n",
    "  else:\n",
    "    return entry\n",
    "\n",
    "nasa_df[\"xray_importance\"] = nasa_df[\"xray_importance\"].apply(add_zero)"
   ]
  },
  {
   "cell_type": "markdown",
   "id": "F2j-d-Wy89e9",
   "metadata": {
    "id": "F2j-d-Wy89e9"
   },
   "source": [
    "###Sorting values of Nasa Table xray_importance column to replicate Solar Flare DataFrame"
   ]
  },
  {
   "cell_type": "code",
   "execution_count": 37,
   "id": "8b5MtCkE9IsO",
   "metadata": {
    "id": "8b5MtCkE9IsO"
   },
   "outputs": [],
   "source": [
    "class_no_nan = [x for x in nasa_df.xray_importance.sort_values(ascending=False) if pd.isnull(x) == False]\n",
    "class_no_nan = class_no_nan[0:50]\n",
    "\n",
    "def strip_and_sort(lst):\n",
    "  rm_x_lst = []\n",
    "  for value in lst:\n",
    "    rm_x_lst.append(float(value[1:]))\n",
    "  rm_x_lst.sort(reverse=True)\n",
    "  return [(\"X\" + str(flt_val)) for flt_val in rm_x_lst]\n",
    "\n",
    "sorted_flares = strip_and_sort(class_no_nan)"
   ]
  },
  {
   "cell_type": "markdown",
   "id": "VtdVuufdLfza",
   "metadata": {
    "id": "VtdVuufdLfza"
   },
   "source": [
    "**Instantiate replica dataframe**"
   ]
  },
  {
   "cell_type": "code",
   "execution_count": 38,
   "id": "jC96yRDdGhsg",
   "metadata": {
    "id": "jC96yRDdGhsg"
   },
   "outputs": [],
   "source": [
    "imposter_solfla_df = pd.DataFrame(\n",
    "    columns = [\"rank\", \"x_class\",\"start_datetime\", \"end_datetime\",\"region\"]\n",
    ")"
   ]
  },
  {
   "cell_type": "markdown",
   "id": "-84TgX84Lj36",
   "metadata": {
    "id": "-84TgX84Lj36"
   },
   "source": [
    "**Fill replace DF with values from NASA table**"
   ]
  },
  {
   "cell_type": "code",
   "execution_count": 39,
   "id": "WgpDqzC6LnKL",
   "metadata": {
    "id": "WgpDqzC6LnKL"
   },
   "outputs": [],
   "source": [
    "# for index,value in solfla_df.loc[:,[\"x_class\",\"start_datetime\"]].iterrows():\n",
    "#     x_class, start_date = value[0], value[1]\n",
    "#     for nasa_index,nasa_value in nasa_df.loc[:,[\"xray_importance\",\"start_datetime\"]].iterrows():\n",
    "#       if (x_class == nasa_value[0]):\n",
    "#         if (start_date.year == nasa_value[1].year) and (start_date.month == nasa_value[1].month) and (start_date.day == nasa_value[1].day):\n",
    "#           imposter_solfla_df.loc[index] = [index+1, x_class, nasa_df[\"start_datetime\"].loc[nasa_index], nasa_df[\"end_datetime\"].loc[nasa_index], nasa_df[\"region\"].loc[nasa_index]]"
   ]
  },
  {
   "cell_type": "code",
   "execution_count": 40,
   "id": "hOmDZfP7gwxX",
   "metadata": {
    "id": "hOmDZfP7gwxX"
   },
   "outputs": [],
   "source": [
    "for x_class in sorted_flares:\n",
    "  start_date = solfla_df[solfla_df.x_class == x_class].start_datetime\n",
    "  for date in start_date:\n",
    "    for nasa_index,nasa_value in nasa_df.loc[:,[\"xray_importance\",\"start_datetime\"]].iterrows():\n",
    "      if (x_class == nasa_value[0]):\n",
    "        if (date.year == nasa_value[1].year) and (date.month == nasa_value[1].month) and (date.day == nasa_value[1].day):\n",
    "          imposter_solfla_df.loc[index] = [index+1, x_class, nasa_df[\"start_datetime\"].loc[nasa_index], nasa_df[\"end_datetime\"].loc[nasa_index], nasa_df[\"region\"].loc[nasa_index]]\n",
    "\n"
   ]
  },
  {
   "cell_type": "code",
   "execution_count": 41,
   "id": "t9H581OJZvJA",
   "metadata": {
    "colab": {
     "base_uri": "https://localhost:8080/",
     "height": 34
    },
    "id": "t9H581OJZvJA",
    "outputId": "2f0b58ed-8b27-4f6d-8378-a3b182df8058"
   },
   "outputs": [
    {
     "data": {
      "text/plain": [
       "1"
      ]
     },
     "metadata": {},
     "output_type": "display_data"
    }
   ],
   "source": [
    "display(len(imposter_solfla_df)) #FIXME Problem with some entries being skipped, and others being duplicated. Not sure of the issue right now."
   ]
  },
  {
   "cell_type": "markdown",
   "id": "5SHoVQScuYrI",
   "metadata": {
    "id": "5SHoVQScuYrI"
   },
   "source": [
    "**Ans**: No, you cannot exactly replicate the SpaceWeatherLive.com table using the Nasa data. Some of the Nasa data is inconsistent with the Solar Flare data (off by 0.1 for example). Not to mention the fact that Nasa does not have the maximum time data either.\n",
    "___"
   ]
  },
  {
   "cell_type": "code",
   "execution_count": 42,
   "id": "6xaNkzEaYVJI",
   "metadata": {
    "colab": {
     "base_uri": "https://localhost:8080/",
     "height": 80
    },
    "id": "6xaNkzEaYVJI",
    "outputId": "a09ddcef-d541-429e-b02c-f229ab252e80"
   },
   "outputs": [
    {
     "data": {
      "text/html": [
       "<div>\n",
       "<style scoped>\n",
       "    .dataframe tbody tr th:only-of-type {\n",
       "        vertical-align: middle;\n",
       "    }\n",
       "\n",
       "    .dataframe tbody tr th {\n",
       "        vertical-align: top;\n",
       "    }\n",
       "\n",
       "    .dataframe thead th {\n",
       "        text-align: right;\n",
       "    }\n",
       "</style>\n",
       "<table border=\"1\" class=\"dataframe\">\n",
       "  <thead>\n",
       "    <tr style=\"text-align: right;\">\n",
       "      <th></th>\n",
       "      <th>rank</th>\n",
       "      <th>x_class</th>\n",
       "      <th>start_datetime</th>\n",
       "      <th>end_datetime</th>\n",
       "      <th>region</th>\n",
       "    </tr>\n",
       "  </thead>\n",
       "  <tbody>\n",
       "    <tr>\n",
       "      <th>521</th>\n",
       "      <td>522</td>\n",
       "      <td>X2.6</td>\n",
       "      <td>2001-09-24 10:45:00</td>\n",
       "      <td>2001-09-25 20:00:00</td>\n",
       "      <td>9632</td>\n",
       "    </tr>\n",
       "  </tbody>\n",
       "</table>\n",
       "</div>"
      ],
      "text/plain": [
       "    rank x_class      start_datetime        end_datetime region\n",
       "521  522    X2.6 2001-09-24 10:45:00 2001-09-25 20:00:00   9632"
      ]
     },
     "execution_count": 42,
     "metadata": {},
     "output_type": "execute_result"
    }
   ],
   "source": [
    "imposter_solfla_df"
   ]
  },
  {
   "cell_type": "markdown",
   "id": "Dm5ZQxbEvOvm",
   "metadata": {
    "id": "Dm5ZQxbEvOvm"
   },
   "source": [
    "### Question 2 - Ranking\n",
    "Write a function that finds the best matching row in the NASA data for each of the top 50 solar flares in the SpaceWeatherLive data and assigns a rank value to that entry in the NASA table. Here, you have to decide for yourself how you determine what is the best matching entry in the NASA data for each of the top 50 solar flares.\n",
    "\n",
    "Hint: You may want to look at multiple pieces of data before deciding if a flare matches.\n",
    "\n",
    "In your submission, include an explanation of how you are defining best matching rows across the two datasets in addition to the code used to find the best matches.\n",
    "\n",
    "Use your function to add a new column to the NASA dataset indicating its rank according to SpaceWeatherLive, if it appears in that dataset.\n",
    "\n",
    "Hint: You may not end up with all the ranks!\n",
    "\n",
    "At the end of this section display only flares in the NASA table that you could rank."
   ]
  },
  {
   "cell_type": "code",
   "execution_count": 96,
   "id": "rrEPCJxtvQAW",
   "metadata": {
    "id": "rrEPCJxtvQAW"
   },
   "outputs": [
    {
     "data": {
      "text/html": [
       "<div>\n",
       "<style scoped>\n",
       "    .dataframe tbody tr th:only-of-type {\n",
       "        vertical-align: middle;\n",
       "    }\n",
       "\n",
       "    .dataframe tbody tr th {\n",
       "        vertical-align: top;\n",
       "    }\n",
       "\n",
       "    .dataframe thead th {\n",
       "        text-align: right;\n",
       "    }\n",
       "</style>\n",
       "<table border=\"1\" class=\"dataframe\">\n",
       "  <thead>\n",
       "    <tr style=\"text-align: right;\">\n",
       "      <th></th>\n",
       "      <th>start_datetime</th>\n",
       "      <th>end_datetime</th>\n",
       "      <th>start_freq</th>\n",
       "      <th>end_freq</th>\n",
       "      <th>location</th>\n",
       "      <th>region</th>\n",
       "      <th>xray_importance</th>\n",
       "      <th>cme_datetime</th>\n",
       "      <th>central_pos_angle</th>\n",
       "      <th>cpa_width</th>\n",
       "      <th>cme_speed</th>\n",
       "      <th>is_halo</th>\n",
       "      <th>lower_bound</th>\n",
       "      <th>solfla_rank</th>\n",
       "    </tr>\n",
       "  </thead>\n",
       "  <tbody>\n",
       "    <tr>\n",
       "      <th>0</th>\n",
       "      <td>1997-04-01 14:00:00</td>\n",
       "      <td>1997-04-01 14:15:00</td>\n",
       "      <td>8000.0</td>\n",
       "      <td>4000.0</td>\n",
       "      <td>S25E16</td>\n",
       "      <td>8026</td>\n",
       "      <td>M1.3</td>\n",
       "      <td>1997-04-01 15:18:00</td>\n",
       "      <td>74.0</td>\n",
       "      <td>79.0</td>\n",
       "      <td>312.0</td>\n",
       "      <td>0</td>\n",
       "      <td>0</td>\n",
       "      <td>1.0</td>\n",
       "    </tr>\n",
       "    <tr>\n",
       "      <th>1</th>\n",
       "      <td>1997-04-07 14:30:00</td>\n",
       "      <td>1997-04-07 17:30:00</td>\n",
       "      <td>11000.0</td>\n",
       "      <td>1000.0</td>\n",
       "      <td>S28E19</td>\n",
       "      <td>8027</td>\n",
       "      <td>C6.8</td>\n",
       "      <td>1997-04-07 14:27:00</td>\n",
       "      <td>NaN</td>\n",
       "      <td>360.0</td>\n",
       "      <td>878.0</td>\n",
       "      <td>1</td>\n",
       "      <td>0</td>\n",
       "      <td>2.0</td>\n",
       "    </tr>\n",
       "    <tr>\n",
       "      <th>2</th>\n",
       "      <td>1997-05-12 05:15:00</td>\n",
       "      <td>1997-05-14 16:00:00</td>\n",
       "      <td>12000.0</td>\n",
       "      <td>80.0</td>\n",
       "      <td>N21W08</td>\n",
       "      <td>8038</td>\n",
       "      <td>C1.3</td>\n",
       "      <td>1997-05-12 05:30:00</td>\n",
       "      <td>NaN</td>\n",
       "      <td>360.0</td>\n",
       "      <td>464.0</td>\n",
       "      <td>1</td>\n",
       "      <td>0</td>\n",
       "      <td>3.0</td>\n",
       "    </tr>\n",
       "    <tr>\n",
       "      <th>3</th>\n",
       "      <td>1997-05-21 20:20:00</td>\n",
       "      <td>1997-05-21 22:00:00</td>\n",
       "      <td>5000.0</td>\n",
       "      <td>500.0</td>\n",
       "      <td>N05W12</td>\n",
       "      <td>8040</td>\n",
       "      <td>M1.3</td>\n",
       "      <td>1997-05-21 21:00:00</td>\n",
       "      <td>263.0</td>\n",
       "      <td>165.0</td>\n",
       "      <td>296.0</td>\n",
       "      <td>0</td>\n",
       "      <td>0</td>\n",
       "      <td>4.0</td>\n",
       "    </tr>\n",
       "    <tr>\n",
       "      <th>4</th>\n",
       "      <td>1997-09-23 21:53:00</td>\n",
       "      <td>1997-09-23 22:16:00</td>\n",
       "      <td>6000.0</td>\n",
       "      <td>2000.0</td>\n",
       "      <td>S29E25</td>\n",
       "      <td>8088</td>\n",
       "      <td>C1.4</td>\n",
       "      <td>1997-09-23 22:02:00</td>\n",
       "      <td>133.0</td>\n",
       "      <td>155.0</td>\n",
       "      <td>712.0</td>\n",
       "      <td>0</td>\n",
       "      <td>0</td>\n",
       "      <td>5.0</td>\n",
       "    </tr>\n",
       "    <tr>\n",
       "      <th>...</th>\n",
       "      <td>...</td>\n",
       "      <td>...</td>\n",
       "      <td>...</td>\n",
       "      <td>...</td>\n",
       "      <td>...</td>\n",
       "      <td>...</td>\n",
       "      <td>...</td>\n",
       "      <td>...</td>\n",
       "      <td>...</td>\n",
       "      <td>...</td>\n",
       "      <td>...</td>\n",
       "      <td>...</td>\n",
       "      <td>...</td>\n",
       "      <td>...</td>\n",
       "    </tr>\n",
       "    <tr>\n",
       "      <th>517</th>\n",
       "      <td>2017-09-17 11:45:00</td>\n",
       "      <td>2017-09-17 12:35:00</td>\n",
       "      <td>16000.0</td>\n",
       "      <td>900.0</td>\n",
       "      <td>S08E170</td>\n",
       "      <td>NaN</td>\n",
       "      <td>NaN</td>\n",
       "      <td>2017-09-17 12:00:00</td>\n",
       "      <td>NaN</td>\n",
       "      <td>360.0</td>\n",
       "      <td>1385.0</td>\n",
       "      <td>1</td>\n",
       "      <td>0</td>\n",
       "      <td>NaN</td>\n",
       "    </tr>\n",
       "    <tr>\n",
       "      <th>518</th>\n",
       "      <td>2017-10-18 05:48:00</td>\n",
       "      <td>2017-10-18 12:40:00</td>\n",
       "      <td>16000.0</td>\n",
       "      <td>400.0</td>\n",
       "      <td>S06E123</td>\n",
       "      <td>NaN</td>\n",
       "      <td>NaN</td>\n",
       "      <td>2017-10-18 08:00:00</td>\n",
       "      <td>85.0</td>\n",
       "      <td>146.0</td>\n",
       "      <td>1001.0</td>\n",
       "      <td>0</td>\n",
       "      <td>0</td>\n",
       "      <td>NaN</td>\n",
       "    </tr>\n",
       "    <tr>\n",
       "      <th>519</th>\n",
       "      <td>2019-05-03 23:52:00</td>\n",
       "      <td>2019-05-04 00:16:00</td>\n",
       "      <td>13000.0</td>\n",
       "      <td>2300.0</td>\n",
       "      <td>N12E82</td>\n",
       "      <td>12740</td>\n",
       "      <td>C1.0</td>\n",
       "      <td>2019-05-03 23:24:00</td>\n",
       "      <td>90.0</td>\n",
       "      <td>113.0</td>\n",
       "      <td>692.0</td>\n",
       "      <td>0</td>\n",
       "      <td>0</td>\n",
       "      <td>NaN</td>\n",
       "    </tr>\n",
       "    <tr>\n",
       "      <th>520</th>\n",
       "      <td>2020-11-29 13:07:00</td>\n",
       "      <td>2020-11-29 15:23:00</td>\n",
       "      <td>14000.0</td>\n",
       "      <td>850.0</td>\n",
       "      <td>S23E89</td>\n",
       "      <td>NaN</td>\n",
       "      <td>M4.4</td>\n",
       "      <td>2020-11-29 13:25:00</td>\n",
       "      <td>NaN</td>\n",
       "      <td>360.0</td>\n",
       "      <td>2077.0</td>\n",
       "      <td>1</td>\n",
       "      <td>0</td>\n",
       "      <td>NaN</td>\n",
       "    </tr>\n",
       "    <tr>\n",
       "      <th>521</th>\n",
       "      <td>2020-12-07 16:18:00</td>\n",
       "      <td>2020-12-08 02:00:00</td>\n",
       "      <td>14000.0</td>\n",
       "      <td>160.0</td>\n",
       "      <td>S25W08</td>\n",
       "      <td>12790</td>\n",
       "      <td>C7.4</td>\n",
       "      <td>2020-12-07 16:24:00</td>\n",
       "      <td>NaN</td>\n",
       "      <td>360.0</td>\n",
       "      <td>1407.0</td>\n",
       "      <td>1</td>\n",
       "      <td>0</td>\n",
       "      <td>NaN</td>\n",
       "    </tr>\n",
       "  </tbody>\n",
       "</table>\n",
       "<p>522 rows × 14 columns</p>\n",
       "</div>"
      ],
      "text/plain": [
       "         start_datetime        end_datetime  start_freq  end_freq location  \\\n",
       "0   1997-04-01 14:00:00 1997-04-01 14:15:00      8000.0    4000.0   S25E16   \n",
       "1   1997-04-07 14:30:00 1997-04-07 17:30:00     11000.0    1000.0   S28E19   \n",
       "2   1997-05-12 05:15:00 1997-05-14 16:00:00     12000.0      80.0   N21W08   \n",
       "3   1997-05-21 20:20:00 1997-05-21 22:00:00      5000.0     500.0   N05W12   \n",
       "4   1997-09-23 21:53:00 1997-09-23 22:16:00      6000.0    2000.0   S29E25   \n",
       "..                  ...                 ...         ...       ...      ...   \n",
       "517 2017-09-17 11:45:00 2017-09-17 12:35:00     16000.0     900.0  S08E170   \n",
       "518 2017-10-18 05:48:00 2017-10-18 12:40:00     16000.0     400.0  S06E123   \n",
       "519 2019-05-03 23:52:00 2019-05-04 00:16:00     13000.0    2300.0   N12E82   \n",
       "520 2020-11-29 13:07:00 2020-11-29 15:23:00     14000.0     850.0   S23E89   \n",
       "521 2020-12-07 16:18:00 2020-12-08 02:00:00     14000.0     160.0   S25W08   \n",
       "\n",
       "    region xray_importance        cme_datetime  central_pos_angle  cpa_width  \\\n",
       "0     8026            M1.3 1997-04-01 15:18:00               74.0       79.0   \n",
       "1     8027            C6.8 1997-04-07 14:27:00                NaN      360.0   \n",
       "2     8038            C1.3 1997-05-12 05:30:00                NaN      360.0   \n",
       "3     8040            M1.3 1997-05-21 21:00:00              263.0      165.0   \n",
       "4     8088            C1.4 1997-09-23 22:02:00              133.0      155.0   \n",
       "..     ...             ...                 ...                ...        ...   \n",
       "517    NaN             NaN 2017-09-17 12:00:00                NaN      360.0   \n",
       "518    NaN             NaN 2017-10-18 08:00:00               85.0      146.0   \n",
       "519  12740            C1.0 2019-05-03 23:24:00               90.0      113.0   \n",
       "520    NaN            M4.4 2020-11-29 13:25:00                NaN      360.0   \n",
       "521  12790            C7.4 2020-12-07 16:24:00                NaN      360.0   \n",
       "\n",
       "     cme_speed  is_halo  lower_bound  solfla_rank  \n",
       "0        312.0        0            0          1.0  \n",
       "1        878.0        1            0          2.0  \n",
       "2        464.0        1            0          3.0  \n",
       "3        296.0        0            0          4.0  \n",
       "4        712.0        0            0          5.0  \n",
       "..         ...      ...          ...          ...  \n",
       "517     1385.0        1            0          NaN  \n",
       "518     1001.0        0            0          NaN  \n",
       "519      692.0        0            0          NaN  \n",
       "520     2077.0        1            0          NaN  \n",
       "521     1407.0        1            0          NaN  \n",
       "\n",
       "[522 rows x 14 columns]"
      ]
     },
     "execution_count": 96,
     "metadata": {},
     "output_type": "execute_result"
    }
   ],
   "source": [
    "def rank_data(solfla_df, nasa_df):\n",
    "    solfla_rank = []\n",
    "    for index, row in solfla_df.iterrows():\n",
    "        for index1, row1 in nasa_df.iterrows():\n",
    "            if ((row[\"start_datetime\"] == row1[\"start_datetime\"]) & (row[\"end_datetime\"] == row1[\"end_datetime\"])):\n",
    "                solfla_rank += row[\"rank\"]\n",
    "    nasa_df[\"solfla_rank\"] = solfla_rank\n",
    "            \n",
    "\n",
    "nasa_df "
   ]
  },
  {
   "cell_type": "code",
   "execution_count": null,
   "id": "0a556d45",
   "metadata": {},
   "outputs": [],
   "source": []
  },
  {
   "cell_type": "code",
   "execution_count": null,
   "id": "0cdd7819",
   "metadata": {},
   "outputs": [],
   "source": []
  }
 ],
 "metadata": {
  "colab": {
   "name": "Fly Me To The Moon - Proj 1 Part 1-2.ipynb",
   "provenance": []
  },
  "interpreter": {
   "hash": "4bd3767b9a68b1809be1a8a3b2146e6067673f8776213bfbf5c8fe8ac7d04b67"
  },
  "kernelspec": {
   "display_name": "Python 3 (ipykernel)",
   "language": "python",
   "name": "python3"
  },
  "language_info": {
   "codemirror_mode": {
    "name": "ipython",
    "version": 3
   },
   "file_extension": ".py",
   "mimetype": "text/x-python",
   "name": "python",
   "nbconvert_exporter": "python",
   "pygments_lexer": "ipython3",
   "version": "3.9.6"
  }
 },
 "nbformat": 4,
 "nbformat_minor": 5
}
