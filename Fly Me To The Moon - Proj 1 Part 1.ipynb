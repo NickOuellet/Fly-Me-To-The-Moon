{
  "nbformat": 4,
  "nbformat_minor": 5,
  "metadata": {
    "interpreter": {
      "hash": "4bd3767b9a68b1809be1a8a3b2146e6067673f8776213bfbf5c8fe8ac7d04b67"
    },
    "kernelspec": {
      "display_name": "Python 3 (ipykernel)",
      "language": "python",
      "name": "python3"
    },
    "language_info": {
      "codemirror_mode": {
        "name": "ipython",
        "version": 3
      },
      "file_extension": ".py",
      "mimetype": "text/x-python",
      "name": "python",
      "nbconvert_exporter": "python",
      "pygments_lexer": "ipython3",
      "version": "3.9.6"
    },
    "colab": {
      "name": "Fly Me To The Moon - Proj 1 Part 1-2.ipynb",
      "provenance": []
    }
  },
  "cells": [
    {
      "cell_type": "code",
      "metadata": {
        "id": "b5a544b0",
        "colab": {
          "base_uri": "https://localhost:8080/"
        },
        "outputId": "987ea8c0-2faa-451a-ab36-0d338535d00a"
      },
      "source": [
        "pip install lxml"
      ],
      "id": "b5a544b0",
      "execution_count": 339,
      "outputs": [
        {
          "output_type": "stream",
          "name": "stdout",
          "text": [
            "Requirement already satisfied: lxml in /usr/local/lib/python3.7/dist-packages (4.2.6)\n"
          ]
        }
      ]
    },
    {
      "cell_type": "code",
      "metadata": {
        "id": "e499132b"
      },
      "source": [
        "from bs4 import BeautifulSoup\n",
        "import numpy as np\n",
        "import pandas as pd\n",
        "import requests\n",
        "import lxml\n",
        "import re"
      ],
      "id": "e499132b",
      "execution_count": 340,
      "outputs": []
    },
    {
      "cell_type": "markdown",
      "metadata": {
        "id": "28ec6d50"
      },
      "source": [
        "## Meeting Plan for Nicolas Ouellet and Benedicte Knudson:\n",
        "We colaborated over Zoom and in person **three** times and used a shared Github Repository that can be found [here](https://github.com/NickOuellet/Fly-Me-To-The-Moon). <br />\n",
        "We met: <br />\n",
        "10/11: 5-7pm <br />\n",
        "10/20: 10-12pm <br />\n",
        "10/21: 8-11pm <br />\n"
      ],
      "id": "28ec6d50"
    },
    {
      "cell_type": "markdown",
      "metadata": {
        "id": "9834894e"
      },
      "source": [
        "## Step 1 - Scrape SpaceWeatherLive.com"
      ],
      "id": "9834894e"
    },
    {
      "cell_type": "code",
      "metadata": {
        "id": "09dc9234",
        "colab": {
          "base_uri": "https://localhost:8080/"
        },
        "outputId": "120c2e94-c4e5-4561-9b7d-f9c2268a89e2"
      },
      "source": [
        "headers = {'User-Agent': 'Mozilla/5.0 (Macintosh; Intel Mac OS X 10_10_1) AppleWebKit/537.36 (KHTML, like Gecko) Chrome/39.0.2171.95 Safari/537.36'}\n",
        "r = requests.get(\"https://www.spaceweatherlive.com/en/solar-activity/top-50-solar-flares.html\",timeout=10,headers=headers)\n",
        "r.status_code"
      ],
      "id": "09dc9234",
      "execution_count": 341,
      "outputs": [
        {
          "output_type": "execute_result",
          "data": {
            "text/plain": [
              "200"
            ]
          },
          "metadata": {},
          "execution_count": 341
        }
      ]
    },
    {
      "cell_type": "code",
      "metadata": {
        "id": "76d3644d"
      },
      "source": [
        "text_response = r.content #https://stackoverflow.com/questions/52389692/beautifulsoup-and-prettify-function\n",
        "soup = BeautifulSoup(text_response,\"html.parser\")"
      ],
      "id": "76d3644d",
      "execution_count": 342,
      "outputs": []
    },
    {
      "cell_type": "code",
      "metadata": {
        "scrolled": true,
        "id": "3a8fd1be"
      },
      "source": [
        "table = soup.findAll(\"table\") #find the table in the HTML"
      ],
      "id": "3a8fd1be",
      "execution_count": 343,
      "outputs": []
    },
    {
      "cell_type": "code",
      "metadata": {
        "id": "8d38ccdb"
      },
      "source": [
        "solar_flare_df = pd.read_html(str(table))"
      ],
      "id": "8d38ccdb",
      "execution_count": 344,
      "outputs": []
    },
    {
      "cell_type": "code",
      "metadata": {
        "id": "7469438b"
      },
      "source": [
        "solfla_df = solar_flare_df[0]#works when we just select the first table"
      ],
      "id": "7469438b",
      "execution_count": 345,
      "outputs": []
    },
    {
      "cell_type": "code",
      "metadata": {
        "id": "7bde39e8"
      },
      "source": [
        "solfla_df.columns = [\"rank\", \"x_classification\", \"date\", \"region\", \"start_time\", \"maximum_time\", \"end_time\", \"movie\"] #rename columns to be more descriptive"
      ],
      "id": "7bde39e8",
      "execution_count": 346,
      "outputs": []
    },
    {
      "cell_type": "code",
      "metadata": {
        "id": "3e5d86a9",
        "colab": {
          "base_uri": "https://localhost:8080/",
          "height": 204
        },
        "outputId": "47609e2a-bb36-475a-f96a-1a5c76b953ca"
      },
      "source": [
        "solfla_df.head()"
      ],
      "id": "3e5d86a9",
      "execution_count": 347,
      "outputs": [
        {
          "output_type": "execute_result",
          "data": {
            "text/html": [
              "<div>\n",
              "<style scoped>\n",
              "    .dataframe tbody tr th:only-of-type {\n",
              "        vertical-align: middle;\n",
              "    }\n",
              "\n",
              "    .dataframe tbody tr th {\n",
              "        vertical-align: top;\n",
              "    }\n",
              "\n",
              "    .dataframe thead th {\n",
              "        text-align: right;\n",
              "    }\n",
              "</style>\n",
              "<table border=\"1\" class=\"dataframe\">\n",
              "  <thead>\n",
              "    <tr style=\"text-align: right;\">\n",
              "      <th></th>\n",
              "      <th>rank</th>\n",
              "      <th>x_classification</th>\n",
              "      <th>date</th>\n",
              "      <th>region</th>\n",
              "      <th>start_time</th>\n",
              "      <th>maximum_time</th>\n",
              "      <th>end_time</th>\n",
              "      <th>movie</th>\n",
              "    </tr>\n",
              "  </thead>\n",
              "  <tbody>\n",
              "    <tr>\n",
              "      <th>0</th>\n",
              "      <td>1</td>\n",
              "      <td>X28+</td>\n",
              "      <td>2003/11/04</td>\n",
              "      <td>486</td>\n",
              "      <td>19:29</td>\n",
              "      <td>19:53</td>\n",
              "      <td>20:06</td>\n",
              "      <td>MovieView archive</td>\n",
              "    </tr>\n",
              "    <tr>\n",
              "      <th>1</th>\n",
              "      <td>2</td>\n",
              "      <td>X20+</td>\n",
              "      <td>2001/04/02</td>\n",
              "      <td>9393</td>\n",
              "      <td>21:32</td>\n",
              "      <td>21:51</td>\n",
              "      <td>22:03</td>\n",
              "      <td>MovieView archive</td>\n",
              "    </tr>\n",
              "    <tr>\n",
              "      <th>2</th>\n",
              "      <td>3</td>\n",
              "      <td>X17.2+</td>\n",
              "      <td>2003/10/28</td>\n",
              "      <td>486</td>\n",
              "      <td>09:51</td>\n",
              "      <td>11:10</td>\n",
              "      <td>11:24</td>\n",
              "      <td>MovieView archive</td>\n",
              "    </tr>\n",
              "    <tr>\n",
              "      <th>3</th>\n",
              "      <td>4</td>\n",
              "      <td>X17+</td>\n",
              "      <td>2005/09/07</td>\n",
              "      <td>808</td>\n",
              "      <td>17:17</td>\n",
              "      <td>17:40</td>\n",
              "      <td>18:03</td>\n",
              "      <td>MovieView archive</td>\n",
              "    </tr>\n",
              "    <tr>\n",
              "      <th>4</th>\n",
              "      <td>5</td>\n",
              "      <td>X14.4</td>\n",
              "      <td>2001/04/15</td>\n",
              "      <td>9415</td>\n",
              "      <td>13:19</td>\n",
              "      <td>13:50</td>\n",
              "      <td>13:55</td>\n",
              "      <td>MovieView archive</td>\n",
              "    </tr>\n",
              "  </tbody>\n",
              "</table>\n",
              "</div>"
            ],
            "text/plain": [
              "   rank x_classification        date  region start_time maximum_time end_time              movie\n",
              "0     1             X28+  2003/11/04     486      19:29        19:53    20:06  MovieView archive\n",
              "1     2             X20+  2001/04/02    9393      21:32        21:51    22:03  MovieView archive\n",
              "2     3           X17.2+  2003/10/28     486      09:51        11:10    11:24  MovieView archive\n",
              "3     4             X17+  2005/09/07     808      17:17        17:40    18:03  MovieView archive\n",
              "4     5            X14.4  2001/04/15    9415      13:19        13:50    13:55  MovieView archive"
            ]
          },
          "metadata": {},
          "execution_count": 347
        }
      ]
    },
    {
      "cell_type": "markdown",
      "metadata": {
        "id": "28f6f2cd"
      },
      "source": [
        "## Step 2 - Tidy the Top 50 Solar Flare Data"
      ],
      "id": "28f6f2cd"
    },
    {
      "cell_type": "code",
      "metadata": {
        "id": "c5cc3347",
        "colab": {
          "base_uri": "https://localhost:8080/",
          "height": 204
        },
        "outputId": "0f384e08-e96b-467a-f7fb-936a79ea23d7"
      },
      "source": [
        "solfla_df = solfla_df[[\"rank\", \"x_classification\", \"date\", \"start_time\", \"maximum_time\", \"end_time\",\"region\"]]\n",
        "solfla_df.head()"
      ],
      "id": "c5cc3347",
      "execution_count": 348,
      "outputs": [
        {
          "output_type": "execute_result",
          "data": {
            "text/html": [
              "<div>\n",
              "<style scoped>\n",
              "    .dataframe tbody tr th:only-of-type {\n",
              "        vertical-align: middle;\n",
              "    }\n",
              "\n",
              "    .dataframe tbody tr th {\n",
              "        vertical-align: top;\n",
              "    }\n",
              "\n",
              "    .dataframe thead th {\n",
              "        text-align: right;\n",
              "    }\n",
              "</style>\n",
              "<table border=\"1\" class=\"dataframe\">\n",
              "  <thead>\n",
              "    <tr style=\"text-align: right;\">\n",
              "      <th></th>\n",
              "      <th>rank</th>\n",
              "      <th>x_classification</th>\n",
              "      <th>date</th>\n",
              "      <th>start_time</th>\n",
              "      <th>maximum_time</th>\n",
              "      <th>end_time</th>\n",
              "      <th>region</th>\n",
              "    </tr>\n",
              "  </thead>\n",
              "  <tbody>\n",
              "    <tr>\n",
              "      <th>0</th>\n",
              "      <td>1</td>\n",
              "      <td>X28+</td>\n",
              "      <td>2003/11/04</td>\n",
              "      <td>19:29</td>\n",
              "      <td>19:53</td>\n",
              "      <td>20:06</td>\n",
              "      <td>486</td>\n",
              "    </tr>\n",
              "    <tr>\n",
              "      <th>1</th>\n",
              "      <td>2</td>\n",
              "      <td>X20+</td>\n",
              "      <td>2001/04/02</td>\n",
              "      <td>21:32</td>\n",
              "      <td>21:51</td>\n",
              "      <td>22:03</td>\n",
              "      <td>9393</td>\n",
              "    </tr>\n",
              "    <tr>\n",
              "      <th>2</th>\n",
              "      <td>3</td>\n",
              "      <td>X17.2+</td>\n",
              "      <td>2003/10/28</td>\n",
              "      <td>09:51</td>\n",
              "      <td>11:10</td>\n",
              "      <td>11:24</td>\n",
              "      <td>486</td>\n",
              "    </tr>\n",
              "    <tr>\n",
              "      <th>3</th>\n",
              "      <td>4</td>\n",
              "      <td>X17+</td>\n",
              "      <td>2005/09/07</td>\n",
              "      <td>17:17</td>\n",
              "      <td>17:40</td>\n",
              "      <td>18:03</td>\n",
              "      <td>808</td>\n",
              "    </tr>\n",
              "    <tr>\n",
              "      <th>4</th>\n",
              "      <td>5</td>\n",
              "      <td>X14.4</td>\n",
              "      <td>2001/04/15</td>\n",
              "      <td>13:19</td>\n",
              "      <td>13:50</td>\n",
              "      <td>13:55</td>\n",
              "      <td>9415</td>\n",
              "    </tr>\n",
              "  </tbody>\n",
              "</table>\n",
              "</div>"
            ],
            "text/plain": [
              "   rank x_classification        date start_time maximum_time end_time  region\n",
              "0     1             X28+  2003/11/04      19:29        19:53    20:06     486\n",
              "1     2             X20+  2001/04/02      21:32        21:51    22:03    9393\n",
              "2     3           X17.2+  2003/10/28      09:51        11:10    11:24     486\n",
              "3     4             X17+  2005/09/07      17:17        17:40    18:03     808\n",
              "4     5            X14.4  2001/04/15      13:19        13:50    13:55    9415"
            ]
          },
          "metadata": {},
          "execution_count": 348
        }
      ]
    },
    {
      "cell_type": "code",
      "metadata": {
        "id": "k4vcHmTAlnYq"
      },
      "source": [
        ""
      ],
      "id": "k4vcHmTAlnYq",
      "execution_count": 348,
      "outputs": []
    },
    {
      "cell_type": "code",
      "metadata": {
        "id": "71cf6493"
      },
      "source": [
        "import datetime"
      ],
      "id": "71cf6493",
      "execution_count": 349,
      "outputs": []
    },
    {
      "cell_type": "code",
      "metadata": {
        "id": "c7191a79",
        "colab": {
          "base_uri": "https://localhost:8080/"
        },
        "outputId": "4f4166d8-d2ea-4a0e-ed46-a1fc5f9be9e4"
      },
      "source": [
        "for index, row in solfla_df.iterrows():\n",
        "    solfla_df[\"start_time\"] = pd.to_datetime(solfla_df[\"start_time\"])\n",
        "    solfla_df[\"maximum_time\"] = pd.to_datetime(solfla_df[\"maximum_time\"])\n",
        "    solfla_df[\"end_time\"] = pd.to_datetime(solfla_df[\"end_time\"])\n"
      ],
      "id": "c7191a79",
      "execution_count": 350,
      "outputs": [
        {
          "output_type": "stream",
          "name": "stderr",
          "text": [
            "/usr/local/lib/python3.7/dist-packages/ipykernel_launcher.py:2: SettingWithCopyWarning: \n",
            "A value is trying to be set on a copy of a slice from a DataFrame.\n",
            "Try using .loc[row_indexer,col_indexer] = value instead\n",
            "\n",
            "See the caveats in the documentation: https://pandas.pydata.org/pandas-docs/stable/user_guide/indexing.html#returning-a-view-versus-a-copy\n",
            "  \n",
            "/usr/local/lib/python3.7/dist-packages/ipykernel_launcher.py:3: SettingWithCopyWarning: \n",
            "A value is trying to be set on a copy of a slice from a DataFrame.\n",
            "Try using .loc[row_indexer,col_indexer] = value instead\n",
            "\n",
            "See the caveats in the documentation: https://pandas.pydata.org/pandas-docs/stable/user_guide/indexing.html#returning-a-view-versus-a-copy\n",
            "  This is separate from the ipykernel package so we can avoid doing imports until\n",
            "/usr/local/lib/python3.7/dist-packages/ipykernel_launcher.py:4: SettingWithCopyWarning: \n",
            "A value is trying to be set on a copy of a slice from a DataFrame.\n",
            "Try using .loc[row_indexer,col_indexer] = value instead\n",
            "\n",
            "See the caveats in the documentation: https://pandas.pydata.org/pandas-docs/stable/user_guide/indexing.html#returning-a-view-versus-a-copy\n",
            "  after removing the cwd from sys.path.\n"
          ]
        }
      ]
    },
    {
      "cell_type": "code",
      "metadata": {
        "colab": {
          "base_uri": "https://localhost:8080/",
          "height": 289
        },
        "id": "XvGf14bUURvB",
        "outputId": "b249cfe9-8814-47d0-b246-139a90227b8d"
      },
      "source": [
        "solfla_df.drop(columns=\"date\",inplace=True) #drop date table\n",
        "\n",
        "solfla_df.head()"
      ],
      "id": "XvGf14bUURvB",
      "execution_count": 351,
      "outputs": [
        {
          "output_type": "stream",
          "name": "stderr",
          "text": [
            "/usr/local/lib/python3.7/dist-packages/pandas/core/frame.py:4174: SettingWithCopyWarning: \n",
            "A value is trying to be set on a copy of a slice from a DataFrame\n",
            "\n",
            "See the caveats in the documentation: https://pandas.pydata.org/pandas-docs/stable/user_guide/indexing.html#returning-a-view-versus-a-copy\n",
            "  errors=errors,\n"
          ]
        },
        {
          "output_type": "execute_result",
          "data": {
            "text/html": [
              "<div>\n",
              "<style scoped>\n",
              "    .dataframe tbody tr th:only-of-type {\n",
              "        vertical-align: middle;\n",
              "    }\n",
              "\n",
              "    .dataframe tbody tr th {\n",
              "        vertical-align: top;\n",
              "    }\n",
              "\n",
              "    .dataframe thead th {\n",
              "        text-align: right;\n",
              "    }\n",
              "</style>\n",
              "<table border=\"1\" class=\"dataframe\">\n",
              "  <thead>\n",
              "    <tr style=\"text-align: right;\">\n",
              "      <th></th>\n",
              "      <th>rank</th>\n",
              "      <th>x_classification</th>\n",
              "      <th>start_time</th>\n",
              "      <th>maximum_time</th>\n",
              "      <th>end_time</th>\n",
              "      <th>region</th>\n",
              "    </tr>\n",
              "  </thead>\n",
              "  <tbody>\n",
              "    <tr>\n",
              "      <th>0</th>\n",
              "      <td>1</td>\n",
              "      <td>X28+</td>\n",
              "      <td>2021-10-22 19:29:00</td>\n",
              "      <td>2021-10-22 19:53:00</td>\n",
              "      <td>2021-10-22 20:06:00</td>\n",
              "      <td>486</td>\n",
              "    </tr>\n",
              "    <tr>\n",
              "      <th>1</th>\n",
              "      <td>2</td>\n",
              "      <td>X20+</td>\n",
              "      <td>2021-10-22 21:32:00</td>\n",
              "      <td>2021-10-22 21:51:00</td>\n",
              "      <td>2021-10-22 22:03:00</td>\n",
              "      <td>9393</td>\n",
              "    </tr>\n",
              "    <tr>\n",
              "      <th>2</th>\n",
              "      <td>3</td>\n",
              "      <td>X17.2+</td>\n",
              "      <td>2021-10-22 09:51:00</td>\n",
              "      <td>2021-10-22 11:10:00</td>\n",
              "      <td>2021-10-22 11:24:00</td>\n",
              "      <td>486</td>\n",
              "    </tr>\n",
              "    <tr>\n",
              "      <th>3</th>\n",
              "      <td>4</td>\n",
              "      <td>X17+</td>\n",
              "      <td>2021-10-22 17:17:00</td>\n",
              "      <td>2021-10-22 17:40:00</td>\n",
              "      <td>2021-10-22 18:03:00</td>\n",
              "      <td>808</td>\n",
              "    </tr>\n",
              "    <tr>\n",
              "      <th>4</th>\n",
              "      <td>5</td>\n",
              "      <td>X14.4</td>\n",
              "      <td>2021-10-22 13:19:00</td>\n",
              "      <td>2021-10-22 13:50:00</td>\n",
              "      <td>2021-10-22 13:55:00</td>\n",
              "      <td>9415</td>\n",
              "    </tr>\n",
              "  </tbody>\n",
              "</table>\n",
              "</div>"
            ],
            "text/plain": [
              "   rank x_classification          start_time        maximum_time            end_time  region\n",
              "0     1             X28+ 2021-10-22 19:29:00 2021-10-22 19:53:00 2021-10-22 20:06:00     486\n",
              "1     2             X20+ 2021-10-22 21:32:00 2021-10-22 21:51:00 2021-10-22 22:03:00    9393\n",
              "2     3           X17.2+ 2021-10-22 09:51:00 2021-10-22 11:10:00 2021-10-22 11:24:00     486\n",
              "3     4             X17+ 2021-10-22 17:17:00 2021-10-22 17:40:00 2021-10-22 18:03:00     808\n",
              "4     5            X14.4 2021-10-22 13:19:00 2021-10-22 13:50:00 2021-10-22 13:55:00    9415"
            ]
          },
          "metadata": {},
          "execution_count": 351
        }
      ]
    },
    {
      "cell_type": "markdown",
      "metadata": {
        "id": "6a17aa9e"
      },
      "source": [
        "## Step 3 - Scrape the NASA Data"
      ],
      "id": "6a17aa9e"
    },
    {
      "cell_type": "code",
      "metadata": {
        "id": "b822f064",
        "colab": {
          "base_uri": "https://localhost:8080/"
        },
        "outputId": "aebb13bc-3101-4cfb-dbb6-d226fa408577"
      },
      "source": [
        "headers = {'User-Agent': 'Mozilla/5.0 (Macintosh; Intel Mac OS X 10_10_1) AppleWebKit/537.36 (KHTML, like Gecko) Chrome/39.0.2171.95 Safari/537.36'}\n",
        "r = requests.get(\"https://cdaw.gsfc.nasa.gov/CME_list/radio/waves_type2.html\",timeout=10,headers=headers)\n",
        "r.status_code"
      ],
      "id": "b822f064",
      "execution_count": 352,
      "outputs": [
        {
          "output_type": "execute_result",
          "data": {
            "text/plain": [
              "200"
            ]
          },
          "metadata": {},
          "execution_count": 352
        }
      ]
    },
    {
      "cell_type": "code",
      "metadata": {
        "id": "931db0b8"
      },
      "source": [
        "text_response = r.content #https://stackoverflow.com/questions/52389692/beautifulsoup-and-prettify-function\n",
        "soup = BeautifulSoup(text_response,\"html.parser\")\n",
        "table = soup.get_text()\n",
        "split_table = table.splitlines()\n",
        "split_table = split_table[15:]\n",
        "split_table = split_table[0:len(split_table)-2] #clean up table by removing top and bottom portion\n"
      ],
      "id": "931db0b8",
      "execution_count": 353,
      "outputs": []
    },
    {
      "cell_type": "code",
      "metadata": {
        "id": "d3wsGYmZiblQ"
      },
      "source": [
        "nasa_df = pd.DataFrame(\n",
        "    columns = [\"start_date\",\"start_time\",\"end_date\",\"end_time\",\"start_freq\",\"end_freq\",\"location\",\"region\",\"xray_importance\",\"cme_date\",\"cme_time\",\"central_pos_angle\",\"cme_width\",\"cme_speed\",\"PHTX\" ]\n",
        "    )\n",
        "for i,v in enumerate(split_table):\n",
        "  row_vals = re.findall(r\"\\S+\",v)\n",
        "  nasa_df.loc[i] = row_vals[0:15]"
      ],
      "id": "d3wsGYmZiblQ",
      "execution_count": 354,
      "outputs": []
    },
    {
      "cell_type": "code",
      "metadata": {
        "id": "7EeUuRqnWbq0"
      },
      "source": [
        "nasa_df.drop(columns=[\"PHTX\"],inplace=True)"
      ],
      "id": "7EeUuRqnWbq0",
      "execution_count": 355,
      "outputs": []
    },
    {
      "cell_type": "code",
      "metadata": {
        "colab": {
          "base_uri": "https://localhost:8080/",
          "height": 235
        },
        "id": "aRap_PrKYZ_A",
        "outputId": "e0ce2a40-604a-440b-dfd2-d2927dfd047f"
      },
      "source": [
        "nasa_df.loc[0:5]"
      ],
      "id": "aRap_PrKYZ_A",
      "execution_count": 356,
      "outputs": [
        {
          "output_type": "execute_result",
          "data": {
            "text/html": [
              "<div>\n",
              "<style scoped>\n",
              "    .dataframe tbody tr th:only-of-type {\n",
              "        vertical-align: middle;\n",
              "    }\n",
              "\n",
              "    .dataframe tbody tr th {\n",
              "        vertical-align: top;\n",
              "    }\n",
              "\n",
              "    .dataframe thead th {\n",
              "        text-align: right;\n",
              "    }\n",
              "</style>\n",
              "<table border=\"1\" class=\"dataframe\">\n",
              "  <thead>\n",
              "    <tr style=\"text-align: right;\">\n",
              "      <th></th>\n",
              "      <th>start_date</th>\n",
              "      <th>start_time</th>\n",
              "      <th>end_date</th>\n",
              "      <th>end_time</th>\n",
              "      <th>start_freq</th>\n",
              "      <th>end_freq</th>\n",
              "      <th>location</th>\n",
              "      <th>region</th>\n",
              "      <th>xray_importance</th>\n",
              "      <th>cme_date</th>\n",
              "      <th>cme_time</th>\n",
              "      <th>central_pos_angle</th>\n",
              "      <th>cme_width</th>\n",
              "      <th>cme_speed</th>\n",
              "    </tr>\n",
              "  </thead>\n",
              "  <tbody>\n",
              "    <tr>\n",
              "      <th>0</th>\n",
              "      <td>1997/04/01</td>\n",
              "      <td>14:00</td>\n",
              "      <td>04/01</td>\n",
              "      <td>14:15</td>\n",
              "      <td>8000</td>\n",
              "      <td>4000</td>\n",
              "      <td>S25E16</td>\n",
              "      <td>8026</td>\n",
              "      <td>M1.3</td>\n",
              "      <td>04/01</td>\n",
              "      <td>15:18</td>\n",
              "      <td>74</td>\n",
              "      <td>79</td>\n",
              "      <td>312</td>\n",
              "    </tr>\n",
              "    <tr>\n",
              "      <th>1</th>\n",
              "      <td>1997/04/07</td>\n",
              "      <td>14:30</td>\n",
              "      <td>04/07</td>\n",
              "      <td>17:30</td>\n",
              "      <td>11000</td>\n",
              "      <td>1000</td>\n",
              "      <td>S28E19</td>\n",
              "      <td>8027</td>\n",
              "      <td>C6.8</td>\n",
              "      <td>04/07</td>\n",
              "      <td>14:27</td>\n",
              "      <td>Halo</td>\n",
              "      <td>360</td>\n",
              "      <td>878</td>\n",
              "    </tr>\n",
              "    <tr>\n",
              "      <th>2</th>\n",
              "      <td>1997/05/12</td>\n",
              "      <td>05:15</td>\n",
              "      <td>05/14</td>\n",
              "      <td>16:00</td>\n",
              "      <td>12000</td>\n",
              "      <td>80</td>\n",
              "      <td>N21W08</td>\n",
              "      <td>8038</td>\n",
              "      <td>C1.3</td>\n",
              "      <td>05/12</td>\n",
              "      <td>05:30</td>\n",
              "      <td>Halo</td>\n",
              "      <td>360</td>\n",
              "      <td>464</td>\n",
              "    </tr>\n",
              "    <tr>\n",
              "      <th>3</th>\n",
              "      <td>1997/05/21</td>\n",
              "      <td>20:20</td>\n",
              "      <td>05/21</td>\n",
              "      <td>22:00</td>\n",
              "      <td>5000</td>\n",
              "      <td>500</td>\n",
              "      <td>N05W12</td>\n",
              "      <td>8040</td>\n",
              "      <td>M1.3</td>\n",
              "      <td>05/21</td>\n",
              "      <td>21:00</td>\n",
              "      <td>263</td>\n",
              "      <td>165</td>\n",
              "      <td>296</td>\n",
              "    </tr>\n",
              "    <tr>\n",
              "      <th>4</th>\n",
              "      <td>1997/09/23</td>\n",
              "      <td>21:53</td>\n",
              "      <td>09/23</td>\n",
              "      <td>22:16</td>\n",
              "      <td>6000</td>\n",
              "      <td>2000</td>\n",
              "      <td>S29E25</td>\n",
              "      <td>8088</td>\n",
              "      <td>C1.4</td>\n",
              "      <td>09/23</td>\n",
              "      <td>22:02</td>\n",
              "      <td>133</td>\n",
              "      <td>155</td>\n",
              "      <td>712</td>\n",
              "    </tr>\n",
              "    <tr>\n",
              "      <th>5</th>\n",
              "      <td>1997/11/03</td>\n",
              "      <td>05:15</td>\n",
              "      <td>11/03</td>\n",
              "      <td>12:00</td>\n",
              "      <td>14000</td>\n",
              "      <td>250</td>\n",
              "      <td>S20W13</td>\n",
              "      <td>8100</td>\n",
              "      <td>C8.6</td>\n",
              "      <td>11/03</td>\n",
              "      <td>05:28</td>\n",
              "      <td>240</td>\n",
              "      <td>109</td>\n",
              "      <td>227</td>\n",
              "    </tr>\n",
              "  </tbody>\n",
              "</table>\n",
              "</div>"
            ],
            "text/plain": [
              "   start_date start_time end_date end_time start_freq end_freq location region xray_importance cme_date cme_time central_pos_angle cme_width cme_speed\n",
              "0  1997/04/01      14:00    04/01    14:15       8000     4000   S25E16   8026            M1.3    04/01    15:18                74        79       312\n",
              "1  1997/04/07      14:30    04/07    17:30      11000     1000   S28E19   8027            C6.8    04/07    14:27              Halo       360       878\n",
              "2  1997/05/12      05:15    05/14    16:00      12000       80   N21W08   8038            C1.3    05/12    05:30              Halo       360       464\n",
              "3  1997/05/21      20:20    05/21    22:00       5000      500   N05W12   8040            M1.3    05/21    21:00               263       165       296\n",
              "4  1997/09/23      21:53    09/23    22:16       6000     2000   S29E25   8088            C1.4    09/23    22:02               133       155       712\n",
              "5  1997/11/03      05:15    11/03    12:00      14000      250   S20W13   8100            C8.6    11/03    05:28               240       109       227"
            ]
          },
          "metadata": {},
          "execution_count": 356
        }
      ]
    },
    {
      "cell_type": "markdown",
      "metadata": {
        "id": "tKW6x7I1ZN4u"
      },
      "source": [
        "## Step 4 - Tidy the Nasa Data"
      ],
      "id": "tKW6x7I1ZN4u"
    },
    {
      "cell_type": "markdown",
      "metadata": {
        "id": "otC2cwQ1e2sP"
      },
      "source": [
        "**Replace All empty values with NaNs**"
      ],
      "id": "otC2cwQ1e2sP"
    },
    {
      "cell_type": "code",
      "metadata": {
        "id": "Ti9X_SNyZTao"
      },
      "source": [
        "nasa_df.region.replace(\"-----\", np.nan,inplace=True)\n",
        "nasa_df.xray_importance.replace(\"----\", np.nan,inplace=True)\n",
        "nasa_df.cme_date.replace(\"--/--\",np.nan, inplace=True)\n",
        "nasa_df.cme_time.replace(\"--:--\",np.nan,inplace=True)\n",
        "nasa_df.central_pos_angle.replace(\"----\", np.nan,inplace=True)\n",
        "nasa_df.cme_width.replace(\"----\", np.nan,inplace=True)\n",
        "nasa_df.cme_speed.replace(\"----\", np.nan,inplace=True)\n"
      ],
      "id": "Ti9X_SNyZTao",
      "execution_count": 357,
      "outputs": []
    },
    {
      "cell_type": "markdown",
      "metadata": {
        "id": "r0QOknyDe6iC"
      },
      "source": [
        "**Replace all lower case \"Back\" values with upper case \"BACK\" in location column**"
      ],
      "id": "r0QOknyDe6iC"
    },
    {
      "cell_type": "code",
      "metadata": {
        "id": "-4JokLqXe1kL"
      },
      "source": [
        "nasa_df.location.replace(\"Back\",\"BACK\",inplace=True)"
      ],
      "id": "-4JokLqXe1kL",
      "execution_count": 358,
      "outputs": []
    },
    {
      "cell_type": "markdown",
      "metadata": {
        "id": "DZ5Pmt-JfVTj"
      },
      "source": [
        "**Replace all DSF values with FILA in region column**"
      ],
      "id": "DZ5Pmt-JfVTj"
    },
    {
      "cell_type": "code",
      "metadata": {
        "id": "qCVqDAdRfbk6"
      },
      "source": [
        "nasa_df.region.replace(\"DSF\",\"FILE\",inplace=True)"
      ],
      "id": "qCVqDAdRfbk6",
      "execution_count": 359,
      "outputs": []
    },
    {
      "cell_type": "markdown",
      "metadata": {
        "id": "rWyuC4Gaf19B"
      },
      "source": [
        "**Create column to indicate HALO flare, then turn Halo entries into NaN.**<br/>\n",
        "Halo = 1 <br/>\n",
        "Non-Halo = 0"
      ],
      "id": "rWyuC4Gaf19B"
    },
    {
      "cell_type": "code",
      "metadata": {
        "id": "VhZoQD-cf1eE"
      },
      "source": [
        "column_vals = []\n",
        "for index,value in nasa_df[\"central_pos_angle\"].iteritems():\n",
        "  if value == \"Halo\":\n",
        "    column_vals.append(1)\n",
        "  else:\n",
        "    column_vals.append(0)\n",
        "nasa_df[\"is_halo\"] = column_vals"
      ],
      "id": "VhZoQD-cf1eE",
      "execution_count": 360,
      "outputs": []
    },
    {
      "cell_type": "code",
      "metadata": {
        "id": "okJ4B-4KhlJX"
      },
      "source": [
        "nasa_df.central_pos_angle.replace(\"Halo\", np.nan,inplace=True)"
      ],
      "id": "okJ4B-4KhlJX",
      "execution_count": 361,
      "outputs": []
    },
    {
      "cell_type": "markdown",
      "metadata": {
        "id": "aV-p7NLUh8BV"
      },
      "source": [
        "**Indicate which cme_widths are lower bounds, make a new column with the info, then remove the non-numeric characters**"
      ],
      "id": "aV-p7NLUh8BV"
    },
    {
      "cell_type": "code",
      "metadata": {
        "id": "r8DfIgZwh7E2"
      },
      "source": [
        "column_vals = []\n",
        "for index,value in nasa_df[\"cme_width\"].iteritems():\n",
        "  if pd.isnull(value) == True:\n",
        "    column_vals.append(0)\n",
        "  elif \">\" in value:\n",
        "        column_vals.append(1)\n",
        "  else:\n",
        "    column_vals.append(0)\n",
        "nasa_df[\"lower_bound\"] = column_vals"
      ],
      "id": "r8DfIgZwh7E2",
      "execution_count": 362,
      "outputs": []
    },
    {
      "cell_type": "code",
      "metadata": {
        "id": "osEaIR5Sh7PA"
      },
      "source": [
        "def remove_sign(str):\n",
        "  if pd.isnull(str) == True:\n",
        "    return str\n",
        "  return re.sub(\">\",\"\",str)\n",
        "\n",
        "nasa_df[\"cme_width\"] = nasa_df[\"cme_width\"].apply(remove_sign)"
      ],
      "id": "osEaIR5Sh7PA",
      "execution_count": 363,
      "outputs": []
    },
    {
      "cell_type": "markdown",
      "metadata": {
        "id": "ISxtJrddnmKU"
      },
      "source": [
        "**Reformat date columns and drop repetitive data**"
      ],
      "id": "ISxtJrddnmKU"
    },
    {
      "cell_type": "code",
      "metadata": {
        "id": "ZFjK6nl7nrZx"
      },
      "source": [
        "# for index, row in nasa_df.iterrows():\n",
        "#     nasa_df[\"start_date\"] = pd.to_datetime(nasa_df[\"start_date\"],format=\"%Y/%m/%d\")\n",
        "#     nasa_df[\"start_time\"] = pd.to_timedelta( pd.to_datetime(nasa_df[\"start_time\"],format=\"%H:%S\"))\n",
        "#     nasa_df[\"start_time\"] = nasa_df[\"start_date\"] + nasa_df[\"start_time\"]"
      ],
      "id": "ZFjK6nl7nrZx",
      "execution_count": 364,
      "outputs": []
    },
    {
      "cell_type": "code",
      "metadata": {
        "id": "pBtWPfstnrce"
      },
      "source": [
        ""
      ],
      "id": "pBtWPfstnrce",
      "execution_count": 364,
      "outputs": []
    },
    {
      "cell_type": "code",
      "metadata": {
        "id": "y-f8QLAHnre2"
      },
      "source": [
        ""
      ],
      "id": "y-f8QLAHnre2",
      "execution_count": 364,
      "outputs": []
    },
    {
      "cell_type": "code",
      "metadata": {
        "id": "qpvykU7UabYj",
        "outputId": "63f34a68-47c8-4943-bd08-9f5b6c3b8600",
        "colab": {
          "base_uri": "https://localhost:8080/",
          "height": 410
        }
      },
      "source": [
        "display(nasa_df.loc[20:30])"
      ],
      "id": "qpvykU7UabYj",
      "execution_count": 365,
      "outputs": [
        {
          "output_type": "display_data",
          "data": {
            "text/html": [
              "<div>\n",
              "<style scoped>\n",
              "    .dataframe tbody tr th:only-of-type {\n",
              "        vertical-align: middle;\n",
              "    }\n",
              "\n",
              "    .dataframe tbody tr th {\n",
              "        vertical-align: top;\n",
              "    }\n",
              "\n",
              "    .dataframe thead th {\n",
              "        text-align: right;\n",
              "    }\n",
              "</style>\n",
              "<table border=\"1\" class=\"dataframe\">\n",
              "  <thead>\n",
              "    <tr style=\"text-align: right;\">\n",
              "      <th></th>\n",
              "      <th>start_date</th>\n",
              "      <th>start_time</th>\n",
              "      <th>end_date</th>\n",
              "      <th>end_time</th>\n",
              "      <th>start_freq</th>\n",
              "      <th>end_freq</th>\n",
              "      <th>location</th>\n",
              "      <th>region</th>\n",
              "      <th>xray_importance</th>\n",
              "      <th>cme_date</th>\n",
              "      <th>cme_time</th>\n",
              "      <th>central_pos_angle</th>\n",
              "      <th>cme_width</th>\n",
              "      <th>cme_speed</th>\n",
              "      <th>is_halo</th>\n",
              "      <th>lower_bound</th>\n",
              "    </tr>\n",
              "  </thead>\n",
              "  <tbody>\n",
              "    <tr>\n",
              "      <th>20</th>\n",
              "      <td>1998/05/09</td>\n",
              "      <td>03:35</td>\n",
              "      <td>05/09</td>\n",
              "      <td>10:00</td>\n",
              "      <td>9000</td>\n",
              "      <td>400</td>\n",
              "      <td>S14W89</td>\n",
              "      <td>8210</td>\n",
              "      <td>M7.7</td>\n",
              "      <td>05/09</td>\n",
              "      <td>03:35</td>\n",
              "      <td>262</td>\n",
              "      <td>178</td>\n",
              "      <td>2331</td>\n",
              "      <td>0</td>\n",
              "      <td>0</td>\n",
              "    </tr>\n",
              "    <tr>\n",
              "      <th>21</th>\n",
              "      <td>1998/05/11</td>\n",
              "      <td>21:40</td>\n",
              "      <td>05/11</td>\n",
              "      <td>22:00</td>\n",
              "      <td>10000</td>\n",
              "      <td>1000</td>\n",
              "      <td>N32W90</td>\n",
              "      <td>8214</td>\n",
              "      <td>B6.6</td>\n",
              "      <td>05/11</td>\n",
              "      <td>21:55</td>\n",
              "      <td>208</td>\n",
              "      <td>301</td>\n",
              "      <td>830</td>\n",
              "      <td>0</td>\n",
              "      <td>1</td>\n",
              "    </tr>\n",
              "    <tr>\n",
              "      <th>22</th>\n",
              "      <td>1998/05/19</td>\n",
              "      <td>10:00</td>\n",
              "      <td>05/19</td>\n",
              "      <td>11:30</td>\n",
              "      <td>14000</td>\n",
              "      <td>3000</td>\n",
              "      <td>N23W43</td>\n",
              "      <td>8222</td>\n",
              "      <td>B5.7</td>\n",
              "      <td>05/19</td>\n",
              "      <td>10:27</td>\n",
              "      <td>268</td>\n",
              "      <td>139</td>\n",
              "      <td>801</td>\n",
              "      <td>0</td>\n",
              "      <td>0</td>\n",
              "    </tr>\n",
              "    <tr>\n",
              "      <th>23</th>\n",
              "      <td>1998/05/27</td>\n",
              "      <td>13:30</td>\n",
              "      <td>05/27</td>\n",
              "      <td>14:20</td>\n",
              "      <td>4000</td>\n",
              "      <td>1000</td>\n",
              "      <td>N19W62</td>\n",
              "      <td>8226</td>\n",
              "      <td>C7.5</td>\n",
              "      <td>05/27</td>\n",
              "      <td>13:45</td>\n",
              "      <td>175</td>\n",
              "      <td>268</td>\n",
              "      <td>878</td>\n",
              "      <td>0</td>\n",
              "      <td>0</td>\n",
              "    </tr>\n",
              "    <tr>\n",
              "      <th>24</th>\n",
              "      <td>1998/06/11</td>\n",
              "      <td>10:15</td>\n",
              "      <td>06/11</td>\n",
              "      <td>10:20</td>\n",
              "      <td>8000</td>\n",
              "      <td>4000</td>\n",
              "      <td>N16E86</td>\n",
              "      <td>8243</td>\n",
              "      <td>M1.4</td>\n",
              "      <td>06/11</td>\n",
              "      <td>10:28</td>\n",
              "      <td>123</td>\n",
              "      <td>177</td>\n",
              "      <td>1223</td>\n",
              "      <td>0</td>\n",
              "      <td>0</td>\n",
              "    </tr>\n",
              "    <tr>\n",
              "      <th>25</th>\n",
              "      <td>1998/06/16</td>\n",
              "      <td>18:20</td>\n",
              "      <td>06/17</td>\n",
              "      <td>21:00</td>\n",
              "      <td>12000</td>\n",
              "      <td>50</td>\n",
              "      <td>S22W90</td>\n",
              "      <td>8232</td>\n",
              "      <td>M1.0</td>\n",
              "      <td>06/16</td>\n",
              "      <td>18:27</td>\n",
              "      <td>341</td>\n",
              "      <td>281</td>\n",
              "      <td>1484</td>\n",
              "      <td>0</td>\n",
              "      <td>0</td>\n",
              "    </tr>\n",
              "    <tr>\n",
              "      <th>26</th>\n",
              "      <td>1998/06/20</td>\n",
              "      <td>19:39</td>\n",
              "      <td>06/20</td>\n",
              "      <td>20:00</td>\n",
              "      <td>2600</td>\n",
              "      <td>1800</td>\n",
              "      <td>BACK</td>\n",
              "      <td>NaN</td>\n",
              "      <td>NaN</td>\n",
              "      <td>06/20</td>\n",
              "      <td>18:20</td>\n",
              "      <td>NaN</td>\n",
              "      <td>360</td>\n",
              "      <td>964</td>\n",
              "      <td>1</td>\n",
              "      <td>0</td>\n",
              "    </tr>\n",
              "    <tr>\n",
              "      <th>27</th>\n",
              "      <td>1998/06/22</td>\n",
              "      <td>07:15</td>\n",
              "      <td>06/22</td>\n",
              "      <td>09:20</td>\n",
              "      <td>6000</td>\n",
              "      <td>2000</td>\n",
              "      <td>N16W46</td>\n",
              "      <td>8243</td>\n",
              "      <td>C2.9</td>\n",
              "      <td>06/22</td>\n",
              "      <td>05:01</td>\n",
              "      <td>265</td>\n",
              "      <td>59</td>\n",
              "      <td>206</td>\n",
              "      <td>0</td>\n",
              "      <td>0</td>\n",
              "    </tr>\n",
              "    <tr>\n",
              "      <th>28</th>\n",
              "      <td>1998/11/02</td>\n",
              "      <td>14:00</td>\n",
              "      <td>11/02</td>\n",
              "      <td>14:40</td>\n",
              "      <td>14000</td>\n",
              "      <td>4000</td>\n",
              "      <td>S25E44</td>\n",
              "      <td>8373</td>\n",
              "      <td>C4.4</td>\n",
              "      <td>11/02</td>\n",
              "      <td>14:18</td>\n",
              "      <td>116</td>\n",
              "      <td>169</td>\n",
              "      <td>661</td>\n",
              "      <td>0</td>\n",
              "      <td>0</td>\n",
              "    </tr>\n",
              "    <tr>\n",
              "      <th>29</th>\n",
              "      <td>1998/11/05</td>\n",
              "      <td>22:00</td>\n",
              "      <td>11/07</td>\n",
              "      <td>08:00</td>\n",
              "      <td>5000</td>\n",
              "      <td>50</td>\n",
              "      <td>N22W18</td>\n",
              "      <td>8375</td>\n",
              "      <td>M8.4</td>\n",
              "      <td>11/05</td>\n",
              "      <td>20:44</td>\n",
              "      <td>NaN</td>\n",
              "      <td>360</td>\n",
              "      <td>1118</td>\n",
              "      <td>1</td>\n",
              "      <td>0</td>\n",
              "    </tr>\n",
              "    <tr>\n",
              "      <th>30</th>\n",
              "      <td>1998/11/06</td>\n",
              "      <td>03:00</td>\n",
              "      <td>11/06</td>\n",
              "      <td>05:30</td>\n",
              "      <td>5000</td>\n",
              "      <td>1000</td>\n",
              "      <td>BACK</td>\n",
              "      <td>NaN</td>\n",
              "      <td>NaN</td>\n",
              "      <td>11/06</td>\n",
              "      <td>02:18</td>\n",
              "      <td>159</td>\n",
              "      <td>160</td>\n",
              "      <td>405</td>\n",
              "      <td>0</td>\n",
              "      <td>1</td>\n",
              "    </tr>\n",
              "  </tbody>\n",
              "</table>\n",
              "</div>"
            ],
            "text/plain": [
              "    start_date start_time end_date end_time start_freq end_freq location region xray_importance cme_date cme_time central_pos_angle cme_width cme_speed  is_halo  lower_bound\n",
              "20  1998/05/09      03:35    05/09    10:00       9000      400   S14W89   8210            M7.7    05/09    03:35               262       178      2331        0            0\n",
              "21  1998/05/11      21:40    05/11    22:00      10000     1000   N32W90   8214            B6.6    05/11    21:55               208       301       830        0            1\n",
              "22  1998/05/19      10:00    05/19    11:30      14000     3000   N23W43   8222            B5.7    05/19    10:27               268       139       801        0            0\n",
              "23  1998/05/27      13:30    05/27    14:20       4000     1000   N19W62   8226            C7.5    05/27    13:45               175       268       878        0            0\n",
              "24  1998/06/11      10:15    06/11    10:20       8000     4000   N16E86   8243            M1.4    06/11    10:28               123       177      1223        0            0\n",
              "25  1998/06/16      18:20    06/17    21:00      12000       50   S22W90   8232            M1.0    06/16    18:27               341       281      1484        0            0\n",
              "26  1998/06/20      19:39    06/20    20:00       2600     1800     BACK    NaN             NaN    06/20    18:20               NaN       360       964        1            0\n",
              "27  1998/06/22      07:15    06/22    09:20       6000     2000   N16W46   8243            C2.9    06/22    05:01               265        59       206        0            0\n",
              "28  1998/11/02      14:00    11/02    14:40      14000     4000   S25E44   8373            C4.4    11/02    14:18               116       169       661        0            0\n",
              "29  1998/11/05      22:00    11/07    08:00       5000       50   N22W18   8375            M8.4    11/05    20:44               NaN       360      1118        1            0\n",
              "30  1998/11/06      03:00    11/06    05:30       5000     1000     BACK    NaN             NaN    11/06    02:18               159       160       405        0            1"
            ]
          },
          "metadata": {}
        }
      ]
    },
    {
      "cell_type": "code",
      "metadata": {
        "id": "7hQUjqX4dxHo"
      },
      "source": [
        ""
      ],
      "id": "7hQUjqX4dxHo",
      "execution_count": 365,
      "outputs": []
    }
  ]
}