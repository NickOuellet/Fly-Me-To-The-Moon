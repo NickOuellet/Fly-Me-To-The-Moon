{
  "nbformat": 4,
  "nbformat_minor": 5,
  "metadata": {
    "interpreter": {
      "hash": "4bd3767b9a68b1809be1a8a3b2146e6067673f8776213bfbf5c8fe8ac7d04b67"
    },
    "kernelspec": {
      "display_name": "Python 3 (ipykernel)",
      "language": "python",
      "name": "python3"
    },
    "language_info": {
      "codemirror_mode": {
        "name": "ipython",
        "version": 3
      },
      "file_extension": ".py",
      "mimetype": "text/x-python",
      "name": "python",
      "nbconvert_exporter": "python",
      "pygments_lexer": "ipython3",
      "version": "3.9.6"
    },
    "colab": {
      "name": "Fly Me To The Moon - Proj 1 Part 1-2.ipynb",
      "provenance": []
    }
  },
  "cells": [
    {
      "cell_type": "code",
      "metadata": {
        "id": "b5a544b0",
        "colab": {
          "base_uri": "https://localhost:8080/"
        },
        "outputId": "946ba8f2-2a9e-4284-90cb-d8d3003e30eb"
      },
      "source": [
        "pip install lxml"
      ],
      "id": "b5a544b0",
      "execution_count": 84,
      "outputs": [
        {
          "output_type": "stream",
          "name": "stdout",
          "text": [
            "Requirement already satisfied: lxml in /usr/local/lib/python3.7/dist-packages (4.2.6)\n"
          ]
        }
      ]
    },
    {
      "cell_type": "code",
      "metadata": {
        "id": "e499132b"
      },
      "source": [
        "from bs4 import BeautifulSoup\n",
        "import numpy as np\n",
        "import pandas as pd\n",
        "import requests\n",
        "import lxml\n",
        "import re"
      ],
      "id": "e499132b",
      "execution_count": 85,
      "outputs": []
    },
    {
      "cell_type": "markdown",
      "metadata": {
        "id": "28ec6d50"
      },
      "source": [
        "## Meeting Plan for Nicolas Ouellet and Benedicte Knudson:\n",
        "We colaborated over Zoom and in person **two** times and used a shared Github Repository that can be found [here](https://github.com/NickOuellet/Fly-Me-To-The-Moon). <br />\n",
        "We met: <br />\n",
        "10/11: 5-7pm <br />\n",
        "10/20: 10-12pm <br />"
      ],
      "id": "28ec6d50"
    },
    {
      "cell_type": "markdown",
      "metadata": {
        "id": "9834894e"
      },
      "source": [
        "### Step 1"
      ],
      "id": "9834894e"
    },
    {
      "cell_type": "code",
      "metadata": {
        "id": "09dc9234",
        "colab": {
          "base_uri": "https://localhost:8080/"
        },
        "outputId": "5893fa02-e9a2-4826-d93c-f21d3dfa96a6"
      },
      "source": [
        "headers = {'User-Agent': 'Mozilla/5.0 (Macintosh; Intel Mac OS X 10_10_1) AppleWebKit/537.36 (KHTML, like Gecko) Chrome/39.0.2171.95 Safari/537.36'}\n",
        "r = requests.get(\"https://www.spaceweatherlive.com/en/solar-activity/top-50-solar-flares.html\",timeout=10,headers=headers)\n",
        "r.status_code"
      ],
      "id": "09dc9234",
      "execution_count": 86,
      "outputs": [
        {
          "output_type": "execute_result",
          "data": {
            "text/plain": [
              "200"
            ]
          },
          "metadata": {},
          "execution_count": 86
        }
      ]
    },
    {
      "cell_type": "code",
      "metadata": {
        "id": "76d3644d"
      },
      "source": [
        "text_response = r.content #https://stackoverflow.com/questions/52389692/beautifulsoup-and-prettify-function\n",
        "soup = BeautifulSoup(text_response,\"html.parser\")"
      ],
      "id": "76d3644d",
      "execution_count": 87,
      "outputs": []
    },
    {
      "cell_type": "code",
      "metadata": {
        "scrolled": true,
        "id": "3a8fd1be"
      },
      "source": [
        "table = soup.findAll(\"table\") #find the table in the HTML"
      ],
      "id": "3a8fd1be",
      "execution_count": 88,
      "outputs": []
    },
    {
      "cell_type": "code",
      "metadata": {
        "id": "8d38ccdb"
      },
      "source": [
        "solar_flare_df = pd.read_html(str(table))"
      ],
      "id": "8d38ccdb",
      "execution_count": 89,
      "outputs": []
    },
    {
      "cell_type": "code",
      "metadata": {
        "id": "7469438b"
      },
      "source": [
        "solfla_df = solar_flare_df[0]#works when we just select the first table"
      ],
      "id": "7469438b",
      "execution_count": 90,
      "outputs": []
    },
    {
      "cell_type": "code",
      "metadata": {
        "id": "7bde39e8"
      },
      "source": [
        "solfla_df.columns = [\"rank\", \"x_classification\", \"date\", \"region\", \"start_time\", \"maximum_time\", \"end_time\", \"movie\"] #rename columns to be more descriptive"
      ],
      "id": "7bde39e8",
      "execution_count": 91,
      "outputs": []
    },
    {
      "cell_type": "code",
      "metadata": {
        "id": "3e5d86a9",
        "colab": {
          "base_uri": "https://localhost:8080/",
          "height": 204
        },
        "outputId": "4c28ddb9-1af8-4d04-83f2-4e1949a6ee38"
      },
      "source": [
        "solfla_df.head()"
      ],
      "id": "3e5d86a9",
      "execution_count": 92,
      "outputs": [
        {
          "output_type": "execute_result",
          "data": {
            "text/html": [
              "<div>\n",
              "<style scoped>\n",
              "    .dataframe tbody tr th:only-of-type {\n",
              "        vertical-align: middle;\n",
              "    }\n",
              "\n",
              "    .dataframe tbody tr th {\n",
              "        vertical-align: top;\n",
              "    }\n",
              "\n",
              "    .dataframe thead th {\n",
              "        text-align: right;\n",
              "    }\n",
              "</style>\n",
              "<table border=\"1\" class=\"dataframe\">\n",
              "  <thead>\n",
              "    <tr style=\"text-align: right;\">\n",
              "      <th></th>\n",
              "      <th>rank</th>\n",
              "      <th>x_classification</th>\n",
              "      <th>date</th>\n",
              "      <th>region</th>\n",
              "      <th>start_time</th>\n",
              "      <th>maximum_time</th>\n",
              "      <th>end_time</th>\n",
              "      <th>movie</th>\n",
              "    </tr>\n",
              "  </thead>\n",
              "  <tbody>\n",
              "    <tr>\n",
              "      <th>0</th>\n",
              "      <td>1</td>\n",
              "      <td>X28+</td>\n",
              "      <td>2003/11/04</td>\n",
              "      <td>486</td>\n",
              "      <td>19:29</td>\n",
              "      <td>19:53</td>\n",
              "      <td>20:06</td>\n",
              "      <td>MovieView archive</td>\n",
              "    </tr>\n",
              "    <tr>\n",
              "      <th>1</th>\n",
              "      <td>2</td>\n",
              "      <td>X20+</td>\n",
              "      <td>2001/04/02</td>\n",
              "      <td>9393</td>\n",
              "      <td>21:32</td>\n",
              "      <td>21:51</td>\n",
              "      <td>22:03</td>\n",
              "      <td>MovieView archive</td>\n",
              "    </tr>\n",
              "    <tr>\n",
              "      <th>2</th>\n",
              "      <td>3</td>\n",
              "      <td>X17.2+</td>\n",
              "      <td>2003/10/28</td>\n",
              "      <td>486</td>\n",
              "      <td>09:51</td>\n",
              "      <td>11:10</td>\n",
              "      <td>11:24</td>\n",
              "      <td>MovieView archive</td>\n",
              "    </tr>\n",
              "    <tr>\n",
              "      <th>3</th>\n",
              "      <td>4</td>\n",
              "      <td>X17+</td>\n",
              "      <td>2005/09/07</td>\n",
              "      <td>808</td>\n",
              "      <td>17:17</td>\n",
              "      <td>17:40</td>\n",
              "      <td>18:03</td>\n",
              "      <td>MovieView archive</td>\n",
              "    </tr>\n",
              "    <tr>\n",
              "      <th>4</th>\n",
              "      <td>5</td>\n",
              "      <td>X14.4</td>\n",
              "      <td>2001/04/15</td>\n",
              "      <td>9415</td>\n",
              "      <td>13:19</td>\n",
              "      <td>13:50</td>\n",
              "      <td>13:55</td>\n",
              "      <td>MovieView archive</td>\n",
              "    </tr>\n",
              "  </tbody>\n",
              "</table>\n",
              "</div>"
            ],
            "text/plain": [
              "   rank x_classification        date  ...  maximum_time end_time              movie\n",
              "0     1             X28+  2003/11/04  ...         19:53    20:06  MovieView archive\n",
              "1     2             X20+  2001/04/02  ...         21:51    22:03  MovieView archive\n",
              "2     3           X17.2+  2003/10/28  ...         11:10    11:24  MovieView archive\n",
              "3     4             X17+  2005/09/07  ...         17:40    18:03  MovieView archive\n",
              "4     5            X14.4  2001/04/15  ...         13:50    13:55  MovieView archive\n",
              "\n",
              "[5 rows x 8 columns]"
            ]
          },
          "metadata": {},
          "execution_count": 92
        }
      ]
    },
    {
      "cell_type": "markdown",
      "metadata": {
        "id": "28f6f2cd"
      },
      "source": [
        "### Step 2"
      ],
      "id": "28f6f2cd"
    },
    {
      "cell_type": "code",
      "metadata": {
        "id": "c5cc3347",
        "colab": {
          "base_uri": "https://localhost:8080/",
          "height": 204
        },
        "outputId": "789f3391-d16f-4314-b788-0aabec921df3"
      },
      "source": [
        "solfla_df = solfla_df[[\"rank\", \"x_classification\", \"date\", \"start_time\", \"maximum_time\", \"end_time\",\"region\"]]\n",
        "solfla_df.head()"
      ],
      "id": "c5cc3347",
      "execution_count": 93,
      "outputs": [
        {
          "output_type": "execute_result",
          "data": {
            "text/html": [
              "<div>\n",
              "<style scoped>\n",
              "    .dataframe tbody tr th:only-of-type {\n",
              "        vertical-align: middle;\n",
              "    }\n",
              "\n",
              "    .dataframe tbody tr th {\n",
              "        vertical-align: top;\n",
              "    }\n",
              "\n",
              "    .dataframe thead th {\n",
              "        text-align: right;\n",
              "    }\n",
              "</style>\n",
              "<table border=\"1\" class=\"dataframe\">\n",
              "  <thead>\n",
              "    <tr style=\"text-align: right;\">\n",
              "      <th></th>\n",
              "      <th>rank</th>\n",
              "      <th>x_classification</th>\n",
              "      <th>date</th>\n",
              "      <th>start_time</th>\n",
              "      <th>maximum_time</th>\n",
              "      <th>end_time</th>\n",
              "      <th>region</th>\n",
              "    </tr>\n",
              "  </thead>\n",
              "  <tbody>\n",
              "    <tr>\n",
              "      <th>0</th>\n",
              "      <td>1</td>\n",
              "      <td>X28+</td>\n",
              "      <td>2003/11/04</td>\n",
              "      <td>19:29</td>\n",
              "      <td>19:53</td>\n",
              "      <td>20:06</td>\n",
              "      <td>486</td>\n",
              "    </tr>\n",
              "    <tr>\n",
              "      <th>1</th>\n",
              "      <td>2</td>\n",
              "      <td>X20+</td>\n",
              "      <td>2001/04/02</td>\n",
              "      <td>21:32</td>\n",
              "      <td>21:51</td>\n",
              "      <td>22:03</td>\n",
              "      <td>9393</td>\n",
              "    </tr>\n",
              "    <tr>\n",
              "      <th>2</th>\n",
              "      <td>3</td>\n",
              "      <td>X17.2+</td>\n",
              "      <td>2003/10/28</td>\n",
              "      <td>09:51</td>\n",
              "      <td>11:10</td>\n",
              "      <td>11:24</td>\n",
              "      <td>486</td>\n",
              "    </tr>\n",
              "    <tr>\n",
              "      <th>3</th>\n",
              "      <td>4</td>\n",
              "      <td>X17+</td>\n",
              "      <td>2005/09/07</td>\n",
              "      <td>17:17</td>\n",
              "      <td>17:40</td>\n",
              "      <td>18:03</td>\n",
              "      <td>808</td>\n",
              "    </tr>\n",
              "    <tr>\n",
              "      <th>4</th>\n",
              "      <td>5</td>\n",
              "      <td>X14.4</td>\n",
              "      <td>2001/04/15</td>\n",
              "      <td>13:19</td>\n",
              "      <td>13:50</td>\n",
              "      <td>13:55</td>\n",
              "      <td>9415</td>\n",
              "    </tr>\n",
              "  </tbody>\n",
              "</table>\n",
              "</div>"
            ],
            "text/plain": [
              "   rank x_classification        date start_time maximum_time end_time  region\n",
              "0     1             X28+  2003/11/04      19:29        19:53    20:06     486\n",
              "1     2             X20+  2001/04/02      21:32        21:51    22:03    9393\n",
              "2     3           X17.2+  2003/10/28      09:51        11:10    11:24     486\n",
              "3     4             X17+  2005/09/07      17:17        17:40    18:03     808\n",
              "4     5            X14.4  2001/04/15      13:19        13:50    13:55    9415"
            ]
          },
          "metadata": {},
          "execution_count": 93
        }
      ]
    },
    {
      "cell_type": "code",
      "metadata": {
        "id": "k4vcHmTAlnYq"
      },
      "source": [
        ""
      ],
      "id": "k4vcHmTAlnYq",
      "execution_count": 93,
      "outputs": []
    },
    {
      "cell_type": "code",
      "metadata": {
        "id": "71cf6493"
      },
      "source": [
        "import datetime"
      ],
      "id": "71cf6493",
      "execution_count": 94,
      "outputs": []
    },
    {
      "cell_type": "code",
      "metadata": {
        "id": "c7191a79",
        "colab": {
          "base_uri": "https://localhost:8080/"
        },
        "outputId": "f5d5eb68-5371-4be2-96db-09538be2d78a"
      },
      "source": [
        "for index, row in solfla_df.iterrows():\n",
        "    solfla_df[\"start_time\"] = pd.to_datetime(solfla_df[\"start_time\"])\n",
        "    solfla_df[\"maximum_time\"] = pd.to_datetime(solfla_df[\"maximum_time\"])\n",
        "    solfla_df[\"end_time\"] = pd.to_datetime(solfla_df[\"end_time\"])\n"
      ],
      "id": "c7191a79",
      "execution_count": 95,
      "outputs": [
        {
          "output_type": "stream",
          "name": "stderr",
          "text": [
            "/usr/local/lib/python3.7/dist-packages/ipykernel_launcher.py:2: SettingWithCopyWarning: \n",
            "A value is trying to be set on a copy of a slice from a DataFrame.\n",
            "Try using .loc[row_indexer,col_indexer] = value instead\n",
            "\n",
            "See the caveats in the documentation: https://pandas.pydata.org/pandas-docs/stable/user_guide/indexing.html#returning-a-view-versus-a-copy\n",
            "  \n",
            "/usr/local/lib/python3.7/dist-packages/ipykernel_launcher.py:3: SettingWithCopyWarning: \n",
            "A value is trying to be set on a copy of a slice from a DataFrame.\n",
            "Try using .loc[row_indexer,col_indexer] = value instead\n",
            "\n",
            "See the caveats in the documentation: https://pandas.pydata.org/pandas-docs/stable/user_guide/indexing.html#returning-a-view-versus-a-copy\n",
            "  This is separate from the ipykernel package so we can avoid doing imports until\n",
            "/usr/local/lib/python3.7/dist-packages/ipykernel_launcher.py:4: SettingWithCopyWarning: \n",
            "A value is trying to be set on a copy of a slice from a DataFrame.\n",
            "Try using .loc[row_indexer,col_indexer] = value instead\n",
            "\n",
            "See the caveats in the documentation: https://pandas.pydata.org/pandas-docs/stable/user_guide/indexing.html#returning-a-view-versus-a-copy\n",
            "  after removing the cwd from sys.path.\n"
          ]
        }
      ]
    },
    {
      "cell_type": "code",
      "metadata": {
        "colab": {
          "base_uri": "https://localhost:8080/",
          "height": 289
        },
        "id": "XvGf14bUURvB",
        "outputId": "3df6c718-8740-46cf-9849-3a128b2f1660"
      },
      "source": [
        "solfla_df.drop(columns=\"date\",inplace=True) #drop date table\n",
        "\n",
        "solfla_df.head()"
      ],
      "id": "XvGf14bUURvB",
      "execution_count": 96,
      "outputs": [
        {
          "output_type": "stream",
          "name": "stderr",
          "text": [
            "/usr/local/lib/python3.7/dist-packages/pandas/core/frame.py:4174: SettingWithCopyWarning: \n",
            "A value is trying to be set on a copy of a slice from a DataFrame\n",
            "\n",
            "See the caveats in the documentation: https://pandas.pydata.org/pandas-docs/stable/user_guide/indexing.html#returning-a-view-versus-a-copy\n",
            "  errors=errors,\n"
          ]
        },
        {
          "output_type": "execute_result",
          "data": {
            "text/html": [
              "<div>\n",
              "<style scoped>\n",
              "    .dataframe tbody tr th:only-of-type {\n",
              "        vertical-align: middle;\n",
              "    }\n",
              "\n",
              "    .dataframe tbody tr th {\n",
              "        vertical-align: top;\n",
              "    }\n",
              "\n",
              "    .dataframe thead th {\n",
              "        text-align: right;\n",
              "    }\n",
              "</style>\n",
              "<table border=\"1\" class=\"dataframe\">\n",
              "  <thead>\n",
              "    <tr style=\"text-align: right;\">\n",
              "      <th></th>\n",
              "      <th>rank</th>\n",
              "      <th>x_classification</th>\n",
              "      <th>start_time</th>\n",
              "      <th>maximum_time</th>\n",
              "      <th>end_time</th>\n",
              "      <th>region</th>\n",
              "    </tr>\n",
              "  </thead>\n",
              "  <tbody>\n",
              "    <tr>\n",
              "      <th>0</th>\n",
              "      <td>1</td>\n",
              "      <td>X28+</td>\n",
              "      <td>2021-10-22 19:29:00</td>\n",
              "      <td>2021-10-22 19:53:00</td>\n",
              "      <td>2021-10-22 20:06:00</td>\n",
              "      <td>486</td>\n",
              "    </tr>\n",
              "    <tr>\n",
              "      <th>1</th>\n",
              "      <td>2</td>\n",
              "      <td>X20+</td>\n",
              "      <td>2021-10-22 21:32:00</td>\n",
              "      <td>2021-10-22 21:51:00</td>\n",
              "      <td>2021-10-22 22:03:00</td>\n",
              "      <td>9393</td>\n",
              "    </tr>\n",
              "    <tr>\n",
              "      <th>2</th>\n",
              "      <td>3</td>\n",
              "      <td>X17.2+</td>\n",
              "      <td>2021-10-22 09:51:00</td>\n",
              "      <td>2021-10-22 11:10:00</td>\n",
              "      <td>2021-10-22 11:24:00</td>\n",
              "      <td>486</td>\n",
              "    </tr>\n",
              "    <tr>\n",
              "      <th>3</th>\n",
              "      <td>4</td>\n",
              "      <td>X17+</td>\n",
              "      <td>2021-10-22 17:17:00</td>\n",
              "      <td>2021-10-22 17:40:00</td>\n",
              "      <td>2021-10-22 18:03:00</td>\n",
              "      <td>808</td>\n",
              "    </tr>\n",
              "    <tr>\n",
              "      <th>4</th>\n",
              "      <td>5</td>\n",
              "      <td>X14.4</td>\n",
              "      <td>2021-10-22 13:19:00</td>\n",
              "      <td>2021-10-22 13:50:00</td>\n",
              "      <td>2021-10-22 13:55:00</td>\n",
              "      <td>9415</td>\n",
              "    </tr>\n",
              "  </tbody>\n",
              "</table>\n",
              "</div>"
            ],
            "text/plain": [
              "   rank x_classification  ...            end_time region\n",
              "0     1             X28+  ... 2021-10-22 20:06:00    486\n",
              "1     2             X20+  ... 2021-10-22 22:03:00   9393\n",
              "2     3           X17.2+  ... 2021-10-22 11:24:00    486\n",
              "3     4             X17+  ... 2021-10-22 18:03:00    808\n",
              "4     5            X14.4  ... 2021-10-22 13:55:00   9415\n",
              "\n",
              "[5 rows x 6 columns]"
            ]
          },
          "metadata": {},
          "execution_count": 96
        }
      ]
    },
    {
      "cell_type": "markdown",
      "metadata": {
        "id": "6a17aa9e"
      },
      "source": [
        "### Step 3"
      ],
      "id": "6a17aa9e"
    },
    {
      "cell_type": "code",
      "metadata": {
        "id": "b822f064",
        "colab": {
          "base_uri": "https://localhost:8080/"
        },
        "outputId": "40766acf-f9b9-4045-e6a9-bac0d7335f21"
      },
      "source": [
        "headers = {'User-Agent': 'Mozilla/5.0 (Macintosh; Intel Mac OS X 10_10_1) AppleWebKit/537.36 (KHTML, like Gecko) Chrome/39.0.2171.95 Safari/537.36'}\n",
        "r = requests.get(\"https://cdaw.gsfc.nasa.gov/CME_list/radio/waves_type2.html\",timeout=10,headers=headers)\n",
        "r.status_code"
      ],
      "id": "b822f064",
      "execution_count": 97,
      "outputs": [
        {
          "output_type": "execute_result",
          "data": {
            "text/plain": [
              "200"
            ]
          },
          "metadata": {},
          "execution_count": 97
        }
      ]
    },
    {
      "cell_type": "code",
      "metadata": {
        "id": "931db0b8"
      },
      "source": [
        "text_response = r.content #https://stackoverflow.com/questions/52389692/beautifulsoup-and-prettify-function\n",
        "soup = BeautifulSoup(text_response,\"html.parser\")\n",
        "table = soup.get_text()\n",
        "split_table = table.splitlines()\n",
        "split_table = split_table[15:]\n",
        "split_table = split_table[0:len(split_table)-2] #clean up table by removing top and bottom portion\n"
      ],
      "id": "931db0b8",
      "execution_count": 99,
      "outputs": []
    },
    {
      "cell_type": "code",
      "metadata": {
        "id": "d3wsGYmZiblQ"
      },
      "source": [
        "nasa_df = pd.DataFrame(\n",
        "    columns = [\"start_date\",\"start_time\",\"end_date\",\"end_time\",\"start_freq\",\"end_freq\",\"location\",\"region\",\"xray_importance\",\"cme_date\",\"cme_time\",\"central_pos_angle\",\"cme_width\",\"cme_speed\",\"PHTX\" ])\n",
        "for i,v in enumerate(split_table):\n",
        "  row_vals = re.findall(r\"\\S+\",row)\n",
        "  nasa_df.loc[i] = row_vals"
      ],
      "id": "d3wsGYmZiblQ",
      "execution_count": 108,
      "outputs": []
    },
    {
      "cell_type": "code",
      "metadata": {
        "id": "7EeUuRqnWbq0"
      },
      "source": [
        "nasa_df.drop(columns=[\"PHTX\"],inplace=True)"
      ],
      "id": "7EeUuRqnWbq0",
      "execution_count": 111,
      "outputs": []
    },
    {
      "cell_type": "code",
      "metadata": {
        "colab": {
          "base_uri": "https://localhost:8080/",
          "height": 204
        },
        "id": "aRap_PrKYZ_A",
        "outputId": "56a721a2-f7b3-41ed-ad95-3b5834ba6561"
      },
      "source": [
        "nasa_df.loc[0:5]"
      ],
      "id": "aRap_PrKYZ_A",
      "execution_count": 121,
      "outputs": [
        {
          "output_type": "execute_result",
          "data": {
            "text/html": [
              "<div>\n",
              "<style scoped>\n",
              "    .dataframe tbody tr th:only-of-type {\n",
              "        vertical-align: middle;\n",
              "    }\n",
              "\n",
              "    .dataframe tbody tr th {\n",
              "        vertical-align: top;\n",
              "    }\n",
              "\n",
              "    .dataframe thead th {\n",
              "        text-align: right;\n",
              "    }\n",
              "</style>\n",
              "<table border=\"1\" class=\"dataframe\">\n",
              "  <thead>\n",
              "    <tr style=\"text-align: right;\">\n",
              "      <th></th>\n",
              "      <th>start_date</th>\n",
              "      <th>start_time</th>\n",
              "      <th>end_date</th>\n",
              "      <th>end_time</th>\n",
              "      <th>start_freq</th>\n",
              "      <th>end_freq</th>\n",
              "      <th>location</th>\n",
              "      <th>region</th>\n",
              "      <th>xray_importance</th>\n",
              "      <th>cme_date</th>\n",
              "      <th>cme_time</th>\n",
              "      <th>central_pos_angle</th>\n",
              "      <th>cme_width</th>\n",
              "      <th>cme_speed</th>\n",
              "    </tr>\n",
              "  </thead>\n",
              "  <tbody>\n",
              "    <tr>\n",
              "      <th>0</th>\n",
              "      <td>2020/12/07</td>\n",
              "      <td>16:18</td>\n",
              "      <td>12/08</td>\n",
              "      <td>02:00</td>\n",
              "      <td>14000</td>\n",
              "      <td>160</td>\n",
              "      <td>S25W08</td>\n",
              "      <td>12790</td>\n",
              "      <td>C7.4</td>\n",
              "      <td>12/07</td>\n",
              "      <td>16:24</td>\n",
              "      <td>Halo</td>\n",
              "      <td>360</td>\n",
              "      <td>1407</td>\n",
              "    </tr>\n",
              "    <tr>\n",
              "      <th>1</th>\n",
              "      <td>2020/12/07</td>\n",
              "      <td>16:18</td>\n",
              "      <td>12/08</td>\n",
              "      <td>02:00</td>\n",
              "      <td>14000</td>\n",
              "      <td>160</td>\n",
              "      <td>S25W08</td>\n",
              "      <td>12790</td>\n",
              "      <td>C7.4</td>\n",
              "      <td>12/07</td>\n",
              "      <td>16:24</td>\n",
              "      <td>Halo</td>\n",
              "      <td>360</td>\n",
              "      <td>1407</td>\n",
              "    </tr>\n",
              "    <tr>\n",
              "      <th>2</th>\n",
              "      <td>2020/12/07</td>\n",
              "      <td>16:18</td>\n",
              "      <td>12/08</td>\n",
              "      <td>02:00</td>\n",
              "      <td>14000</td>\n",
              "      <td>160</td>\n",
              "      <td>S25W08</td>\n",
              "      <td>12790</td>\n",
              "      <td>C7.4</td>\n",
              "      <td>12/07</td>\n",
              "      <td>16:24</td>\n",
              "      <td>Halo</td>\n",
              "      <td>360</td>\n",
              "      <td>1407</td>\n",
              "    </tr>\n",
              "    <tr>\n",
              "      <th>3</th>\n",
              "      <td>2020/12/07</td>\n",
              "      <td>16:18</td>\n",
              "      <td>12/08</td>\n",
              "      <td>02:00</td>\n",
              "      <td>14000</td>\n",
              "      <td>160</td>\n",
              "      <td>S25W08</td>\n",
              "      <td>12790</td>\n",
              "      <td>C7.4</td>\n",
              "      <td>12/07</td>\n",
              "      <td>16:24</td>\n",
              "      <td>Halo</td>\n",
              "      <td>360</td>\n",
              "      <td>1407</td>\n",
              "    </tr>\n",
              "    <tr>\n",
              "      <th>4</th>\n",
              "      <td>2020/12/07</td>\n",
              "      <td>16:18</td>\n",
              "      <td>12/08</td>\n",
              "      <td>02:00</td>\n",
              "      <td>14000</td>\n",
              "      <td>160</td>\n",
              "      <td>S25W08</td>\n",
              "      <td>12790</td>\n",
              "      <td>C7.4</td>\n",
              "      <td>12/07</td>\n",
              "      <td>16:24</td>\n",
              "      <td>Halo</td>\n",
              "      <td>360</td>\n",
              "      <td>1407</td>\n",
              "    </tr>\n",
              "  </tbody>\n",
              "</table>\n",
              "</div>"
            ],
            "text/plain": [
              "   start_date start_time end_date  ... central_pos_angle cme_width cme_speed\n",
              "0  2020/12/07      16:18    12/08  ...              Halo       360      1407\n",
              "1  2020/12/07      16:18    12/08  ...              Halo       360      1407\n",
              "2  2020/12/07      16:18    12/08  ...              Halo       360      1407\n",
              "3  2020/12/07      16:18    12/08  ...              Halo       360      1407\n",
              "4  2020/12/07      16:18    12/08  ...              Halo       360      1407\n",
              "\n",
              "[5 rows x 14 columns]"
            ]
          },
          "metadata": {},
          "execution_count": 121
        }
      ]
    },
    {
      "cell_type": "markdown",
      "metadata": {
        "id": "tKW6x7I1ZN4u"
      },
      "source": [
        "## Step 4 - Tidy Nasa Data"
      ],
      "id": "tKW6x7I1ZN4u"
    },
    {
      "cell_type": "code",
      "metadata": {
        "colab": {
          "base_uri": "https://localhost:8080/",
          "height": 164
        },
        "id": "Ti9X_SNyZTao",
        "outputId": "83d432f3-08bc-44b2-85f2-e2bed3297603"
      },
      "source": [
        "nasa_df.replace(\"----\", np.nan,inplace=True),axis=0)"
      ],
      "id": "Ti9X_SNyZTao",
      "execution_count": 122,
      "outputs": [
        {
          "output_type": "error",
          "ename": "NameError",
          "evalue": "ignored",
          "traceback": [
            "\u001b[0;31m---------------------------------------------------------------------------\u001b[0m",
            "\u001b[0;31mNameError\u001b[0m                                 Traceback (most recent call last)",
            "\u001b[0;32m<ipython-input-122-af9704617745>\u001b[0m in \u001b[0;36m<module>\u001b[0;34m()\u001b[0m\n\u001b[0;32m----> 1\u001b[0;31m \u001b[0mnasa_df\u001b[0m\u001b[0;34m.\u001b[0m\u001b[0mapply\u001b[0m\u001b[0;34m(\u001b[0m\u001b[0mreplace\u001b[0m\u001b[0;34m(\u001b[0m\u001b[0;34m\"----\"\u001b[0m\u001b[0;34m,\u001b[0m \u001b[0mnp\u001b[0m\u001b[0;34m.\u001b[0m\u001b[0mnan\u001b[0m\u001b[0;34m,\u001b[0m\u001b[0minplace\u001b[0m\u001b[0;34m=\u001b[0m\u001b[0;32mTrue\u001b[0m\u001b[0;34m)\u001b[0m\u001b[0;34m,\u001b[0m\u001b[0maxis\u001b[0m\u001b[0;34m=\u001b[0m\u001b[0;36m0\u001b[0m\u001b[0;34m)\u001b[0m\u001b[0;34m\u001b[0m\u001b[0;34m\u001b[0m\u001b[0m\n\u001b[0m",
            "\u001b[0;31mNameError\u001b[0m: name 'replace' is not defined"
          ]
        }
      ]
    },
    {
      "cell_type": "code",
      "metadata": {
        "id": "qpvykU7UabYj"
      },
      "source": [
        ""
      ],
      "id": "qpvykU7UabYj",
      "execution_count": null,
      "outputs": []
    }
  ]
}