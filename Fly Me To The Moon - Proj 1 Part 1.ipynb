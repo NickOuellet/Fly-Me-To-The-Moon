{
  "nbformat": 4,
  "nbformat_minor": 5,
  "metadata": {
    "interpreter": {
      "hash": "4bd3767b9a68b1809be1a8a3b2146e6067673f8776213bfbf5c8fe8ac7d04b67"
    },
    "kernelspec": {
      "display_name": "Python 3 (ipykernel)",
      "language": "python",
      "name": "python3"
    },
    "language_info": {
      "codemirror_mode": {
        "name": "ipython",
        "version": 3
      },
      "file_extension": ".py",
      "mimetype": "text/x-python",
      "name": "python",
      "nbconvert_exporter": "python",
      "pygments_lexer": "ipython3",
      "version": "3.9.6"
    },
    "colab": {
      "name": "Fly Me To The Moon - Proj 1 Part 1-2.ipynb",
      "provenance": []
    }
  },
  "cells": [
    {
      "cell_type": "code",
      "metadata": {
        "id": "b5a544b0",
        "outputId": "42e81e04-fddb-47b8-aed2-be1b7cde9ca4",
        "colab": {
          "base_uri": "https://localhost:8080/"
        }
      },
      "source": [
        "pip install lxml"
      ],
      "id": "b5a544b0",
      "execution_count": 116,
      "outputs": [
        {
          "output_type": "stream",
          "name": "stdout",
          "text": [
            "Requirement already satisfied: lxml in /usr/local/lib/python3.7/dist-packages (4.2.6)\n"
          ]
        }
      ]
    },
    {
      "cell_type": "code",
      "metadata": {
        "id": "e499132b"
      },
      "source": [
        "from bs4 import BeautifulSoup\n",
        "import numpy as np\n",
        "import pandas as pd\n",
        "import requests\n",
        "import lxml\n",
        "import re"
      ],
      "id": "e499132b",
      "execution_count": 117,
      "outputs": []
    },
    {
      "cell_type": "markdown",
      "metadata": {
        "id": "28ec6d50"
      },
      "source": [
        "## Meeting Plan for Nicolas Ouellet and Benedicte Knudson:\n",
        "We colaborated over Zoom and in person **two** times and used a shared Github Repository that can be found [here](https://github.com/NickOuellet/Fly-Me-To-The-Moon). <br />\n",
        "We met: <br />\n",
        "10/11: 5-7pm <br />\n",
        "10/20: 10-12pm <br />"
      ],
      "id": "28ec6d50"
    },
    {
      "cell_type": "markdown",
      "metadata": {
        "id": "9834894e"
      },
      "source": [
        "### Step 1"
      ],
      "id": "9834894e"
    },
    {
      "cell_type": "code",
      "metadata": {
        "id": "09dc9234",
        "outputId": "43f0d227-f0d8-45a8-a0fc-32736f24b9c4",
        "colab": {
          "base_uri": "https://localhost:8080/"
        }
      },
      "source": [
        "headers = {'User-Agent': 'Mozilla/5.0 (Macintosh; Intel Mac OS X 10_10_1) AppleWebKit/537.36 (KHTML, like Gecko) Chrome/39.0.2171.95 Safari/537.36'}\n",
        "r = requests.get(\"https://www.spaceweatherlive.com/en/solar-activity/top-50-solar-flares.html\",timeout=10,headers=headers)\n",
        "r.status_code"
      ],
      "id": "09dc9234",
      "execution_count": 118,
      "outputs": [
        {
          "output_type": "execute_result",
          "data": {
            "text/plain": [
              "200"
            ]
          },
          "metadata": {},
          "execution_count": 118
        }
      ]
    },
    {
      "cell_type": "code",
      "metadata": {
        "id": "76d3644d"
      },
      "source": [
        "text_response = r.content #https://stackoverflow.com/questions/52389692/beautifulsoup-and-prettify-function\n",
        "soup = BeautifulSoup(text_response,\"html.parser\")"
      ],
      "id": "76d3644d",
      "execution_count": 119,
      "outputs": []
    },
    {
      "cell_type": "code",
      "metadata": {
        "scrolled": true,
        "id": "3a8fd1be"
      },
      "source": [
        "table = soup.findAll(\"table\") #find the table in the HTML"
      ],
      "id": "3a8fd1be",
      "execution_count": 120,
      "outputs": []
    },
    {
      "cell_type": "code",
      "metadata": {
        "id": "8d38ccdb"
      },
      "source": [
        "solar_flare_df = pd.read_html(str(table))"
      ],
      "id": "8d38ccdb",
      "execution_count": 129,
      "outputs": []
    },
    {
      "cell_type": "code",
      "metadata": {
        "id": "7469438b"
      },
      "source": [
        "solfla_df = solar_flare_df[0]#works when we just select the first table"
      ],
      "id": "7469438b",
      "execution_count": 122,
      "outputs": []
    },
    {
      "cell_type": "code",
      "metadata": {
        "id": "7bde39e8"
      },
      "source": [
        "solfla_df.columns = [\"rank\", \"x_classification\", \"date\", \"region\", \"start_time\", \"maximum_time\", \"end_time\", \"movie\"] #rename columns to be more descriptive"
      ],
      "id": "7bde39e8",
      "execution_count": 123,
      "outputs": []
    },
    {
      "cell_type": "code",
      "metadata": {
        "id": "3e5d86a9",
        "outputId": "fd7c2093-dfc3-4750-f698-b60f909cbfdc",
        "colab": {
          "base_uri": "https://localhost:8080/",
          "height": 204
        }
      },
      "source": [
        "solfla_df.head()"
      ],
      "id": "3e5d86a9",
      "execution_count": 124,
      "outputs": [
        {
          "output_type": "execute_result",
          "data": {
            "text/html": [
              "<div>\n",
              "<style scoped>\n",
              "    .dataframe tbody tr th:only-of-type {\n",
              "        vertical-align: middle;\n",
              "    }\n",
              "\n",
              "    .dataframe tbody tr th {\n",
              "        vertical-align: top;\n",
              "    }\n",
              "\n",
              "    .dataframe thead th {\n",
              "        text-align: right;\n",
              "    }\n",
              "</style>\n",
              "<table border=\"1\" class=\"dataframe\">\n",
              "  <thead>\n",
              "    <tr style=\"text-align: right;\">\n",
              "      <th></th>\n",
              "      <th>rank</th>\n",
              "      <th>x_classification</th>\n",
              "      <th>date</th>\n",
              "      <th>region</th>\n",
              "      <th>start_time</th>\n",
              "      <th>maximum_time</th>\n",
              "      <th>end_time</th>\n",
              "      <th>movie</th>\n",
              "    </tr>\n",
              "  </thead>\n",
              "  <tbody>\n",
              "    <tr>\n",
              "      <th>0</th>\n",
              "      <td>1</td>\n",
              "      <td>X28+</td>\n",
              "      <td>2003/11/04</td>\n",
              "      <td>486</td>\n",
              "      <td>19:29</td>\n",
              "      <td>19:53</td>\n",
              "      <td>20:06</td>\n",
              "      <td>MovieView archive</td>\n",
              "    </tr>\n",
              "    <tr>\n",
              "      <th>1</th>\n",
              "      <td>2</td>\n",
              "      <td>X20+</td>\n",
              "      <td>2001/04/02</td>\n",
              "      <td>9393</td>\n",
              "      <td>21:32</td>\n",
              "      <td>21:51</td>\n",
              "      <td>22:03</td>\n",
              "      <td>MovieView archive</td>\n",
              "    </tr>\n",
              "    <tr>\n",
              "      <th>2</th>\n",
              "      <td>3</td>\n",
              "      <td>X17.2+</td>\n",
              "      <td>2003/10/28</td>\n",
              "      <td>486</td>\n",
              "      <td>09:51</td>\n",
              "      <td>11:10</td>\n",
              "      <td>11:24</td>\n",
              "      <td>MovieView archive</td>\n",
              "    </tr>\n",
              "    <tr>\n",
              "      <th>3</th>\n",
              "      <td>4</td>\n",
              "      <td>X17+</td>\n",
              "      <td>2005/09/07</td>\n",
              "      <td>808</td>\n",
              "      <td>17:17</td>\n",
              "      <td>17:40</td>\n",
              "      <td>18:03</td>\n",
              "      <td>MovieView archive</td>\n",
              "    </tr>\n",
              "    <tr>\n",
              "      <th>4</th>\n",
              "      <td>5</td>\n",
              "      <td>X14.4</td>\n",
              "      <td>2001/04/15</td>\n",
              "      <td>9415</td>\n",
              "      <td>13:19</td>\n",
              "      <td>13:50</td>\n",
              "      <td>13:55</td>\n",
              "      <td>MovieView archive</td>\n",
              "    </tr>\n",
              "  </tbody>\n",
              "</table>\n",
              "</div>"
            ],
            "text/plain": [
              "   rank x_classification        date  ...  maximum_time end_time              movie\n",
              "0     1             X28+  2003/11/04  ...         19:53    20:06  MovieView archive\n",
              "1     2             X20+  2001/04/02  ...         21:51    22:03  MovieView archive\n",
              "2     3           X17.2+  2003/10/28  ...         11:10    11:24  MovieView archive\n",
              "3     4             X17+  2005/09/07  ...         17:40    18:03  MovieView archive\n",
              "4     5            X14.4  2001/04/15  ...         13:50    13:55  MovieView archive\n",
              "\n",
              "[5 rows x 8 columns]"
            ]
          },
          "metadata": {},
          "execution_count": 124
        }
      ]
    },
    {
      "cell_type": "markdown",
      "metadata": {
        "id": "28f6f2cd"
      },
      "source": [
        "### Step 2"
      ],
      "id": "28f6f2cd"
    },
    {
      "cell_type": "code",
      "metadata": {
        "id": "c5cc3347",
        "outputId": "c44846c3-3da8-456c-d3b5-e94c99870b8f",
        "colab": {
          "base_uri": "https://localhost:8080/",
          "height": 204
        }
      },
      "source": [
        "solfla_df = solfla_df[[\"rank\", \"x_classification\", \"date\", \"region\", \"start_time\", \"maximum_time\", \"end_time\"]]\n",
        "solfla_df.head()"
      ],
      "id": "c5cc3347",
      "execution_count": 125,
      "outputs": [
        {
          "output_type": "execute_result",
          "data": {
            "text/html": [
              "<div>\n",
              "<style scoped>\n",
              "    .dataframe tbody tr th:only-of-type {\n",
              "        vertical-align: middle;\n",
              "    }\n",
              "\n",
              "    .dataframe tbody tr th {\n",
              "        vertical-align: top;\n",
              "    }\n",
              "\n",
              "    .dataframe thead th {\n",
              "        text-align: right;\n",
              "    }\n",
              "</style>\n",
              "<table border=\"1\" class=\"dataframe\">\n",
              "  <thead>\n",
              "    <tr style=\"text-align: right;\">\n",
              "      <th></th>\n",
              "      <th>rank</th>\n",
              "      <th>x_classification</th>\n",
              "      <th>date</th>\n",
              "      <th>region</th>\n",
              "      <th>start_time</th>\n",
              "      <th>maximum_time</th>\n",
              "      <th>end_time</th>\n",
              "    </tr>\n",
              "  </thead>\n",
              "  <tbody>\n",
              "    <tr>\n",
              "      <th>0</th>\n",
              "      <td>1</td>\n",
              "      <td>X28+</td>\n",
              "      <td>2003/11/04</td>\n",
              "      <td>486</td>\n",
              "      <td>19:29</td>\n",
              "      <td>19:53</td>\n",
              "      <td>20:06</td>\n",
              "    </tr>\n",
              "    <tr>\n",
              "      <th>1</th>\n",
              "      <td>2</td>\n",
              "      <td>X20+</td>\n",
              "      <td>2001/04/02</td>\n",
              "      <td>9393</td>\n",
              "      <td>21:32</td>\n",
              "      <td>21:51</td>\n",
              "      <td>22:03</td>\n",
              "    </tr>\n",
              "    <tr>\n",
              "      <th>2</th>\n",
              "      <td>3</td>\n",
              "      <td>X17.2+</td>\n",
              "      <td>2003/10/28</td>\n",
              "      <td>486</td>\n",
              "      <td>09:51</td>\n",
              "      <td>11:10</td>\n",
              "      <td>11:24</td>\n",
              "    </tr>\n",
              "    <tr>\n",
              "      <th>3</th>\n",
              "      <td>4</td>\n",
              "      <td>X17+</td>\n",
              "      <td>2005/09/07</td>\n",
              "      <td>808</td>\n",
              "      <td>17:17</td>\n",
              "      <td>17:40</td>\n",
              "      <td>18:03</td>\n",
              "    </tr>\n",
              "    <tr>\n",
              "      <th>4</th>\n",
              "      <td>5</td>\n",
              "      <td>X14.4</td>\n",
              "      <td>2001/04/15</td>\n",
              "      <td>9415</td>\n",
              "      <td>13:19</td>\n",
              "      <td>13:50</td>\n",
              "      <td>13:55</td>\n",
              "    </tr>\n",
              "  </tbody>\n",
              "</table>\n",
              "</div>"
            ],
            "text/plain": [
              "   rank x_classification        date  region start_time maximum_time end_time\n",
              "0     1             X28+  2003/11/04     486      19:29        19:53    20:06\n",
              "1     2             X20+  2001/04/02    9393      21:32        21:51    22:03\n",
              "2     3           X17.2+  2003/10/28     486      09:51        11:10    11:24\n",
              "3     4             X17+  2005/09/07     808      17:17        17:40    18:03\n",
              "4     5            X14.4  2001/04/15    9415      13:19        13:50    13:55"
            ]
          },
          "metadata": {},
          "execution_count": 125
        }
      ]
    },
    {
      "cell_type": "code",
      "metadata": {
        "id": "k4vcHmTAlnYq",
        "outputId": "5a0cf3c3-46e9-448f-f9fe-be4e69410c5e",
        "colab": {
          "base_uri": "https://localhost:8080/",
          "height": 181
        }
      },
      "source": [
        ""
      ],
      "id": "k4vcHmTAlnYq",
      "execution_count": 138,
      "outputs": [
        {
          "output_type": "error",
          "ename": "AttributeError",
          "evalue": "ignored",
          "traceback": [
            "\u001b[0;31m---------------------------------------------------------------------------\u001b[0m",
            "\u001b[0;31mAttributeError\u001b[0m                            Traceback (most recent call last)",
            "\u001b[0;32m<ipython-input-138-6af6f08e8e9f>\u001b[0m in \u001b[0;36m<module>\u001b[0;34m()\u001b[0m\n\u001b[1;32m      1\u001b[0m \u001b[0;32mfor\u001b[0m \u001b[0mcol\u001b[0m \u001b[0;32min\u001b[0m \u001b[0msolfla_df\u001b[0m\u001b[0;34m.\u001b[0m\u001b[0mcolumns\u001b[0m\u001b[0;34m:\u001b[0m\u001b[0;34m\u001b[0m\u001b[0;34m\u001b[0m\u001b[0m\n\u001b[0;32m----> 2\u001b[0;31m   \u001b[0mprint\u001b[0m\u001b[0;34m(\u001b[0m\u001b[0mcol\u001b[0m\u001b[0;34m.\u001b[0m\u001b[0mdtype\u001b[0m\u001b[0;34m(\u001b[0m\u001b[0;34m)\u001b[0m\u001b[0;34m)\u001b[0m\u001b[0;34m\u001b[0m\u001b[0;34m\u001b[0m\u001b[0m\n\u001b[0m",
            "\u001b[0;31mAttributeError\u001b[0m: 'str' object has no attribute 'dtype'"
          ]
        }
      ]
    },
    {
      "cell_type": "code",
      "metadata": {
        "id": "71cf6493"
      },
      "source": [
        "import datetime"
      ],
      "id": "71cf6493",
      "execution_count": 126,
      "outputs": []
    },
    {
      "cell_type": "code",
      "metadata": {
        "id": "c7191a79",
        "outputId": "0aad3ffe-bdf1-4737-805d-83c856e4e277",
        "colab": {
          "base_uri": "https://localhost:8080/",
          "height": 507
        }
      },
      "source": [
        "for index, row in solfla_df.iterrows():\n",
        "    solfla_df[\"start_time\"] = pd.to_datetime(solfla_df[\"start_time\"])\n",
        "    solfla_df[\"maximum_time\"] = pd.datetime(solfla_df[\"maximum_time\"])\n",
        "    solfla_df[\"end_time\"] = pd.to_datetime(solfla_df[\"end_time\"])\n",
        "solfla_df.head()"
      ],
      "id": "c7191a79",
      "execution_count": 136,
      "outputs": [
        {
          "output_type": "stream",
          "name": "stderr",
          "text": [
            "/usr/local/lib/python3.7/dist-packages/ipykernel_launcher.py:2: SettingWithCopyWarning: \n",
            "A value is trying to be set on a copy of a slice from a DataFrame.\n",
            "Try using .loc[row_indexer,col_indexer] = value instead\n",
            "\n",
            "See the caveats in the documentation: https://pandas.pydata.org/pandas-docs/stable/user_guide/indexing.html#returning-a-view-versus-a-copy\n",
            "  \n",
            "/usr/local/lib/python3.7/dist-packages/ipykernel_launcher.py:3: FutureWarning: The pandas.datetime class is deprecated and will be removed from pandas in a future version. Import from datetime module instead.\n",
            "  This is separate from the ipykernel package so we can avoid doing imports until\n"
          ]
        },
        {
          "output_type": "error",
          "ename": "TypeError",
          "evalue": "ignored",
          "traceback": [
            "\u001b[0;31m---------------------------------------------------------------------------\u001b[0m",
            "\u001b[0;31mTypeError\u001b[0m                                 Traceback (most recent call last)",
            "\u001b[0;32m<ipython-input-136-69507014f387>\u001b[0m in \u001b[0;36m<module>\u001b[0;34m()\u001b[0m\n\u001b[1;32m      1\u001b[0m \u001b[0;32mfor\u001b[0m \u001b[0mindex\u001b[0m\u001b[0;34m,\u001b[0m \u001b[0mrow\u001b[0m \u001b[0;32min\u001b[0m \u001b[0msolfla_df\u001b[0m\u001b[0;34m.\u001b[0m\u001b[0miterrows\u001b[0m\u001b[0;34m(\u001b[0m\u001b[0;34m)\u001b[0m\u001b[0;34m:\u001b[0m\u001b[0;34m\u001b[0m\u001b[0;34m\u001b[0m\u001b[0m\n\u001b[1;32m      2\u001b[0m     \u001b[0msolfla_df\u001b[0m\u001b[0;34m[\u001b[0m\u001b[0;34m\"start_time\"\u001b[0m\u001b[0;34m]\u001b[0m \u001b[0;34m=\u001b[0m \u001b[0mpd\u001b[0m\u001b[0;34m.\u001b[0m\u001b[0mto_datetime\u001b[0m\u001b[0;34m(\u001b[0m\u001b[0msolfla_df\u001b[0m\u001b[0;34m[\u001b[0m\u001b[0;34m\"start_time\"\u001b[0m\u001b[0;34m]\u001b[0m\u001b[0;34m)\u001b[0m\u001b[0;34m\u001b[0m\u001b[0;34m\u001b[0m\u001b[0m\n\u001b[0;32m----> 3\u001b[0;31m     \u001b[0msolfla_df\u001b[0m\u001b[0;34m[\u001b[0m\u001b[0;34m\"maximum_time\"\u001b[0m\u001b[0;34m]\u001b[0m \u001b[0;34m=\u001b[0m \u001b[0mpd\u001b[0m\u001b[0;34m.\u001b[0m\u001b[0mdatetime\u001b[0m\u001b[0;34m(\u001b[0m\u001b[0msolfla_df\u001b[0m\u001b[0;34m[\u001b[0m\u001b[0;34m\"maximum_time\"\u001b[0m\u001b[0;34m]\u001b[0m\u001b[0;34m)\u001b[0m\u001b[0;34m\u001b[0m\u001b[0;34m\u001b[0m\u001b[0m\n\u001b[0m\u001b[1;32m      4\u001b[0m     \u001b[0msolfla_df\u001b[0m\u001b[0;34m[\u001b[0m\u001b[0;34m\"end_time\"\u001b[0m\u001b[0;34m]\u001b[0m \u001b[0;34m=\u001b[0m \u001b[0mpd\u001b[0m\u001b[0;34m.\u001b[0m\u001b[0mto_datetime\u001b[0m\u001b[0;34m(\u001b[0m\u001b[0msolfla_df\u001b[0m\u001b[0;34m[\u001b[0m\u001b[0;34m\"end_time\"\u001b[0m\u001b[0;34m]\u001b[0m\u001b[0;34m)\u001b[0m\u001b[0;34m\u001b[0m\u001b[0;34m\u001b[0m\u001b[0m\n\u001b[1;32m      5\u001b[0m \u001b[0msolfla_df\u001b[0m\u001b[0;34m.\u001b[0m\u001b[0mhead\u001b[0m\u001b[0;34m(\u001b[0m\u001b[0;34m)\u001b[0m\u001b[0;34m\u001b[0m\u001b[0;34m\u001b[0m\u001b[0m\n",
            "\u001b[0;32m/usr/local/lib/python3.7/dist-packages/pandas/core/series.py\u001b[0m in \u001b[0;36mwrapper\u001b[0;34m(self)\u001b[0m\n\u001b[1;32m    127\u001b[0m         \u001b[0;32mif\u001b[0m \u001b[0mlen\u001b[0m\u001b[0;34m(\u001b[0m\u001b[0mself\u001b[0m\u001b[0;34m)\u001b[0m \u001b[0;34m==\u001b[0m \u001b[0;36m1\u001b[0m\u001b[0;34m:\u001b[0m\u001b[0;34m\u001b[0m\u001b[0;34m\u001b[0m\u001b[0m\n\u001b[1;32m    128\u001b[0m             \u001b[0;32mreturn\u001b[0m \u001b[0mconverter\u001b[0m\u001b[0;34m(\u001b[0m\u001b[0mself\u001b[0m\u001b[0;34m.\u001b[0m\u001b[0miloc\u001b[0m\u001b[0;34m[\u001b[0m\u001b[0;36m0\u001b[0m\u001b[0;34m]\u001b[0m\u001b[0;34m)\u001b[0m\u001b[0;34m\u001b[0m\u001b[0;34m\u001b[0m\u001b[0m\n\u001b[0;32m--> 129\u001b[0;31m         \u001b[0;32mraise\u001b[0m \u001b[0mTypeError\u001b[0m\u001b[0;34m(\u001b[0m\u001b[0;34mf\"cannot convert the series to {converter}\"\u001b[0m\u001b[0;34m)\u001b[0m\u001b[0;34m\u001b[0m\u001b[0;34m\u001b[0m\u001b[0m\n\u001b[0m\u001b[1;32m    130\u001b[0m \u001b[0;34m\u001b[0m\u001b[0m\n\u001b[1;32m    131\u001b[0m     \u001b[0mwrapper\u001b[0m\u001b[0;34m.\u001b[0m\u001b[0m__name__\u001b[0m \u001b[0;34m=\u001b[0m \u001b[0;34mf\"__{converter.__name__}__\"\u001b[0m\u001b[0;34m\u001b[0m\u001b[0;34m\u001b[0m\u001b[0m\n",
            "\u001b[0;31mTypeError\u001b[0m: cannot convert the series to <class 'int'>"
          ]
        }
      ]
    },
    {
      "cell_type": "markdown",
      "metadata": {
        "id": "6a17aa9e"
      },
      "source": [
        "### Step 3"
      ],
      "id": "6a17aa9e"
    },
    {
      "cell_type": "code",
      "metadata": {
        "id": "kdgRdsmckMHG",
        "outputId": "d47ef49c-f5e9-47b1-a36b-def7ab2df68e",
        "colab": {
          "base_uri": "https://localhost:8080/",
          "height": 181
        }
      },
      "source": [
        "solfla_df.drop(column='date')\n",
        "solfla_df.head()"
      ],
      "id": "kdgRdsmckMHG",
      "execution_count": 128,
      "outputs": [
        {
          "output_type": "error",
          "ename": "TypeError",
          "evalue": "ignored",
          "traceback": [
            "\u001b[0;31m---------------------------------------------------------------------------\u001b[0m",
            "\u001b[0;31mTypeError\u001b[0m                                 Traceback (most recent call last)",
            "\u001b[0;32m<ipython-input-128-a3ebe3043cce>\u001b[0m in \u001b[0;36m<module>\u001b[0;34m()\u001b[0m\n\u001b[0;32m----> 1\u001b[0;31m \u001b[0msolfla_df\u001b[0m\u001b[0;34m.\u001b[0m\u001b[0mdrop\u001b[0m\u001b[0;34m(\u001b[0m\u001b[0mcolumn\u001b[0m\u001b[0;34m=\u001b[0m\u001b[0;34m'date'\u001b[0m\u001b[0;34m)\u001b[0m\u001b[0;34m\u001b[0m\u001b[0;34m\u001b[0m\u001b[0m\n\u001b[0m\u001b[1;32m      2\u001b[0m \u001b[0msolfla_df\u001b[0m\u001b[0;34m.\u001b[0m\u001b[0mhead\u001b[0m\u001b[0;34m(\u001b[0m\u001b[0;34m)\u001b[0m\u001b[0;34m\u001b[0m\u001b[0;34m\u001b[0m\u001b[0m\n",
            "\u001b[0;31mTypeError\u001b[0m: drop() got an unexpected keyword argument 'column'"
          ]
        }
      ]
    },
    {
      "cell_type": "code",
      "metadata": {
        "id": "b822f064"
      },
      "source": [
        "headers = {'User-Agent': 'Mozilla/5.0 (Macintosh; Intel Mac OS X 10_10_1) AppleWebKit/537.36 (KHTML, like Gecko) Chrome/39.0.2171.95 Safari/537.36'}\n",
        "r = requests.get(\"https://cdaw.gsfc.nasa.gov/CME_list/radio/waves_type2.html\",timeout=10,headers=headers)\n",
        "r.status_code"
      ],
      "id": "b822f064",
      "execution_count": null,
      "outputs": []
    },
    {
      "cell_type": "code",
      "metadata": {
        "id": "931db0b8"
      },
      "source": [
        "text_response = r.content #https://stackoverflow.com/questions/52389692/beautifulsoup-and-prettify-function\n",
        "soup = BeautifulSoup(text_response,\"html.parser\")\n",
        "table = soup.find('pre')\n",
        "print(table)\n"
      ],
      "id": "931db0b8",
      "execution_count": null,
      "outputs": []
    },
    {
      "cell_type": "code",
      "metadata": {
        "id": "c7874317"
      },
      "source": [
        "table_str = str(table)\n",
        "#table_str = re.sub(r'<a.+\">','Replacement',table_str)\n",
        "print(table_str"
      ],
      "id": "c7874317",
      "execution_count": null,
      "outputs": []
    },
    {
      "cell_type": "code",
      "metadata": {
        "id": "d3wsGYmZiblQ"
      },
      "source": [
        ""
      ],
      "id": "d3wsGYmZiblQ",
      "execution_count": null,
      "outputs": []
    }
  ]
}