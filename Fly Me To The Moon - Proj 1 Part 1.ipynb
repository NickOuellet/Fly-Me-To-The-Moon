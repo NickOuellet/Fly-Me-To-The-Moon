{
  "nbformat": 4,
  "nbformat_minor": 5,
  "metadata": {
    "interpreter": {
      "hash": "4bd3767b9a68b1809be1a8a3b2146e6067673f8776213bfbf5c8fe8ac7d04b67"
    },
    "kernelspec": {
      "display_name": "Python 3 (ipykernel)",
      "language": "python",
      "name": "python3"
    },
    "language_info": {
      "codemirror_mode": {
        "name": "ipython",
        "version": 3
      },
      "file_extension": ".py",
      "mimetype": "text/x-python",
      "name": "python",
      "nbconvert_exporter": "python",
      "pygments_lexer": "ipython3",
      "version": "3.9.6"
    },
    "colab": {
      "name": "Fly Me To The Moon - Proj 1 Part 1-2.ipynb",
      "provenance": []
    }
  },
  "cells": [
    {
      "cell_type": "code",
      "metadata": {
        "id": "b5a544b0",
        "colab": {
          "base_uri": "https://localhost:8080/"
        },
        "outputId": "147525f3-42ab-46d7-f38f-d7e7a5342272"
      },
      "source": [
        "pip install lxml"
      ],
      "id": "b5a544b0",
      "execution_count": 2,
      "outputs": [
        {
          "output_type": "stream",
          "name": "stdout",
          "text": [
            "Requirement already satisfied: lxml in /usr/local/lib/python3.7/dist-packages (4.2.6)\n"
          ]
        }
      ]
    },
    {
      "cell_type": "code",
      "metadata": {
        "id": "e499132b"
      },
      "source": [
        "from bs4 import BeautifulSoup\n",
        "import numpy as np\n",
        "import pandas as pd\n",
        "import requests\n",
        "import lxml\n",
        "import re"
      ],
      "id": "e499132b",
      "execution_count": 3,
      "outputs": []
    },
    {
      "cell_type": "markdown",
      "metadata": {
        "id": "28ec6d50"
      },
      "source": [
        "## Meeting Plan for Nicolas Ouellet and Benedicte Knudson:\n",
        "We colaborated over Zoom and in person **three** times and used a shared Github Repository that can be found [here](https://github.com/NickOuellet/Fly-Me-To-The-Moon). <br />\n",
        "We met: <br />\n",
        "10/11: 5-7pm <br />\n",
        "10/20: 10-12pm <br />\n",
        "10/21: 7-11pm <br />\n",
        "\n",
        "___\n"
      ],
      "id": "28ec6d50"
    },
    {
      "cell_type": "markdown",
      "metadata": {
        "id": "9834894e"
      },
      "source": [
        "## Step 1 - Scrape SpaceWeatherLive.com"
      ],
      "id": "9834894e"
    },
    {
      "cell_type": "code",
      "metadata": {
        "id": "09dc9234",
        "colab": {
          "base_uri": "https://localhost:8080/"
        },
        "outputId": "3acf9bc8-0dae-4e10-9897-4f10bf2cd6ab"
      },
      "source": [
        "headers = {'User-Agent': 'Mozilla/5.0 (Macintosh; Intel Mac OS X 10_10_1) AppleWebKit/537.36 (KHTML, like Gecko) Chrome/39.0.2171.95 Safari/537.36'}\n",
        "r = requests.get(\"https://www.spaceweatherlive.com/en/solar-activity/top-50-solar-flares.html\",timeout=10,headers=headers)\n",
        "r.status_code"
      ],
      "id": "09dc9234",
      "execution_count": 4,
      "outputs": [
        {
          "output_type": "execute_result",
          "data": {
            "text/plain": [
              "200"
            ]
          },
          "metadata": {},
          "execution_count": 4
        }
      ]
    },
    {
      "cell_type": "code",
      "metadata": {
        "id": "76d3644d"
      },
      "source": [
        "text_response = r.content #https://stackoverflow.com/questions/52389692/beautifulsoup-and-prettify-function\n",
        "soup = BeautifulSoup(text_response,\"html.parser\")"
      ],
      "id": "76d3644d",
      "execution_count": 5,
      "outputs": []
    },
    {
      "cell_type": "code",
      "metadata": {
        "scrolled": true,
        "id": "3a8fd1be"
      },
      "source": [
        "table = soup.findAll(\"table\") #find the table in the HTML"
      ],
      "id": "3a8fd1be",
      "execution_count": 6,
      "outputs": []
    },
    {
      "cell_type": "code",
      "metadata": {
        "id": "8d38ccdb"
      },
      "source": [
        "solar_flare_df = pd.read_html(str(table))"
      ],
      "id": "8d38ccdb",
      "execution_count": 7,
      "outputs": []
    },
    {
      "cell_type": "code",
      "metadata": {
        "id": "7469438b"
      },
      "source": [
        "solfla_df = solar_flare_df[0]#works when we just select the first table"
      ],
      "id": "7469438b",
      "execution_count": 8,
      "outputs": []
    },
    {
      "cell_type": "code",
      "metadata": {
        "id": "7bde39e8"
      },
      "source": [
        "solfla_df.columns = [\"rank\", \"x_class\", \"date\", \"region\", \"start_time\", \"maximum_time\", \"end_time\", \"movie\"] #rename columns to be more descriptive"
      ],
      "id": "7bde39e8",
      "execution_count": 9,
      "outputs": []
    },
    {
      "cell_type": "code",
      "metadata": {
        "id": "3e5d86a9",
        "colab": {
          "base_uri": "https://localhost:8080/",
          "height": 204
        },
        "outputId": "b8eeaa20-69f8-47a3-df0d-ee5cc5f9c553"
      },
      "source": [
        "solfla_df.head()"
      ],
      "id": "3e5d86a9",
      "execution_count": 10,
      "outputs": [
        {
          "output_type": "execute_result",
          "data": {
            "text/html": [
              "<div>\n",
              "<style scoped>\n",
              "    .dataframe tbody tr th:only-of-type {\n",
              "        vertical-align: middle;\n",
              "    }\n",
              "\n",
              "    .dataframe tbody tr th {\n",
              "        vertical-align: top;\n",
              "    }\n",
              "\n",
              "    .dataframe thead th {\n",
              "        text-align: right;\n",
              "    }\n",
              "</style>\n",
              "<table border=\"1\" class=\"dataframe\">\n",
              "  <thead>\n",
              "    <tr style=\"text-align: right;\">\n",
              "      <th></th>\n",
              "      <th>rank</th>\n",
              "      <th>x_class</th>\n",
              "      <th>date</th>\n",
              "      <th>region</th>\n",
              "      <th>start_time</th>\n",
              "      <th>maximum_time</th>\n",
              "      <th>end_time</th>\n",
              "      <th>movie</th>\n",
              "    </tr>\n",
              "  </thead>\n",
              "  <tbody>\n",
              "    <tr>\n",
              "      <th>0</th>\n",
              "      <td>1</td>\n",
              "      <td>X28+</td>\n",
              "      <td>2003/11/04</td>\n",
              "      <td>486</td>\n",
              "      <td>19:29</td>\n",
              "      <td>19:53</td>\n",
              "      <td>20:06</td>\n",
              "      <td>MovieView archive</td>\n",
              "    </tr>\n",
              "    <tr>\n",
              "      <th>1</th>\n",
              "      <td>2</td>\n",
              "      <td>X20+</td>\n",
              "      <td>2001/04/02</td>\n",
              "      <td>9393</td>\n",
              "      <td>21:32</td>\n",
              "      <td>21:51</td>\n",
              "      <td>22:03</td>\n",
              "      <td>MovieView archive</td>\n",
              "    </tr>\n",
              "    <tr>\n",
              "      <th>2</th>\n",
              "      <td>3</td>\n",
              "      <td>X17.2+</td>\n",
              "      <td>2003/10/28</td>\n",
              "      <td>486</td>\n",
              "      <td>09:51</td>\n",
              "      <td>11:10</td>\n",
              "      <td>11:24</td>\n",
              "      <td>MovieView archive</td>\n",
              "    </tr>\n",
              "    <tr>\n",
              "      <th>3</th>\n",
              "      <td>4</td>\n",
              "      <td>X17+</td>\n",
              "      <td>2005/09/07</td>\n",
              "      <td>808</td>\n",
              "      <td>17:17</td>\n",
              "      <td>17:40</td>\n",
              "      <td>18:03</td>\n",
              "      <td>MovieView archive</td>\n",
              "    </tr>\n",
              "    <tr>\n",
              "      <th>4</th>\n",
              "      <td>5</td>\n",
              "      <td>X14.4</td>\n",
              "      <td>2001/04/15</td>\n",
              "      <td>9415</td>\n",
              "      <td>13:19</td>\n",
              "      <td>13:50</td>\n",
              "      <td>13:55</td>\n",
              "      <td>MovieView archive</td>\n",
              "    </tr>\n",
              "  </tbody>\n",
              "</table>\n",
              "</div>"
            ],
            "text/plain": [
              "   rank x_class        date  ...  maximum_time end_time              movie\n",
              "0     1    X28+  2003/11/04  ...         19:53    20:06  MovieView archive\n",
              "1     2    X20+  2001/04/02  ...         21:51    22:03  MovieView archive\n",
              "2     3  X17.2+  2003/10/28  ...         11:10    11:24  MovieView archive\n",
              "3     4    X17+  2005/09/07  ...         17:40    18:03  MovieView archive\n",
              "4     5   X14.4  2001/04/15  ...         13:50    13:55  MovieView archive\n",
              "\n",
              "[5 rows x 8 columns]"
            ]
          },
          "metadata": {},
          "execution_count": 10
        }
      ]
    },
    {
      "cell_type": "markdown",
      "metadata": {
        "id": "28f6f2cd"
      },
      "source": [
        "___\n",
        "## Step 2 - Tidy the Top 50 Solar Flare Data"
      ],
      "id": "28f6f2cd"
    },
    {
      "cell_type": "code",
      "metadata": {
        "id": "c5cc3347",
        "colab": {
          "base_uri": "https://localhost:8080/",
          "height": 204
        },
        "outputId": "7a2e7f7a-c5bb-4705-e012-1ffd2833423e"
      },
      "source": [
        "solfla_df = solfla_df[[\"rank\", \"x_class\", \"date\", \"start_time\", \"maximum_time\", \"end_time\",\"region\"]]\n",
        "solfla_df.head()"
      ],
      "id": "c5cc3347",
      "execution_count": 11,
      "outputs": [
        {
          "output_type": "execute_result",
          "data": {
            "text/html": [
              "<div>\n",
              "<style scoped>\n",
              "    .dataframe tbody tr th:only-of-type {\n",
              "        vertical-align: middle;\n",
              "    }\n",
              "\n",
              "    .dataframe tbody tr th {\n",
              "        vertical-align: top;\n",
              "    }\n",
              "\n",
              "    .dataframe thead th {\n",
              "        text-align: right;\n",
              "    }\n",
              "</style>\n",
              "<table border=\"1\" class=\"dataframe\">\n",
              "  <thead>\n",
              "    <tr style=\"text-align: right;\">\n",
              "      <th></th>\n",
              "      <th>rank</th>\n",
              "      <th>x_class</th>\n",
              "      <th>date</th>\n",
              "      <th>start_time</th>\n",
              "      <th>maximum_time</th>\n",
              "      <th>end_time</th>\n",
              "      <th>region</th>\n",
              "    </tr>\n",
              "  </thead>\n",
              "  <tbody>\n",
              "    <tr>\n",
              "      <th>0</th>\n",
              "      <td>1</td>\n",
              "      <td>X28+</td>\n",
              "      <td>2003/11/04</td>\n",
              "      <td>19:29</td>\n",
              "      <td>19:53</td>\n",
              "      <td>20:06</td>\n",
              "      <td>486</td>\n",
              "    </tr>\n",
              "    <tr>\n",
              "      <th>1</th>\n",
              "      <td>2</td>\n",
              "      <td>X20+</td>\n",
              "      <td>2001/04/02</td>\n",
              "      <td>21:32</td>\n",
              "      <td>21:51</td>\n",
              "      <td>22:03</td>\n",
              "      <td>9393</td>\n",
              "    </tr>\n",
              "    <tr>\n",
              "      <th>2</th>\n",
              "      <td>3</td>\n",
              "      <td>X17.2+</td>\n",
              "      <td>2003/10/28</td>\n",
              "      <td>09:51</td>\n",
              "      <td>11:10</td>\n",
              "      <td>11:24</td>\n",
              "      <td>486</td>\n",
              "    </tr>\n",
              "    <tr>\n",
              "      <th>3</th>\n",
              "      <td>4</td>\n",
              "      <td>X17+</td>\n",
              "      <td>2005/09/07</td>\n",
              "      <td>17:17</td>\n",
              "      <td>17:40</td>\n",
              "      <td>18:03</td>\n",
              "      <td>808</td>\n",
              "    </tr>\n",
              "    <tr>\n",
              "      <th>4</th>\n",
              "      <td>5</td>\n",
              "      <td>X14.4</td>\n",
              "      <td>2001/04/15</td>\n",
              "      <td>13:19</td>\n",
              "      <td>13:50</td>\n",
              "      <td>13:55</td>\n",
              "      <td>9415</td>\n",
              "    </tr>\n",
              "  </tbody>\n",
              "</table>\n",
              "</div>"
            ],
            "text/plain": [
              "   rank x_class        date start_time maximum_time end_time  region\n",
              "0     1    X28+  2003/11/04      19:29        19:53    20:06     486\n",
              "1     2    X20+  2001/04/02      21:32        21:51    22:03    9393\n",
              "2     3  X17.2+  2003/10/28      09:51        11:10    11:24     486\n",
              "3     4    X17+  2005/09/07      17:17        17:40    18:03     808\n",
              "4     5   X14.4  2001/04/15      13:19        13:50    13:55    9415"
            ]
          },
          "metadata": {},
          "execution_count": 11
        }
      ]
    },
    {
      "cell_type": "code",
      "metadata": {
        "id": "71cf6493"
      },
      "source": [
        "import datetime"
      ],
      "id": "71cf6493",
      "execution_count": 12,
      "outputs": []
    },
    {
      "cell_type": "code",
      "metadata": {
        "id": "c7191a79",
        "colab": {
          "base_uri": "https://localhost:8080/"
        },
        "outputId": "5b4ad8e5-7baf-433f-cf49-762bd9a6db79"
      },
      "source": [
        "\n",
        "solfla_df.loc[:,\"start_time\"] = pd.to_datetime(solfla_df.loc[:,\"date\"] + \" \" + solfla_df.loc[:,\"start_time\"])\n",
        "solfla_df.loc[:,\"maximum_time\"] = pd.to_datetime(solfla_df.loc[:,\"date\"] + \" \" + solfla_df.loc[:,\"maximum_time\"])\n",
        "solfla_df.loc[:,\"end_time\"] = pd.to_datetime(solfla_df.loc[:,\"date\"] + \" \" + solfla_df.loc[:,\"end_time\"])\n"
      ],
      "id": "c7191a79",
      "execution_count": 13,
      "outputs": [
        {
          "output_type": "stream",
          "name": "stderr",
          "text": [
            "/usr/local/lib/python3.7/dist-packages/pandas/core/indexing.py:1743: SettingWithCopyWarning: \n",
            "A value is trying to be set on a copy of a slice from a DataFrame.\n",
            "Try using .loc[row_indexer,col_indexer] = value instead\n",
            "\n",
            "See the caveats in the documentation: https://pandas.pydata.org/pandas-docs/stable/user_guide/indexing.html#returning-a-view-versus-a-copy\n",
            "  isetter(ilocs[0], value)\n"
          ]
        }
      ]
    },
    {
      "cell_type": "code",
      "metadata": {
        "colab": {
          "base_uri": "https://localhost:8080/",
          "height": 374
        },
        "id": "XvGf14bUURvB",
        "outputId": "cfa05ade-b4f0-411b-ae0a-dcce78bfabb5"
      },
      "source": [
        "solfla_df.drop(columns=\"date\",inplace=True) #drop date table\n",
        "solfla_df.rename(columns={\"start_time\":\"start_datetime\", \"end_time\":\"end_datetime\",\"maximum_time\":\"maximum_datetime\"},inplace=True)\n",
        "solfla_df.head()"
      ],
      "id": "XvGf14bUURvB",
      "execution_count": 14,
      "outputs": [
        {
          "output_type": "stream",
          "name": "stderr",
          "text": [
            "/usr/local/lib/python3.7/dist-packages/pandas/core/frame.py:4174: SettingWithCopyWarning: \n",
            "A value is trying to be set on a copy of a slice from a DataFrame\n",
            "\n",
            "See the caveats in the documentation: https://pandas.pydata.org/pandas-docs/stable/user_guide/indexing.html#returning-a-view-versus-a-copy\n",
            "  errors=errors,\n",
            "/usr/local/lib/python3.7/dist-packages/pandas/core/frame.py:4308: SettingWithCopyWarning: \n",
            "A value is trying to be set on a copy of a slice from a DataFrame\n",
            "\n",
            "See the caveats in the documentation: https://pandas.pydata.org/pandas-docs/stable/user_guide/indexing.html#returning-a-view-versus-a-copy\n",
            "  errors=errors,\n"
          ]
        },
        {
          "output_type": "execute_result",
          "data": {
            "text/html": [
              "<div>\n",
              "<style scoped>\n",
              "    .dataframe tbody tr th:only-of-type {\n",
              "        vertical-align: middle;\n",
              "    }\n",
              "\n",
              "    .dataframe tbody tr th {\n",
              "        vertical-align: top;\n",
              "    }\n",
              "\n",
              "    .dataframe thead th {\n",
              "        text-align: right;\n",
              "    }\n",
              "</style>\n",
              "<table border=\"1\" class=\"dataframe\">\n",
              "  <thead>\n",
              "    <tr style=\"text-align: right;\">\n",
              "      <th></th>\n",
              "      <th>rank</th>\n",
              "      <th>x_class</th>\n",
              "      <th>start_datetime</th>\n",
              "      <th>maximum_datetime</th>\n",
              "      <th>end_datetime</th>\n",
              "      <th>region</th>\n",
              "    </tr>\n",
              "  </thead>\n",
              "  <tbody>\n",
              "    <tr>\n",
              "      <th>0</th>\n",
              "      <td>1</td>\n",
              "      <td>X28+</td>\n",
              "      <td>2003-11-04 19:29:00</td>\n",
              "      <td>2003-11-04 19:53:00</td>\n",
              "      <td>2003-11-04 20:06:00</td>\n",
              "      <td>486</td>\n",
              "    </tr>\n",
              "    <tr>\n",
              "      <th>1</th>\n",
              "      <td>2</td>\n",
              "      <td>X20+</td>\n",
              "      <td>2001-04-02 21:32:00</td>\n",
              "      <td>2001-04-02 21:51:00</td>\n",
              "      <td>2001-04-02 22:03:00</td>\n",
              "      <td>9393</td>\n",
              "    </tr>\n",
              "    <tr>\n",
              "      <th>2</th>\n",
              "      <td>3</td>\n",
              "      <td>X17.2+</td>\n",
              "      <td>2003-10-28 09:51:00</td>\n",
              "      <td>2003-10-28 11:10:00</td>\n",
              "      <td>2003-10-28 11:24:00</td>\n",
              "      <td>486</td>\n",
              "    </tr>\n",
              "    <tr>\n",
              "      <th>3</th>\n",
              "      <td>4</td>\n",
              "      <td>X17+</td>\n",
              "      <td>2005-09-07 17:17:00</td>\n",
              "      <td>2005-09-07 17:40:00</td>\n",
              "      <td>2005-09-07 18:03:00</td>\n",
              "      <td>808</td>\n",
              "    </tr>\n",
              "    <tr>\n",
              "      <th>4</th>\n",
              "      <td>5</td>\n",
              "      <td>X14.4</td>\n",
              "      <td>2001-04-15 13:19:00</td>\n",
              "      <td>2001-04-15 13:50:00</td>\n",
              "      <td>2001-04-15 13:55:00</td>\n",
              "      <td>9415</td>\n",
              "    </tr>\n",
              "  </tbody>\n",
              "</table>\n",
              "</div>"
            ],
            "text/plain": [
              "   rank x_class  ...        end_datetime region\n",
              "0     1    X28+  ... 2003-11-04 20:06:00    486\n",
              "1     2    X20+  ... 2001-04-02 22:03:00   9393\n",
              "2     3  X17.2+  ... 2003-10-28 11:24:00    486\n",
              "3     4    X17+  ... 2005-09-07 18:03:00    808\n",
              "4     5   X14.4  ... 2001-04-15 13:55:00   9415\n",
              "\n",
              "[5 rows x 6 columns]"
            ]
          },
          "metadata": {},
          "execution_count": 14
        }
      ]
    },
    {
      "cell_type": "code",
      "metadata": {
        "id": "pvbB25aoAO4e",
        "colab": {
          "base_uri": "https://localhost:8080/"
        },
        "outputId": "1ff9259b-aff6-49f4-8ea2-53d5c08034e9"
      },
      "source": [
        "def remove_plus(string):\n",
        "  return re.sub(\"\\+\", \"\", string,1)\n",
        "\n",
        "def make_float(string): #make all number values in rating into floats to make searching easier later\n",
        "  rating = string[0]\n",
        "  string = string[1:]\n",
        "  new_float = float(string)\n",
        "  return rating + str(new_float)\n",
        "\n",
        "  \n",
        "solfla_df[\"x_class\"] = solfla_df[\"x_class\"].apply(remove_plus)\n",
        "solfla_df[\"x_class\"] = solfla_df[\"x_class\"].apply(make_float)\n",
        "\n"
      ],
      "id": "pvbB25aoAO4e",
      "execution_count": 15,
      "outputs": [
        {
          "output_type": "stream",
          "name": "stderr",
          "text": [
            "/usr/local/lib/python3.7/dist-packages/ipykernel_launcher.py:11: SettingWithCopyWarning: \n",
            "A value is trying to be set on a copy of a slice from a DataFrame.\n",
            "Try using .loc[row_indexer,col_indexer] = value instead\n",
            "\n",
            "See the caveats in the documentation: https://pandas.pydata.org/pandas-docs/stable/user_guide/indexing.html#returning-a-view-versus-a-copy\n",
            "  # This is added back by InteractiveShellApp.init_path()\n",
            "/usr/local/lib/python3.7/dist-packages/ipykernel_launcher.py:12: SettingWithCopyWarning: \n",
            "A value is trying to be set on a copy of a slice from a DataFrame.\n",
            "Try using .loc[row_indexer,col_indexer] = value instead\n",
            "\n",
            "See the caveats in the documentation: https://pandas.pydata.org/pandas-docs/stable/user_guide/indexing.html#returning-a-view-versus-a-copy\n",
            "  if sys.path[0] == '':\n"
          ]
        }
      ]
    },
    {
      "cell_type": "code",
      "metadata": {
        "colab": {
          "base_uri": "https://localhost:8080/"
        },
        "id": "S3XrDAE1DApe",
        "outputId": "a4dfa3aa-e633-4e07-e152-8bb983c1b564"
      },
      "source": [
        "solfla_df.dtypes"
      ],
      "id": "S3XrDAE1DApe",
      "execution_count": 16,
      "outputs": [
        {
          "output_type": "execute_result",
          "data": {
            "text/plain": [
              "rank                         int64\n",
              "x_class                     object\n",
              "start_datetime      datetime64[ns]\n",
              "maximum_datetime    datetime64[ns]\n",
              "end_datetime        datetime64[ns]\n",
              "region                       int64\n",
              "dtype: object"
            ]
          },
          "metadata": {},
          "execution_count": 16
        }
      ]
    },
    {
      "cell_type": "markdown",
      "metadata": {
        "id": "6a17aa9e"
      },
      "source": [
        "___\n",
        "## Step 3 - Scrape the NASA Data"
      ],
      "id": "6a17aa9e"
    },
    {
      "cell_type": "code",
      "metadata": {
        "id": "b822f064",
        "colab": {
          "base_uri": "https://localhost:8080/"
        },
        "outputId": "437b67c2-38c4-477f-95c7-740e2ebab05e"
      },
      "source": [
        "headers = {'User-Agent': 'Mozilla/5.0 (Macintosh; Intel Mac OS X 10_10_1) AppleWebKit/537.36 (KHTML, like Gecko) Chrome/39.0.2171.95 Safari/537.36'}\n",
        "r = requests.get(\"https://cdaw.gsfc.nasa.gov/CME_list/radio/waves_type2.html\",timeout=10,headers=headers)\n",
        "r.status_code"
      ],
      "id": "b822f064",
      "execution_count": 17,
      "outputs": [
        {
          "output_type": "execute_result",
          "data": {
            "text/plain": [
              "200"
            ]
          },
          "metadata": {},
          "execution_count": 17
        }
      ]
    },
    {
      "cell_type": "code",
      "metadata": {
        "id": "931db0b8"
      },
      "source": [
        "text_response = r.content #https://stackoverflow.com/questions/52389692/beautifulsoup-and-prettify-function\n",
        "soup = BeautifulSoup(text_response,\"html.parser\")\n",
        "table = soup.get_text()\n",
        "split_table = table.splitlines()\n",
        "split_table = split_table[15:]\n",
        "split_table = split_table[0:len(split_table)-2] #clean up table by removing top and bottom portion\n"
      ],
      "id": "931db0b8",
      "execution_count": 18,
      "outputs": []
    },
    {
      "cell_type": "code",
      "metadata": {
        "id": "d3wsGYmZiblQ"
      },
      "source": [
        "nasa_df = pd.DataFrame( #create empty DF \n",
        "    columns = [\"start_date\",\"start_time\",\"end_date\",\"end_time\",\"start_freq\",\"end_freq\",\"location\",\"region\",\"xray_importance\",\"cme_date\",\"cme_time\",\"central_pos_angle\",\"cpa_width\",\"cme_speed\",\"PHTX\" ]\n",
        "    )\n",
        "for i,v in enumerate(split_table): \n",
        "  row_vals = re.findall(r\"\\S+\",v)\n",
        "  nasa_df.loc[i] = row_vals[0:15] #assign values for each row from list after splitting string into a list var, also drop 16th entry because sometimes it is useless notation"
      ],
      "id": "d3wsGYmZiblQ",
      "execution_count": 19,
      "outputs": []
    },
    {
      "cell_type": "code",
      "metadata": {
        "id": "7EeUuRqnWbq0"
      },
      "source": [
        "nasa_df.drop(columns=[\"PHTX\"],inplace=True) #drop links column"
      ],
      "id": "7EeUuRqnWbq0",
      "execution_count": 20,
      "outputs": []
    },
    {
      "cell_type": "code",
      "metadata": {
        "colab": {
          "base_uri": "https://localhost:8080/",
          "height": 204
        },
        "id": "aRap_PrKYZ_A",
        "outputId": "aedf5619-6b07-460d-8b29-0bea0f40ab70"
      },
      "source": [
        "nasa_df.head()"
      ],
      "id": "aRap_PrKYZ_A",
      "execution_count": 21,
      "outputs": [
        {
          "output_type": "execute_result",
          "data": {
            "text/html": [
              "<div>\n",
              "<style scoped>\n",
              "    .dataframe tbody tr th:only-of-type {\n",
              "        vertical-align: middle;\n",
              "    }\n",
              "\n",
              "    .dataframe tbody tr th {\n",
              "        vertical-align: top;\n",
              "    }\n",
              "\n",
              "    .dataframe thead th {\n",
              "        text-align: right;\n",
              "    }\n",
              "</style>\n",
              "<table border=\"1\" class=\"dataframe\">\n",
              "  <thead>\n",
              "    <tr style=\"text-align: right;\">\n",
              "      <th></th>\n",
              "      <th>start_date</th>\n",
              "      <th>start_time</th>\n",
              "      <th>end_date</th>\n",
              "      <th>end_time</th>\n",
              "      <th>start_freq</th>\n",
              "      <th>end_freq</th>\n",
              "      <th>location</th>\n",
              "      <th>region</th>\n",
              "      <th>xray_importance</th>\n",
              "      <th>cme_date</th>\n",
              "      <th>cme_time</th>\n",
              "      <th>central_pos_angle</th>\n",
              "      <th>cpa_width</th>\n",
              "      <th>cme_speed</th>\n",
              "    </tr>\n",
              "  </thead>\n",
              "  <tbody>\n",
              "    <tr>\n",
              "      <th>0</th>\n",
              "      <td>1997/04/01</td>\n",
              "      <td>14:00</td>\n",
              "      <td>04/01</td>\n",
              "      <td>14:15</td>\n",
              "      <td>8000</td>\n",
              "      <td>4000</td>\n",
              "      <td>S25E16</td>\n",
              "      <td>8026</td>\n",
              "      <td>M1.3</td>\n",
              "      <td>04/01</td>\n",
              "      <td>15:18</td>\n",
              "      <td>74</td>\n",
              "      <td>79</td>\n",
              "      <td>312</td>\n",
              "    </tr>\n",
              "    <tr>\n",
              "      <th>1</th>\n",
              "      <td>1997/04/07</td>\n",
              "      <td>14:30</td>\n",
              "      <td>04/07</td>\n",
              "      <td>17:30</td>\n",
              "      <td>11000</td>\n",
              "      <td>1000</td>\n",
              "      <td>S28E19</td>\n",
              "      <td>8027</td>\n",
              "      <td>C6.8</td>\n",
              "      <td>04/07</td>\n",
              "      <td>14:27</td>\n",
              "      <td>Halo</td>\n",
              "      <td>360</td>\n",
              "      <td>878</td>\n",
              "    </tr>\n",
              "    <tr>\n",
              "      <th>2</th>\n",
              "      <td>1997/05/12</td>\n",
              "      <td>05:15</td>\n",
              "      <td>05/14</td>\n",
              "      <td>16:00</td>\n",
              "      <td>12000</td>\n",
              "      <td>80</td>\n",
              "      <td>N21W08</td>\n",
              "      <td>8038</td>\n",
              "      <td>C1.3</td>\n",
              "      <td>05/12</td>\n",
              "      <td>05:30</td>\n",
              "      <td>Halo</td>\n",
              "      <td>360</td>\n",
              "      <td>464</td>\n",
              "    </tr>\n",
              "    <tr>\n",
              "      <th>3</th>\n",
              "      <td>1997/05/21</td>\n",
              "      <td>20:20</td>\n",
              "      <td>05/21</td>\n",
              "      <td>22:00</td>\n",
              "      <td>5000</td>\n",
              "      <td>500</td>\n",
              "      <td>N05W12</td>\n",
              "      <td>8040</td>\n",
              "      <td>M1.3</td>\n",
              "      <td>05/21</td>\n",
              "      <td>21:00</td>\n",
              "      <td>263</td>\n",
              "      <td>165</td>\n",
              "      <td>296</td>\n",
              "    </tr>\n",
              "    <tr>\n",
              "      <th>4</th>\n",
              "      <td>1997/09/23</td>\n",
              "      <td>21:53</td>\n",
              "      <td>09/23</td>\n",
              "      <td>22:16</td>\n",
              "      <td>6000</td>\n",
              "      <td>2000</td>\n",
              "      <td>S29E25</td>\n",
              "      <td>8088</td>\n",
              "      <td>C1.4</td>\n",
              "      <td>09/23</td>\n",
              "      <td>22:02</td>\n",
              "      <td>133</td>\n",
              "      <td>155</td>\n",
              "      <td>712</td>\n",
              "    </tr>\n",
              "  </tbody>\n",
              "</table>\n",
              "</div>"
            ],
            "text/plain": [
              "   start_date start_time end_date  ... central_pos_angle cpa_width cme_speed\n",
              "0  1997/04/01      14:00    04/01  ...                74        79       312\n",
              "1  1997/04/07      14:30    04/07  ...              Halo       360       878\n",
              "2  1997/05/12      05:15    05/14  ...              Halo       360       464\n",
              "3  1997/05/21      20:20    05/21  ...               263       165       296\n",
              "4  1997/09/23      21:53    09/23  ...               133       155       712\n",
              "\n",
              "[5 rows x 14 columns]"
            ]
          },
          "metadata": {},
          "execution_count": 21
        }
      ]
    },
    {
      "cell_type": "markdown",
      "metadata": {
        "id": "tKW6x7I1ZN4u"
      },
      "source": [
        "___\n",
        "## Step 4 - Tidy the Nasa Data"
      ],
      "id": "tKW6x7I1ZN4u"
    },
    {
      "cell_type": "markdown",
      "metadata": {
        "id": "otC2cwQ1e2sP"
      },
      "source": [
        "**Replace all empty values with NaNs**"
      ],
      "id": "otC2cwQ1e2sP"
    },
    {
      "cell_type": "code",
      "metadata": {
        "id": "Ti9X_SNyZTao"
      },
      "source": [
        "nasa_df.region.replace(\"-----\", np.nan,inplace=True)\n",
        "nasa_df.xray_importance.replace(\"----\", np.nan,inplace=True)\n",
        "nasa_df.cme_date.replace(\"--/--\",np.nan, inplace=True)\n",
        "nasa_df.cme_time.replace(\"--:--\",np.nan,inplace=True)\n",
        "nasa_df.central_pos_angle.replace(\"----\", np.nan,inplace=True)\n",
        "nasa_df.cpa_width.replace(\"----\", np.nan,inplace=True)\n",
        "nasa_df.cpa_width.replace(\"---\", np.nan,inplace=True)\n",
        "nasa_df.cpa_width.replace(\"360h\", \"360\",inplace=True)\n",
        "nasa_df.cme_speed.replace(\"----\", np.nan,inplace=True)\n",
        "nasa_df.start_freq.replace(\"????\",np.nan,inplace=True)\n",
        "nasa_df.end_freq.replace(\"????\",np.nan,inplace=True)\n",
        "\n"
      ],
      "id": "Ti9X_SNyZTao",
      "execution_count": 22,
      "outputs": []
    },
    {
      "cell_type": "markdown",
      "metadata": {
        "id": "r0QOknyDe6iC"
      },
      "source": [
        "**Replace all lower case \"Back\" values with upper case \"BACK\" in location column**"
      ],
      "id": "r0QOknyDe6iC"
    },
    {
      "cell_type": "code",
      "metadata": {
        "id": "-4JokLqXe1kL"
      },
      "source": [
        "nasa_df.location.replace(\"Back\",\"BACK\",inplace=True)"
      ],
      "id": "-4JokLqXe1kL",
      "execution_count": 23,
      "outputs": []
    },
    {
      "cell_type": "markdown",
      "metadata": {
        "id": "DZ5Pmt-JfVTj"
      },
      "source": [
        "**Replace all DSF values with FILA in region column**"
      ],
      "id": "DZ5Pmt-JfVTj"
    },
    {
      "cell_type": "code",
      "metadata": {
        "id": "qCVqDAdRfbk6"
      },
      "source": [
        "nasa_df.region.replace(\"DSF\",\"FILE\",inplace=True)"
      ],
      "id": "qCVqDAdRfbk6",
      "execution_count": 24,
      "outputs": []
    },
    {
      "cell_type": "markdown",
      "metadata": {
        "id": "rWyuC4Gaf19B"
      },
      "source": [
        "**Create column to indicate HALO flare, then turn Halo entries into NaN.**<br/>\n",
        "Halo = 1 <br/>\n",
        "Non-Halo = 0"
      ],
      "id": "rWyuC4Gaf19B"
    },
    {
      "cell_type": "code",
      "metadata": {
        "id": "VhZoQD-cf1eE"
      },
      "source": [
        "column_vals = []\n",
        "for index,value in nasa_df[\"central_pos_angle\"].iteritems():\n",
        "  if value == \"Halo\":\n",
        "    column_vals.append(1)\n",
        "  else:\n",
        "    column_vals.append(0)\n",
        "nasa_df[\"is_halo\"] = column_vals"
      ],
      "id": "VhZoQD-cf1eE",
      "execution_count": 25,
      "outputs": []
    },
    {
      "cell_type": "code",
      "metadata": {
        "id": "okJ4B-4KhlJX"
      },
      "source": [
        "nasa_df.central_pos_angle.replace(\"Halo\", np.nan,inplace=True)"
      ],
      "id": "okJ4B-4KhlJX",
      "execution_count": 26,
      "outputs": []
    },
    {
      "cell_type": "markdown",
      "metadata": {
        "id": "aV-p7NLUh8BV"
      },
      "source": [
        "**Indicate which cpa_widths are lower bounds, make a new column with the info, then remove the non-numeric characters**"
      ],
      "id": "aV-p7NLUh8BV"
    },
    {
      "cell_type": "code",
      "metadata": {
        "id": "r8DfIgZwh7E2"
      },
      "source": [
        "column_vals = []\n",
        "for index,value in nasa_df[\"cpa_width\"].iteritems():\n",
        "  if pd.isnull(value) == True:\n",
        "    column_vals.append(0)\n",
        "  elif \">\" in value:\n",
        "        column_vals.append(1)\n",
        "  else:\n",
        "    column_vals.append(0)\n",
        "nasa_df[\"lower_bound\"] = column_vals"
      ],
      "id": "r8DfIgZwh7E2",
      "execution_count": 27,
      "outputs": []
    },
    {
      "cell_type": "code",
      "metadata": {
        "id": "osEaIR5Sh7PA"
      },
      "source": [
        "def remove_sign(str):\n",
        "  if pd.isnull(str) == True:\n",
        "    return str\n",
        "  return re.sub(\">\",\"\",str)\n",
        "\n",
        "nasa_df[\"cpa_width\"] = nasa_df[\"cpa_width\"].apply(remove_sign)"
      ],
      "id": "osEaIR5Sh7PA",
      "execution_count": 28,
      "outputs": []
    },
    {
      "cell_type": "markdown",
      "metadata": {
        "id": "ISxtJrddnmKU"
      },
      "source": [
        "**Reformat date columns and drop repetitive data**"
      ],
      "id": "ISxtJrddnmKU"
    },
    {
      "cell_type": "code",
      "metadata": {
        "id": "ZFjK6nl7nrZx"
      },
      "source": [
        "nasa_df.replace(\"24:00\",\"23:59\",inplace=True)"
      ],
      "id": "ZFjK6nl7nrZx",
      "execution_count": 29,
      "outputs": []
    },
    {
      "cell_type": "code",
      "metadata": {
        "colab": {
          "base_uri": "https://localhost:8080/"
        },
        "id": "y-f8QLAHnre2",
        "outputId": "caaf11f9-a278-4526-efb3-865e61937eaf"
      },
      "source": [
        "for index,value in nasa_df[\"end_date\"].iteritems():\n",
        "  year = nasa_df.start_date.loc[index][0:4]\n",
        "  nasa_df[\"end_date\"].loc[index] = pd.to_datetime(year + \"/\" + nasa_df[\"end_date\"].loc[index] + \" \" + nasa_df[\"end_time\"].loc[index])\n",
        "\n",
        "for index,value in nasa_df[\"cme_date\"].iteritems():\n",
        "  year = nasa_df.start_date.loc[index][0:4]\n",
        "  if pd.isnull(nasa_df[\"cme_date\"].loc[index]):\n",
        "    pass\n",
        "  else:\n",
        "    nasa_df[\"cme_date\"].loc[index] = pd.to_datetime(year + \"/\" + nasa_df[\"cme_date\"].loc[index] + \" \" + nasa_df[\"cme_time\"].loc[index])\n",
        "\n",
        "nasa_df.loc[:,\"start_date\"] = pd.to_datetime(nasa_df.loc[:,\"start_date\"] + \" \" + nasa_df.loc[:,\"start_time\"])\n",
        "nasa_df.loc[:,\"end_date\"] = pd.to_datetime(nasa_df.loc[:,\"end_date\"])\n",
        "nasa_df.loc[:,\"cme_date\"] = pd.to_datetime(nasa_df.loc[:,\"cme_date\"])\n"
      ],
      "id": "y-f8QLAHnre2",
      "execution_count": 30,
      "outputs": [
        {
          "output_type": "stream",
          "name": "stderr",
          "text": [
            "/usr/local/lib/python3.7/dist-packages/pandas/core/indexing.py:670: SettingWithCopyWarning: \n",
            "A value is trying to be set on a copy of a slice from a DataFrame\n",
            "\n",
            "See the caveats in the documentation: https://pandas.pydata.org/pandas-docs/stable/user_guide/indexing.html#returning-a-view-versus-a-copy\n",
            "  iloc._setitem_with_indexer(indexer, value)\n"
          ]
        }
      ]
    },
    {
      "cell_type": "code",
      "metadata": {
        "id": "oIaBLrIh6oVu"
      },
      "source": [
        "nasa_df.rename(columns={\"start_date\":\"start_datetime\", \"end_date\":\"end_datetime\",\"cme_date\":\"cme_datetime\"},inplace=True) #rename columns"
      ],
      "id": "oIaBLrIh6oVu",
      "execution_count": 31,
      "outputs": []
    },
    {
      "cell_type": "code",
      "metadata": {
        "id": "qpvykU7UabYj"
      },
      "source": [
        "nasa_df.drop(columns=[\"start_time\",\"end_time\",\"cme_time\"],inplace=True) #drop unnessecary values"
      ],
      "id": "qpvykU7UabYj",
      "execution_count": 32,
      "outputs": []
    },
    {
      "cell_type": "code",
      "metadata": {
        "id": "zSptAZAhADH0"
      },
      "source": [
        "nasa_df.start_freq = nasa_df.start_freq.astype('float') #change all str types to float\n",
        "nasa_df.end_freq = nasa_df.end_freq.astype('float')\n",
        "nasa_df.central_pos_angle = nasa_df.central_pos_angle.astype('float')\n",
        "nasa_df.cme_speed = nasa_df.cme_speed.astype('float')\n",
        "nasa_df.cpa_width = nasa_df.cpa_width.astype('float')"
      ],
      "id": "zSptAZAhADH0",
      "execution_count": 33,
      "outputs": []
    },
    {
      "cell_type": "markdown",
      "metadata": {
        "id": "y55F4UzHHpb1"
      },
      "source": [
        "**Adjust xray_importance column to have 0 after \".\" value for easier searching later**"
      ],
      "id": "y55F4UzHHpb1"
    },
    {
      "cell_type": "code",
      "metadata": {
        "colab": {
          "base_uri": "https://localhost:8080/"
        },
        "id": "7hQUjqX4dxHo",
        "outputId": "6726f940-f0a0-43a4-e3f4-eac78756c368"
      },
      "source": [
        "nasa_df.dtypes"
      ],
      "id": "7hQUjqX4dxHo",
      "execution_count": 34,
      "outputs": [
        {
          "output_type": "execute_result",
          "data": {
            "text/plain": [
              "start_datetime       datetime64[ns]\n",
              "end_datetime         datetime64[ns]\n",
              "start_freq                  float64\n",
              "end_freq                    float64\n",
              "location                     object\n",
              "region                       object\n",
              "xray_importance              object\n",
              "cme_datetime         datetime64[ns]\n",
              "central_pos_angle           float64\n",
              "cpa_width                   float64\n",
              "cme_speed                   float64\n",
              "is_halo                       int64\n",
              "lower_bound                   int64\n",
              "dtype: object"
            ]
          },
          "metadata": {},
          "execution_count": 34
        }
      ]
    },
    {
      "cell_type": "code",
      "metadata": {
        "colab": {
          "base_uri": "https://localhost:8080/",
          "height": 289
        },
        "id": "rg1PlIXl53Rf",
        "outputId": "6635dfab-fdd1-43e8-c004-f7112c7ad377"
      },
      "source": [
        "nasa_df.head()"
      ],
      "id": "rg1PlIXl53Rf",
      "execution_count": 35,
      "outputs": [
        {
          "output_type": "execute_result",
          "data": {
            "text/html": [
              "<div>\n",
              "<style scoped>\n",
              "    .dataframe tbody tr th:only-of-type {\n",
              "        vertical-align: middle;\n",
              "    }\n",
              "\n",
              "    .dataframe tbody tr th {\n",
              "        vertical-align: top;\n",
              "    }\n",
              "\n",
              "    .dataframe thead th {\n",
              "        text-align: right;\n",
              "    }\n",
              "</style>\n",
              "<table border=\"1\" class=\"dataframe\">\n",
              "  <thead>\n",
              "    <tr style=\"text-align: right;\">\n",
              "      <th></th>\n",
              "      <th>start_datetime</th>\n",
              "      <th>end_datetime</th>\n",
              "      <th>start_freq</th>\n",
              "      <th>end_freq</th>\n",
              "      <th>location</th>\n",
              "      <th>region</th>\n",
              "      <th>xray_importance</th>\n",
              "      <th>cme_datetime</th>\n",
              "      <th>central_pos_angle</th>\n",
              "      <th>cpa_width</th>\n",
              "      <th>cme_speed</th>\n",
              "      <th>is_halo</th>\n",
              "      <th>lower_bound</th>\n",
              "    </tr>\n",
              "  </thead>\n",
              "  <tbody>\n",
              "    <tr>\n",
              "      <th>0</th>\n",
              "      <td>1997-04-01 14:00:00</td>\n",
              "      <td>1997-04-01 14:15:00</td>\n",
              "      <td>8000.0</td>\n",
              "      <td>4000.0</td>\n",
              "      <td>S25E16</td>\n",
              "      <td>8026</td>\n",
              "      <td>M1.3</td>\n",
              "      <td>1997-04-01 15:18:00</td>\n",
              "      <td>74.0</td>\n",
              "      <td>79.0</td>\n",
              "      <td>312.0</td>\n",
              "      <td>0</td>\n",
              "      <td>0</td>\n",
              "    </tr>\n",
              "    <tr>\n",
              "      <th>1</th>\n",
              "      <td>1997-04-07 14:30:00</td>\n",
              "      <td>1997-04-07 17:30:00</td>\n",
              "      <td>11000.0</td>\n",
              "      <td>1000.0</td>\n",
              "      <td>S28E19</td>\n",
              "      <td>8027</td>\n",
              "      <td>C6.8</td>\n",
              "      <td>1997-04-07 14:27:00</td>\n",
              "      <td>NaN</td>\n",
              "      <td>360.0</td>\n",
              "      <td>878.0</td>\n",
              "      <td>1</td>\n",
              "      <td>0</td>\n",
              "    </tr>\n",
              "    <tr>\n",
              "      <th>2</th>\n",
              "      <td>1997-05-12 05:15:00</td>\n",
              "      <td>1997-05-14 16:00:00</td>\n",
              "      <td>12000.0</td>\n",
              "      <td>80.0</td>\n",
              "      <td>N21W08</td>\n",
              "      <td>8038</td>\n",
              "      <td>C1.3</td>\n",
              "      <td>1997-05-12 05:30:00</td>\n",
              "      <td>NaN</td>\n",
              "      <td>360.0</td>\n",
              "      <td>464.0</td>\n",
              "      <td>1</td>\n",
              "      <td>0</td>\n",
              "    </tr>\n",
              "    <tr>\n",
              "      <th>3</th>\n",
              "      <td>1997-05-21 20:20:00</td>\n",
              "      <td>1997-05-21 22:00:00</td>\n",
              "      <td>5000.0</td>\n",
              "      <td>500.0</td>\n",
              "      <td>N05W12</td>\n",
              "      <td>8040</td>\n",
              "      <td>M1.3</td>\n",
              "      <td>1997-05-21 21:00:00</td>\n",
              "      <td>263.0</td>\n",
              "      <td>165.0</td>\n",
              "      <td>296.0</td>\n",
              "      <td>0</td>\n",
              "      <td>0</td>\n",
              "    </tr>\n",
              "    <tr>\n",
              "      <th>4</th>\n",
              "      <td>1997-09-23 21:53:00</td>\n",
              "      <td>1997-09-23 22:16:00</td>\n",
              "      <td>6000.0</td>\n",
              "      <td>2000.0</td>\n",
              "      <td>S29E25</td>\n",
              "      <td>8088</td>\n",
              "      <td>C1.4</td>\n",
              "      <td>1997-09-23 22:02:00</td>\n",
              "      <td>133.0</td>\n",
              "      <td>155.0</td>\n",
              "      <td>712.0</td>\n",
              "      <td>0</td>\n",
              "      <td>0</td>\n",
              "    </tr>\n",
              "  </tbody>\n",
              "</table>\n",
              "</div>"
            ],
            "text/plain": [
              "       start_datetime        end_datetime  ...  is_halo  lower_bound\n",
              "0 1997-04-01 14:00:00 1997-04-01 14:15:00  ...        0            0\n",
              "1 1997-04-07 14:30:00 1997-04-07 17:30:00  ...        1            0\n",
              "2 1997-05-12 05:15:00 1997-05-14 16:00:00  ...        1            0\n",
              "3 1997-05-21 20:20:00 1997-05-21 22:00:00  ...        0            0\n",
              "4 1997-09-23 21:53:00 1997-09-23 22:16:00  ...        0            0\n",
              "\n",
              "[5 rows x 13 columns]"
            ]
          },
          "metadata": {},
          "execution_count": 35
        }
      ]
    },
    {
      "cell_type": "markdown",
      "metadata": {
        "id": "NRnlgschuBtq"
      },
      "source": [
        "___\n",
        "## Part 2 - Analysis\n"
      ],
      "id": "NRnlgschuBtq"
    },
    {
      "cell_type": "markdown",
      "metadata": {
        "id": "KChdro6wvFeN"
      },
      "source": [
        "###Question 1: Replication\n",
        "Can you replicate the top 50 solar flare table in SpaceWeatherLive.com exactly using the data obtained from NASA? That is, if you get the top 50 solar flares from the NASA table based on their classification (e.g., X28 is the highest), do you get data for the same solar flare events?\n",
        "\n",
        "Include code used to get the top 50 solar flares from the NASA table (be careful when ordering by classification, remember x is the highest!). Write a sentence or two discussing how well you can replicate the SpaceWeatherLive data from the NASA data."
      ],
      "id": "KChdro6wvFeN"
    },
    {
      "cell_type": "code",
      "metadata": {
        "id": "05c_FAEAvEDR",
        "colab": {
          "base_uri": "https://localhost:8080/",
          "height": 581
        },
        "outputId": "56de968c-a9fe-4494-ccb9-d26964234555"
      },
      "source": [
        "display(nasa_df.head())\n",
        "display(solfla_df.head())"
      ],
      "id": "05c_FAEAvEDR",
      "execution_count": 36,
      "outputs": [
        {
          "output_type": "display_data",
          "data": {
            "text/html": [
              "<div>\n",
              "<style scoped>\n",
              "    .dataframe tbody tr th:only-of-type {\n",
              "        vertical-align: middle;\n",
              "    }\n",
              "\n",
              "    .dataframe tbody tr th {\n",
              "        vertical-align: top;\n",
              "    }\n",
              "\n",
              "    .dataframe thead th {\n",
              "        text-align: right;\n",
              "    }\n",
              "</style>\n",
              "<table border=\"1\" class=\"dataframe\">\n",
              "  <thead>\n",
              "    <tr style=\"text-align: right;\">\n",
              "      <th></th>\n",
              "      <th>start_datetime</th>\n",
              "      <th>end_datetime</th>\n",
              "      <th>start_freq</th>\n",
              "      <th>end_freq</th>\n",
              "      <th>location</th>\n",
              "      <th>region</th>\n",
              "      <th>xray_importance</th>\n",
              "      <th>cme_datetime</th>\n",
              "      <th>central_pos_angle</th>\n",
              "      <th>cpa_width</th>\n",
              "      <th>cme_speed</th>\n",
              "      <th>is_halo</th>\n",
              "      <th>lower_bound</th>\n",
              "    </tr>\n",
              "  </thead>\n",
              "  <tbody>\n",
              "    <tr>\n",
              "      <th>0</th>\n",
              "      <td>1997-04-01 14:00:00</td>\n",
              "      <td>1997-04-01 14:15:00</td>\n",
              "      <td>8000.0</td>\n",
              "      <td>4000.0</td>\n",
              "      <td>S25E16</td>\n",
              "      <td>8026</td>\n",
              "      <td>M1.3</td>\n",
              "      <td>1997-04-01 15:18:00</td>\n",
              "      <td>74.0</td>\n",
              "      <td>79.0</td>\n",
              "      <td>312.0</td>\n",
              "      <td>0</td>\n",
              "      <td>0</td>\n",
              "    </tr>\n",
              "    <tr>\n",
              "      <th>1</th>\n",
              "      <td>1997-04-07 14:30:00</td>\n",
              "      <td>1997-04-07 17:30:00</td>\n",
              "      <td>11000.0</td>\n",
              "      <td>1000.0</td>\n",
              "      <td>S28E19</td>\n",
              "      <td>8027</td>\n",
              "      <td>C6.8</td>\n",
              "      <td>1997-04-07 14:27:00</td>\n",
              "      <td>NaN</td>\n",
              "      <td>360.0</td>\n",
              "      <td>878.0</td>\n",
              "      <td>1</td>\n",
              "      <td>0</td>\n",
              "    </tr>\n",
              "    <tr>\n",
              "      <th>2</th>\n",
              "      <td>1997-05-12 05:15:00</td>\n",
              "      <td>1997-05-14 16:00:00</td>\n",
              "      <td>12000.0</td>\n",
              "      <td>80.0</td>\n",
              "      <td>N21W08</td>\n",
              "      <td>8038</td>\n",
              "      <td>C1.3</td>\n",
              "      <td>1997-05-12 05:30:00</td>\n",
              "      <td>NaN</td>\n",
              "      <td>360.0</td>\n",
              "      <td>464.0</td>\n",
              "      <td>1</td>\n",
              "      <td>0</td>\n",
              "    </tr>\n",
              "    <tr>\n",
              "      <th>3</th>\n",
              "      <td>1997-05-21 20:20:00</td>\n",
              "      <td>1997-05-21 22:00:00</td>\n",
              "      <td>5000.0</td>\n",
              "      <td>500.0</td>\n",
              "      <td>N05W12</td>\n",
              "      <td>8040</td>\n",
              "      <td>M1.3</td>\n",
              "      <td>1997-05-21 21:00:00</td>\n",
              "      <td>263.0</td>\n",
              "      <td>165.0</td>\n",
              "      <td>296.0</td>\n",
              "      <td>0</td>\n",
              "      <td>0</td>\n",
              "    </tr>\n",
              "    <tr>\n",
              "      <th>4</th>\n",
              "      <td>1997-09-23 21:53:00</td>\n",
              "      <td>1997-09-23 22:16:00</td>\n",
              "      <td>6000.0</td>\n",
              "      <td>2000.0</td>\n",
              "      <td>S29E25</td>\n",
              "      <td>8088</td>\n",
              "      <td>C1.4</td>\n",
              "      <td>1997-09-23 22:02:00</td>\n",
              "      <td>133.0</td>\n",
              "      <td>155.0</td>\n",
              "      <td>712.0</td>\n",
              "      <td>0</td>\n",
              "      <td>0</td>\n",
              "    </tr>\n",
              "  </tbody>\n",
              "</table>\n",
              "</div>"
            ],
            "text/plain": [
              "       start_datetime        end_datetime  ...  is_halo  lower_bound\n",
              "0 1997-04-01 14:00:00 1997-04-01 14:15:00  ...        0            0\n",
              "1 1997-04-07 14:30:00 1997-04-07 17:30:00  ...        1            0\n",
              "2 1997-05-12 05:15:00 1997-05-14 16:00:00  ...        1            0\n",
              "3 1997-05-21 20:20:00 1997-05-21 22:00:00  ...        0            0\n",
              "4 1997-09-23 21:53:00 1997-09-23 22:16:00  ...        0            0\n",
              "\n",
              "[5 rows x 13 columns]"
            ]
          },
          "metadata": {}
        },
        {
          "output_type": "display_data",
          "data": {
            "text/html": [
              "<div>\n",
              "<style scoped>\n",
              "    .dataframe tbody tr th:only-of-type {\n",
              "        vertical-align: middle;\n",
              "    }\n",
              "\n",
              "    .dataframe tbody tr th {\n",
              "        vertical-align: top;\n",
              "    }\n",
              "\n",
              "    .dataframe thead th {\n",
              "        text-align: right;\n",
              "    }\n",
              "</style>\n",
              "<table border=\"1\" class=\"dataframe\">\n",
              "  <thead>\n",
              "    <tr style=\"text-align: right;\">\n",
              "      <th></th>\n",
              "      <th>rank</th>\n",
              "      <th>x_class</th>\n",
              "      <th>start_datetime</th>\n",
              "      <th>maximum_datetime</th>\n",
              "      <th>end_datetime</th>\n",
              "      <th>region</th>\n",
              "    </tr>\n",
              "  </thead>\n",
              "  <tbody>\n",
              "    <tr>\n",
              "      <th>0</th>\n",
              "      <td>1</td>\n",
              "      <td>X28.0</td>\n",
              "      <td>2003-11-04 19:29:00</td>\n",
              "      <td>2003-11-04 19:53:00</td>\n",
              "      <td>2003-11-04 20:06:00</td>\n",
              "      <td>486</td>\n",
              "    </tr>\n",
              "    <tr>\n",
              "      <th>1</th>\n",
              "      <td>2</td>\n",
              "      <td>X20.0</td>\n",
              "      <td>2001-04-02 21:32:00</td>\n",
              "      <td>2001-04-02 21:51:00</td>\n",
              "      <td>2001-04-02 22:03:00</td>\n",
              "      <td>9393</td>\n",
              "    </tr>\n",
              "    <tr>\n",
              "      <th>2</th>\n",
              "      <td>3</td>\n",
              "      <td>X17.2</td>\n",
              "      <td>2003-10-28 09:51:00</td>\n",
              "      <td>2003-10-28 11:10:00</td>\n",
              "      <td>2003-10-28 11:24:00</td>\n",
              "      <td>486</td>\n",
              "    </tr>\n",
              "    <tr>\n",
              "      <th>3</th>\n",
              "      <td>4</td>\n",
              "      <td>X17.0</td>\n",
              "      <td>2005-09-07 17:17:00</td>\n",
              "      <td>2005-09-07 17:40:00</td>\n",
              "      <td>2005-09-07 18:03:00</td>\n",
              "      <td>808</td>\n",
              "    </tr>\n",
              "    <tr>\n",
              "      <th>4</th>\n",
              "      <td>5</td>\n",
              "      <td>X14.4</td>\n",
              "      <td>2001-04-15 13:19:00</td>\n",
              "      <td>2001-04-15 13:50:00</td>\n",
              "      <td>2001-04-15 13:55:00</td>\n",
              "      <td>9415</td>\n",
              "    </tr>\n",
              "  </tbody>\n",
              "</table>\n",
              "</div>"
            ],
            "text/plain": [
              "   rank x_class  ...        end_datetime region\n",
              "0     1   X28.0  ... 2003-11-04 20:06:00    486\n",
              "1     2   X20.0  ... 2001-04-02 22:03:00   9393\n",
              "2     3   X17.2  ... 2003-10-28 11:24:00    486\n",
              "3     4   X17.0  ... 2005-09-07 18:03:00    808\n",
              "4     5   X14.4  ... 2001-04-15 13:55:00   9415\n",
              "\n",
              "[5 rows x 6 columns]"
            ]
          },
          "metadata": {}
        }
      ]
    },
    {
      "cell_type": "markdown",
      "metadata": {
        "id": "hvsGakrTYM1F"
      },
      "source": [
        "**Slightly modify Nasa table for easier searching (add zero after decimal points with no trailing ints i.e. 28. -> 28.0** "
      ],
      "id": "hvsGakrTYM1F"
    },
    {
      "cell_type": "code",
      "metadata": {
        "id": "-1STIDm7YRnT"
      },
      "source": [
        "def add_zero(entry):\n",
        "  if (pd.isnull(entry) == True):\n",
        "    return entry\n",
        "  if (entry[len(entry)-1] == \".\"):\n",
        "    return entry + \"0\"\n",
        "  else:\n",
        "    return entry\n",
        "\n",
        "nasa_df[\"xray_importance\"] = nasa_df[\"xray_importance\"].apply(add_zero)"
      ],
      "id": "-1STIDm7YRnT",
      "execution_count": 37,
      "outputs": []
    },
    {
      "cell_type": "markdown",
      "metadata": {
        "id": "F2j-d-Wy89e9"
      },
      "source": [
        "###Sorting values of Nasa Table xray_importance column to replicate Solar Flare DataFrame"
      ],
      "id": "F2j-d-Wy89e9"
    },
    {
      "cell_type": "code",
      "metadata": {
        "id": "8b5MtCkE9IsO"
      },
      "source": [
        "class_no_nan = [x for x in nasa_df.xray_importance.sort_values(ascending=False) if pd.isnull(x) == False]\n",
        "class_no_nan = class_no_nan[0:50]\n",
        "\n",
        "def strip_and_sort(lst):\n",
        "  rm_x_lst = []\n",
        "  for value in lst:\n",
        "    rm_x_lst.append(float(value[1:]))\n",
        "  rm_x_lst.sort(reverse=True)\n",
        "  return [(\"X\" + str(flt_val)) for flt_val in rm_x_lst]\n",
        "\n",
        "sorted_flares = strip_and_sort(class_no_nan)"
      ],
      "id": "8b5MtCkE9IsO",
      "execution_count": 38,
      "outputs": []
    },
    {
      "cell_type": "markdown",
      "metadata": {
        "id": "VtdVuufdLfza"
      },
      "source": [
        "**Instantiate replica dataframe**"
      ],
      "id": "VtdVuufdLfza"
    },
    {
      "cell_type": "code",
      "metadata": {
        "id": "jC96yRDdGhsg"
      },
      "source": [
        "imposter_solfla_df = pd.DataFrame(\n",
        "    columns = [\"rank\", \"x_class\",\"start_datetime\", \"end_datetime\",\"region\"]\n",
        ")"
      ],
      "id": "jC96yRDdGhsg",
      "execution_count": 39,
      "outputs": []
    },
    {
      "cell_type": "markdown",
      "metadata": {
        "id": "-84TgX84Lj36"
      },
      "source": [
        "**Fill replace DF with values from NASA table**"
      ],
      "id": "-84TgX84Lj36"
    },
    {
      "cell_type": "code",
      "metadata": {
        "id": "WgpDqzC6LnKL"
      },
      "source": [
        "# for index,value in solfla_df.loc[:,[\"x_class\",\"start_datetime\"]].iterrows():\n",
        "#     x_class, start_date = value[0], value[1]\n",
        "#     for nasa_index,nasa_value in nasa_df.loc[:,[\"xray_importance\",\"start_datetime\"]].iterrows():\n",
        "#       if (x_class == nasa_value[0]):\n",
        "#         if (start_date.year == nasa_value[1].year) and (start_date.month == nasa_value[1].month) and (start_date.day == nasa_value[1].day):\n",
        "#           imposter_solfla_df.loc[index] = [index+1, x_class, nasa_df[\"start_datetime\"].loc[nasa_index], nasa_df[\"end_datetime\"].loc[nasa_index], nasa_df[\"region\"].loc[nasa_index]]"
      ],
      "id": "WgpDqzC6LnKL",
      "execution_count": 40,
      "outputs": []
    },
    {
      "cell_type": "code",
      "metadata": {
        "id": "hOmDZfP7gwxX"
      },
      "source": [
        "for x_class in sorted_flares:\n",
        "  start_date = solfla_df[solfla_df.x_class == x_class].start_datetime\n",
        "  for date in start_date:\n",
        "    for nasa_index,nasa_value in nasa_df.loc[:,[\"xray_importance\",\"start_datetime\"]].iterrows():\n",
        "      if (x_class == nasa_value[0]):\n",
        "        if (date.year == nasa_value[1].year) and (date.month == nasa_value[1].month) and (date.day == nasa_value[1].day):\n",
        "          imposter_solfla_df.loc[index] = [index+1, x_class, nasa_df[\"start_datetime\"].loc[nasa_index], nasa_df[\"end_datetime\"].loc[nasa_index], nasa_df[\"region\"].loc[nasa_index]]\n",
        "\n"
      ],
      "id": "hOmDZfP7gwxX",
      "execution_count": 46,
      "outputs": []
    },
    {
      "cell_type": "code",
      "metadata": {
        "id": "t9H581OJZvJA",
        "colab": {
          "base_uri": "https://localhost:8080/",
          "height": 34
        },
        "outputId": "2f0b58ed-8b27-4f6d-8378-a3b182df8058"
      },
      "source": [
        "display(len(imposter_solfla_df)) #FIXME Problem with some entries being skipped, and others being duplicated. Not sure of the issue right now."
      ],
      "id": "t9H581OJZvJA",
      "execution_count": 50,
      "outputs": [
        {
          "output_type": "display_data",
          "data": {
            "text/plain": [
              "1"
            ]
          },
          "metadata": {}
        }
      ]
    },
    {
      "cell_type": "markdown",
      "metadata": {
        "id": "5SHoVQScuYrI"
      },
      "source": [
        "**Ans**: No, you cannot exactly replicate the SpaceWeatherLive.com table using the Nasa data. Some of the Nasa data is inconsistent with the Solar Flare data (off by 0.1 for example). Not to mention the fact that Nasa does not have the maximum time data either.\n",
        "___"
      ],
      "id": "5SHoVQScuYrI"
    },
    {
      "cell_type": "code",
      "metadata": {
        "id": "6xaNkzEaYVJI",
        "outputId": "a09ddcef-d541-429e-b02c-f229ab252e80",
        "colab": {
          "base_uri": "https://localhost:8080/",
          "height": 80
        }
      },
      "source": [
        "imposter_solfla_df"
      ],
      "id": "6xaNkzEaYVJI",
      "execution_count": 49,
      "outputs": [
        {
          "output_type": "execute_result",
          "data": {
            "text/html": [
              "<div>\n",
              "<style scoped>\n",
              "    .dataframe tbody tr th:only-of-type {\n",
              "        vertical-align: middle;\n",
              "    }\n",
              "\n",
              "    .dataframe tbody tr th {\n",
              "        vertical-align: top;\n",
              "    }\n",
              "\n",
              "    .dataframe thead th {\n",
              "        text-align: right;\n",
              "    }\n",
              "</style>\n",
              "<table border=\"1\" class=\"dataframe\">\n",
              "  <thead>\n",
              "    <tr style=\"text-align: right;\">\n",
              "      <th></th>\n",
              "      <th>rank</th>\n",
              "      <th>x_class</th>\n",
              "      <th>start_datetime</th>\n",
              "      <th>end_datetime</th>\n",
              "      <th>region</th>\n",
              "    </tr>\n",
              "  </thead>\n",
              "  <tbody>\n",
              "    <tr>\n",
              "      <th>521</th>\n",
              "      <td>522</td>\n",
              "      <td>X2.6</td>\n",
              "      <td>2001-09-24 10:45:00</td>\n",
              "      <td>2001-09-25 20:00:00</td>\n",
              "      <td>9632</td>\n",
              "    </tr>\n",
              "  </tbody>\n",
              "</table>\n",
              "</div>"
            ],
            "text/plain": [
              "    rank x_class      start_datetime        end_datetime region\n",
              "521  522    X2.6 2001-09-24 10:45:00 2001-09-25 20:00:00   9632"
            ]
          },
          "metadata": {},
          "execution_count": 49
        }
      ]
    },
    {
      "cell_type": "markdown",
      "metadata": {
        "id": "Dm5ZQxbEvOvm"
      },
      "source": [
        "### Question 2 - Ranking\n",
        "Write a function that finds the best matching row in the NASA data for each of the top 50 solar flares in the SpaceWeatherLive data and assigns a rank value to that entry in the NASA table. Here, you have to decide for yourself how you determine what is the best matching entry in the NASA data for each of the top 50 solar flares.\n",
        "\n",
        "Hint: You may want to look at multiple pieces of data before deciding if a flare matches.\n",
        "\n",
        "In your submission, include an explanation of how you are defining best matching rows across the two datasets in addition to the code used to find the best matches.\n",
        "\n",
        "Use your function to add a new column to the NASA dataset indicating its rank according to SpaceWeatherLive, if it appears in that dataset.\n",
        "\n",
        "Hint: You may not end up with all the ranks!\n",
        "\n",
        "At the end of this section display only flares in the NASA table that you could rank."
      ],
      "id": "Dm5ZQxbEvOvm"
    },
    {
      "cell_type": "code",
      "metadata": {
        "id": "rrEPCJxtvQAW"
      },
      "source": [
        ""
      ],
      "id": "rrEPCJxtvQAW",
      "execution_count": null,
      "outputs": []
    }
  ]
}