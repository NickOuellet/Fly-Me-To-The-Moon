{
  "nbformat": 4,
  "nbformat_minor": 5,
  "metadata": {
    "interpreter": {
      "hash": "4bd3767b9a68b1809be1a8a3b2146e6067673f8776213bfbf5c8fe8ac7d04b67"
    },
    "kernelspec": {
      "display_name": "Python 3 (ipykernel)",
      "language": "python",
      "name": "python3"
    },
    "language_info": {
      "codemirror_mode": {
        "name": "ipython",
        "version": 3
      },
      "file_extension": ".py",
      "mimetype": "text/x-python",
      "name": "python",
      "nbconvert_exporter": "python",
      "pygments_lexer": "ipython3",
      "version": "3.9.6"
    },
    "colab": {
      "name": "Fly Me To The Moon - Proj 1 Part 1-2.ipynb",
      "provenance": []
    }
  },
  "cells": [
    {
      "cell_type": "code",
      "metadata": {
        "id": "b5a544b0",
        "colab": {
          "base_uri": "https://localhost:8080/"
        },
        "outputId": "d41bf8d8-6522-43b4-d71f-3babb635cddb"
      },
      "source": [
        "pip install lxml"
      ],
      "id": "b5a544b0",
      "execution_count": 1,
      "outputs": [
        {
          "output_type": "stream",
          "name": "stdout",
          "text": [
            "Requirement already satisfied: lxml in /usr/local/lib/python3.7/dist-packages (4.2.6)\n"
          ]
        }
      ]
    },
    {
      "cell_type": "code",
      "metadata": {
        "id": "e499132b"
      },
      "source": [
        "from bs4 import BeautifulSoup\n",
        "import numpy as np\n",
        "import pandas as pd\n",
        "import requests\n",
        "import lxml\n",
        "import re"
      ],
      "id": "e499132b",
      "execution_count": 2,
      "outputs": []
    },
    {
      "cell_type": "markdown",
      "metadata": {
        "id": "28ec6d50"
      },
      "source": [
        "## Meeting Plan for Nicolas Ouellet and Benedicte Knudson:\n",
        "We colaborated over Zoom and in person **two** times and used a shared Github Repository that can be found [here](https://github.com/NickOuellet/Fly-Me-To-The-Moon). <br />\n",
        "We met: <br />\n",
        "10/11: 5-7pm <br />\n",
        "10/20: 10-12pm <br />"
      ],
      "id": "28ec6d50"
    },
    {
      "cell_type": "markdown",
      "metadata": {
        "id": "9834894e"
      },
      "source": [
        "### Step 1"
      ],
      "id": "9834894e"
    },
    {
      "cell_type": "code",
      "metadata": {
        "id": "09dc9234",
        "colab": {
          "base_uri": "https://localhost:8080/"
        },
        "outputId": "3a229ce7-2c2c-44d5-f499-7b6958d38f67"
      },
      "source": [
        "headers = {'User-Agent': 'Mozilla/5.0 (Macintosh; Intel Mac OS X 10_10_1) AppleWebKit/537.36 (KHTML, like Gecko) Chrome/39.0.2171.95 Safari/537.36'}\n",
        "r = requests.get(\"https://www.spaceweatherlive.com/en/solar-activity/top-50-solar-flares.html\",timeout=10,headers=headers)\n",
        "r.status_code"
      ],
      "id": "09dc9234",
      "execution_count": 3,
      "outputs": [
        {
          "output_type": "execute_result",
          "data": {
            "text/plain": [
              "200"
            ]
          },
          "metadata": {},
          "execution_count": 3
        }
      ]
    },
    {
      "cell_type": "code",
      "metadata": {
        "id": "76d3644d"
      },
      "source": [
        "text_response = r.content #https://stackoverflow.com/questions/52389692/beautifulsoup-and-prettify-function\n",
        "soup = BeautifulSoup(text_response,\"html.parser\")"
      ],
      "id": "76d3644d",
      "execution_count": 4,
      "outputs": []
    },
    {
      "cell_type": "code",
      "metadata": {
        "scrolled": true,
        "id": "3a8fd1be"
      },
      "source": [
        "table = soup.findAll(\"table\") #find the table in the HTML"
      ],
      "id": "3a8fd1be",
      "execution_count": 5,
      "outputs": []
    },
    {
      "cell_type": "code",
      "metadata": {
        "id": "8d38ccdb"
      },
      "source": [
        "solar_flare_df = pd.read_html(str(table))"
      ],
      "id": "8d38ccdb",
      "execution_count": 6,
      "outputs": []
    },
    {
      "cell_type": "code",
      "metadata": {
        "id": "7469438b"
      },
      "source": [
        "solfla_df = solar_flare_df[0]#works when we just select the first table"
      ],
      "id": "7469438b",
      "execution_count": 7,
      "outputs": []
    },
    {
      "cell_type": "code",
      "metadata": {
        "id": "7bde39e8"
      },
      "source": [
        "solfla_df.columns = [\"rank\", \"x_classification\", \"date\", \"region\", \"start_time\", \"maximum_time\", \"end_time\", \"movie\"] #rename columns to be more descriptive"
      ],
      "id": "7bde39e8",
      "execution_count": 8,
      "outputs": []
    },
    {
      "cell_type": "code",
      "metadata": {
        "id": "3e5d86a9",
        "colab": {
          "base_uri": "https://localhost:8080/",
          "height": 204
        },
        "outputId": "50a0651e-fe29-48ab-d75f-0842d4578f48"
      },
      "source": [
        "solfla_df.head()"
      ],
      "id": "3e5d86a9",
      "execution_count": 9,
      "outputs": [
        {
          "output_type": "execute_result",
          "data": {
            "text/html": [
              "<div>\n",
              "<style scoped>\n",
              "    .dataframe tbody tr th:only-of-type {\n",
              "        vertical-align: middle;\n",
              "    }\n",
              "\n",
              "    .dataframe tbody tr th {\n",
              "        vertical-align: top;\n",
              "    }\n",
              "\n",
              "    .dataframe thead th {\n",
              "        text-align: right;\n",
              "    }\n",
              "</style>\n",
              "<table border=\"1\" class=\"dataframe\">\n",
              "  <thead>\n",
              "    <tr style=\"text-align: right;\">\n",
              "      <th></th>\n",
              "      <th>rank</th>\n",
              "      <th>x_classification</th>\n",
              "      <th>date</th>\n",
              "      <th>region</th>\n",
              "      <th>start_time</th>\n",
              "      <th>maximum_time</th>\n",
              "      <th>end_time</th>\n",
              "      <th>movie</th>\n",
              "    </tr>\n",
              "  </thead>\n",
              "  <tbody>\n",
              "    <tr>\n",
              "      <th>0</th>\n",
              "      <td>1</td>\n",
              "      <td>X28+</td>\n",
              "      <td>2003/11/04</td>\n",
              "      <td>486</td>\n",
              "      <td>19:29</td>\n",
              "      <td>19:53</td>\n",
              "      <td>20:06</td>\n",
              "      <td>MovieView archive</td>\n",
              "    </tr>\n",
              "    <tr>\n",
              "      <th>1</th>\n",
              "      <td>2</td>\n",
              "      <td>X20+</td>\n",
              "      <td>2001/04/02</td>\n",
              "      <td>9393</td>\n",
              "      <td>21:32</td>\n",
              "      <td>21:51</td>\n",
              "      <td>22:03</td>\n",
              "      <td>MovieView archive</td>\n",
              "    </tr>\n",
              "    <tr>\n",
              "      <th>2</th>\n",
              "      <td>3</td>\n",
              "      <td>X17.2+</td>\n",
              "      <td>2003/10/28</td>\n",
              "      <td>486</td>\n",
              "      <td>09:51</td>\n",
              "      <td>11:10</td>\n",
              "      <td>11:24</td>\n",
              "      <td>MovieView archive</td>\n",
              "    </tr>\n",
              "    <tr>\n",
              "      <th>3</th>\n",
              "      <td>4</td>\n",
              "      <td>X17+</td>\n",
              "      <td>2005/09/07</td>\n",
              "      <td>808</td>\n",
              "      <td>17:17</td>\n",
              "      <td>17:40</td>\n",
              "      <td>18:03</td>\n",
              "      <td>MovieView archive</td>\n",
              "    </tr>\n",
              "    <tr>\n",
              "      <th>4</th>\n",
              "      <td>5</td>\n",
              "      <td>X14.4</td>\n",
              "      <td>2001/04/15</td>\n",
              "      <td>9415</td>\n",
              "      <td>13:19</td>\n",
              "      <td>13:50</td>\n",
              "      <td>13:55</td>\n",
              "      <td>MovieView archive</td>\n",
              "    </tr>\n",
              "  </tbody>\n",
              "</table>\n",
              "</div>"
            ],
            "text/plain": [
              "   rank x_classification        date  ...  maximum_time end_time              movie\n",
              "0     1             X28+  2003/11/04  ...         19:53    20:06  MovieView archive\n",
              "1     2             X20+  2001/04/02  ...         21:51    22:03  MovieView archive\n",
              "2     3           X17.2+  2003/10/28  ...         11:10    11:24  MovieView archive\n",
              "3     4             X17+  2005/09/07  ...         17:40    18:03  MovieView archive\n",
              "4     5            X14.4  2001/04/15  ...         13:50    13:55  MovieView archive\n",
              "\n",
              "[5 rows x 8 columns]"
            ]
          },
          "metadata": {},
          "execution_count": 9
        }
      ]
    },
    {
      "cell_type": "markdown",
      "metadata": {
        "id": "28f6f2cd"
      },
      "source": [
        "### Step 2"
      ],
      "id": "28f6f2cd"
    },
    {
      "cell_type": "code",
      "metadata": {
        "id": "c5cc3347",
        "colab": {
          "base_uri": "https://localhost:8080/",
          "height": 204
        },
        "outputId": "c39ba351-6d97-4766-a12e-f8a034b22063"
      },
      "source": [
        "solfla_df = solfla_df[[\"rank\", \"x_classification\", \"date\", \"region\", \"start_time\", \"maximum_time\", \"end_time\"]]\n",
        "solfla_df.head()"
      ],
      "id": "c5cc3347",
      "execution_count": 10,
      "outputs": [
        {
          "output_type": "execute_result",
          "data": {
            "text/html": [
              "<div>\n",
              "<style scoped>\n",
              "    .dataframe tbody tr th:only-of-type {\n",
              "        vertical-align: middle;\n",
              "    }\n",
              "\n",
              "    .dataframe tbody tr th {\n",
              "        vertical-align: top;\n",
              "    }\n",
              "\n",
              "    .dataframe thead th {\n",
              "        text-align: right;\n",
              "    }\n",
              "</style>\n",
              "<table border=\"1\" class=\"dataframe\">\n",
              "  <thead>\n",
              "    <tr style=\"text-align: right;\">\n",
              "      <th></th>\n",
              "      <th>rank</th>\n",
              "      <th>x_classification</th>\n",
              "      <th>date</th>\n",
              "      <th>region</th>\n",
              "      <th>start_time</th>\n",
              "      <th>maximum_time</th>\n",
              "      <th>end_time</th>\n",
              "    </tr>\n",
              "  </thead>\n",
              "  <tbody>\n",
              "    <tr>\n",
              "      <th>0</th>\n",
              "      <td>1</td>\n",
              "      <td>X28+</td>\n",
              "      <td>2003/11/04</td>\n",
              "      <td>486</td>\n",
              "      <td>19:29</td>\n",
              "      <td>19:53</td>\n",
              "      <td>20:06</td>\n",
              "    </tr>\n",
              "    <tr>\n",
              "      <th>1</th>\n",
              "      <td>2</td>\n",
              "      <td>X20+</td>\n",
              "      <td>2001/04/02</td>\n",
              "      <td>9393</td>\n",
              "      <td>21:32</td>\n",
              "      <td>21:51</td>\n",
              "      <td>22:03</td>\n",
              "    </tr>\n",
              "    <tr>\n",
              "      <th>2</th>\n",
              "      <td>3</td>\n",
              "      <td>X17.2+</td>\n",
              "      <td>2003/10/28</td>\n",
              "      <td>486</td>\n",
              "      <td>09:51</td>\n",
              "      <td>11:10</td>\n",
              "      <td>11:24</td>\n",
              "    </tr>\n",
              "    <tr>\n",
              "      <th>3</th>\n",
              "      <td>4</td>\n",
              "      <td>X17+</td>\n",
              "      <td>2005/09/07</td>\n",
              "      <td>808</td>\n",
              "      <td>17:17</td>\n",
              "      <td>17:40</td>\n",
              "      <td>18:03</td>\n",
              "    </tr>\n",
              "    <tr>\n",
              "      <th>4</th>\n",
              "      <td>5</td>\n",
              "      <td>X14.4</td>\n",
              "      <td>2001/04/15</td>\n",
              "      <td>9415</td>\n",
              "      <td>13:19</td>\n",
              "      <td>13:50</td>\n",
              "      <td>13:55</td>\n",
              "    </tr>\n",
              "  </tbody>\n",
              "</table>\n",
              "</div>"
            ],
            "text/plain": [
              "   rank x_classification        date  region start_time maximum_time end_time\n",
              "0     1             X28+  2003/11/04     486      19:29        19:53    20:06\n",
              "1     2             X20+  2001/04/02    9393      21:32        21:51    22:03\n",
              "2     3           X17.2+  2003/10/28     486      09:51        11:10    11:24\n",
              "3     4             X17+  2005/09/07     808      17:17        17:40    18:03\n",
              "4     5            X14.4  2001/04/15    9415      13:19        13:50    13:55"
            ]
          },
          "metadata": {},
          "execution_count": 10
        }
      ]
    },
    {
      "cell_type": "code",
      "metadata": {
        "id": "k4vcHmTAlnYq"
      },
      "source": [
        ""
      ],
      "id": "k4vcHmTAlnYq",
      "execution_count": 10,
      "outputs": []
    },
    {
      "cell_type": "code",
      "metadata": {
        "id": "71cf6493"
      },
      "source": [
        "import datetime"
      ],
      "id": "71cf6493",
      "execution_count": 11,
      "outputs": []
    },
    {
      "cell_type": "code",
      "metadata": {
        "id": "c7191a79",
        "colab": {
          "base_uri": "https://localhost:8080/",
          "height": 408
        },
        "outputId": "f41bc901-51c4-4c82-df70-8a5a988740ce"
      },
      "source": [
        "for index, row in solfla_df.iterrows():\n",
        "    solfla_df[\"start_time\"] = pd.to_datetime(solfla_df[\"start_time\"])\n",
        "    #solfla_df[\"maximum_time\"] = pd.datetime(solfla_df[\"maximum_time\"])\n",
        "    solfla_df[\"end_time\"] = pd.to_datetime(solfla_df[\"end_time\"])\n",
        "solfla_df.head()"
      ],
      "id": "c7191a79",
      "execution_count": 13,
      "outputs": [
        {
          "output_type": "stream",
          "name": "stderr",
          "text": [
            "/usr/local/lib/python3.7/dist-packages/ipykernel_launcher.py:2: SettingWithCopyWarning: \n",
            "A value is trying to be set on a copy of a slice from a DataFrame.\n",
            "Try using .loc[row_indexer,col_indexer] = value instead\n",
            "\n",
            "See the caveats in the documentation: https://pandas.pydata.org/pandas-docs/stable/user_guide/indexing.html#returning-a-view-versus-a-copy\n",
            "  \n",
            "/usr/local/lib/python3.7/dist-packages/ipykernel_launcher.py:4: SettingWithCopyWarning: \n",
            "A value is trying to be set on a copy of a slice from a DataFrame.\n",
            "Try using .loc[row_indexer,col_indexer] = value instead\n",
            "\n",
            "See the caveats in the documentation: https://pandas.pydata.org/pandas-docs/stable/user_guide/indexing.html#returning-a-view-versus-a-copy\n",
            "  after removing the cwd from sys.path.\n"
          ]
        },
        {
          "output_type": "execute_result",
          "data": {
            "text/html": [
              "<div>\n",
              "<style scoped>\n",
              "    .dataframe tbody tr th:only-of-type {\n",
              "        vertical-align: middle;\n",
              "    }\n",
              "\n",
              "    .dataframe tbody tr th {\n",
              "        vertical-align: top;\n",
              "    }\n",
              "\n",
              "    .dataframe thead th {\n",
              "        text-align: right;\n",
              "    }\n",
              "</style>\n",
              "<table border=\"1\" class=\"dataframe\">\n",
              "  <thead>\n",
              "    <tr style=\"text-align: right;\">\n",
              "      <th></th>\n",
              "      <th>rank</th>\n",
              "      <th>x_classification</th>\n",
              "      <th>date</th>\n",
              "      <th>region</th>\n",
              "      <th>start_time</th>\n",
              "      <th>maximum_time</th>\n",
              "      <th>end_time</th>\n",
              "    </tr>\n",
              "  </thead>\n",
              "  <tbody>\n",
              "    <tr>\n",
              "      <th>0</th>\n",
              "      <td>1</td>\n",
              "      <td>X28+</td>\n",
              "      <td>2003/11/04</td>\n",
              "      <td>486</td>\n",
              "      <td>2021-10-20 19:29:00</td>\n",
              "      <td>19:53</td>\n",
              "      <td>2021-10-20 20:06:00</td>\n",
              "    </tr>\n",
              "    <tr>\n",
              "      <th>1</th>\n",
              "      <td>2</td>\n",
              "      <td>X20+</td>\n",
              "      <td>2001/04/02</td>\n",
              "      <td>9393</td>\n",
              "      <td>2021-10-20 21:32:00</td>\n",
              "      <td>21:51</td>\n",
              "      <td>2021-10-20 22:03:00</td>\n",
              "    </tr>\n",
              "    <tr>\n",
              "      <th>2</th>\n",
              "      <td>3</td>\n",
              "      <td>X17.2+</td>\n",
              "      <td>2003/10/28</td>\n",
              "      <td>486</td>\n",
              "      <td>2021-10-20 09:51:00</td>\n",
              "      <td>11:10</td>\n",
              "      <td>2021-10-20 11:24:00</td>\n",
              "    </tr>\n",
              "    <tr>\n",
              "      <th>3</th>\n",
              "      <td>4</td>\n",
              "      <td>X17+</td>\n",
              "      <td>2005/09/07</td>\n",
              "      <td>808</td>\n",
              "      <td>2021-10-20 17:17:00</td>\n",
              "      <td>17:40</td>\n",
              "      <td>2021-10-20 18:03:00</td>\n",
              "    </tr>\n",
              "    <tr>\n",
              "      <th>4</th>\n",
              "      <td>5</td>\n",
              "      <td>X14.4</td>\n",
              "      <td>2001/04/15</td>\n",
              "      <td>9415</td>\n",
              "      <td>2021-10-20 13:19:00</td>\n",
              "      <td>13:50</td>\n",
              "      <td>2021-10-20 13:55:00</td>\n",
              "    </tr>\n",
              "  </tbody>\n",
              "</table>\n",
              "</div>"
            ],
            "text/plain": [
              "   rank x_classification  ... maximum_time            end_time\n",
              "0     1             X28+  ...        19:53 2021-10-20 20:06:00\n",
              "1     2             X20+  ...        21:51 2021-10-20 22:03:00\n",
              "2     3           X17.2+  ...        11:10 2021-10-20 11:24:00\n",
              "3     4             X17+  ...        17:40 2021-10-20 18:03:00\n",
              "4     5            X14.4  ...        13:50 2021-10-20 13:55:00\n",
              "\n",
              "[5 rows x 7 columns]"
            ]
          },
          "metadata": {},
          "execution_count": 13
        }
      ]
    },
    {
      "cell_type": "markdown",
      "metadata": {
        "id": "6a17aa9e"
      },
      "source": [
        "### Step 3"
      ],
      "id": "6a17aa9e"
    },
    {
      "cell_type": "code",
      "metadata": {
        "id": "b822f064",
        "outputId": "b880aaa8-49bd-4e94-b7ec-8eef4e0ae203",
        "colab": {
          "base_uri": "https://localhost:8080/"
        }
      },
      "source": [
        "headers = {'User-Agent': 'Mozilla/5.0 (Macintosh; Intel Mac OS X 10_10_1) AppleWebKit/537.36 (KHTML, like Gecko) Chrome/39.0.2171.95 Safari/537.36'}\n",
        "r = requests.get(\"https://cdaw.gsfc.nasa.gov/CME_list/radio/waves_type2.html\",timeout=10,headers=headers)\n",
        "r.status_code"
      ],
      "id": "b822f064",
      "execution_count": 14,
      "outputs": [
        {
          "output_type": "execute_result",
          "data": {
            "text/plain": [
              "200"
            ]
          },
          "metadata": {},
          "execution_count": 14
        }
      ]
    },
    {
      "cell_type": "code",
      "metadata": {
        "id": "931db0b8",
        "outputId": "43a3ce7a-af22-4745-b72d-87e14db845d6",
        "colab": {
          "base_uri": "https://localhost:8080/",
          "height": 419
        }
      },
      "source": [
        "text_response = r.content #https://stackoverflow.com/questions/52389692/beautifulsoup-and-prettify-function\n",
        "soup = BeautifulSoup(text_response,\"html.parser\")\n",
        "table = soup.get_text()\n",
        "split_table = table.splitlines()\n",
        "split_table = split_table[15:]\n",
        "split_table = split_table[0:len(split_table)-2]\n",
        "split_table\n",
        "nasa_df = pd.DataFrame(split_table)\n",
        "nasa_df"
      ],
      "id": "931db0b8",
      "execution_count": 35,
      "outputs": [
        {
          "output_type": "execute_result",
          "data": {
            "text/html": [
              "<div>\n",
              "<style scoped>\n",
              "    .dataframe tbody tr th:only-of-type {\n",
              "        vertical-align: middle;\n",
              "    }\n",
              "\n",
              "    .dataframe tbody tr th {\n",
              "        vertical-align: top;\n",
              "    }\n",
              "\n",
              "    .dataframe thead th {\n",
              "        text-align: right;\n",
              "    }\n",
              "</style>\n",
              "<table border=\"1\" class=\"dataframe\">\n",
              "  <thead>\n",
              "    <tr style=\"text-align: right;\">\n",
              "      <th></th>\n",
              "      <th>0</th>\n",
              "    </tr>\n",
              "  </thead>\n",
              "  <tbody>\n",
              "    <tr>\n",
              "      <th>0</th>\n",
              "      <td>1997/04/01 14:00 04/01 14:15  8000  4000   S25...</td>\n",
              "    </tr>\n",
              "    <tr>\n",
              "      <th>1</th>\n",
              "      <td>1997/04/07 14:30 04/07 17:30 11000  1000   S28...</td>\n",
              "    </tr>\n",
              "    <tr>\n",
              "      <th>2</th>\n",
              "      <td>1997/05/12 05:15 05/14 16:00 12000    80   N21...</td>\n",
              "    </tr>\n",
              "    <tr>\n",
              "      <th>3</th>\n",
              "      <td>1997/05/21 20:20 05/21 22:00  5000   500   N05...</td>\n",
              "    </tr>\n",
              "    <tr>\n",
              "      <th>4</th>\n",
              "      <td>1997/09/23 21:53 09/23 22:16  6000  2000   S29...</td>\n",
              "    </tr>\n",
              "    <tr>\n",
              "      <th>...</th>\n",
              "      <td>...</td>\n",
              "    </tr>\n",
              "    <tr>\n",
              "      <th>517</th>\n",
              "      <td>2017/09/17 11:45 09/17 12:35 16000   900  S08E...</td>\n",
              "    </tr>\n",
              "    <tr>\n",
              "      <th>518</th>\n",
              "      <td>2017/10/18 05:48 10/18 12:40 16000   400  S06E...</td>\n",
              "    </tr>\n",
              "    <tr>\n",
              "      <th>519</th>\n",
              "      <td>2019/05/03 23:52 05/04 00:16 13000  2300   N12...</td>\n",
              "    </tr>\n",
              "    <tr>\n",
              "      <th>520</th>\n",
              "      <td>2020/11/29 13:07 11/29 15:23 14000   850   S23...</td>\n",
              "    </tr>\n",
              "    <tr>\n",
              "      <th>521</th>\n",
              "      <td>2020/12/07 16:18 12/08 02:00 14000   160   S25...</td>\n",
              "    </tr>\n",
              "  </tbody>\n",
              "</table>\n",
              "<p>522 rows × 1 columns</p>\n",
              "</div>"
            ],
            "text/plain": [
              "                                                     0\n",
              "0    1997/04/01 14:00 04/01 14:15  8000  4000   S25...\n",
              "1    1997/04/07 14:30 04/07 17:30 11000  1000   S28...\n",
              "2    1997/05/12 05:15 05/14 16:00 12000    80   N21...\n",
              "3    1997/05/21 20:20 05/21 22:00  5000   500   N05...\n",
              "4    1997/09/23 21:53 09/23 22:16  6000  2000   S29...\n",
              "..                                                 ...\n",
              "517  2017/09/17 11:45 09/17 12:35 16000   900  S08E...\n",
              "518  2017/10/18 05:48 10/18 12:40 16000   400  S06E...\n",
              "519  2019/05/03 23:52 05/04 00:16 13000  2300   N12...\n",
              "520  2020/11/29 13:07 11/29 15:23 14000   850   S23...\n",
              "521  2020/12/07 16:18 12/08 02:00 14000   160   S25...\n",
              "\n",
              "[522 rows x 1 columns]"
            ]
          },
          "metadata": {},
          "execution_count": 35
        }
      ]
    },
    {
      "cell_type": "code",
      "metadata": {
        "id": "d3wsGYmZiblQ"
      },
      "source": [
        ""
      ],
      "id": "d3wsGYmZiblQ",
      "execution_count": null,
      "outputs": []
    }
  ]
}