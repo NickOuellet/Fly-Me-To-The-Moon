{
  "nbformat": 4,
  "nbformat_minor": 5,
  "metadata": {
    "colab": {
      "name": "Fly Me To The Moon - Proj 1 Part 1-2.ipynb",
      "provenance": []
    },
    "interpreter": {
      "hash": "4bd3767b9a68b1809be1a8a3b2146e6067673f8776213bfbf5c8fe8ac7d04b67"
    },
    "kernelspec": {
      "display_name": "Python 3 (ipykernel)",
      "language": "python",
      "name": "python3"
    },
    "language_info": {
      "codemirror_mode": {
        "name": "ipython",
        "version": 3
      },
      "file_extension": ".py",
      "mimetype": "text/x-python",
      "name": "python",
      "nbconvert_exporter": "python",
      "pygments_lexer": "ipython3",
      "version": "3.9.6"
    }
  },
  "cells": [
    {
      "cell_type": "code",
      "metadata": {
        "colab": {
          "base_uri": "https://localhost:8080/"
        },
        "id": "b5a544b0",
        "outputId": "23dd180b-7a1c-4e64-f21e-b8b8615ebbb6"
      },
      "source": [
        "pip install lxml"
      ],
      "id": "b5a544b0",
      "execution_count": 303,
      "outputs": [
        {
          "output_type": "stream",
          "name": "stdout",
          "text": [
            "Requirement already satisfied: lxml in /usr/local/lib/python3.7/dist-packages (4.2.6)\n"
          ]
        }
      ]
    },
    {
      "cell_type": "code",
      "metadata": {
        "id": "e499132b"
      },
      "source": [
        "from bs4 import BeautifulSoup\n",
        "import numpy as np\n",
        "import pandas as pd\n",
        "import requests\n",
        "import lxml\n",
        "import re"
      ],
      "id": "e499132b",
      "execution_count": 304,
      "outputs": []
    },
    {
      "cell_type": "markdown",
      "metadata": {
        "id": "28ec6d50"
      },
      "source": [
        "## Meeting Plan for Nicolas Ouellet and Benedicte Knudson:\n",
        "We colaborated over Zoom and in person **four** times and used a shared Github Repository that can be found [here](https://github.com/NickOuellet/Fly-Me-To-The-Moon). <br />\n",
        "We met: <br />\n",
        "10/11: 5pm-7pm <br />\n",
        "10/20: 10am-12pm <br />\n",
        "10/21: 7-11pm <br />\n",
        "10/25: 7-10pm <br />\n",
        "\n",
        "\n",
        "___\n"
      ],
      "id": "28ec6d50"
    },
    {
      "cell_type": "markdown",
      "metadata": {
        "id": "9834894e"
      },
      "source": [
        "## Step 1 - Scrape SpaceWeatherLive.com"
      ],
      "id": "9834894e"
    },
    {
      "cell_type": "code",
      "metadata": {
        "colab": {
          "base_uri": "https://localhost:8080/"
        },
        "id": "09dc9234",
        "outputId": "bb90a1e2-4520-461a-aa49-ccb21c747036"
      },
      "source": [
        "headers = {'User-Agent': 'Mozilla/5.0 (Macintosh; Intel Mac OS X 10_10_1) AppleWebKit/537.36 (KHTML, like Gecko) Chrome/39.0.2171.95 Safari/537.36'}\n",
        "r = requests.get(\"https://www.spaceweatherlive.com/en/solar-activity/top-50-solar-flares.html\",timeout=10,headers=headers)\n",
        "r.status_code"
      ],
      "id": "09dc9234",
      "execution_count": 305,
      "outputs": [
        {
          "output_type": "execute_result",
          "data": {
            "text/plain": [
              "200"
            ]
          },
          "metadata": {},
          "execution_count": 305
        }
      ]
    },
    {
      "cell_type": "code",
      "metadata": {
        "id": "76d3644d"
      },
      "source": [
        "text_response = r.content #https://stackoverflow.com/questions/52389692/beautifulsoup-and-prettify-function\n",
        "soup = BeautifulSoup(text_response,\"html.parser\")"
      ],
      "id": "76d3644d",
      "execution_count": 306,
      "outputs": []
    },
    {
      "cell_type": "code",
      "metadata": {
        "id": "3a8fd1be",
        "scrolled": true
      },
      "source": [
        "table = soup.findAll(\"table\") #find the table in the HTML"
      ],
      "id": "3a8fd1be",
      "execution_count": 307,
      "outputs": []
    },
    {
      "cell_type": "code",
      "metadata": {
        "id": "8d38ccdb"
      },
      "source": [
        "solar_flare_df = pd.read_html(str(table))"
      ],
      "id": "8d38ccdb",
      "execution_count": 308,
      "outputs": []
    },
    {
      "cell_type": "code",
      "metadata": {
        "id": "7469438b"
      },
      "source": [
        "solfla_df = solar_flare_df[0]#works when we just select the first table"
      ],
      "id": "7469438b",
      "execution_count": 309,
      "outputs": []
    },
    {
      "cell_type": "code",
      "metadata": {
        "id": "7bde39e8"
      },
      "source": [
        "solfla_df.columns = [\"rank\", \"x_class\", \"date\", \"region\", \"start_time\", \"maximum_time\", \"end_time\", \"movie\"] #rename columns to be more descriptive"
      ],
      "id": "7bde39e8",
      "execution_count": 310,
      "outputs": []
    },
    {
      "cell_type": "code",
      "metadata": {
        "colab": {
          "base_uri": "https://localhost:8080/",
          "height": 204
        },
        "id": "3e5d86a9",
        "outputId": "f43297bc-ba11-4a74-9509-f99f13fa1788"
      },
      "source": [
        "solfla_df.head()"
      ],
      "id": "3e5d86a9",
      "execution_count": 311,
      "outputs": [
        {
          "output_type": "execute_result",
          "data": {
            "text/html": [
              "<div>\n",
              "<style scoped>\n",
              "    .dataframe tbody tr th:only-of-type {\n",
              "        vertical-align: middle;\n",
              "    }\n",
              "\n",
              "    .dataframe tbody tr th {\n",
              "        vertical-align: top;\n",
              "    }\n",
              "\n",
              "    .dataframe thead th {\n",
              "        text-align: right;\n",
              "    }\n",
              "</style>\n",
              "<table border=\"1\" class=\"dataframe\">\n",
              "  <thead>\n",
              "    <tr style=\"text-align: right;\">\n",
              "      <th></th>\n",
              "      <th>rank</th>\n",
              "      <th>x_class</th>\n",
              "      <th>date</th>\n",
              "      <th>region</th>\n",
              "      <th>start_time</th>\n",
              "      <th>maximum_time</th>\n",
              "      <th>end_time</th>\n",
              "      <th>movie</th>\n",
              "    </tr>\n",
              "  </thead>\n",
              "  <tbody>\n",
              "    <tr>\n",
              "      <th>0</th>\n",
              "      <td>1</td>\n",
              "      <td>X28+</td>\n",
              "      <td>2003/11/04</td>\n",
              "      <td>486</td>\n",
              "      <td>19:29</td>\n",
              "      <td>19:53</td>\n",
              "      <td>20:06</td>\n",
              "      <td>MovieView archive</td>\n",
              "    </tr>\n",
              "    <tr>\n",
              "      <th>1</th>\n",
              "      <td>2</td>\n",
              "      <td>X20+</td>\n",
              "      <td>2001/04/02</td>\n",
              "      <td>9393</td>\n",
              "      <td>21:32</td>\n",
              "      <td>21:51</td>\n",
              "      <td>22:03</td>\n",
              "      <td>MovieView archive</td>\n",
              "    </tr>\n",
              "    <tr>\n",
              "      <th>2</th>\n",
              "      <td>3</td>\n",
              "      <td>X17.2+</td>\n",
              "      <td>2003/10/28</td>\n",
              "      <td>486</td>\n",
              "      <td>09:51</td>\n",
              "      <td>11:10</td>\n",
              "      <td>11:24</td>\n",
              "      <td>MovieView archive</td>\n",
              "    </tr>\n",
              "    <tr>\n",
              "      <th>3</th>\n",
              "      <td>4</td>\n",
              "      <td>X17+</td>\n",
              "      <td>2005/09/07</td>\n",
              "      <td>808</td>\n",
              "      <td>17:17</td>\n",
              "      <td>17:40</td>\n",
              "      <td>18:03</td>\n",
              "      <td>MovieView archive</td>\n",
              "    </tr>\n",
              "    <tr>\n",
              "      <th>4</th>\n",
              "      <td>5</td>\n",
              "      <td>X14.4</td>\n",
              "      <td>2001/04/15</td>\n",
              "      <td>9415</td>\n",
              "      <td>13:19</td>\n",
              "      <td>13:50</td>\n",
              "      <td>13:55</td>\n",
              "      <td>MovieView archive</td>\n",
              "    </tr>\n",
              "  </tbody>\n",
              "</table>\n",
              "</div>"
            ],
            "text/plain": [
              "   rank x_class        date  ...  maximum_time end_time              movie\n",
              "0     1    X28+  2003/11/04  ...         19:53    20:06  MovieView archive\n",
              "1     2    X20+  2001/04/02  ...         21:51    22:03  MovieView archive\n",
              "2     3  X17.2+  2003/10/28  ...         11:10    11:24  MovieView archive\n",
              "3     4    X17+  2005/09/07  ...         17:40    18:03  MovieView archive\n",
              "4     5   X14.4  2001/04/15  ...         13:50    13:55  MovieView archive\n",
              "\n",
              "[5 rows x 8 columns]"
            ]
          },
          "metadata": {},
          "execution_count": 311
        }
      ]
    },
    {
      "cell_type": "markdown",
      "metadata": {
        "id": "28f6f2cd"
      },
      "source": [
        "___\n",
        "## Step 2 - Tidy the Top 50 Solar Flare Data"
      ],
      "id": "28f6f2cd"
    },
    {
      "cell_type": "code",
      "metadata": {
        "colab": {
          "base_uri": "https://localhost:8080/",
          "height": 204
        },
        "id": "c5cc3347",
        "outputId": "216b380e-635b-4f93-d0cc-a782fbc0bc18"
      },
      "source": [
        "solfla_df = solfla_df[[\"rank\", \"x_class\", \"date\", \"start_time\", \"maximum_time\", \"end_time\",\"region\"]]\n",
        "solfla_df.head()"
      ],
      "id": "c5cc3347",
      "execution_count": 312,
      "outputs": [
        {
          "output_type": "execute_result",
          "data": {
            "text/html": [
              "<div>\n",
              "<style scoped>\n",
              "    .dataframe tbody tr th:only-of-type {\n",
              "        vertical-align: middle;\n",
              "    }\n",
              "\n",
              "    .dataframe tbody tr th {\n",
              "        vertical-align: top;\n",
              "    }\n",
              "\n",
              "    .dataframe thead th {\n",
              "        text-align: right;\n",
              "    }\n",
              "</style>\n",
              "<table border=\"1\" class=\"dataframe\">\n",
              "  <thead>\n",
              "    <tr style=\"text-align: right;\">\n",
              "      <th></th>\n",
              "      <th>rank</th>\n",
              "      <th>x_class</th>\n",
              "      <th>date</th>\n",
              "      <th>start_time</th>\n",
              "      <th>maximum_time</th>\n",
              "      <th>end_time</th>\n",
              "      <th>region</th>\n",
              "    </tr>\n",
              "  </thead>\n",
              "  <tbody>\n",
              "    <tr>\n",
              "      <th>0</th>\n",
              "      <td>1</td>\n",
              "      <td>X28+</td>\n",
              "      <td>2003/11/04</td>\n",
              "      <td>19:29</td>\n",
              "      <td>19:53</td>\n",
              "      <td>20:06</td>\n",
              "      <td>486</td>\n",
              "    </tr>\n",
              "    <tr>\n",
              "      <th>1</th>\n",
              "      <td>2</td>\n",
              "      <td>X20+</td>\n",
              "      <td>2001/04/02</td>\n",
              "      <td>21:32</td>\n",
              "      <td>21:51</td>\n",
              "      <td>22:03</td>\n",
              "      <td>9393</td>\n",
              "    </tr>\n",
              "    <tr>\n",
              "      <th>2</th>\n",
              "      <td>3</td>\n",
              "      <td>X17.2+</td>\n",
              "      <td>2003/10/28</td>\n",
              "      <td>09:51</td>\n",
              "      <td>11:10</td>\n",
              "      <td>11:24</td>\n",
              "      <td>486</td>\n",
              "    </tr>\n",
              "    <tr>\n",
              "      <th>3</th>\n",
              "      <td>4</td>\n",
              "      <td>X17+</td>\n",
              "      <td>2005/09/07</td>\n",
              "      <td>17:17</td>\n",
              "      <td>17:40</td>\n",
              "      <td>18:03</td>\n",
              "      <td>808</td>\n",
              "    </tr>\n",
              "    <tr>\n",
              "      <th>4</th>\n",
              "      <td>5</td>\n",
              "      <td>X14.4</td>\n",
              "      <td>2001/04/15</td>\n",
              "      <td>13:19</td>\n",
              "      <td>13:50</td>\n",
              "      <td>13:55</td>\n",
              "      <td>9415</td>\n",
              "    </tr>\n",
              "  </tbody>\n",
              "</table>\n",
              "</div>"
            ],
            "text/plain": [
              "   rank x_class        date start_time maximum_time end_time  region\n",
              "0     1    X28+  2003/11/04      19:29        19:53    20:06     486\n",
              "1     2    X20+  2001/04/02      21:32        21:51    22:03    9393\n",
              "2     3  X17.2+  2003/10/28      09:51        11:10    11:24     486\n",
              "3     4    X17+  2005/09/07      17:17        17:40    18:03     808\n",
              "4     5   X14.4  2001/04/15      13:19        13:50    13:55    9415"
            ]
          },
          "metadata": {},
          "execution_count": 312
        }
      ]
    },
    {
      "cell_type": "code",
      "metadata": {
        "id": "71cf6493"
      },
      "source": [
        "import datetime"
      ],
      "id": "71cf6493",
      "execution_count": 313,
      "outputs": []
    },
    {
      "cell_type": "code",
      "metadata": {
        "colab": {
          "base_uri": "https://localhost:8080/"
        },
        "id": "c7191a79",
        "outputId": "a023965a-84d0-4d64-9f11-186007025e92"
      },
      "source": [
        "\n",
        "solfla_df.loc[:,\"start_time\"] = pd.to_datetime(solfla_df.loc[:,\"date\"] + \" \" + solfla_df.loc[:,\"start_time\"])\n",
        "solfla_df.loc[:,\"maximum_time\"] = pd.to_datetime(solfla_df.loc[:,\"date\"] + \" \" + solfla_df.loc[:,\"maximum_time\"])\n",
        "solfla_df.loc[:,\"end_time\"] = pd.to_datetime(solfla_df.loc[:,\"date\"] + \" \" + solfla_df.loc[:,\"end_time\"])\n"
      ],
      "id": "c7191a79",
      "execution_count": 314,
      "outputs": [
        {
          "output_type": "stream",
          "name": "stderr",
          "text": [
            "/usr/local/lib/python3.7/dist-packages/pandas/core/indexing.py:1743: SettingWithCopyWarning: \n",
            "A value is trying to be set on a copy of a slice from a DataFrame.\n",
            "Try using .loc[row_indexer,col_indexer] = value instead\n",
            "\n",
            "See the caveats in the documentation: https://pandas.pydata.org/pandas-docs/stable/user_guide/indexing.html#returning-a-view-versus-a-copy\n",
            "  isetter(ilocs[0], value)\n"
          ]
        }
      ]
    },
    {
      "cell_type": "code",
      "metadata": {
        "colab": {
          "base_uri": "https://localhost:8080/",
          "height": 374
        },
        "id": "XvGf14bUURvB",
        "outputId": "7cad9909-095b-4aec-a8a5-8fe4592cda48"
      },
      "source": [
        "solfla_df.drop(columns=\"date\",inplace=True) #drop date table\n",
        "solfla_df.rename(columns={\"start_time\":\"start_datetime\", \"end_time\":\"end_datetime\",\"maximum_time\":\"maximum_datetime\"},inplace=True)\n",
        "solfla_df.head()"
      ],
      "id": "XvGf14bUURvB",
      "execution_count": 315,
      "outputs": [
        {
          "output_type": "stream",
          "name": "stderr",
          "text": [
            "/usr/local/lib/python3.7/dist-packages/pandas/core/frame.py:4174: SettingWithCopyWarning: \n",
            "A value is trying to be set on a copy of a slice from a DataFrame\n",
            "\n",
            "See the caveats in the documentation: https://pandas.pydata.org/pandas-docs/stable/user_guide/indexing.html#returning-a-view-versus-a-copy\n",
            "  errors=errors,\n",
            "/usr/local/lib/python3.7/dist-packages/pandas/core/frame.py:4308: SettingWithCopyWarning: \n",
            "A value is trying to be set on a copy of a slice from a DataFrame\n",
            "\n",
            "See the caveats in the documentation: https://pandas.pydata.org/pandas-docs/stable/user_guide/indexing.html#returning-a-view-versus-a-copy\n",
            "  errors=errors,\n"
          ]
        },
        {
          "output_type": "execute_result",
          "data": {
            "text/html": [
              "<div>\n",
              "<style scoped>\n",
              "    .dataframe tbody tr th:only-of-type {\n",
              "        vertical-align: middle;\n",
              "    }\n",
              "\n",
              "    .dataframe tbody tr th {\n",
              "        vertical-align: top;\n",
              "    }\n",
              "\n",
              "    .dataframe thead th {\n",
              "        text-align: right;\n",
              "    }\n",
              "</style>\n",
              "<table border=\"1\" class=\"dataframe\">\n",
              "  <thead>\n",
              "    <tr style=\"text-align: right;\">\n",
              "      <th></th>\n",
              "      <th>rank</th>\n",
              "      <th>x_class</th>\n",
              "      <th>start_datetime</th>\n",
              "      <th>maximum_datetime</th>\n",
              "      <th>end_datetime</th>\n",
              "      <th>region</th>\n",
              "    </tr>\n",
              "  </thead>\n",
              "  <tbody>\n",
              "    <tr>\n",
              "      <th>0</th>\n",
              "      <td>1</td>\n",
              "      <td>X28+</td>\n",
              "      <td>2003-11-04 19:29:00</td>\n",
              "      <td>2003-11-04 19:53:00</td>\n",
              "      <td>2003-11-04 20:06:00</td>\n",
              "      <td>486</td>\n",
              "    </tr>\n",
              "    <tr>\n",
              "      <th>1</th>\n",
              "      <td>2</td>\n",
              "      <td>X20+</td>\n",
              "      <td>2001-04-02 21:32:00</td>\n",
              "      <td>2001-04-02 21:51:00</td>\n",
              "      <td>2001-04-02 22:03:00</td>\n",
              "      <td>9393</td>\n",
              "    </tr>\n",
              "    <tr>\n",
              "      <th>2</th>\n",
              "      <td>3</td>\n",
              "      <td>X17.2+</td>\n",
              "      <td>2003-10-28 09:51:00</td>\n",
              "      <td>2003-10-28 11:10:00</td>\n",
              "      <td>2003-10-28 11:24:00</td>\n",
              "      <td>486</td>\n",
              "    </tr>\n",
              "    <tr>\n",
              "      <th>3</th>\n",
              "      <td>4</td>\n",
              "      <td>X17+</td>\n",
              "      <td>2005-09-07 17:17:00</td>\n",
              "      <td>2005-09-07 17:40:00</td>\n",
              "      <td>2005-09-07 18:03:00</td>\n",
              "      <td>808</td>\n",
              "    </tr>\n",
              "    <tr>\n",
              "      <th>4</th>\n",
              "      <td>5</td>\n",
              "      <td>X14.4</td>\n",
              "      <td>2001-04-15 13:19:00</td>\n",
              "      <td>2001-04-15 13:50:00</td>\n",
              "      <td>2001-04-15 13:55:00</td>\n",
              "      <td>9415</td>\n",
              "    </tr>\n",
              "  </tbody>\n",
              "</table>\n",
              "</div>"
            ],
            "text/plain": [
              "   rank x_class  ...        end_datetime region\n",
              "0     1    X28+  ... 2003-11-04 20:06:00    486\n",
              "1     2    X20+  ... 2001-04-02 22:03:00   9393\n",
              "2     3  X17.2+  ... 2003-10-28 11:24:00    486\n",
              "3     4    X17+  ... 2005-09-07 18:03:00    808\n",
              "4     5   X14.4  ... 2001-04-15 13:55:00   9415\n",
              "\n",
              "[5 rows x 6 columns]"
            ]
          },
          "metadata": {},
          "execution_count": 315
        }
      ]
    },
    {
      "cell_type": "code",
      "metadata": {
        "colab": {
          "base_uri": "https://localhost:8080/"
        },
        "id": "pvbB25aoAO4e",
        "outputId": "d7981747-2970-4844-d71c-eeed9384be0c"
      },
      "source": [
        "def remove_plus(string):\n",
        "  return re.sub(\"\\+\", \"\", string,1)\n",
        "\n",
        "def make_float(string): #make all number values in rating into floats to make searching easier later\n",
        "  rating = string[0]\n",
        "  string = string[1:]\n",
        "  new_float = float(string)\n",
        "  return rating + str(new_float)\n",
        "\n",
        "  \n",
        "solfla_df[\"x_class\"] = solfla_df[\"x_class\"].apply(remove_plus)\n",
        "solfla_df[\"x_class\"] = solfla_df[\"x_class\"].apply(make_float)\n",
        "\n"
      ],
      "id": "pvbB25aoAO4e",
      "execution_count": 316,
      "outputs": [
        {
          "output_type": "stream",
          "name": "stderr",
          "text": [
            "/usr/local/lib/python3.7/dist-packages/ipykernel_launcher.py:11: SettingWithCopyWarning: \n",
            "A value is trying to be set on a copy of a slice from a DataFrame.\n",
            "Try using .loc[row_indexer,col_indexer] = value instead\n",
            "\n",
            "See the caveats in the documentation: https://pandas.pydata.org/pandas-docs/stable/user_guide/indexing.html#returning-a-view-versus-a-copy\n",
            "  # This is added back by InteractiveShellApp.init_path()\n",
            "/usr/local/lib/python3.7/dist-packages/ipykernel_launcher.py:12: SettingWithCopyWarning: \n",
            "A value is trying to be set on a copy of a slice from a DataFrame.\n",
            "Try using .loc[row_indexer,col_indexer] = value instead\n",
            "\n",
            "See the caveats in the documentation: https://pandas.pydata.org/pandas-docs/stable/user_guide/indexing.html#returning-a-view-versus-a-copy\n",
            "  if sys.path[0] == '':\n"
          ]
        }
      ]
    },
    {
      "cell_type": "code",
      "metadata": {
        "colab": {
          "base_uri": "https://localhost:8080/"
        },
        "id": "S3XrDAE1DApe",
        "outputId": "ff89aef1-e6f2-4c0f-a297-617ba93dc5df"
      },
      "source": [
        "solfla_df.dtypes"
      ],
      "id": "S3XrDAE1DApe",
      "execution_count": 317,
      "outputs": [
        {
          "output_type": "execute_result",
          "data": {
            "text/plain": [
              "rank                         int64\n",
              "x_class                     object\n",
              "start_datetime      datetime64[ns]\n",
              "maximum_datetime    datetime64[ns]\n",
              "end_datetime        datetime64[ns]\n",
              "region                       int64\n",
              "dtype: object"
            ]
          },
          "metadata": {},
          "execution_count": 317
        }
      ]
    },
    {
      "cell_type": "markdown",
      "metadata": {
        "id": "6a17aa9e"
      },
      "source": [
        "___\n",
        "## Step 3 - Scrape the NASA Data"
      ],
      "id": "6a17aa9e"
    },
    {
      "cell_type": "code",
      "metadata": {
        "colab": {
          "base_uri": "https://localhost:8080/"
        },
        "id": "b822f064",
        "outputId": "d2572363-e7de-4169-fbd0-753346ba02c8"
      },
      "source": [
        "headers = {'User-Agent': 'Mozilla/5.0 (Macintosh; Intel Mac OS X 10_10_1) AppleWebKit/537.36 (KHTML, like Gecko) Chrome/39.0.2171.95 Safari/537.36'}\n",
        "r = requests.get(\"https://cdaw.gsfc.nasa.gov/CME_list/radio/waves_type2.html\",timeout=10,headers=headers)\n",
        "r.status_code"
      ],
      "id": "b822f064",
      "execution_count": 318,
      "outputs": [
        {
          "output_type": "execute_result",
          "data": {
            "text/plain": [
              "200"
            ]
          },
          "metadata": {},
          "execution_count": 318
        }
      ]
    },
    {
      "cell_type": "code",
      "metadata": {
        "id": "931db0b8"
      },
      "source": [
        "text_response = r.content #https://stackoverflow.com/questions/52389692/beautifulsoup-and-prettify-function\n",
        "soup = BeautifulSoup(text_response,\"html.parser\")\n",
        "table = soup.get_text()\n",
        "split_table = table.splitlines()\n",
        "split_table = split_table[15:]\n",
        "split_table = split_table[0:len(split_table)-2] #clean up table by removing top and bottom portion\n"
      ],
      "id": "931db0b8",
      "execution_count": 319,
      "outputs": []
    },
    {
      "cell_type": "code",
      "metadata": {
        "id": "d3wsGYmZiblQ"
      },
      "source": [
        "nasa_df = pd.DataFrame( #create empty DF \n",
        "    columns = [\"start_date\",\"start_time\",\"end_date\",\"end_time\",\"start_freq\",\"end_freq\",\"location\",\"region\",\"xray_importance\",\"cme_date\",\"cme_time\",\"central_pos_angle\",\"cpa_width\",\"cme_speed\",\"PHTX\" ]\n",
        "    )\n",
        "for i,v in enumerate(split_table): \n",
        "  row_vals = re.findall(r\"\\S+\",v)\n",
        "  nasa_df.loc[i] = row_vals[0:15] #assign values for each row from list after splitting string into a list var, also drop 16th entry because sometimes it is useless notation"
      ],
      "id": "d3wsGYmZiblQ",
      "execution_count": 320,
      "outputs": []
    },
    {
      "cell_type": "code",
      "metadata": {
        "id": "7EeUuRqnWbq0"
      },
      "source": [
        "nasa_df.drop(columns=[\"PHTX\"],inplace=True) #drop links column"
      ],
      "id": "7EeUuRqnWbq0",
      "execution_count": 321,
      "outputs": []
    },
    {
      "cell_type": "code",
      "metadata": {
        "colab": {
          "base_uri": "https://localhost:8080/",
          "height": 224
        },
        "id": "aRap_PrKYZ_A",
        "outputId": "29f73789-cd2d-437e-95cf-b0b339d5bf78"
      },
      "source": [
        "nasa_df.head()"
      ],
      "id": "aRap_PrKYZ_A",
      "execution_count": 322,
      "outputs": [
        {
          "output_type": "execute_result",
          "data": {
            "text/html": [
              "<div>\n",
              "<style scoped>\n",
              "    .dataframe tbody tr th:only-of-type {\n",
              "        vertical-align: middle;\n",
              "    }\n",
              "\n",
              "    .dataframe tbody tr th {\n",
              "        vertical-align: top;\n",
              "    }\n",
              "\n",
              "    .dataframe thead th {\n",
              "        text-align: right;\n",
              "    }\n",
              "</style>\n",
              "<table border=\"1\" class=\"dataframe\">\n",
              "  <thead>\n",
              "    <tr style=\"text-align: right;\">\n",
              "      <th></th>\n",
              "      <th>start_date</th>\n",
              "      <th>start_time</th>\n",
              "      <th>end_date</th>\n",
              "      <th>end_time</th>\n",
              "      <th>start_freq</th>\n",
              "      <th>end_freq</th>\n",
              "      <th>location</th>\n",
              "      <th>region</th>\n",
              "      <th>xray_importance</th>\n",
              "      <th>cme_date</th>\n",
              "      <th>cme_time</th>\n",
              "      <th>central_pos_angle</th>\n",
              "      <th>cpa_width</th>\n",
              "      <th>cme_speed</th>\n",
              "    </tr>\n",
              "  </thead>\n",
              "  <tbody>\n",
              "    <tr>\n",
              "      <th>0</th>\n",
              "      <td>1997/04/01</td>\n",
              "      <td>14:00</td>\n",
              "      <td>04/01</td>\n",
              "      <td>14:15</td>\n",
              "      <td>8000</td>\n",
              "      <td>4000</td>\n",
              "      <td>S25E16</td>\n",
              "      <td>8026</td>\n",
              "      <td>M1.3</td>\n",
              "      <td>04/01</td>\n",
              "      <td>15:18</td>\n",
              "      <td>74</td>\n",
              "      <td>79</td>\n",
              "      <td>312</td>\n",
              "    </tr>\n",
              "    <tr>\n",
              "      <th>1</th>\n",
              "      <td>1997/04/07</td>\n",
              "      <td>14:30</td>\n",
              "      <td>04/07</td>\n",
              "      <td>17:30</td>\n",
              "      <td>11000</td>\n",
              "      <td>1000</td>\n",
              "      <td>S28E19</td>\n",
              "      <td>8027</td>\n",
              "      <td>C6.8</td>\n",
              "      <td>04/07</td>\n",
              "      <td>14:27</td>\n",
              "      <td>Halo</td>\n",
              "      <td>360</td>\n",
              "      <td>878</td>\n",
              "    </tr>\n",
              "    <tr>\n",
              "      <th>2</th>\n",
              "      <td>1997/05/12</td>\n",
              "      <td>05:15</td>\n",
              "      <td>05/14</td>\n",
              "      <td>16:00</td>\n",
              "      <td>12000</td>\n",
              "      <td>80</td>\n",
              "      <td>N21W08</td>\n",
              "      <td>8038</td>\n",
              "      <td>C1.3</td>\n",
              "      <td>05/12</td>\n",
              "      <td>05:30</td>\n",
              "      <td>Halo</td>\n",
              "      <td>360</td>\n",
              "      <td>464</td>\n",
              "    </tr>\n",
              "    <tr>\n",
              "      <th>3</th>\n",
              "      <td>1997/05/21</td>\n",
              "      <td>20:20</td>\n",
              "      <td>05/21</td>\n",
              "      <td>22:00</td>\n",
              "      <td>5000</td>\n",
              "      <td>500</td>\n",
              "      <td>N05W12</td>\n",
              "      <td>8040</td>\n",
              "      <td>M1.3</td>\n",
              "      <td>05/21</td>\n",
              "      <td>21:00</td>\n",
              "      <td>263</td>\n",
              "      <td>165</td>\n",
              "      <td>296</td>\n",
              "    </tr>\n",
              "    <tr>\n",
              "      <th>4</th>\n",
              "      <td>1997/09/23</td>\n",
              "      <td>21:53</td>\n",
              "      <td>09/23</td>\n",
              "      <td>22:16</td>\n",
              "      <td>6000</td>\n",
              "      <td>2000</td>\n",
              "      <td>S29E25</td>\n",
              "      <td>8088</td>\n",
              "      <td>C1.4</td>\n",
              "      <td>09/23</td>\n",
              "      <td>22:02</td>\n",
              "      <td>133</td>\n",
              "      <td>155</td>\n",
              "      <td>712</td>\n",
              "    </tr>\n",
              "  </tbody>\n",
              "</table>\n",
              "</div>"
            ],
            "text/plain": [
              "   start_date start_time end_date  ... central_pos_angle cpa_width cme_speed\n",
              "0  1997/04/01      14:00    04/01  ...                74        79       312\n",
              "1  1997/04/07      14:30    04/07  ...              Halo       360       878\n",
              "2  1997/05/12      05:15    05/14  ...              Halo       360       464\n",
              "3  1997/05/21      20:20    05/21  ...               263       165       296\n",
              "4  1997/09/23      21:53    09/23  ...               133       155       712\n",
              "\n",
              "[5 rows x 14 columns]"
            ]
          },
          "metadata": {},
          "execution_count": 322
        }
      ]
    },
    {
      "cell_type": "markdown",
      "metadata": {
        "id": "tKW6x7I1ZN4u"
      },
      "source": [
        "___\n",
        "## Step 4 - Tidy the Nasa Data"
      ],
      "id": "tKW6x7I1ZN4u"
    },
    {
      "cell_type": "markdown",
      "metadata": {
        "id": "otC2cwQ1e2sP"
      },
      "source": [
        "**Replace all empty values with NaNs**"
      ],
      "id": "otC2cwQ1e2sP"
    },
    {
      "cell_type": "code",
      "metadata": {
        "id": "Ti9X_SNyZTao"
      },
      "source": [
        "nasa_df.region.replace(\"-----\", np.nan,inplace=True)\n",
        "nasa_df.xray_importance.replace(\"----\", np.nan,inplace=True)\n",
        "nasa_df.cme_date.replace(\"--/--\",np.nan, inplace=True)\n",
        "nasa_df.cme_time.replace(\"--:--\",np.nan,inplace=True)\n",
        "nasa_df.central_pos_angle.replace(\"----\", np.nan,inplace=True)\n",
        "nasa_df.cpa_width.replace(\"----\", np.nan,inplace=True)\n",
        "nasa_df.cpa_width.replace(\"---\", np.nan,inplace=True)\n",
        "nasa_df.cpa_width.replace(\"360h\", \"360\",inplace=True)\n",
        "nasa_df.cme_speed.replace(\"----\", np.nan,inplace=True)\n",
        "nasa_df.start_freq.replace(\"????\",np.nan,inplace=True)\n",
        "nasa_df.end_freq.replace(\"????\",np.nan,inplace=True)\n",
        "\n"
      ],
      "id": "Ti9X_SNyZTao",
      "execution_count": 323,
      "outputs": []
    },
    {
      "cell_type": "markdown",
      "metadata": {
        "id": "r0QOknyDe6iC"
      },
      "source": [
        "**Replace all lower case \"Back\" values with upper case \"BACK\" in location column**"
      ],
      "id": "r0QOknyDe6iC"
    },
    {
      "cell_type": "code",
      "metadata": {
        "id": "-4JokLqXe1kL"
      },
      "source": [
        "nasa_df.location.replace(\"Back\",\"BACK\",inplace=True)"
      ],
      "id": "-4JokLqXe1kL",
      "execution_count": 324,
      "outputs": []
    },
    {
      "cell_type": "markdown",
      "metadata": {
        "id": "DZ5Pmt-JfVTj"
      },
      "source": [
        "**Replace all DSF values with FILA in region column**"
      ],
      "id": "DZ5Pmt-JfVTj"
    },
    {
      "cell_type": "code",
      "metadata": {
        "id": "qCVqDAdRfbk6"
      },
      "source": [
        "nasa_df.region.replace(\"DSF\",\"FILE\",inplace=True)"
      ],
      "id": "qCVqDAdRfbk6",
      "execution_count": 325,
      "outputs": []
    },
    {
      "cell_type": "markdown",
      "metadata": {
        "id": "rWyuC4Gaf19B"
      },
      "source": [
        "**Create column to indicate HALO flare, then turn Halo entries into NaN.**<br/>\n",
        "Halo = 1 <br/>\n",
        "Non-Halo = 0"
      ],
      "id": "rWyuC4Gaf19B"
    },
    {
      "cell_type": "code",
      "metadata": {
        "id": "VhZoQD-cf1eE"
      },
      "source": [
        "column_vals = []\n",
        "for index,value in nasa_df[\"central_pos_angle\"].iteritems():\n",
        "  if value == \"Halo\":\n",
        "    column_vals.append(1)\n",
        "  else:\n",
        "    column_vals.append(0)\n",
        "nasa_df[\"is_halo\"] = column_vals"
      ],
      "id": "VhZoQD-cf1eE",
      "execution_count": 326,
      "outputs": []
    },
    {
      "cell_type": "code",
      "metadata": {
        "id": "okJ4B-4KhlJX"
      },
      "source": [
        "nasa_df.central_pos_angle.replace(\"Halo\", np.nan,inplace=True)"
      ],
      "id": "okJ4B-4KhlJX",
      "execution_count": 327,
      "outputs": []
    },
    {
      "cell_type": "markdown",
      "metadata": {
        "id": "aV-p7NLUh8BV"
      },
      "source": [
        "**Indicate which cpa_widths are lower bounds, make a new column with the info, then remove the non-numeric characters**"
      ],
      "id": "aV-p7NLUh8BV"
    },
    {
      "cell_type": "code",
      "metadata": {
        "id": "r8DfIgZwh7E2"
      },
      "source": [
        "column_vals = []\n",
        "for index,value in nasa_df[\"cpa_width\"].iteritems():\n",
        "  if pd.isnull(value) == True:\n",
        "    column_vals.append(0)\n",
        "  elif \">\" in value:\n",
        "        column_vals.append(1)\n",
        "  else:\n",
        "    column_vals.append(0)\n",
        "nasa_df[\"lower_bound\"] = column_vals"
      ],
      "id": "r8DfIgZwh7E2",
      "execution_count": 328,
      "outputs": []
    },
    {
      "cell_type": "code",
      "metadata": {
        "id": "osEaIR5Sh7PA"
      },
      "source": [
        "def remove_sign(str):\n",
        "  if pd.isnull(str) == True:\n",
        "    return str\n",
        "  return re.sub(\">\",\"\",str)\n",
        "\n",
        "nasa_df[\"cpa_width\"] = nasa_df[\"cpa_width\"].apply(remove_sign)"
      ],
      "id": "osEaIR5Sh7PA",
      "execution_count": 329,
      "outputs": []
    },
    {
      "cell_type": "markdown",
      "metadata": {
        "id": "ISxtJrddnmKU"
      },
      "source": [
        "**Reformat date columns and drop repetitive data**"
      ],
      "id": "ISxtJrddnmKU"
    },
    {
      "cell_type": "code",
      "metadata": {
        "id": "ZFjK6nl7nrZx"
      },
      "source": [
        "nasa_df.replace(\"24:00\",\"23:59\",inplace=True)"
      ],
      "id": "ZFjK6nl7nrZx",
      "execution_count": 330,
      "outputs": []
    },
    {
      "cell_type": "code",
      "metadata": {
        "colab": {
          "base_uri": "https://localhost:8080/"
        },
        "id": "y-f8QLAHnre2",
        "outputId": "ba4e3482-f326-44f1-8e2d-50ffd8a0c92d"
      },
      "source": [
        "for index,value in nasa_df[\"end_date\"].iteritems():\n",
        "  year = nasa_df.start_date.loc[index][0:4]\n",
        "  nasa_df[\"end_date\"].loc[index] = pd.to_datetime(year + \"/\" + nasa_df[\"end_date\"].loc[index] + \" \" + nasa_df[\"end_time\"].loc[index])\n",
        "\n",
        "for index,value in nasa_df[\"cme_date\"].iteritems():\n",
        "  year = nasa_df.start_date.loc[index][0:4]\n",
        "  if pd.isnull(nasa_df[\"cme_date\"].loc[index]):\n",
        "    pass\n",
        "  else:\n",
        "    nasa_df[\"cme_date\"].loc[index] = pd.to_datetime(year + \"/\" + nasa_df[\"cme_date\"].loc[index] + \" \" + nasa_df[\"cme_time\"].loc[index])\n",
        "\n",
        "nasa_df.loc[:,\"start_date\"] = pd.to_datetime(nasa_df.loc[:,\"start_date\"] + \" \" + nasa_df.loc[:,\"start_time\"])\n",
        "nasa_df.loc[:,\"end_date\"] = pd.to_datetime(nasa_df.loc[:,\"end_date\"])\n",
        "nasa_df.loc[:,\"cme_date\"] = pd.to_datetime(nasa_df.loc[:,\"cme_date\"])\n"
      ],
      "id": "y-f8QLAHnre2",
      "execution_count": 331,
      "outputs": [
        {
          "output_type": "stream",
          "name": "stderr",
          "text": [
            "/usr/local/lib/python3.7/dist-packages/pandas/core/indexing.py:670: SettingWithCopyWarning: \n",
            "A value is trying to be set on a copy of a slice from a DataFrame\n",
            "\n",
            "See the caveats in the documentation: https://pandas.pydata.org/pandas-docs/stable/user_guide/indexing.html#returning-a-view-versus-a-copy\n",
            "  iloc._setitem_with_indexer(indexer, value)\n"
          ]
        }
      ]
    },
    {
      "cell_type": "code",
      "metadata": {
        "id": "oIaBLrIh6oVu"
      },
      "source": [
        "nasa_df.rename(columns={\"start_date\":\"start_datetime\", \"end_date\":\"end_datetime\",\"cme_date\":\"cme_datetime\"},inplace=True) #rename columns"
      ],
      "id": "oIaBLrIh6oVu",
      "execution_count": 332,
      "outputs": []
    },
    {
      "cell_type": "code",
      "metadata": {
        "id": "qpvykU7UabYj"
      },
      "source": [
        "nasa_df.drop(columns=[\"start_time\",\"end_time\",\"cme_time\"],inplace=True) #drop unnessecary values"
      ],
      "id": "qpvykU7UabYj",
      "execution_count": 333,
      "outputs": []
    },
    {
      "cell_type": "code",
      "metadata": {
        "id": "zSptAZAhADH0"
      },
      "source": [
        "nasa_df.start_freq = nasa_df.start_freq.astype('float') #change all str types to float\n",
        "nasa_df.end_freq = nasa_df.end_freq.astype('float')\n",
        "nasa_df.central_pos_angle = nasa_df.central_pos_angle.astype('float')\n",
        "nasa_df.cme_speed = nasa_df.cme_speed.astype('float')\n",
        "nasa_df.cpa_width = nasa_df.cpa_width.astype('float')"
      ],
      "id": "zSptAZAhADH0",
      "execution_count": 334,
      "outputs": []
    },
    {
      "cell_type": "markdown",
      "metadata": {
        "id": "y55F4UzHHpb1"
      },
      "source": [
        "**Adjust xray_importance column to have 0 after \".\" value for easier searching later**"
      ],
      "id": "y55F4UzHHpb1"
    },
    {
      "cell_type": "code",
      "metadata": {
        "colab": {
          "base_uri": "https://localhost:8080/"
        },
        "id": "7hQUjqX4dxHo",
        "outputId": "83a90309-dcc4-420d-a098-efca46015017"
      },
      "source": [
        "nasa_df.dtypes"
      ],
      "id": "7hQUjqX4dxHo",
      "execution_count": 335,
      "outputs": [
        {
          "output_type": "execute_result",
          "data": {
            "text/plain": [
              "start_datetime       datetime64[ns]\n",
              "end_datetime         datetime64[ns]\n",
              "start_freq                  float64\n",
              "end_freq                    float64\n",
              "location                     object\n",
              "region                       object\n",
              "xray_importance              object\n",
              "cme_datetime         datetime64[ns]\n",
              "central_pos_angle           float64\n",
              "cpa_width                   float64\n",
              "cme_speed                   float64\n",
              "is_halo                       int64\n",
              "lower_bound                   int64\n",
              "dtype: object"
            ]
          },
          "metadata": {},
          "execution_count": 335
        }
      ]
    },
    {
      "cell_type": "code",
      "metadata": {
        "colab": {
          "base_uri": "https://localhost:8080/",
          "height": 309
        },
        "id": "rg1PlIXl53Rf",
        "outputId": "c7979c89-7076-4986-b464-79a6a3a5695e"
      },
      "source": [
        "nasa_df.head()"
      ],
      "id": "rg1PlIXl53Rf",
      "execution_count": 336,
      "outputs": [
        {
          "output_type": "execute_result",
          "data": {
            "text/html": [
              "<div>\n",
              "<style scoped>\n",
              "    .dataframe tbody tr th:only-of-type {\n",
              "        vertical-align: middle;\n",
              "    }\n",
              "\n",
              "    .dataframe tbody tr th {\n",
              "        vertical-align: top;\n",
              "    }\n",
              "\n",
              "    .dataframe thead th {\n",
              "        text-align: right;\n",
              "    }\n",
              "</style>\n",
              "<table border=\"1\" class=\"dataframe\">\n",
              "  <thead>\n",
              "    <tr style=\"text-align: right;\">\n",
              "      <th></th>\n",
              "      <th>start_datetime</th>\n",
              "      <th>end_datetime</th>\n",
              "      <th>start_freq</th>\n",
              "      <th>end_freq</th>\n",
              "      <th>location</th>\n",
              "      <th>region</th>\n",
              "      <th>xray_importance</th>\n",
              "      <th>cme_datetime</th>\n",
              "      <th>central_pos_angle</th>\n",
              "      <th>cpa_width</th>\n",
              "      <th>cme_speed</th>\n",
              "      <th>is_halo</th>\n",
              "      <th>lower_bound</th>\n",
              "    </tr>\n",
              "  </thead>\n",
              "  <tbody>\n",
              "    <tr>\n",
              "      <th>0</th>\n",
              "      <td>1997-04-01 14:00:00</td>\n",
              "      <td>1997-04-01 14:15:00</td>\n",
              "      <td>8000.0</td>\n",
              "      <td>4000.0</td>\n",
              "      <td>S25E16</td>\n",
              "      <td>8026</td>\n",
              "      <td>M1.3</td>\n",
              "      <td>1997-04-01 15:18:00</td>\n",
              "      <td>74.0</td>\n",
              "      <td>79.0</td>\n",
              "      <td>312.0</td>\n",
              "      <td>0</td>\n",
              "      <td>0</td>\n",
              "    </tr>\n",
              "    <tr>\n",
              "      <th>1</th>\n",
              "      <td>1997-04-07 14:30:00</td>\n",
              "      <td>1997-04-07 17:30:00</td>\n",
              "      <td>11000.0</td>\n",
              "      <td>1000.0</td>\n",
              "      <td>S28E19</td>\n",
              "      <td>8027</td>\n",
              "      <td>C6.8</td>\n",
              "      <td>1997-04-07 14:27:00</td>\n",
              "      <td>NaN</td>\n",
              "      <td>360.0</td>\n",
              "      <td>878.0</td>\n",
              "      <td>1</td>\n",
              "      <td>0</td>\n",
              "    </tr>\n",
              "    <tr>\n",
              "      <th>2</th>\n",
              "      <td>1997-05-12 05:15:00</td>\n",
              "      <td>1997-05-14 16:00:00</td>\n",
              "      <td>12000.0</td>\n",
              "      <td>80.0</td>\n",
              "      <td>N21W08</td>\n",
              "      <td>8038</td>\n",
              "      <td>C1.3</td>\n",
              "      <td>1997-05-12 05:30:00</td>\n",
              "      <td>NaN</td>\n",
              "      <td>360.0</td>\n",
              "      <td>464.0</td>\n",
              "      <td>1</td>\n",
              "      <td>0</td>\n",
              "    </tr>\n",
              "    <tr>\n",
              "      <th>3</th>\n",
              "      <td>1997-05-21 20:20:00</td>\n",
              "      <td>1997-05-21 22:00:00</td>\n",
              "      <td>5000.0</td>\n",
              "      <td>500.0</td>\n",
              "      <td>N05W12</td>\n",
              "      <td>8040</td>\n",
              "      <td>M1.3</td>\n",
              "      <td>1997-05-21 21:00:00</td>\n",
              "      <td>263.0</td>\n",
              "      <td>165.0</td>\n",
              "      <td>296.0</td>\n",
              "      <td>0</td>\n",
              "      <td>0</td>\n",
              "    </tr>\n",
              "    <tr>\n",
              "      <th>4</th>\n",
              "      <td>1997-09-23 21:53:00</td>\n",
              "      <td>1997-09-23 22:16:00</td>\n",
              "      <td>6000.0</td>\n",
              "      <td>2000.0</td>\n",
              "      <td>S29E25</td>\n",
              "      <td>8088</td>\n",
              "      <td>C1.4</td>\n",
              "      <td>1997-09-23 22:02:00</td>\n",
              "      <td>133.0</td>\n",
              "      <td>155.0</td>\n",
              "      <td>712.0</td>\n",
              "      <td>0</td>\n",
              "      <td>0</td>\n",
              "    </tr>\n",
              "  </tbody>\n",
              "</table>\n",
              "</div>"
            ],
            "text/plain": [
              "       start_datetime        end_datetime  ...  is_halo  lower_bound\n",
              "0 1997-04-01 14:00:00 1997-04-01 14:15:00  ...        0            0\n",
              "1 1997-04-07 14:30:00 1997-04-07 17:30:00  ...        1            0\n",
              "2 1997-05-12 05:15:00 1997-05-14 16:00:00  ...        1            0\n",
              "3 1997-05-21 20:20:00 1997-05-21 22:00:00  ...        0            0\n",
              "4 1997-09-23 21:53:00 1997-09-23 22:16:00  ...        0            0\n",
              "\n",
              "[5 rows x 13 columns]"
            ]
          },
          "metadata": {},
          "execution_count": 336
        }
      ]
    },
    {
      "cell_type": "markdown",
      "metadata": {
        "id": "NRnlgschuBtq"
      },
      "source": [
        "___\n",
        "## Part 2 - Analysis\n"
      ],
      "id": "NRnlgschuBtq"
    },
    {
      "cell_type": "markdown",
      "metadata": {
        "id": "KChdro6wvFeN"
      },
      "source": [
        "###Question 1: Replication\n",
        "Can you replicate the top 50 solar flare table in SpaceWeatherLive.com exactly using the data obtained from NASA? That is, if you get the top 50 solar flares from the NASA table based on their classification (e.g., X28 is the highest), do you get data for the same solar flare events?\n",
        "\n",
        "Include code used to get the top 50 solar flares from the NASA table (be careful when ordering by classification, remember x is the highest!). Write a sentence or two discussing how well you can replicate the SpaceWeatherLive data from the NASA data."
      ],
      "id": "KChdro6wvFeN"
    },
    {
      "cell_type": "code",
      "metadata": {
        "colab": {
          "base_uri": "https://localhost:8080/",
          "height": 391
        },
        "id": "05c_FAEAvEDR",
        "outputId": "7bb75414-3f65-4102-c1f3-db8e5607411e"
      },
      "source": [
        "display(nasa_df.head())\n",
        "display(solfla_df.head())"
      ],
      "id": "05c_FAEAvEDR",
      "execution_count": 337,
      "outputs": [
        {
          "output_type": "display_data",
          "data": {
            "text/html": [
              "<div>\n",
              "<style scoped>\n",
              "    .dataframe tbody tr th:only-of-type {\n",
              "        vertical-align: middle;\n",
              "    }\n",
              "\n",
              "    .dataframe tbody tr th {\n",
              "        vertical-align: top;\n",
              "    }\n",
              "\n",
              "    .dataframe thead th {\n",
              "        text-align: right;\n",
              "    }\n",
              "</style>\n",
              "<table border=\"1\" class=\"dataframe\">\n",
              "  <thead>\n",
              "    <tr style=\"text-align: right;\">\n",
              "      <th></th>\n",
              "      <th>start_datetime</th>\n",
              "      <th>end_datetime</th>\n",
              "      <th>start_freq</th>\n",
              "      <th>end_freq</th>\n",
              "      <th>location</th>\n",
              "      <th>region</th>\n",
              "      <th>xray_importance</th>\n",
              "      <th>cme_datetime</th>\n",
              "      <th>central_pos_angle</th>\n",
              "      <th>cpa_width</th>\n",
              "      <th>cme_speed</th>\n",
              "      <th>is_halo</th>\n",
              "      <th>lower_bound</th>\n",
              "    </tr>\n",
              "  </thead>\n",
              "  <tbody>\n",
              "    <tr>\n",
              "      <th>0</th>\n",
              "      <td>1997-04-01 14:00:00</td>\n",
              "      <td>1997-04-01 14:15:00</td>\n",
              "      <td>8000.0</td>\n",
              "      <td>4000.0</td>\n",
              "      <td>S25E16</td>\n",
              "      <td>8026</td>\n",
              "      <td>M1.3</td>\n",
              "      <td>1997-04-01 15:18:00</td>\n",
              "      <td>74.0</td>\n",
              "      <td>79.0</td>\n",
              "      <td>312.0</td>\n",
              "      <td>0</td>\n",
              "      <td>0</td>\n",
              "    </tr>\n",
              "    <tr>\n",
              "      <th>1</th>\n",
              "      <td>1997-04-07 14:30:00</td>\n",
              "      <td>1997-04-07 17:30:00</td>\n",
              "      <td>11000.0</td>\n",
              "      <td>1000.0</td>\n",
              "      <td>S28E19</td>\n",
              "      <td>8027</td>\n",
              "      <td>C6.8</td>\n",
              "      <td>1997-04-07 14:27:00</td>\n",
              "      <td>NaN</td>\n",
              "      <td>360.0</td>\n",
              "      <td>878.0</td>\n",
              "      <td>1</td>\n",
              "      <td>0</td>\n",
              "    </tr>\n",
              "    <tr>\n",
              "      <th>2</th>\n",
              "      <td>1997-05-12 05:15:00</td>\n",
              "      <td>1997-05-14 16:00:00</td>\n",
              "      <td>12000.0</td>\n",
              "      <td>80.0</td>\n",
              "      <td>N21W08</td>\n",
              "      <td>8038</td>\n",
              "      <td>C1.3</td>\n",
              "      <td>1997-05-12 05:30:00</td>\n",
              "      <td>NaN</td>\n",
              "      <td>360.0</td>\n",
              "      <td>464.0</td>\n",
              "      <td>1</td>\n",
              "      <td>0</td>\n",
              "    </tr>\n",
              "    <tr>\n",
              "      <th>3</th>\n",
              "      <td>1997-05-21 20:20:00</td>\n",
              "      <td>1997-05-21 22:00:00</td>\n",
              "      <td>5000.0</td>\n",
              "      <td>500.0</td>\n",
              "      <td>N05W12</td>\n",
              "      <td>8040</td>\n",
              "      <td>M1.3</td>\n",
              "      <td>1997-05-21 21:00:00</td>\n",
              "      <td>263.0</td>\n",
              "      <td>165.0</td>\n",
              "      <td>296.0</td>\n",
              "      <td>0</td>\n",
              "      <td>0</td>\n",
              "    </tr>\n",
              "    <tr>\n",
              "      <th>4</th>\n",
              "      <td>1997-09-23 21:53:00</td>\n",
              "      <td>1997-09-23 22:16:00</td>\n",
              "      <td>6000.0</td>\n",
              "      <td>2000.0</td>\n",
              "      <td>S29E25</td>\n",
              "      <td>8088</td>\n",
              "      <td>C1.4</td>\n",
              "      <td>1997-09-23 22:02:00</td>\n",
              "      <td>133.0</td>\n",
              "      <td>155.0</td>\n",
              "      <td>712.0</td>\n",
              "      <td>0</td>\n",
              "      <td>0</td>\n",
              "    </tr>\n",
              "  </tbody>\n",
              "</table>\n",
              "</div>"
            ],
            "text/plain": [
              "       start_datetime        end_datetime  ...  is_halo  lower_bound\n",
              "0 1997-04-01 14:00:00 1997-04-01 14:15:00  ...        0            0\n",
              "1 1997-04-07 14:30:00 1997-04-07 17:30:00  ...        1            0\n",
              "2 1997-05-12 05:15:00 1997-05-14 16:00:00  ...        1            0\n",
              "3 1997-05-21 20:20:00 1997-05-21 22:00:00  ...        0            0\n",
              "4 1997-09-23 21:53:00 1997-09-23 22:16:00  ...        0            0\n",
              "\n",
              "[5 rows x 13 columns]"
            ]
          },
          "metadata": {}
        },
        {
          "output_type": "display_data",
          "data": {
            "text/html": [
              "<div>\n",
              "<style scoped>\n",
              "    .dataframe tbody tr th:only-of-type {\n",
              "        vertical-align: middle;\n",
              "    }\n",
              "\n",
              "    .dataframe tbody tr th {\n",
              "        vertical-align: top;\n",
              "    }\n",
              "\n",
              "    .dataframe thead th {\n",
              "        text-align: right;\n",
              "    }\n",
              "</style>\n",
              "<table border=\"1\" class=\"dataframe\">\n",
              "  <thead>\n",
              "    <tr style=\"text-align: right;\">\n",
              "      <th></th>\n",
              "      <th>rank</th>\n",
              "      <th>x_class</th>\n",
              "      <th>start_datetime</th>\n",
              "      <th>maximum_datetime</th>\n",
              "      <th>end_datetime</th>\n",
              "      <th>region</th>\n",
              "    </tr>\n",
              "  </thead>\n",
              "  <tbody>\n",
              "    <tr>\n",
              "      <th>0</th>\n",
              "      <td>1</td>\n",
              "      <td>X28.0</td>\n",
              "      <td>2003-11-04 19:29:00</td>\n",
              "      <td>2003-11-04 19:53:00</td>\n",
              "      <td>2003-11-04 20:06:00</td>\n",
              "      <td>486</td>\n",
              "    </tr>\n",
              "    <tr>\n",
              "      <th>1</th>\n",
              "      <td>2</td>\n",
              "      <td>X20.0</td>\n",
              "      <td>2001-04-02 21:32:00</td>\n",
              "      <td>2001-04-02 21:51:00</td>\n",
              "      <td>2001-04-02 22:03:00</td>\n",
              "      <td>9393</td>\n",
              "    </tr>\n",
              "    <tr>\n",
              "      <th>2</th>\n",
              "      <td>3</td>\n",
              "      <td>X17.2</td>\n",
              "      <td>2003-10-28 09:51:00</td>\n",
              "      <td>2003-10-28 11:10:00</td>\n",
              "      <td>2003-10-28 11:24:00</td>\n",
              "      <td>486</td>\n",
              "    </tr>\n",
              "    <tr>\n",
              "      <th>3</th>\n",
              "      <td>4</td>\n",
              "      <td>X17.0</td>\n",
              "      <td>2005-09-07 17:17:00</td>\n",
              "      <td>2005-09-07 17:40:00</td>\n",
              "      <td>2005-09-07 18:03:00</td>\n",
              "      <td>808</td>\n",
              "    </tr>\n",
              "    <tr>\n",
              "      <th>4</th>\n",
              "      <td>5</td>\n",
              "      <td>X14.4</td>\n",
              "      <td>2001-04-15 13:19:00</td>\n",
              "      <td>2001-04-15 13:50:00</td>\n",
              "      <td>2001-04-15 13:55:00</td>\n",
              "      <td>9415</td>\n",
              "    </tr>\n",
              "  </tbody>\n",
              "</table>\n",
              "</div>"
            ],
            "text/plain": [
              "   rank x_class  ...        end_datetime region\n",
              "0     1   X28.0  ... 2003-11-04 20:06:00    486\n",
              "1     2   X20.0  ... 2001-04-02 22:03:00   9393\n",
              "2     3   X17.2  ... 2003-10-28 11:24:00    486\n",
              "3     4   X17.0  ... 2005-09-07 18:03:00    808\n",
              "4     5   X14.4  ... 2001-04-15 13:55:00   9415\n",
              "\n",
              "[5 rows x 6 columns]"
            ]
          },
          "metadata": {}
        }
      ]
    },
    {
      "cell_type": "markdown",
      "metadata": {
        "id": "hvsGakrTYM1F"
      },
      "source": [
        "**Slightly modify Nasa table for easier searching (add zero after decimal points with no trailing ints i.e. 28. -> 28.0** "
      ],
      "id": "hvsGakrTYM1F"
    },
    {
      "cell_type": "code",
      "metadata": {
        "id": "-1STIDm7YRnT"
      },
      "source": [
        "def add_zero(entry):\n",
        "  if (pd.isnull(entry) == True):\n",
        "    return entry\n",
        "  if (entry[len(entry)-1] == \".\"):\n",
        "    return entry + \"0\"\n",
        "  else:\n",
        "    return entry\n",
        "\n",
        "nasa_df[\"xray_importance\"] = nasa_df[\"xray_importance\"].apply(add_zero)"
      ],
      "id": "-1STIDm7YRnT",
      "execution_count": 338,
      "outputs": []
    },
    {
      "cell_type": "markdown",
      "metadata": {
        "id": "F2j-d-Wy89e9"
      },
      "source": [
        "###Sorting values of Nasa Table xray_importance column to replicate Solar Flare DataFrame"
      ],
      "id": "F2j-d-Wy89e9"
    },
    {
      "cell_type": "code",
      "metadata": {
        "id": "8b5MtCkE9IsO"
      },
      "source": [
        "class_no_nan = [x for x in nasa_df.xray_importance.sort_values(ascending=False) if pd.isnull(x) == False]\n",
        "class_no_nan = class_no_nan[0:50]\n",
        "\n",
        "def strip_and_sort(lst):\n",
        "  rm_x_lst = []\n",
        "  for value in lst:\n",
        "    rm_x_lst.append(float(value[1:]))\n",
        "  rm_x_lst.sort(reverse=True)\n",
        "  return [(\"X\" + str(flt_val)) for flt_val in rm_x_lst]\n",
        "\n",
        "sorted_flares = strip_and_sort(class_no_nan)"
      ],
      "id": "8b5MtCkE9IsO",
      "execution_count": 339,
      "outputs": []
    },
    {
      "cell_type": "markdown",
      "metadata": {
        "id": "VtdVuufdLfza"
      },
      "source": [
        "**Instantiate replica dataframe**"
      ],
      "id": "VtdVuufdLfza"
    },
    {
      "cell_type": "code",
      "metadata": {
        "id": "jC96yRDdGhsg"
      },
      "source": [
        "imposter_solfla_df = pd.DataFrame(\n",
        "    columns = [\"rank\", \"x_class\",\"start_datetime\", \"end_datetime\",\"region\"]\n",
        ")"
      ],
      "id": "jC96yRDdGhsg",
      "execution_count": 340,
      "outputs": []
    },
    {
      "cell_type": "markdown",
      "metadata": {
        "id": "-84TgX84Lj36"
      },
      "source": [
        "**Fill replace DF with values from NASA table**"
      ],
      "id": "-84TgX84Lj36"
    },
    {
      "cell_type": "code",
      "metadata": {
        "id": "WgpDqzC6LnKL"
      },
      "source": [
        ""
      ],
      "id": "WgpDqzC6LnKL",
      "execution_count": 340,
      "outputs": []
    },
    {
      "cell_type": "code",
      "metadata": {
        "id": "hOmDZfP7gwxX"
      },
      "source": [
        "for x_class in sorted_flares:\n",
        "  start_date = solfla_df[solfla_df.x_class == x_class].start_datetime\n",
        "  for date in start_date:\n",
        "    for nasa_index,nasa_value in nasa_df.loc[:,[\"xray_importance\",\"start_datetime\"]].iterrows():\n",
        "      if (x_class == nasa_value[0]):\n",
        "        if (date.year == nasa_value[1].year) and (date.month == nasa_value[1].month) and (date.day == nasa_value[1].day):\n",
        "          imposter_solfla_df.loc[index] = [index+1, x_class, nasa_df[\"start_datetime\"].loc[nasa_index], nasa_df[\"end_datetime\"].loc[nasa_index], nasa_df[\"region\"].loc[nasa_index]]\n",
        "\n"
      ],
      "id": "hOmDZfP7gwxX",
      "execution_count": 341,
      "outputs": []
    },
    {
      "cell_type": "code",
      "metadata": {
        "colab": {
          "base_uri": "https://localhost:8080/",
          "height": 34
        },
        "id": "t9H581OJZvJA",
        "outputId": "02b4b668-8f07-43b5-a965-d3c2675ac937"
      },
      "source": [
        "display(len(imposter_solfla_df)) #FIXME Problem with some entries being skipped, and others being duplicated. Not sure of the issue right now."
      ],
      "id": "t9H581OJZvJA",
      "execution_count": 342,
      "outputs": [
        {
          "output_type": "display_data",
          "data": {
            "text/plain": [
              "1"
            ]
          },
          "metadata": {}
        }
      ]
    },
    {
      "cell_type": "markdown",
      "metadata": {
        "id": "5SHoVQScuYrI"
      },
      "source": [
        "**Ans**: No, you cannot exactly replicate the SpaceWeatherLive.com table using the Nasa data. Some of the Nasa data is inconsistent with the Solar Flare data (off by 0.1 for example). Not to mention the fact that Nasa does not have the maximum time data either.\n",
        "___"
      ],
      "id": "5SHoVQScuYrI"
    },
    {
      "cell_type": "code",
      "metadata": {
        "colab": {
          "base_uri": "https://localhost:8080/",
          "height": 80
        },
        "id": "6xaNkzEaYVJI",
        "outputId": "64801603-f819-4e60-a82d-5b7aae048f82"
      },
      "source": [
        "imposter_solfla_df"
      ],
      "id": "6xaNkzEaYVJI",
      "execution_count": 343,
      "outputs": [
        {
          "output_type": "execute_result",
          "data": {
            "text/html": [
              "<div>\n",
              "<style scoped>\n",
              "    .dataframe tbody tr th:only-of-type {\n",
              "        vertical-align: middle;\n",
              "    }\n",
              "\n",
              "    .dataframe tbody tr th {\n",
              "        vertical-align: top;\n",
              "    }\n",
              "\n",
              "    .dataframe thead th {\n",
              "        text-align: right;\n",
              "    }\n",
              "</style>\n",
              "<table border=\"1\" class=\"dataframe\">\n",
              "  <thead>\n",
              "    <tr style=\"text-align: right;\">\n",
              "      <th></th>\n",
              "      <th>rank</th>\n",
              "      <th>x_class</th>\n",
              "      <th>start_datetime</th>\n",
              "      <th>end_datetime</th>\n",
              "      <th>region</th>\n",
              "    </tr>\n",
              "  </thead>\n",
              "  <tbody>\n",
              "    <tr>\n",
              "      <th>521</th>\n",
              "      <td>522</td>\n",
              "      <td>X2.6</td>\n",
              "      <td>2001-09-24 10:45:00</td>\n",
              "      <td>2001-09-25 20:00:00</td>\n",
              "      <td>9632</td>\n",
              "    </tr>\n",
              "  </tbody>\n",
              "</table>\n",
              "</div>"
            ],
            "text/plain": [
              "    rank x_class      start_datetime        end_datetime region\n",
              "521  522    X2.6 2001-09-24 10:45:00 2001-09-25 20:00:00   9632"
            ]
          },
          "metadata": {},
          "execution_count": 343
        }
      ]
    },
    {
      "cell_type": "markdown",
      "metadata": {
        "id": "Dm5ZQxbEvOvm"
      },
      "source": [
        "### Question 2 - Ranking\n",
        "Write a function that finds the best matching row in the NASA data for each of the top 50 solar flares in the SpaceWeatherLive data and assigns a rank value to that entry in the NASA table. Here, you have to decide for yourself how you determine what is the best matching entry in the NASA data for each of the top 50 solar flares.\n",
        "\n",
        "Hint: You may want to look at multiple pieces of data before deciding if a flare matches.\n",
        "\n",
        "In your submission, include an explanation of how you are defining best matching rows across the two datasets in addition to the code used to find the best matches.\n",
        "\n",
        "Use your function to add a new column to the NASA dataset indicating its rank according to SpaceWeatherLive, if it appears in that dataset.\n",
        "\n",
        "Hint: You may not end up with all the ranks!\n",
        "\n",
        "At the end of this section display only flares in the NASA table that you could rank."
      ],
      "id": "Dm5ZQxbEvOvm"
    },
    {
      "cell_type": "code",
      "metadata": {
        "id": "rrEPCJxtvQAW"
      },
      "source": [
        "def find_match():\n",
        "  nasa_df.insert(7,\"Rank\", np.nan) #add a column for the rankings\n",
        "  \n",
        "  for index,value in solfla_df.loc[:,[\"x_class\",\"start_datetime\",\"end_datetime\"]].iterrows():\n",
        "    x_class, start_date,end_date = value[0], value[1],value[2]\n",
        "    for nasa_index,nasa_value in nasa_df.loc[:,[\"xray_importance\",\"start_datetime\",\"end_datetime\"]].iterrows():\n",
        "      if (x_class == nasa_value[0]):\n",
        "        if (start_date.year == nasa_value[1].year) and (start_date.month == nasa_value[1].month) and (start_date.day == nasa_value[1].day):\n",
        "          if (end_date.year == nasa_value[2].year) and (end_date.month == nasa_value[2].month) and (end_date.day == nasa_value[2].day):\n",
        "            nasa_df[\"Rank\"][nasa_index] = solfla_df[\"rank\"][index]\n",
        "  return nasa_df"
      ],
      "id": "rrEPCJxtvQAW",
      "execution_count": 344,
      "outputs": []
    },
    {
      "cell_type": "code",
      "metadata": {
        "id": "0a556d45",
        "outputId": "6106f0f9-fd48-4c57-d899-ee42f14ed0e5",
        "colab": {
          "base_uri": "https://localhost:8080/",
          "height": 754
        }
      },
      "source": [
        "find_match()\n",
        "\n",
        "nasa_df[nasa_df[\"Rank\"].isnull() == False] #display entries with rankings."
      ],
      "id": "0a556d45",
      "execution_count": 345,
      "outputs": [
        {
          "output_type": "stream",
          "name": "stderr",
          "text": [
            "/usr/local/lib/python3.7/dist-packages/ipykernel_launcher.py:10: SettingWithCopyWarning: \n",
            "A value is trying to be set on a copy of a slice from a DataFrame\n",
            "\n",
            "See the caveats in the documentation: https://pandas.pydata.org/pandas-docs/stable/user_guide/indexing.html#returning-a-view-versus-a-copy\n",
            "  # Remove the CWD from sys.path while we load stuff.\n"
          ]
        },
        {
          "output_type": "execute_result",
          "data": {
            "text/html": [
              "<div>\n",
              "<style scoped>\n",
              "    .dataframe tbody tr th:only-of-type {\n",
              "        vertical-align: middle;\n",
              "    }\n",
              "\n",
              "    .dataframe tbody tr th {\n",
              "        vertical-align: top;\n",
              "    }\n",
              "\n",
              "    .dataframe thead th {\n",
              "        text-align: right;\n",
              "    }\n",
              "</style>\n",
              "<table border=\"1\" class=\"dataframe\">\n",
              "  <thead>\n",
              "    <tr style=\"text-align: right;\">\n",
              "      <th></th>\n",
              "      <th>start_datetime</th>\n",
              "      <th>end_datetime</th>\n",
              "      <th>start_freq</th>\n",
              "      <th>end_freq</th>\n",
              "      <th>location</th>\n",
              "      <th>region</th>\n",
              "      <th>xray_importance</th>\n",
              "      <th>Rank</th>\n",
              "      <th>cme_datetime</th>\n",
              "      <th>central_pos_angle</th>\n",
              "      <th>cpa_width</th>\n",
              "      <th>cme_speed</th>\n",
              "      <th>is_halo</th>\n",
              "      <th>lower_bound</th>\n",
              "    </tr>\n",
              "  </thead>\n",
              "  <tbody>\n",
              "    <tr>\n",
              "      <th>19</th>\n",
              "      <td>1998-05-06 08:25:00</td>\n",
              "      <td>1998-05-06 08:35:00</td>\n",
              "      <td>14000.0</td>\n",
              "      <td>5000.0</td>\n",
              "      <td>S11W65</td>\n",
              "      <td>8210</td>\n",
              "      <td>X2.7</td>\n",
              "      <td>48.0</td>\n",
              "      <td>1998-05-06 08:29:00</td>\n",
              "      <td>309.0</td>\n",
              "      <td>190.0</td>\n",
              "      <td>1099.0</td>\n",
              "      <td>0</td>\n",
              "      <td>0</td>\n",
              "    </tr>\n",
              "    <tr>\n",
              "      <th>104</th>\n",
              "      <td>2000-11-26 17:00:00</td>\n",
              "      <td>2000-11-26 17:15:00</td>\n",
              "      <td>14000.0</td>\n",
              "      <td>7000.0</td>\n",
              "      <td>N18W38</td>\n",
              "      <td>9236</td>\n",
              "      <td>X4.0</td>\n",
              "      <td>26.0</td>\n",
              "      <td>2000-11-26 17:06:00</td>\n",
              "      <td>NaN</td>\n",
              "      <td>360.0</td>\n",
              "      <td>980.0</td>\n",
              "      <td>1</td>\n",
              "      <td>0</td>\n",
              "    </tr>\n",
              "    <tr>\n",
              "      <th>135</th>\n",
              "      <td>2001-08-25 16:50:00</td>\n",
              "      <td>2001-08-25 23:00:00</td>\n",
              "      <td>8000.0</td>\n",
              "      <td>170.0</td>\n",
              "      <td>S17E34</td>\n",
              "      <td>9591</td>\n",
              "      <td>X5.3</td>\n",
              "      <td>22.0</td>\n",
              "      <td>2001-08-25 16:50:00</td>\n",
              "      <td>NaN</td>\n",
              "      <td>360.0</td>\n",
              "      <td>1433.0</td>\n",
              "      <td>1</td>\n",
              "      <td>0</td>\n",
              "    </tr>\n",
              "    <tr>\n",
              "      <th>192</th>\n",
              "      <td>2002-07-20 21:30:00</td>\n",
              "      <td>2002-07-20 22:20:00</td>\n",
              "      <td>10000.0</td>\n",
              "      <td>2000.0</td>\n",
              "      <td>S13E90</td>\n",
              "      <td>10039</td>\n",
              "      <td>X3.3</td>\n",
              "      <td>37.0</td>\n",
              "      <td>2002-07-20 22:06:00</td>\n",
              "      <td>NaN</td>\n",
              "      <td>360.0</td>\n",
              "      <td>1941.0</td>\n",
              "      <td>1</td>\n",
              "      <td>0</td>\n",
              "    </tr>\n",
              "    <tr>\n",
              "      <th>193</th>\n",
              "      <td>2002-07-23 00:50:00</td>\n",
              "      <td>2002-07-23 04:00:00</td>\n",
              "      <td>11000.0</td>\n",
              "      <td>400.0</td>\n",
              "      <td>S13E72</td>\n",
              "      <td>10039</td>\n",
              "      <td>X4.8</td>\n",
              "      <td>25.0</td>\n",
              "      <td>2002-07-23 00:42:00</td>\n",
              "      <td>NaN</td>\n",
              "      <td>360.0</td>\n",
              "      <td>2285.0</td>\n",
              "      <td>1</td>\n",
              "      <td>0</td>\n",
              "    </tr>\n",
              "    <tr>\n",
              "      <th>201</th>\n",
              "      <td>2002-08-24 01:45:00</td>\n",
              "      <td>2002-08-24 03:25:00</td>\n",
              "      <td>5000.0</td>\n",
              "      <td>400.0</td>\n",
              "      <td>S02W81</td>\n",
              "      <td>10069</td>\n",
              "      <td>X3.1</td>\n",
              "      <td>41.0</td>\n",
              "      <td>2002-08-24 01:27:00</td>\n",
              "      <td>NaN</td>\n",
              "      <td>360.0</td>\n",
              "      <td>1913.0</td>\n",
              "      <td>1</td>\n",
              "      <td>0</td>\n",
              "    </tr>\n",
              "    <tr>\n",
              "      <th>234</th>\n",
              "      <td>2003-10-29 20:55:00</td>\n",
              "      <td>2003-10-29 23:59:00</td>\n",
              "      <td>11000.0</td>\n",
              "      <td>500.0</td>\n",
              "      <td>S15W02</td>\n",
              "      <td>10486</td>\n",
              "      <td>X10.0</td>\n",
              "      <td>6.0</td>\n",
              "      <td>2003-10-29 20:54:00</td>\n",
              "      <td>NaN</td>\n",
              "      <td>360.0</td>\n",
              "      <td>2029.0</td>\n",
              "      <td>1</td>\n",
              "      <td>0</td>\n",
              "    </tr>\n",
              "    <tr>\n",
              "      <th>238</th>\n",
              "      <td>2003-11-03 01:15:00</td>\n",
              "      <td>2003-11-03 01:25:00</td>\n",
              "      <td>3000.0</td>\n",
              "      <td>1500.0</td>\n",
              "      <td>N10W83</td>\n",
              "      <td>10488</td>\n",
              "      <td>X2.7</td>\n",
              "      <td>47.0</td>\n",
              "      <td>2003-11-03 01:59:00</td>\n",
              "      <td>304.0</td>\n",
              "      <td>65.0</td>\n",
              "      <td>827.0</td>\n",
              "      <td>0</td>\n",
              "      <td>0</td>\n",
              "    </tr>\n",
              "    <tr>\n",
              "      <th>239</th>\n",
              "      <td>2003-11-03 10:00:00</td>\n",
              "      <td>2003-11-03 12:30:00</td>\n",
              "      <td>6000.0</td>\n",
              "      <td>400.0</td>\n",
              "      <td>N08W77</td>\n",
              "      <td>10488</td>\n",
              "      <td>X3.9</td>\n",
              "      <td>27.0</td>\n",
              "      <td>2003-11-03 10:06:00</td>\n",
              "      <td>293.0</td>\n",
              "      <td>103.0</td>\n",
              "      <td>1420.0</td>\n",
              "      <td>0</td>\n",
              "      <td>0</td>\n",
              "    </tr>\n",
              "    <tr>\n",
              "      <th>240</th>\n",
              "      <td>2003-11-04 20:00:00</td>\n",
              "      <td>2003-11-04 23:59:00</td>\n",
              "      <td>10000.0</td>\n",
              "      <td>200.0</td>\n",
              "      <td>S19W83</td>\n",
              "      <td>10486</td>\n",
              "      <td>X28.0</td>\n",
              "      <td>1.0</td>\n",
              "      <td>2003-11-04 19:54:00</td>\n",
              "      <td>NaN</td>\n",
              "      <td>360.0</td>\n",
              "      <td>2657.0</td>\n",
              "      <td>1</td>\n",
              "      <td>0</td>\n",
              "    </tr>\n",
              "    <tr>\n",
              "      <th>286</th>\n",
              "      <td>2005-01-17 10:00:00</td>\n",
              "      <td>2005-01-17 10:35:00</td>\n",
              "      <td>6100.0</td>\n",
              "      <td>1500.0</td>\n",
              "      <td>N15W25</td>\n",
              "      <td>10720</td>\n",
              "      <td>X3.8</td>\n",
              "      <td>29.0</td>\n",
              "      <td>2005-01-17 09:54:00</td>\n",
              "      <td>NaN</td>\n",
              "      <td>360.0</td>\n",
              "      <td>2547.0</td>\n",
              "      <td>1</td>\n",
              "      <td>0</td>\n",
              "    </tr>\n",
              "    <tr>\n",
              "      <th>288</th>\n",
              "      <td>2005-01-20 07:15:00</td>\n",
              "      <td>2005-01-20 16:30:00</td>\n",
              "      <td>14000.0</td>\n",
              "      <td>25.0</td>\n",
              "      <td>N14W61</td>\n",
              "      <td>10720</td>\n",
              "      <td>X7.1</td>\n",
              "      <td>12.0</td>\n",
              "      <td>2005-01-20 06:54:00</td>\n",
              "      <td>NaN</td>\n",
              "      <td>360.0</td>\n",
              "      <td>882.0</td>\n",
              "      <td>1</td>\n",
              "      <td>0</td>\n",
              "    </tr>\n",
              "    <tr>\n",
              "      <th>317</th>\n",
              "      <td>2005-09-09 19:45:00</td>\n",
              "      <td>2005-09-09 22:00:00</td>\n",
              "      <td>10000.0</td>\n",
              "      <td>50.0</td>\n",
              "      <td>S12E67</td>\n",
              "      <td>10808</td>\n",
              "      <td>X6.2</td>\n",
              "      <td>15.0</td>\n",
              "      <td>2005-09-09 19:48:00</td>\n",
              "      <td>NaN</td>\n",
              "      <td>360.0</td>\n",
              "      <td>2257.0</td>\n",
              "      <td>1</td>\n",
              "      <td>0</td>\n",
              "    </tr>\n",
              "    <tr>\n",
              "      <th>328</th>\n",
              "      <td>2006-12-05 10:50:00</td>\n",
              "      <td>2006-12-05 20:00:00</td>\n",
              "      <td>14000.0</td>\n",
              "      <td>250.0</td>\n",
              "      <td>S07E68</td>\n",
              "      <td>10930</td>\n",
              "      <td>X9.0</td>\n",
              "      <td>9.0</td>\n",
              "      <td>NaT</td>\n",
              "      <td>NaN</td>\n",
              "      <td>NaN</td>\n",
              "      <td>NaN</td>\n",
              "      <td>0</td>\n",
              "      <td>0</td>\n",
              "    </tr>\n",
              "    <tr>\n",
              "      <th>332</th>\n",
              "      <td>2006-12-13 02:45:00</td>\n",
              "      <td>2006-12-13 10:40:00</td>\n",
              "      <td>12000.0</td>\n",
              "      <td>150.0</td>\n",
              "      <td>S06W23</td>\n",
              "      <td>10930</td>\n",
              "      <td>X3.4</td>\n",
              "      <td>34.0</td>\n",
              "      <td>2006-12-13 02:54:00</td>\n",
              "      <td>NaN</td>\n",
              "      <td>360.0</td>\n",
              "      <td>1774.0</td>\n",
              "      <td>1</td>\n",
              "      <td>0</td>\n",
              "    </tr>\n",
              "    <tr>\n",
              "      <th>359</th>\n",
              "      <td>2011-08-09 08:20:00</td>\n",
              "      <td>2011-08-09 08:35:00</td>\n",
              "      <td>16000.0</td>\n",
              "      <td>4000.0</td>\n",
              "      <td>N17W69</td>\n",
              "      <td>11263</td>\n",
              "      <td>X6.9</td>\n",
              "      <td>13.0</td>\n",
              "      <td>2011-08-09 08:12:00</td>\n",
              "      <td>NaN</td>\n",
              "      <td>360.0</td>\n",
              "      <td>1610.0</td>\n",
              "      <td>1</td>\n",
              "      <td>0</td>\n",
              "    </tr>\n",
              "    <tr>\n",
              "      <th>403</th>\n",
              "      <td>2013-05-13 16:15:00</td>\n",
              "      <td>2013-05-13 19:10:00</td>\n",
              "      <td>16000.0</td>\n",
              "      <td>300.0</td>\n",
              "      <td>N11E85</td>\n",
              "      <td>11748</td>\n",
              "      <td>X2.8</td>\n",
              "      <td>43.0</td>\n",
              "      <td>2013-05-13 16:07:00</td>\n",
              "      <td>NaN</td>\n",
              "      <td>360.0</td>\n",
              "      <td>1850.0</td>\n",
              "      <td>1</td>\n",
              "      <td>0</td>\n",
              "    </tr>\n",
              "    <tr>\n",
              "      <th>404</th>\n",
              "      <td>2013-05-14 01:16:00</td>\n",
              "      <td>2013-05-14 08:20:00</td>\n",
              "      <td>16000.0</td>\n",
              "      <td>240.0</td>\n",
              "      <td>N08E77</td>\n",
              "      <td>11748</td>\n",
              "      <td>X3.2</td>\n",
              "      <td>39.0</td>\n",
              "      <td>2013-05-14 01:25:00</td>\n",
              "      <td>NaN</td>\n",
              "      <td>360.0</td>\n",
              "      <td>2625.0</td>\n",
              "      <td>1</td>\n",
              "      <td>0</td>\n",
              "    </tr>\n",
              "    <tr>\n",
              "      <th>443</th>\n",
              "      <td>2014-02-25 00:56:00</td>\n",
              "      <td>2014-02-25 11:28:00</td>\n",
              "      <td>14000.0</td>\n",
              "      <td>100.0</td>\n",
              "      <td>S12E82</td>\n",
              "      <td>11990</td>\n",
              "      <td>X4.9</td>\n",
              "      <td>23.0</td>\n",
              "      <td>2014-02-25 01:25:00</td>\n",
              "      <td>NaN</td>\n",
              "      <td>360.0</td>\n",
              "      <td>2147.0</td>\n",
              "      <td>1</td>\n",
              "      <td>0</td>\n",
              "    </tr>\n",
              "    <tr>\n",
              "      <th>487</th>\n",
              "      <td>2015-05-05 22:24:00</td>\n",
              "      <td>2015-05-05 23:14:00</td>\n",
              "      <td>14000.0</td>\n",
              "      <td>500.0</td>\n",
              "      <td>N15E79</td>\n",
              "      <td>12339</td>\n",
              "      <td>X2.7</td>\n",
              "      <td>46.0</td>\n",
              "      <td>2015-05-05 22:24:00</td>\n",
              "      <td>NaN</td>\n",
              "      <td>360.0</td>\n",
              "      <td>715.0</td>\n",
              "      <td>1</td>\n",
              "      <td>0</td>\n",
              "    </tr>\n",
              "  </tbody>\n",
              "</table>\n",
              "</div>"
            ],
            "text/plain": [
              "         start_datetime        end_datetime  ...  is_halo  lower_bound\n",
              "19  1998-05-06 08:25:00 1998-05-06 08:35:00  ...        0            0\n",
              "104 2000-11-26 17:00:00 2000-11-26 17:15:00  ...        1            0\n",
              "135 2001-08-25 16:50:00 2001-08-25 23:00:00  ...        1            0\n",
              "192 2002-07-20 21:30:00 2002-07-20 22:20:00  ...        1            0\n",
              "193 2002-07-23 00:50:00 2002-07-23 04:00:00  ...        1            0\n",
              "201 2002-08-24 01:45:00 2002-08-24 03:25:00  ...        1            0\n",
              "234 2003-10-29 20:55:00 2003-10-29 23:59:00  ...        1            0\n",
              "238 2003-11-03 01:15:00 2003-11-03 01:25:00  ...        0            0\n",
              "239 2003-11-03 10:00:00 2003-11-03 12:30:00  ...        0            0\n",
              "240 2003-11-04 20:00:00 2003-11-04 23:59:00  ...        1            0\n",
              "286 2005-01-17 10:00:00 2005-01-17 10:35:00  ...        1            0\n",
              "288 2005-01-20 07:15:00 2005-01-20 16:30:00  ...        1            0\n",
              "317 2005-09-09 19:45:00 2005-09-09 22:00:00  ...        1            0\n",
              "328 2006-12-05 10:50:00 2006-12-05 20:00:00  ...        0            0\n",
              "332 2006-12-13 02:45:00 2006-12-13 10:40:00  ...        1            0\n",
              "359 2011-08-09 08:20:00 2011-08-09 08:35:00  ...        1            0\n",
              "403 2013-05-13 16:15:00 2013-05-13 19:10:00  ...        1            0\n",
              "404 2013-05-14 01:16:00 2013-05-14 08:20:00  ...        1            0\n",
              "443 2014-02-25 00:56:00 2014-02-25 11:28:00  ...        1            0\n",
              "487 2015-05-05 22:24:00 2015-05-05 23:14:00  ...        1            0\n",
              "\n",
              "[20 rows x 14 columns]"
            ]
          },
          "metadata": {},
          "execution_count": 345
        }
      ]
    },
    {
      "cell_type": "markdown",
      "metadata": {
        "id": "PPsPNctW5TqX"
      },
      "source": [
        "We compared the classification, start date, and end date of each flare in the Nasa dataframe to each flare in the SWL dataframe. If each of these matched, then we assigned the Nasa flare the ranking of the SWL flare. This was very restircive, so not many flares matched.\n",
        "___"
      ],
      "id": "PPsPNctW5TqX"
    },
    {
      "cell_type": "markdown",
      "metadata": {
        "id": "KtLm1GwF5zhZ"
      },
      "source": [
        "### Question 3: \n",
        "Note: From here on we are only referring to the top 50 that you were able to match in the NASA data.\n",
        "\n",
        "Prepare one plot that shows the top 50 solar flares that you were able to match in context with all data available in the NASA dataset. Here are some possibilities (you can do something else). Helpful ideas are also in the Pandas Visualization Docs.\n",
        "\n",
        "Plot attributes in the NASA dataset (e.g., starting or ending frequencies, flare height or width) over time. Use graphical elements (e.g., text or points) to indicate flares in the top 50 classification.\n",
        "Hint: You may want to make use of pandas isnull to filter correctly.\n",
        "Do flares in the top 50 tend to have Flare Halo CMEs? You can make a bar or pie plot that compares the number (or proportion) of Halo CMEs in the top 50 flares vs. the dataset as a whole.\n",
        "\n",
        "Do strong flares cluster in time? Plot the number of flares per month over time, add a graphical element to indicate (e.g., text or points) to indicate the number of strong flares (in the top 50) to see if they cluster."
      ],
      "id": "KtLm1GwF5zhZ"
    }
  ]
}